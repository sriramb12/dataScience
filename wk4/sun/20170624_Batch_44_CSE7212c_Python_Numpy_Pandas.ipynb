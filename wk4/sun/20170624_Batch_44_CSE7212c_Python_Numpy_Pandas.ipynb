{
 "cells": [
  {
   "cell_type": "code",
   "execution_count": 1,
   "metadata": {},
   "outputs": [],
   "source": [
    "import time\n",
    "start = time.time()\n",
    "#returns time from Thursday, 1 January 1970 in seconds"
   ]
  },
  {
   "cell_type": "code",
   "execution_count": 2,
   "metadata": {},
   "outputs": [
    {
     "data": {
      "text/plain": [
       "1529835319.1330562"
      ]
     },
     "execution_count": 2,
     "metadata": {},
     "output_type": "execute_result"
    }
   ],
   "source": [
    "start"
   ]
  },
  {
   "cell_type": "markdown",
   "metadata": {},
   "source": [
    "## Modules"
   ]
  },
  {
   "cell_type": "markdown",
   "metadata": {},
   "source": [
    "A module is a file containing Python definitions and statements. A module can contain functions , classes and variables."
   ]
  },
  {
   "cell_type": "code",
   "execution_count": 4,
   "metadata": {},
   "outputs": [],
   "source": [
    "# # A simple module, calc.py\n",
    " \n",
    "# def add(x, y):\n",
    "#     return (x+y)\n",
    " \n",
    "# def subtract(x, y):\n",
    "#     return (x-y)"
   ]
  },
  {
   "cell_type": "code",
   "execution_count": 5,
   "metadata": {},
   "outputs": [],
   "source": [
    "import calc"
   ]
  },
  {
   "cell_type": "code",
   "execution_count": 6,
   "metadata": {},
   "outputs": [
    {
     "data": {
      "text/plain": [
       "4"
      ]
     },
     "execution_count": 6,
     "metadata": {},
     "output_type": "execute_result"
    }
   ],
   "source": [
    "calc.add(1,3)"
   ]
  },
  {
   "cell_type": "code",
   "execution_count": 7,
   "metadata": {},
   "outputs": [
    {
     "data": {
      "text/plain": [
       "2"
      ]
     },
     "execution_count": 7,
     "metadata": {},
     "output_type": "execute_result"
    }
   ],
   "source": [
    "calc.subtract(3,1)"
   ]
  },
  {
   "cell_type": "code",
   "execution_count": 8,
   "metadata": {},
   "outputs": [],
   "source": [
    "import sys"
   ]
  },
  {
   "cell_type": "code",
   "execution_count": 16,
   "metadata": {},
   "outputs": [],
   "source": [
    "# sys.path.append(\"\")"
   ]
  },
  {
   "cell_type": "markdown",
   "metadata": {},
   "source": [
    "#### The import statement\n"
   ]
  },
  {
   "cell_type": "markdown",
   "metadata": {},
   "source": [
    "When interpreter encounters an import statement, it imports the module if the module is present in the search path. A search path is a list of directories that the interpreter searches for importing a module. \n",
    "\n",
    "To import the module calc.py, we need to put the following command at the top of the script :"
   ]
  },
  {
   "cell_type": "code",
   "execution_count": 17,
   "metadata": {},
   "outputs": [],
   "source": [
    "import calc"
   ]
  },
  {
   "cell_type": "code",
   "execution_count": 18,
   "metadata": {},
   "outputs": [
    {
     "data": {
      "text/plain": [
       "4"
      ]
     },
     "execution_count": 18,
     "metadata": {},
     "output_type": "execute_result"
    }
   ],
   "source": [
    "calc.add(1,3)"
   ]
  },
  {
   "cell_type": "code",
   "execution_count": 19,
   "metadata": {},
   "outputs": [
    {
     "data": {
      "text/plain": [
       "-1"
      ]
     },
     "execution_count": 19,
     "metadata": {},
     "output_type": "execute_result"
    }
   ],
   "source": [
    "calc.subtract(3,4)"
   ]
  },
  {
   "cell_type": "markdown",
   "metadata": {},
   "source": [
    "#### The from import Statement\n",
    "\n"
   ]
  },
  {
   "cell_type": "markdown",
   "metadata": {},
   "source": [
    "`from` statement lets you import specific attributes from a module."
   ]
  },
  {
   "cell_type": "code",
   "execution_count": 20,
   "metadata": {},
   "outputs": [],
   "source": [
    "#  let us import add from calc module"
   ]
  },
  {
   "cell_type": "code",
   "execution_count": 21,
   "metadata": {},
   "outputs": [],
   "source": [
    "from calc import add"
   ]
  },
  {
   "cell_type": "code",
   "execution_count": 22,
   "metadata": {},
   "outputs": [
    {
     "data": {
      "text/plain": [
       "4"
      ]
     },
     "execution_count": 22,
     "metadata": {},
     "output_type": "execute_result"
    }
   ],
   "source": [
    "add(1,3)"
   ]
  },
  {
   "cell_type": "markdown",
   "metadata": {},
   "source": [
    "How will we know which functions are present in a module?\n"
   ]
  },
  {
   "cell_type": "markdown",
   "metadata": {},
   "source": [
    "##### The dir() function"
   ]
  },
  {
   "cell_type": "code",
   "execution_count": 23,
   "metadata": {},
   "outputs": [
    {
     "data": {
      "text/plain": [
       "['__builtins__',\n",
       " '__cached__',\n",
       " '__doc__',\n",
       " '__file__',\n",
       " '__loader__',\n",
       " '__name__',\n",
       " '__package__',\n",
       " '__spec__',\n",
       " 'add',\n",
       " 'subtract']"
      ]
     },
     "execution_count": 23,
     "metadata": {},
     "output_type": "execute_result"
    }
   ],
   "source": [
    "dir(calc)"
   ]
  },
  {
   "cell_type": "markdown",
   "metadata": {},
   "source": [
    "## Numpy\n",
    "\n",
    "Numpy is the core library for scientific computing in Python. It provides a high-performance multidimensional array object, and tools for working with these arrays. \n",
    "\n",
    "To use Numpy, we first need to import the numpy package:\n"
   ]
  },
  {
   "cell_type": "code",
   "execution_count": 24,
   "metadata": {},
   "outputs": [
    {
     "data": {
      "image/jpeg": "[encoded data removed]",
      "text/plain": [
       "<IPython.core.display.Image object>"
      ]
     },
     "execution_count": 24,
     "metadata": {},
     "output_type": "execute_result"
    }
   ],
   "source": [
    "from IPython.display import Image\n",
    "Image(filename='numpy_image.jpg')"
   ]
  },
  {
   "cell_type": "code",
   "execution_count": 25,
   "metadata": {},
   "outputs": [],
   "source": [
    "import numpy as np"
   ]
  },
  {
   "cell_type": "markdown",
   "metadata": {},
   "source": [
    "### Arrays\n",
    "\n",
    "A numpy array is a grid of values, all of the __*same*__ type, and is indexed by a tuple of nonnegative integers. The number of dimensions is the rank of the array; the shape of an array is a tuple of integers giving the size of the array along each dimension.\n",
    "\n",
    "We can initialize numpy arrays from nested Python lists, and access elements using square brackets"
   ]
  },
  {
   "cell_type": "markdown",
   "metadata": {},
   "source": [
    "###### Why should I use numpy arrays instead of lists you ask?\n",
    "- Convinient\n",
    "- Faster and have more functionality than lists\n",
    "- Optimized storage and retrieval\n",
    "\n",
    "Let me try to prove some of these claims"
   ]
  },
  {
   "cell_type": "markdown",
   "metadata": {},
   "source": [
    "##### Creating A NumPy Array\n"
   ]
  },
  {
   "cell_type": "code",
   "execution_count": 29,
   "metadata": {},
   "outputs": [
    {
     "name": "stdout",
     "output_type": "stream",
     "text": [
      "<class 'numpy.ndarray'>\n",
      "(3,)\n",
      "1 2 3\n"
     ]
    }
   ],
   "source": [
    "a = np.array([1, 2, 3])  # Create a rank 1 array\n",
    "print (type(a))\n",
    "print (a.shape)\n",
    "print (a[0], a[1], a[2])         "
   ]
  },
  {
   "cell_type": "code",
   "execution_count": 31,
   "metadata": {},
   "outputs": [],
   "source": [
    "l = [1,2,3,4,5]\n",
    "a = np.array(l)"
   ]
  },
  {
   "cell_type": "code",
   "execution_count": 33,
   "metadata": {},
   "outputs": [],
   "source": [
    "# l+1"
   ]
  },
  {
   "cell_type": "code",
   "execution_count": 34,
   "metadata": {},
   "outputs": [
    {
     "data": {
      "text/plain": [
       "array([2, 3, 4, 5, 6])"
      ]
     },
     "execution_count": 34,
     "metadata": {},
     "output_type": "execute_result"
    }
   ],
   "source": [
    "a+1"
   ]
  },
  {
   "cell_type": "code",
   "execution_count": null,
   "metadata": {},
   "outputs": [],
   "source": []
  },
  {
   "cell_type": "markdown",
   "metadata": {},
   "source": [
    "###### One good reason is the vector implementation of the arrays, i.e all the functions are applied to each element of the array wthout explicit instructions"
   ]
  },
  {
   "cell_type": "code",
   "execution_count": 35,
   "metadata": {},
   "outputs": [
    {
     "data": {
      "text/plain": [
       "array([2, 3, 4, 5, 6])"
      ]
     },
     "execution_count": 35,
     "metadata": {},
     "output_type": "execute_result"
    }
   ],
   "source": [
    "a+1"
   ]
  },
  {
   "cell_type": "code",
   "execution_count": 36,
   "metadata": {},
   "outputs": [
    {
     "data": {
      "text/plain": [
       "array([False, False, False,  True,  True])"
      ]
     },
     "execution_count": 36,
     "metadata": {},
     "output_type": "execute_result"
    }
   ],
   "source": [
    "a>3"
   ]
  },
  {
   "cell_type": "code",
   "execution_count": 38,
   "metadata": {},
   "outputs": [
    {
     "data": {
      "text/plain": [
       "array([4, 5])"
      ]
     },
     "execution_count": 38,
     "metadata": {},
     "output_type": "execute_result"
    }
   ],
   "source": [
    "a[a>3]"
   ]
  },
  {
   "cell_type": "markdown",
   "metadata": {},
   "source": [
    "###### Activity"
   ]
  },
  {
   "cell_type": "markdown",
   "metadata": {},
   "source": [
    "Raise the power of all the numbers in the array to 3"
   ]
  },
  {
   "cell_type": "code",
   "execution_count": 39,
   "metadata": {},
   "outputs": [
    {
     "data": {
      "text/plain": [
       "array([  1,   8,  27,  64, 125], dtype=int32)"
      ]
     },
     "execution_count": 39,
     "metadata": {},
     "output_type": "execute_result"
    }
   ],
   "source": [
    "a**3"
   ]
  },
  {
   "cell_type": "code",
   "execution_count": 42,
   "metadata": {},
   "outputs": [
    {
     "name": "stdout",
     "output_type": "stream",
     "text": [
      "[[1 2 3]\n",
      " [4 5 6]]\n"
     ]
    }
   ],
   "source": [
    "b = np.array([[1,2,3],[4,5,6]])\n",
    "print (b)"
   ]
  },
  {
   "cell_type": "markdown",
   "metadata": {},
   "source": [
    "The number of dimensions is the rank of the array; the shape of an array is a tuple of integers giving the size of the array along each dimension."
   ]
  },
  {
   "cell_type": "code",
   "execution_count": 43,
   "metadata": {},
   "outputs": [
    {
     "data": {
      "text/plain": [
       "numpy.ndarray"
      ]
     },
     "execution_count": 43,
     "metadata": {},
     "output_type": "execute_result"
    }
   ],
   "source": [
    "type(b)"
   ]
  },
  {
   "cell_type": "code",
   "execution_count": 44,
   "metadata": {},
   "outputs": [
    {
     "data": {
      "text/plain": [
       "(2, 3)"
      ]
     },
     "execution_count": 44,
     "metadata": {},
     "output_type": "execute_result"
    }
   ],
   "source": [
    "b.shape"
   ]
  },
  {
   "cell_type": "code",
   "execution_count": 45,
   "metadata": {},
   "outputs": [
    {
     "data": {
      "text/plain": [
       "5"
      ]
     },
     "execution_count": 45,
     "metadata": {},
     "output_type": "execute_result"
    }
   ],
   "source": [
    "b[1,1]"
   ]
  },
  {
   "cell_type": "code",
   "execution_count": 46,
   "metadata": {},
   "outputs": [
    {
     "name": "stdout",
     "output_type": "stream",
     "text": [
      "1 2 4\n"
     ]
    }
   ],
   "source": [
    "print (b[0, 0], b[0, 1], b[1, 0])"
   ]
  },
  {
   "cell_type": "markdown",
   "metadata": {},
   "source": [
    "### Indexing NumPy Arrays\n",
    "\n",
    "We now know how to create arrays, but unless we can retrieve results from them, there isn't a lot we can do with NumPy. We can use array indexing to select individual elements, groups of elements, or entire rows and columns. One important thing to keep in mind is that just like Python lists, NumPy is zero-indexed, meaning that the index of the first row is 0, and the index of the first column is 0\n"
   ]
  },
  {
   "cell_type": "markdown",
   "metadata": {},
   "source": [
    "Numpy offers several ways to index into arrays."
   ]
  },
  {
   "cell_type": "code",
   "execution_count": 47,
   "metadata": {},
   "outputs": [
    {
     "data": {
      "text/plain": [
       "array([[1, 2, 3],\n",
       "       [4, 5, 6]])"
      ]
     },
     "execution_count": 47,
     "metadata": {},
     "output_type": "execute_result"
    }
   ],
   "source": [
    "b"
   ]
  },
  {
   "cell_type": "markdown",
   "metadata": {},
   "source": [
    "How to get the first row of the array?"
   ]
  },
  {
   "cell_type": "code",
   "execution_count": 50,
   "metadata": {},
   "outputs": [
    {
     "data": {
      "text/plain": [
       "array([[1, 2, 3],\n",
       "       [4, 5, 6]])"
      ]
     },
     "execution_count": 50,
     "metadata": {},
     "output_type": "execute_result"
    }
   ],
   "source": [
    "b[:,:]"
   ]
  },
  {
   "cell_type": "code",
   "execution_count": 48,
   "metadata": {},
   "outputs": [
    {
     "name": "stdout",
     "output_type": "stream",
     "text": [
      "[1 2 3]\n"
     ]
    }
   ],
   "source": [
    "print(b[0,:])"
   ]
  },
  {
   "cell_type": "markdown",
   "metadata": {},
   "source": [
    "How to get the first column of the array?"
   ]
  },
  {
   "cell_type": "code",
   "execution_count": 51,
   "metadata": {},
   "outputs": [
    {
     "name": "stdout",
     "output_type": "stream",
     "text": [
      "[1 4]\n"
     ]
    }
   ],
   "source": [
    "print(b[:,0])"
   ]
  },
  {
   "cell_type": "markdown",
   "metadata": {},
   "source": [
    "How to get the last row of the array?"
   ]
  },
  {
   "cell_type": "code",
   "execution_count": 52,
   "metadata": {},
   "outputs": [
    {
     "name": "stdout",
     "output_type": "stream",
     "text": [
      "[4 5 6]\n"
     ]
    }
   ],
   "source": [
    "print(b[-1,:])"
   ]
  },
  {
   "cell_type": "markdown",
   "metadata": {},
   "source": [
    "How to get the last column of the array?"
   ]
  },
  {
   "cell_type": "code",
   "execution_count": 53,
   "metadata": {},
   "outputs": [
    {
     "data": {
      "text/plain": [
       "array([3, 6])"
      ]
     },
     "execution_count": 53,
     "metadata": {},
     "output_type": "execute_result"
    }
   ],
   "source": [
    "b[:,-1]"
   ]
  },
  {
   "cell_type": "code",
   "execution_count": 54,
   "metadata": {},
   "outputs": [],
   "source": [
    "# Creating a 3 dimensional array\n",
    "three_dim_array = np.array([[[1,2,3,4], [5,6,7,8], [9,10,11,12]],\n",
    "              [[1,2,3,4], [5,6,7,8], [9,10,11,12]],\n",
    "              [[1,2,3,4], [5,6,7,8], [9,10,11,12]]])"
   ]
  },
  {
   "cell_type": "code",
   "execution_count": 56,
   "metadata": {},
   "outputs": [
    {
     "data": {
      "text/plain": [
       "array([[[ 1,  2,  3,  4],\n",
       "        [ 5,  6,  7,  8],\n",
       "        [ 9, 10, 11, 12]],\n",
       "\n",
       "       [[ 1,  2,  3,  4],\n",
       "        [ 5,  6,  7,  8],\n",
       "        [ 9, 10, 11, 12]],\n",
       "\n",
       "       [[ 1,  2,  3,  4],\n",
       "        [ 5,  6,  7,  8],\n",
       "        [ 9, 10, 11, 12]]])"
      ]
     },
     "execution_count": 56,
     "metadata": {},
     "output_type": "execute_result"
    }
   ],
   "source": [
    "three_dim_array"
   ]
  },
  {
   "cell_type": "code",
   "execution_count": 57,
   "metadata": {},
   "outputs": [
    {
     "data": {
      "text/plain": [
       "(3, 3, 4)"
      ]
     },
     "execution_count": 57,
     "metadata": {},
     "output_type": "execute_result"
    }
   ],
   "source": [
    "three_dim_array.shape"
   ]
  },
  {
   "cell_type": "markdown",
   "metadata": {},
   "source": [
    "### Numpy also provides many routines to create arrays\n",
    "\n",
    "You can refer to the full list of routines here : https://docs.scipy.org/doc/numpy/reference/routines.array-creation.html"
   ]
  },
  {
   "cell_type": "markdown",
   "metadata": {},
   "source": [
    "#### Using NumPy To Read In Files"
   ]
  },
  {
   "cell_type": "markdown",
   "metadata": {},
   "source": [
    "* using numpy we can directly read data from a file\n",
    "  - np.genfromtxt() is the function that will help us read data into the file"
   ]
  },
  {
   "cell_type": "code",
   "execution_count": 58,
   "metadata": {},
   "outputs": [
    {
     "name": "stdout",
     "output_type": "stream",
     "text": [
      "[[0. 0.]\n",
      " [0. 0.]]\n"
     ]
    }
   ],
   "source": [
    "a = np.zeros((2,2))  # Create an array of all zeros\n",
    "print (a)"
   ]
  },
  {
   "cell_type": "code",
   "execution_count": 59,
   "metadata": {},
   "outputs": [
    {
     "name": "stdout",
     "output_type": "stream",
     "text": [
      "[[1. 0. 0.]\n",
      " [0. 1. 0.]\n",
      " [0. 0. 1.]]\n"
     ]
    }
   ],
   "source": [
    "d = np.eye(3)        # Create a 2x2 identity matrix\n",
    "print (d)"
   ]
  },
  {
   "cell_type": "code",
   "execution_count": 64,
   "metadata": {},
   "outputs": [
    {
     "name": "stdout",
     "output_type": "stream",
     "text": [
      "[[0.05300705 0.47476314]\n",
      " [0.49108361 0.05620572]]\n"
     ]
    }
   ],
   "source": [
    "e = np.random.random((2,2)) # Create an array filled with random values\n",
    "print (e)"
   ]
  },
  {
   "cell_type": "code",
   "execution_count": 29,
   "metadata": {},
   "outputs": [],
   "source": [
    "# help(np.genfromtxt)"
   ]
  },
  {
   "cell_type": "code",
   "execution_count": 65,
   "metadata": {},
   "outputs": [
    {
     "data": {
      "text/plain": [
       "(25, 6)"
      ]
     },
     "execution_count": 65,
     "metadata": {},
     "output_type": "execute_result"
    }
   ],
   "source": [
    "temp = np.genfromtxt(\"numpyreadindata.csv\",\n",
    "                     delimiter=\",\",skip_header=True)\n",
    "\n",
    "temp.shape"
   ]
  },
  {
   "cell_type": "code",
   "execution_count": 69,
   "metadata": {},
   "outputs": [
    {
     "data": {
      "text/plain": [
       "numpy.ndarray"
      ]
     },
     "execution_count": 69,
     "metadata": {},
     "output_type": "execute_result"
    }
   ],
   "source": [
    "type(temp)"
   ]
  },
  {
   "cell_type": "code",
   "execution_count": 71,
   "metadata": {},
   "outputs": [
    {
     "data": {
      "text/plain": [
       "array([[ 2., 48.,  0.,  0.,  0.,  1.],\n",
       "       [ 3., 12.,  0.,  0.,  0.,  0.],\n",
       "       [ 4., 42.,  0.,  0.,  1.,  0.],\n",
       "       [ 5., 24.,  1.,  0.,  0.,  0.],\n",
       "       [ 6., 36.,  0.,  0.,  0.,  0.],\n",
       "       [ 7., 24.,  0.,  0.,  1.,  0.],\n",
       "       [ 8., 36.,  0.,  1.,  0.,  0.],\n",
       "       [ 9., 12.,  0.,  0.,  0.,  1.],\n",
       "       [10., 30.,  1.,  0.,  0.,  0.],\n",
       "       [11., 12.,  1.,  0.,  0.,  0.],\n",
       "       [12., 48.,  0.,  0.,  0.,  0.],\n",
       "       [13., 12.,  0.,  0.,  0.,  1.],\n",
       "       [14., 24.,  1.,  0.,  0.,  0.],\n",
       "       [15., 15.,  1.,  0.,  0.,  0.],\n",
       "       [16., 24.,  0.,  0.,  0.,  1.],\n",
       "       [17., 24.,  0.,  0.,  0.,  1.],\n",
       "       [18., 30.,  0.,  0.,  0.,  0.],\n",
       "       [19., 24.,  0.,  1.,  0.,  0.],\n",
       "       [20., 24.,  0.,  0.,  0.,  1.],\n",
       "       [21.,  9.,  1.,  0.,  0.,  0.],\n",
       "       [22.,  6.,  0.,  0.,  0.,  1.],\n",
       "       [23., 10.,  1.,  0.,  0.,  0.],\n",
       "       [24., 12.,  0.,  1.,  0.,  0.],\n",
       "       [25., 10.,  0.,  0.,  1.,  0.],\n",
       "       [26.,  6.,  0.,  0.,  1.,  0.]])"
      ]
     },
     "execution_count": 71,
     "metadata": {},
     "output_type": "execute_result"
    }
   ],
   "source": [
    "temp"
   ]
  },
  {
   "cell_type": "markdown",
   "metadata": {},
   "source": [
    "How do I extract the row `14., 24.,  1.,  0.,  0.,  0.` ?"
   ]
  },
  {
   "cell_type": "code",
   "execution_count": 72,
   "metadata": {},
   "outputs": [
    {
     "data": {
      "text/plain": [
       "array([14., 24.,  1.,  0.,  0.,  0.])"
      ]
     },
     "execution_count": 72,
     "metadata": {},
     "output_type": "execute_result"
    }
   ],
   "source": [
    "temp[12,:]"
   ]
  },
  {
   "cell_type": "markdown",
   "metadata": {},
   "source": [
    "How do we extract the $2^{nd}$ column"
   ]
  },
  {
   "cell_type": "code",
   "execution_count": 74,
   "metadata": {},
   "outputs": [
    {
     "data": {
      "text/plain": [
       "array([48., 12., 42., 24., 36., 24., 36., 12., 30., 12., 48., 12., 24.,\n",
       "       15., 24., 24., 30., 24., 24.,  9.,  6., 10., 12., 10.,  6.])"
      ]
     },
     "execution_count": 74,
     "metadata": {},
     "output_type": "execute_result"
    }
   ],
   "source": [
    "temp[:,1]"
   ]
  },
  {
   "cell_type": "markdown",
   "metadata": {},
   "source": [
    "Extract the array \n",
    "\n",
    "$\\begin{bmatrix}2 & 48\\\\3 & 12\\end{bmatrix}$"
   ]
  },
  {
   "cell_type": "code",
   "execution_count": 76,
   "metadata": {},
   "outputs": [
    {
     "data": {
      "text/plain": [
       "array([[ 2., 48.],\n",
       "       [ 3., 12.]])"
      ]
     },
     "execution_count": 76,
     "metadata": {},
     "output_type": "execute_result"
    }
   ],
   "source": [
    "temp[:2,:2]"
   ]
  },
  {
   "cell_type": "markdown",
   "metadata": {},
   "source": [
    "###### Combining NumPy Arrays\n"
   ]
  },
  {
   "cell_type": "code",
   "execution_count": 77,
   "metadata": {},
   "outputs": [],
   "source": [
    "x = np.array(range(10))\n",
    "y = np.array(range(11,21))"
   ]
  },
  {
   "cell_type": "code",
   "execution_count": 78,
   "metadata": {},
   "outputs": [
    {
     "data": {
      "text/plain": [
       "array([0, 1, 2, 3, 4, 5, 6, 7, 8, 9])"
      ]
     },
     "execution_count": 78,
     "metadata": {},
     "output_type": "execute_result"
    }
   ],
   "source": [
    "x"
   ]
  },
  {
   "cell_type": "code",
   "execution_count": 79,
   "metadata": {},
   "outputs": [
    {
     "data": {
      "text/plain": [
       "array([11, 12, 13, 14, 15, 16, 17, 18, 19, 20])"
      ]
     },
     "execution_count": 79,
     "metadata": {},
     "output_type": "execute_result"
    }
   ],
   "source": [
    "y"
   ]
  },
  {
   "cell_type": "markdown",
   "metadata": {},
   "source": [
    "With NumPy, it's very common to combine multiple arrays into a single unified array. We can use numpy.vstack to vertically stack multiple arrays. Think of it like the second arrays's items being added as new rows to the first array"
   ]
  },
  {
   "cell_type": "code",
   "execution_count": 81,
   "metadata": {},
   "outputs": [
    {
     "data": {
      "text/plain": [
       "array([[ 0,  1,  2,  3,  4,  5,  6,  7,  8,  9],\n",
       "       [11, 12, 13, 14, 15, 16, 17, 18, 19, 20]])"
      ]
     },
     "execution_count": 81,
     "metadata": {},
     "output_type": "execute_result"
    }
   ],
   "source": [
    "np.vstack([x,y]) # rbind of R"
   ]
  },
  {
   "cell_type": "code",
   "execution_count": 82,
   "metadata": {},
   "outputs": [
    {
     "data": {
      "text/plain": [
       "(2, 10)"
      ]
     },
     "execution_count": 82,
     "metadata": {},
     "output_type": "execute_result"
    }
   ],
   "source": [
    "np.vstack([x,y]).shape"
   ]
  },
  {
   "cell_type": "code",
   "execution_count": 83,
   "metadata": {},
   "outputs": [
    {
     "data": {
      "text/plain": [
       "array([ 0,  1,  2,  3,  4,  5,  6,  7,  8,  9, 11, 12, 13, 14, 15, 16, 17,\n",
       "       18, 19, 20])"
      ]
     },
     "execution_count": 83,
     "metadata": {},
     "output_type": "execute_result"
    }
   ],
   "source": [
    "np.hstack([x,y]) # cbind of R"
   ]
  },
  {
   "cell_type": "code",
   "execution_count": 84,
   "metadata": {},
   "outputs": [
    {
     "data": {
      "text/plain": [
       "(20,)"
      ]
     },
     "execution_count": 84,
     "metadata": {},
     "output_type": "execute_result"
    }
   ],
   "source": [
    "np.hstack([x,y]).shape"
   ]
  },
  {
   "cell_type": "markdown",
   "metadata": {},
   "source": [
    "###### NumPy Array Comparisons"
   ]
  },
  {
   "cell_type": "code",
   "execution_count": 85,
   "metadata": {},
   "outputs": [
    {
     "data": {
      "text/plain": [
       "array([False, False, False, False, False, False, False, False, False,\n",
       "        True,  True,  True,  True,  True,  True,  True,  True,  True,\n",
       "        True,  True,  True,  True,  True,  True,  True])"
      ]
     },
     "execution_count": 85,
     "metadata": {},
     "output_type": "execute_result"
    }
   ],
   "source": [
    "temp[:,0]>10"
   ]
  },
  {
   "cell_type": "code",
   "execution_count": 86,
   "metadata": {},
   "outputs": [
    {
     "data": {
      "text/plain": [
       "array([False, False, False, False, False, False,  True, False, False,\n",
       "       False, False, False, False, False, False, False, False,  True,\n",
       "       False, False, False, False,  True, False, False])"
      ]
     },
     "execution_count": 86,
     "metadata": {},
     "output_type": "execute_result"
    }
   ],
   "source": [
    "temp[:,3] == 1"
   ]
  },
  {
   "cell_type": "markdown",
   "metadata": {},
   "source": [
    "Boolean array indexing: Boolean array indexing lets you pick out arbitrary elements of an array. Frequently this type of indexing is used to select the elements of an array that satisfy some condition. Here is an example:"
   ]
  },
  {
   "cell_type": "markdown",
   "metadata": {},
   "source": [
    "A quick detour from our `temp` data"
   ]
  },
  {
   "cell_type": "code",
   "execution_count": 87,
   "metadata": {},
   "outputs": [
    {
     "name": "stdout",
     "output_type": "stream",
     "text": [
      "[[False False]\n",
      " [ True  True]\n",
      " [ True  True]]\n"
     ]
    }
   ],
   "source": [
    "a = np.array([[1,2], [3, 4], [5, 6]])\n",
    "bool_idx = (a > 2)  # Find the elements of a that are bigger than 2;\n",
    "                    # this returns a numpy array of Booleans of the same\n",
    "                    # shape as a, where each slot of bool_idx tells\n",
    "                    # whether that element of a is > 2.\n",
    "print (bool_idx)"
   ]
  },
  {
   "cell_type": "markdown",
   "metadata": {},
   "source": [
    "Note: When we use boolean indexing, the result of subsetting an array with the boolean index may not have the same shape as before"
   ]
  },
  {
   "cell_type": "code",
   "execution_count": 89,
   "metadata": {},
   "outputs": [
    {
     "data": {
      "text/plain": [
       "array([[1, 2],\n",
       "       [3, 4],\n",
       "       [5, 6]])"
      ]
     },
     "execution_count": 89,
     "metadata": {},
     "output_type": "execute_result"
    }
   ],
   "source": [
    "a"
   ]
  },
  {
   "cell_type": "code",
   "execution_count": 90,
   "metadata": {},
   "outputs": [
    {
     "name": "stdout",
     "output_type": "stream",
     "text": [
      "[3 4 5 6]\n"
     ]
    }
   ],
   "source": [
    "# We use boolean array indexing to construct an array\n",
    "# consisting of the elements of a corresponding to the True values\n",
    "# of bool_idx\n",
    "print(a[bool_idx])"
   ]
  },
  {
   "cell_type": "markdown",
   "metadata": {},
   "source": [
    "###### We can do all of the above in a single concise statement:"
   ]
  },
  {
   "cell_type": "code",
   "execution_count": 92,
   "metadata": {},
   "outputs": [
    {
     "name": "stdout",
     "output_type": "stream",
     "text": [
      "[3 4 5 6]\n"
     ]
    }
   ],
   "source": [
    "print (a[a > 2])"
   ]
  },
  {
   "cell_type": "markdown",
   "metadata": {},
   "source": [
    "Now let us come back to our `temp` data"
   ]
  },
  {
   "cell_type": "markdown",
   "metadata": {},
   "source": [
    "Extract all the rows that have the values in the first column are >15 and < 20"
   ]
  },
  {
   "cell_type": "code",
   "execution_count": 96,
   "metadata": {},
   "outputs": [],
   "source": [
    "# temp[:,0] >15 & temp[:,0] <20"
   ]
  },
  {
   "cell_type": "code",
   "execution_count": 110,
   "metadata": {},
   "outputs": [
    {
     "data": {
      "text/plain": [
       "(25,)"
      ]
     },
     "execution_count": 110,
     "metadata": {},
     "output_type": "execute_result"
    }
   ],
   "source": [
    "temp[:,0].shape"
   ]
  },
  {
   "cell_type": "code",
   "execution_count": 109,
   "metadata": {},
   "outputs": [
    {
     "data": {
      "text/plain": [
       "[array([False, False, False, False, False, False, False, False, False,\n",
       "        False, False, False, False, False,  True,  True,  True,  True,\n",
       "        False, False, False, False, False, False, False])]"
      ]
     },
     "execution_count": 109,
     "metadata": {},
     "output_type": "execute_result"
    }
   ],
   "source": [
    "[(15<temp[:,0]) & (temp[:,0]<20)]"
   ]
  },
  {
   "cell_type": "code",
   "execution_count": 98,
   "metadata": {},
   "outputs": [
    {
     "data": {
      "text/plain": [
       "(4, 6)"
      ]
     },
     "execution_count": 98,
     "metadata": {},
     "output_type": "execute_result"
    }
   ],
   "source": [
    "temp[(15<temp[:,0]) & (temp[:,0]<20)].shape"
   ]
  },
  {
   "cell_type": "code",
   "execution_count": 111,
   "metadata": {},
   "outputs": [
    {
     "data": {
      "text/plain": [
       "array([[False, False,  True,  True,  True, False],\n",
       "       [False, False,  True,  True,  True,  True],\n",
       "       [False, False,  True,  True, False,  True],\n",
       "       [False, False, False,  True,  True,  True],\n",
       "       [False, False,  True,  True,  True,  True],\n",
       "       [False, False,  True,  True, False,  True],\n",
       "       [False, False,  True, False,  True,  True],\n",
       "       [False, False,  True,  True,  True, False],\n",
       "       [False, False, False,  True,  True,  True],\n",
       "       [False, False, False,  True,  True,  True],\n",
       "       [False, False,  True,  True,  True,  True],\n",
       "       [False, False,  True,  True,  True, False],\n",
       "       [False, False, False,  True,  True,  True],\n",
       "       [False, False, False,  True,  True,  True],\n",
       "       [False, False,  True,  True,  True, False],\n",
       "       [False, False,  True,  True,  True, False],\n",
       "       [False, False,  True,  True,  True,  True],\n",
       "       [False, False,  True, False,  True,  True],\n",
       "       [False, False,  True,  True,  True, False],\n",
       "       [False, False, False,  True,  True,  True],\n",
       "       [False, False,  True,  True,  True, False],\n",
       "       [False, False, False,  True,  True,  True],\n",
       "       [False, False,  True, False,  True,  True],\n",
       "       [False, False,  True,  True, False,  True],\n",
       "       [False, False,  True,  True, False,  True]])"
      ]
     },
     "execution_count": 111,
     "metadata": {},
     "output_type": "execute_result"
    }
   ],
   "source": [
    "(temp == 0)"
   ]
  },
  {
   "cell_type": "code",
   "execution_count": 112,
   "metadata": {},
   "outputs": [
    {
     "data": {
      "text/plain": [
       "(21,)"
      ]
     },
     "execution_count": 112,
     "metadata": {},
     "output_type": "execute_result"
    }
   ],
   "source": [
    "temp[temp==1].shape"
   ]
  },
  {
   "cell_type": "markdown",
   "metadata": {},
   "source": [
    "### Datatypes\n",
    "\n",
    "Every numpy array is a grid of elements of the same type. Numpy provides a large set of numeric datatypes that you can use to construct arrays. Numpy tries to guess a datatype when you create an array, but functions that construct arrays usually also include an optional argument to explicitly specify the datatype. Here is an example:\n"
   ]
  },
  {
   "cell_type": "code",
   "execution_count": 113,
   "metadata": {},
   "outputs": [
    {
     "data": {
      "image/png": "[encoded data removed]",
      "text/plain": [
       "<IPython.core.display.Image object>"
      ]
     },
     "execution_count": 113,
     "metadata": {},
     "output_type": "execute_result"
    }
   ],
   "source": [
    "Image(\"numpy_datatypes.png\")"
   ]
  },
  {
   "cell_type": "markdown",
   "metadata": {},
   "source": [
    "reference: https://docs.scipy.org/doc/numpy-1.13.0/user/basics.types.html"
   ]
  },
  {
   "cell_type": "code",
   "execution_count": 114,
   "metadata": {},
   "outputs": [
    {
     "name": "stdout",
     "output_type": "stream",
     "text": [
      "int32 float64 int64\n"
     ]
    }
   ],
   "source": [
    "x = np.array([1, 2])  # Let numpy choose the datatype\n",
    "y = np.array([1.0, 2.0])  # Let numpy choose the datatype\n",
    "z = np.array([1, 2], dtype=np.int64)  # Force a particular datatype\n",
    "print (x.dtype, y.dtype, z.dtype)"
   ]
  },
  {
   "cell_type": "code",
   "execution_count": 115,
   "metadata": {},
   "outputs": [
    {
     "data": {
      "text/plain": [
       "dtype('int64')"
      ]
     },
     "execution_count": 115,
     "metadata": {},
     "output_type": "execute_result"
    }
   ],
   "source": [
    "z.dtype"
   ]
  },
  {
   "cell_type": "code",
   "execution_count": 117,
   "metadata": {},
   "outputs": [],
   "source": [
    "# dir(z)"
   ]
  },
  {
   "cell_type": "markdown",
   "metadata": {},
   "source": [
    "###### We can give float values and force the datatype to be int64 , this results in loss of information\n"
   ]
  },
  {
   "cell_type": "code",
   "execution_count": 118,
   "metadata": {},
   "outputs": [
    {
     "data": {
      "text/plain": [
       "array([1, 2], dtype=int64)"
      ]
     },
     "execution_count": 118,
     "metadata": {},
     "output_type": "execute_result"
    }
   ],
   "source": [
    "z1 = np.array([1.0,2.2],dtype=np.int64)\n",
    "z1"
   ]
  },
  {
   "cell_type": "markdown",
   "metadata": {},
   "source": [
    "#### Converting Data Types\n"
   ]
  },
  {
   "cell_type": "code",
   "execution_count": 119,
   "metadata": {},
   "outputs": [
    {
     "data": {
      "text/plain": [
       "array([1., 2.])"
      ]
     },
     "execution_count": 119,
     "metadata": {},
     "output_type": "execute_result"
    }
   ],
   "source": [
    "z1.astype('float')"
   ]
  },
  {
   "cell_type": "code",
   "execution_count": 120,
   "metadata": {},
   "outputs": [
    {
     "data": {
      "text/plain": [
       "array(['1', '2'], dtype='<U21')"
      ]
     },
     "execution_count": 120,
     "metadata": {},
     "output_type": "execute_result"
    }
   ],
   "source": [
    "z1.astype(str)"
   ]
  },
  {
   "cell_type": "markdown",
   "metadata": {},
   "source": [
    "### Array math\n",
    "\n",
    "Basic mathematical functions operate elementwise on arrays."
   ]
  },
  {
   "cell_type": "code",
   "execution_count": 128,
   "metadata": {},
   "outputs": [
    {
     "name": "stdout",
     "output_type": "stream",
     "text": [
      "[[1. 2.]\n",
      " [3. 4.]]\n",
      "[[5. 6.]\n",
      " [7. 8.]]\n"
     ]
    }
   ],
   "source": [
    "x = np.array([[1,2],[3,4]], dtype=np.float64)\n",
    "y = np.array([[5,6],[7,8]], dtype=np.float64)\n",
    "print (x)\n",
    "print (y)"
   ]
  },
  {
   "cell_type": "code",
   "execution_count": 129,
   "metadata": {},
   "outputs": [
    {
     "data": {
      "text/plain": [
       "array([[-4., -4.],\n",
       "       [-4., -4.]])"
      ]
     },
     "execution_count": 129,
     "metadata": {},
     "output_type": "execute_result"
    }
   ],
   "source": [
    "x-y"
   ]
  },
  {
   "cell_type": "markdown",
   "metadata": {},
   "source": [
    "######  Elementwise sum; both produce the array"
   ]
  },
  {
   "cell_type": "code",
   "execution_count": 130,
   "metadata": {},
   "outputs": [
    {
     "name": "stdout",
     "output_type": "stream",
     "text": [
      "[[ 6.  8.]\n",
      " [10. 12.]]\n"
     ]
    }
   ],
   "source": [
    "print (x+y)"
   ]
  },
  {
   "cell_type": "code",
   "execution_count": 131,
   "metadata": {},
   "outputs": [
    {
     "name": "stdout",
     "output_type": "stream",
     "text": [
      "[[ 6.  8.]\n",
      " [10. 12.]]\n"
     ]
    }
   ],
   "source": [
    "print (np.add(x, y))"
   ]
  },
  {
   "cell_type": "markdown",
   "metadata": {},
   "source": [
    "###### Elementwise difference; both produce the array"
   ]
  },
  {
   "cell_type": "code",
   "execution_count": 132,
   "metadata": {},
   "outputs": [
    {
     "name": "stdout",
     "output_type": "stream",
     "text": [
      "[[-4. -4.]\n",
      " [-4. -4.]]\n",
      "[[-4. -4.]\n",
      " [-4. -4.]]\n"
     ]
    }
   ],
   "source": [
    "print (x - y)\n",
    "print (np.subtract(x, y))"
   ]
  },
  {
   "cell_type": "markdown",
   "metadata": {},
   "source": [
    "###### Even comparision of two matrices/arrays works element wise"
   ]
  },
  {
   "cell_type": "code",
   "execution_count": 133,
   "metadata": {},
   "outputs": [
    {
     "name": "stdout",
     "output_type": "stream",
     "text": [
      "[[ True  True]\n",
      " [ True  True]]\n"
     ]
    }
   ],
   "source": [
    "print(x - y ==  np.subtract(x, y))"
   ]
  },
  {
   "cell_type": "markdown",
   "metadata": {},
   "source": [
    "###### Elementwise product; both produce the array , no need to specifically mention that we need matrix multiplication unlike R"
   ]
  },
  {
   "cell_type": "code",
   "execution_count": 134,
   "metadata": {},
   "outputs": [
    {
     "name": "stdout",
     "output_type": "stream",
     "text": [
      "[[ 5. 12.]\n",
      " [21. 32.]]\n",
      "[[ 5. 12.]\n",
      " [21. 32.]]\n"
     ]
    }
   ],
   "source": [
    "# Elementwise product; both produce the array\n",
    "# [[ 5.0 12.0]\n",
    "#  [21.0 32.0]]\n",
    "print(x * y)\n",
    "print(np.multiply(x, y))"
   ]
  },
  {
   "cell_type": "markdown",
   "metadata": {},
   "source": [
    "###### Matrix multiplication"
   ]
  },
  {
   "cell_type": "code",
   "execution_count": 135,
   "metadata": {},
   "outputs": [
    {
     "data": {
      "text/plain": [
       "array([[19., 22.],\n",
       "       [43., 50.]])"
      ]
     },
     "execution_count": 135,
     "metadata": {},
     "output_type": "execute_result"
    }
   ],
   "source": [
    "np.dot(x,y)"
   ]
  },
  {
   "cell_type": "markdown",
   "metadata": {},
   "source": [
    "###### Elementwise division; both produce the array"
   ]
  },
  {
   "cell_type": "code",
   "execution_count": 136,
   "metadata": {},
   "outputs": [
    {
     "name": "stdout",
     "output_type": "stream",
     "text": [
      "[[0.2        0.33333333]\n",
      " [0.42857143 0.5       ]]\n"
     ]
    }
   ],
   "source": [
    "# [[ 0.2         0.33333333]\n",
    "#  [ 0.42857143  0.5       ]]\n",
    "print (x / y)"
   ]
  },
  {
   "cell_type": "code",
   "execution_count": 137,
   "metadata": {},
   "outputs": [
    {
     "name": "stdout",
     "output_type": "stream",
     "text": [
      "[[0.2        0.33333333]\n",
      " [0.42857143 0.5       ]]\n"
     ]
    }
   ],
   "source": [
    "print (np.divide(x, y))"
   ]
  },
  {
   "cell_type": "markdown",
   "metadata": {},
   "source": [
    "###### Elementwise square root; produces the array"
   ]
  },
  {
   "cell_type": "code",
   "execution_count": 139,
   "metadata": {},
   "outputs": [
    {
     "name": "stdout",
     "output_type": "stream",
     "text": [
      "[[1.         1.41421356]\n",
      " [1.73205081 2.        ]]\n"
     ]
    }
   ],
   "source": [
    "# [[ 1.          1.41421356]\n",
    "#  [ 1.73205081  2.        ]]\n",
    "print (np.sqrt(x))"
   ]
  },
  {
   "cell_type": "markdown",
   "metadata": {},
   "source": [
    "Numpy provides many useful functions for performing computations on arrays; one of the most useful is `sum`:\n"
   ]
  },
  {
   "cell_type": "code",
   "execution_count": 140,
   "metadata": {},
   "outputs": [
    {
     "name": "stdout",
     "output_type": "stream",
     "text": [
      "[[ 0.69938948  0.03840711 -0.12997739 ...  0.7055222   0.59319665\n",
      "   0.20101721]\n",
      " [-0.77246597 -1.06373995  0.65896429 ... -0.09537254  0.5112024\n",
      "   0.447217  ]]\n"
     ]
    }
   ],
   "source": [
    "x = np.array([np.random.randn(1000),np.random.randn(1000)])\n",
    "print (x)"
   ]
  },
  {
   "cell_type": "markdown",
   "metadata": {},
   "source": [
    "###### Traditional way"
   ]
  },
  {
   "cell_type": "code",
   "execution_count": 141,
   "metadata": {},
   "outputs": [
    {
     "data": {
      "text/plain": [
       "13.212569579986384"
      ]
     },
     "execution_count": 141,
     "metadata": {},
     "output_type": "execute_result"
    }
   ],
   "source": [
    "sum([x[i,j] for i in range(x.shape[0]) for j in range(x.shape[1])])"
   ]
  },
  {
   "cell_type": "markdown",
   "metadata": {},
   "source": [
    "###### The 'np' Way or 'Pythonic Way'"
   ]
  },
  {
   "cell_type": "code",
   "execution_count": 142,
   "metadata": {},
   "outputs": [
    {
     "name": "stdout",
     "output_type": "stream",
     "text": [
      "13.212569579986354\n"
     ]
    }
   ],
   "source": [
    "print (np.sum(x))  # Compute sum of all elements; prints \"10\""
   ]
  },
  {
   "cell_type": "code",
   "execution_count": 143,
   "metadata": {},
   "outputs": [
    {
     "data": {
      "text/plain": [
       "array([[ 0.69938948,  0.03840711, -0.12997739, ...,  0.7055222 ,\n",
       "         0.59319665,  0.20101721],\n",
       "       [-0.77246597, -1.06373995,  0.65896429, ..., -0.09537254,\n",
       "         0.5112024 ,  0.447217  ]])"
      ]
     },
     "execution_count": 143,
     "metadata": {},
     "output_type": "execute_result"
    }
   ],
   "source": [
    "x"
   ]
  },
  {
   "cell_type": "code",
   "execution_count": 144,
   "metadata": {},
   "outputs": [
    {
     "name": "stdout",
     "output_type": "stream",
     "text": [
      "651 µs ± 29.1 µs per loop (mean ± std. dev. of 7 runs, 100 loops each)\n"
     ]
    }
   ],
   "source": [
    "%%timeit -n 100\n",
    "sum([x[i,j] for i in range(x.shape[0]) for j in range(x.shape[1])])"
   ]
  },
  {
   "cell_type": "code",
   "execution_count": 145,
   "metadata": {},
   "outputs": [
    {
     "name": "stdout",
     "output_type": "stream",
     "text": [
      "6.41 µs ± 2.55 µs per loop (mean ± std. dev. of 7 runs, 100 loops each)\n"
     ]
    }
   ],
   "source": [
    "%%timeit -n 100\n",
    "np.sum(x)"
   ]
  },
  {
   "cell_type": "markdown",
   "metadata": {},
   "source": [
    "Numpy also allows us to specify the axis on which we want to compute sum"
   ]
  },
  {
   "cell_type": "code",
   "execution_count": 146,
   "metadata": {},
   "outputs": [
    {
     "data": {
      "text/plain": [
       "(25, 6)"
      ]
     },
     "execution_count": 146,
     "metadata": {},
     "output_type": "execute_result"
    }
   ],
   "source": [
    "temp.shape"
   ]
  },
  {
   "cell_type": "code",
   "execution_count": 147,
   "metadata": {},
   "outputs": [
    {
     "name": "stdout",
     "output_type": "stream",
     "text": [
      "[350. 554.   7.   3.   4.   7.]\n"
     ]
    }
   ],
   "source": [
    "print (np.sum(temp, axis=0))  # Compute sum of each column; prints \"[350. 554.   7.   3.   4.   7.]\""
   ]
  },
  {
   "cell_type": "code",
   "execution_count": 148,
   "metadata": {},
   "outputs": [
    {
     "name": "stdout",
     "output_type": "stream",
     "text": [
      "[51. 15. 47. 30. 42. 32. 45. 22. 41. 24. 60. 26. 39. 31. 41. 42. 48. 44.\n",
      " 45. 31. 29. 34. 37. 36. 33.]\n"
     ]
    }
   ],
   "source": [
    "print (np.sum(temp, axis=1))  # Compute sum of each row; prints \"[51. 15. 47. 30. 42. 32. 45. 22. 41. 24. 60. 26. 39. 31. 41. 42. 48. 44.,45. 31. 29. 34. 37. 36. 33.]\""
   ]
  },
  {
   "cell_type": "markdown",
   "metadata": {},
   "source": [
    "##### Acivities\n",
    "\n",
    "- Extract the second Column of the temp variable and print it.\n",
    "- Find the number of elements greater than 15 in the whole `temp` data.\n",
    "- Find the sum of all the even and odd numbers in the $2^{nd}$ column of `temp` data.\n",
    "- Subtract mean of second column from each element in the second column.\n",
    "- After subtracting the mean from each value, divide each element by the standard deviation."
   ]
  },
  {
   "cell_type": "code",
   "execution_count": 149,
   "metadata": {},
   "outputs": [],
   "source": [
    "def break_time():\n",
    "    time_take_to_complete_numpy = time.time()-start\n",
    "    s = time.time()\n",
    "    response = input(\"So it's been {} minutes that we started talking about Modules and Numpy, Do you guys want a break?: \\n 'Yes' or 'No' are your options by the way...\".format(np.round(time_take_to_complete_numpy/60,2)))\n",
    "    if response not in ['No','Yes']:\n",
    "        print (\"Uh Oh!, I can only take inputs mentioned, please execute the cell again and try!\")\n",
    "    if response == 'Yes':\n",
    "        print (\"Ok then!, Let's start in 15 minutes.\")\n",
    "    if response == 'No':\n",
    "        print (\"Are you sure? , Because pandas is going to be super confusing without some coffee in your stomach!\")\n",
    "        break_time()"
   ]
  },
  {
   "cell_type": "code",
   "execution_count": 150,
   "metadata": {},
   "outputs": [
    {
     "name": "stdout",
     "output_type": "stream",
     "text": [
      "So it's been 86.48 minutes that we started talking about Modules and Numpy, Do you guys want a break?: \n",
      " 'Yes' or 'No' are your options by the way...No\n",
      "Are you sure? , Because pandas is going to be super confusing without some coffee in your stomach!\n",
      "So it's been 87.03 minutes that we started talking about Modules and Numpy, Do you guys want a break?: \n",
      " 'Yes' or 'No' are your options by the way...Yes\n",
      "Ok then!, Let's start in 15 minutes.\n"
     ]
    }
   ],
   "source": [
    "break_time()"
   ]
  },
  {
   "cell_type": "markdown",
   "metadata": {},
   "source": [
    "## Pandas"
   ]
  },
  {
   "cell_type": "code",
   "execution_count": 75,
   "metadata": {},
   "outputs": [
    {
     "data": {
      "image/jpeg": "[encoded data removed]",
      "text/plain": [
       "<IPython.core.display.Image object>"
      ]
     },
     "execution_count": 75,
     "metadata": {},
     "output_type": "execute_result"
    }
   ],
   "source": [
    "from IPython.display import Image\n",
    "Image(\"pandas.jpg\")"
   ]
  },
  {
   "cell_type": "code",
   "execution_count": 76,
   "metadata": {},
   "outputs": [],
   "source": [
    "import numpy as np\n",
    "import pandas as pd"
   ]
  },
  {
   "cell_type": "markdown",
   "metadata": {},
   "source": [
    "The data structure in Pandas we use are\n",
    "    - 1. Series      -> 1 Dimensional\n",
    "    - 2. DataFrame   -> 2 Dimensional\n",
    "    \n",
    "Both the datastructures are mutable, meaning we can change the values in the data structure once we define them."
   ]
  },
  {
   "cell_type": "markdown",
   "metadata": {},
   "source": [
    "### Object Creation\n",
    "Creating a `Series` by passing a list of values, letting pandas create a default integer index:"
   ]
  },
  {
   "cell_type": "code",
   "execution_count": 77,
   "metadata": {},
   "outputs": [
    {
     "data": {
      "text/plain": [
       "0    1.0\n",
       "1    3.0\n",
       "2    5.0\n",
       "3    NaN\n",
       "4    6.0\n",
       "5    8.0\n",
       "dtype: float64"
      ]
     },
     "execution_count": 77,
     "metadata": {},
     "output_type": "execute_result"
    }
   ],
   "source": [
    "s = pd.Series([1,3,5,np.nan,6,8]) #similar to NA in R\n",
    "s"
   ]
  },
  {
   "cell_type": "markdown",
   "metadata": {},
   "source": [
    "##### We can also specify the column name while creating a dataframe"
   ]
  },
  {
   "cell_type": "code",
   "execution_count": 78,
   "metadata": {},
   "outputs": [],
   "source": [
    "data = np.random.randn(20,2)"
   ]
  },
  {
   "cell_type": "code",
   "execution_count": 79,
   "metadata": {},
   "outputs": [
    {
     "data": {
      "text/html": [
       "<div>\n",
       "<style scoped>\n",
       "    .dataframe tbody tr th:only-of-type {\n",
       "        vertical-align: middle;\n",
       "    }\n",
       "\n",
       "    .dataframe tbody tr th {\n",
       "        vertical-align: top;\n",
       "    }\n",
       "\n",
       "    .dataframe thead th {\n",
       "        text-align: right;\n",
       "    }\n",
       "</style>\n",
       "<table border=\"1\" class=\"dataframe\">\n",
       "  <thead>\n",
       "    <tr style=\"text-align: right;\">\n",
       "      <th></th>\n",
       "      <th>A</th>\n",
       "      <th>B</th>\n",
       "    </tr>\n",
       "  </thead>\n",
       "  <tbody>\n",
       "    <tr>\n",
       "      <th>0</th>\n",
       "      <td>1.279484</td>\n",
       "      <td>-1.285524</td>\n",
       "    </tr>\n",
       "    <tr>\n",
       "      <th>1</th>\n",
       "      <td>0.157297</td>\n",
       "      <td>-0.632505</td>\n",
       "    </tr>\n",
       "    <tr>\n",
       "      <th>2</th>\n",
       "      <td>-1.648124</td>\n",
       "      <td>0.075721</td>\n",
       "    </tr>\n",
       "    <tr>\n",
       "      <th>3</th>\n",
       "      <td>0.499915</td>\n",
       "      <td>2.543794</td>\n",
       "    </tr>\n",
       "    <tr>\n",
       "      <th>4</th>\n",
       "      <td>0.912736</td>\n",
       "      <td>0.966964</td>\n",
       "    </tr>\n",
       "    <tr>\n",
       "      <th>5</th>\n",
       "      <td>-0.499517</td>\n",
       "      <td>0.564399</td>\n",
       "    </tr>\n",
       "    <tr>\n",
       "      <th>6</th>\n",
       "      <td>0.519285</td>\n",
       "      <td>-0.379767</td>\n",
       "    </tr>\n",
       "    <tr>\n",
       "      <th>7</th>\n",
       "      <td>1.167475</td>\n",
       "      <td>-0.160600</td>\n",
       "    </tr>\n",
       "    <tr>\n",
       "      <th>8</th>\n",
       "      <td>-1.737394</td>\n",
       "      <td>-0.053698</td>\n",
       "    </tr>\n",
       "    <tr>\n",
       "      <th>9</th>\n",
       "      <td>-0.015865</td>\n",
       "      <td>0.912084</td>\n",
       "    </tr>\n",
       "    <tr>\n",
       "      <th>10</th>\n",
       "      <td>-0.003309</td>\n",
       "      <td>-0.195002</td>\n",
       "    </tr>\n",
       "    <tr>\n",
       "      <th>11</th>\n",
       "      <td>0.239074</td>\n",
       "      <td>-0.541387</td>\n",
       "    </tr>\n",
       "    <tr>\n",
       "      <th>12</th>\n",
       "      <td>0.338840</td>\n",
       "      <td>0.682668</td>\n",
       "    </tr>\n",
       "    <tr>\n",
       "      <th>13</th>\n",
       "      <td>0.656998</td>\n",
       "      <td>-0.092934</td>\n",
       "    </tr>\n",
       "    <tr>\n",
       "      <th>14</th>\n",
       "      <td>-1.458603</td>\n",
       "      <td>-0.497295</td>\n",
       "    </tr>\n",
       "    <tr>\n",
       "      <th>15</th>\n",
       "      <td>-1.085803</td>\n",
       "      <td>0.775723</td>\n",
       "    </tr>\n",
       "    <tr>\n",
       "      <th>16</th>\n",
       "      <td>0.023574</td>\n",
       "      <td>-1.056524</td>\n",
       "    </tr>\n",
       "    <tr>\n",
       "      <th>17</th>\n",
       "      <td>-1.205735</td>\n",
       "      <td>-0.595994</td>\n",
       "    </tr>\n",
       "    <tr>\n",
       "      <th>18</th>\n",
       "      <td>0.067652</td>\n",
       "      <td>1.245455</td>\n",
       "    </tr>\n",
       "    <tr>\n",
       "      <th>19</th>\n",
       "      <td>-0.967207</td>\n",
       "      <td>0.655369</td>\n",
       "    </tr>\n",
       "  </tbody>\n",
       "</table>\n",
       "</div>"
      ],
      "text/plain": [
       "           A         B\n",
       "0   1.279484 -1.285524\n",
       "1   0.157297 -0.632505\n",
       "2  -1.648124  0.075721\n",
       "3   0.499915  2.543794\n",
       "4   0.912736  0.966964\n",
       "5  -0.499517  0.564399\n",
       "6   0.519285 -0.379767\n",
       "7   1.167475 -0.160600\n",
       "8  -1.737394 -0.053698\n",
       "9  -0.015865  0.912084\n",
       "10 -0.003309 -0.195002\n",
       "11  0.239074 -0.541387\n",
       "12  0.338840  0.682668\n",
       "13  0.656998 -0.092934\n",
       "14 -1.458603 -0.497295\n",
       "15 -1.085803  0.775723\n",
       "16  0.023574 -1.056524\n",
       "17 -1.205735 -0.595994\n",
       "18  0.067652  1.245455\n",
       "19 -0.967207  0.655369"
      ]
     },
     "execution_count": 79,
     "metadata": {},
     "output_type": "execute_result"
    }
   ],
   "source": [
    "df = pd.DataFrame(data, index=range(20),columns=['A','B'])\n",
    "df"
   ]
  },
  {
   "cell_type": "code",
   "execution_count": 80,
   "metadata": {},
   "outputs": [
    {
     "data": {
      "text/plain": [
       "A    float64\n",
       "B    float64\n",
       "dtype: object"
      ]
     },
     "execution_count": 80,
     "metadata": {},
     "output_type": "execute_result"
    }
   ],
   "source": [
    "df.dtypes"
   ]
  },
  {
   "cell_type": "markdown",
   "metadata": {},
   "source": [
    "### Exploring Data"
   ]
  },
  {
   "cell_type": "markdown",
   "metadata": {},
   "source": [
    "##### Head"
   ]
  },
  {
   "cell_type": "markdown",
   "metadata": {},
   "source": [
    "In python by default the first 5 rows are printed , unlike first 6 in R"
   ]
  },
  {
   "cell_type": "code",
   "execution_count": 81,
   "metadata": {},
   "outputs": [
    {
     "data": {
      "text/html": [
       "<div>\n",
       "<style scoped>\n",
       "    .dataframe tbody tr th:only-of-type {\n",
       "        vertical-align: middle;\n",
       "    }\n",
       "\n",
       "    .dataframe tbody tr th {\n",
       "        vertical-align: top;\n",
       "    }\n",
       "\n",
       "    .dataframe thead th {\n",
       "        text-align: right;\n",
       "    }\n",
       "</style>\n",
       "<table border=\"1\" class=\"dataframe\">\n",
       "  <thead>\n",
       "    <tr style=\"text-align: right;\">\n",
       "      <th></th>\n",
       "      <th>A</th>\n",
       "      <th>B</th>\n",
       "    </tr>\n",
       "  </thead>\n",
       "  <tbody>\n",
       "    <tr>\n",
       "      <th>0</th>\n",
       "      <td>1.279484</td>\n",
       "      <td>-1.285524</td>\n",
       "    </tr>\n",
       "    <tr>\n",
       "      <th>1</th>\n",
       "      <td>0.157297</td>\n",
       "      <td>-0.632505</td>\n",
       "    </tr>\n",
       "    <tr>\n",
       "      <th>2</th>\n",
       "      <td>-1.648124</td>\n",
       "      <td>0.075721</td>\n",
       "    </tr>\n",
       "    <tr>\n",
       "      <th>3</th>\n",
       "      <td>0.499915</td>\n",
       "      <td>2.543794</td>\n",
       "    </tr>\n",
       "    <tr>\n",
       "      <th>4</th>\n",
       "      <td>0.912736</td>\n",
       "      <td>0.966964</td>\n",
       "    </tr>\n",
       "  </tbody>\n",
       "</table>\n",
       "</div>"
      ],
      "text/plain": [
       "          A         B\n",
       "0  1.279484 -1.285524\n",
       "1  0.157297 -0.632505\n",
       "2 -1.648124  0.075721\n",
       "3  0.499915  2.543794\n",
       "4  0.912736  0.966964"
      ]
     },
     "execution_count": 81,
     "metadata": {},
     "output_type": "execute_result"
    }
   ],
   "source": [
    "df.head()"
   ]
  },
  {
   "cell_type": "code",
   "execution_count": 82,
   "metadata": {},
   "outputs": [
    {
     "data": {
      "text/html": [
       "<div>\n",
       "<style scoped>\n",
       "    .dataframe tbody tr th:only-of-type {\n",
       "        vertical-align: middle;\n",
       "    }\n",
       "\n",
       "    .dataframe tbody tr th {\n",
       "        vertical-align: top;\n",
       "    }\n",
       "\n",
       "    .dataframe thead th {\n",
       "        text-align: right;\n",
       "    }\n",
       "</style>\n",
       "<table border=\"1\" class=\"dataframe\">\n",
       "  <thead>\n",
       "    <tr style=\"text-align: right;\">\n",
       "      <th></th>\n",
       "      <th>A</th>\n",
       "      <th>B</th>\n",
       "    </tr>\n",
       "  </thead>\n",
       "  <tbody>\n",
       "    <tr>\n",
       "      <th>0</th>\n",
       "      <td>1.279484</td>\n",
       "      <td>-1.285524</td>\n",
       "    </tr>\n",
       "    <tr>\n",
       "      <th>1</th>\n",
       "      <td>0.157297</td>\n",
       "      <td>-0.632505</td>\n",
       "    </tr>\n",
       "    <tr>\n",
       "      <th>2</th>\n",
       "      <td>-1.648124</td>\n",
       "      <td>0.075721</td>\n",
       "    </tr>\n",
       "    <tr>\n",
       "      <th>3</th>\n",
       "      <td>0.499915</td>\n",
       "      <td>2.543794</td>\n",
       "    </tr>\n",
       "    <tr>\n",
       "      <th>4</th>\n",
       "      <td>0.912736</td>\n",
       "      <td>0.966964</td>\n",
       "    </tr>\n",
       "  </tbody>\n",
       "</table>\n",
       "</div>"
      ],
      "text/plain": [
       "          A         B\n",
       "0  1.279484 -1.285524\n",
       "1  0.157297 -0.632505\n",
       "2 -1.648124  0.075721\n",
       "3  0.499915  2.543794\n",
       "4  0.912736  0.966964"
      ]
     },
     "execution_count": 82,
     "metadata": {},
     "output_type": "execute_result"
    }
   ],
   "source": [
    "df.iloc[0:5,0:5]"
   ]
  },
  {
   "cell_type": "markdown",
   "metadata": {},
   "source": [
    "###### In python by default the last 5 rows are printed , unlike first 6 in R"
   ]
  },
  {
   "cell_type": "code",
   "execution_count": 83,
   "metadata": {},
   "outputs": [
    {
     "data": {
      "text/html": [
       "<div>\n",
       "<style scoped>\n",
       "    .dataframe tbody tr th:only-of-type {\n",
       "        vertical-align: middle;\n",
       "    }\n",
       "\n",
       "    .dataframe tbody tr th {\n",
       "        vertical-align: top;\n",
       "    }\n",
       "\n",
       "    .dataframe thead th {\n",
       "        text-align: right;\n",
       "    }\n",
       "</style>\n",
       "<table border=\"1\" class=\"dataframe\">\n",
       "  <thead>\n",
       "    <tr style=\"text-align: right;\">\n",
       "      <th></th>\n",
       "      <th>A</th>\n",
       "      <th>B</th>\n",
       "    </tr>\n",
       "  </thead>\n",
       "  <tbody>\n",
       "    <tr>\n",
       "      <th>15</th>\n",
       "      <td>-1.085803</td>\n",
       "      <td>0.775723</td>\n",
       "    </tr>\n",
       "    <tr>\n",
       "      <th>16</th>\n",
       "      <td>0.023574</td>\n",
       "      <td>-1.056524</td>\n",
       "    </tr>\n",
       "    <tr>\n",
       "      <th>17</th>\n",
       "      <td>-1.205735</td>\n",
       "      <td>-0.595994</td>\n",
       "    </tr>\n",
       "    <tr>\n",
       "      <th>18</th>\n",
       "      <td>0.067652</td>\n",
       "      <td>1.245455</td>\n",
       "    </tr>\n",
       "    <tr>\n",
       "      <th>19</th>\n",
       "      <td>-0.967207</td>\n",
       "      <td>0.655369</td>\n",
       "    </tr>\n",
       "  </tbody>\n",
       "</table>\n",
       "</div>"
      ],
      "text/plain": [
       "           A         B\n",
       "15 -1.085803  0.775723\n",
       "16  0.023574 -1.056524\n",
       "17 -1.205735 -0.595994\n",
       "18  0.067652  1.245455\n",
       "19 -0.967207  0.655369"
      ]
     },
     "execution_count": 83,
     "metadata": {},
     "output_type": "execute_result"
    }
   ],
   "source": [
    "df.tail()"
   ]
  },
  {
   "cell_type": "code",
   "execution_count": 84,
   "metadata": {},
   "outputs": [
    {
     "data": {
      "text/html": [
       "<div>\n",
       "<style scoped>\n",
       "    .dataframe tbody tr th:only-of-type {\n",
       "        vertical-align: middle;\n",
       "    }\n",
       "\n",
       "    .dataframe tbody tr th {\n",
       "        vertical-align: top;\n",
       "    }\n",
       "\n",
       "    .dataframe thead th {\n",
       "        text-align: right;\n",
       "    }\n",
       "</style>\n",
       "<table border=\"1\" class=\"dataframe\">\n",
       "  <thead>\n",
       "    <tr style=\"text-align: right;\">\n",
       "      <th></th>\n",
       "      <th>A</th>\n",
       "      <th>B</th>\n",
       "    </tr>\n",
       "  </thead>\n",
       "  <tbody>\n",
       "    <tr>\n",
       "      <th>15</th>\n",
       "      <td>-1.085803</td>\n",
       "      <td>0.775723</td>\n",
       "    </tr>\n",
       "    <tr>\n",
       "      <th>16</th>\n",
       "      <td>0.023574</td>\n",
       "      <td>-1.056524</td>\n",
       "    </tr>\n",
       "    <tr>\n",
       "      <th>17</th>\n",
       "      <td>-1.205735</td>\n",
       "      <td>-0.595994</td>\n",
       "    </tr>\n",
       "    <tr>\n",
       "      <th>18</th>\n",
       "      <td>0.067652</td>\n",
       "      <td>1.245455</td>\n",
       "    </tr>\n",
       "    <tr>\n",
       "      <th>19</th>\n",
       "      <td>-0.967207</td>\n",
       "      <td>0.655369</td>\n",
       "    </tr>\n",
       "  </tbody>\n",
       "</table>\n",
       "</div>"
      ],
      "text/plain": [
       "           A         B\n",
       "15 -1.085803  0.775723\n",
       "16  0.023574 -1.056524\n",
       "17 -1.205735 -0.595994\n",
       "18  0.067652  1.245455\n",
       "19 -0.967207  0.655369"
      ]
     },
     "execution_count": 84,
     "metadata": {},
     "output_type": "execute_result"
    }
   ],
   "source": [
    "df.iloc[-5:,-5:]"
   ]
  },
  {
   "cell_type": "markdown",
   "metadata": {},
   "source": [
    "### Index"
   ]
  },
  {
   "cell_type": "code",
   "execution_count": 85,
   "metadata": {},
   "outputs": [
    {
     "data": {
      "text/plain": [
       "RangeIndex(start=0, stop=20, step=1)"
      ]
     },
     "execution_count": 85,
     "metadata": {},
     "output_type": "execute_result"
    }
   ],
   "source": [
    "df.index"
   ]
  },
  {
   "cell_type": "markdown",
   "metadata": {},
   "source": [
    "#####  Column Names"
   ]
  },
  {
   "cell_type": "code",
   "execution_count": 86,
   "metadata": {},
   "outputs": [
    {
     "data": {
      "text/plain": [
       "Index(['A', 'B'], dtype='object')"
      ]
     },
     "execution_count": 86,
     "metadata": {},
     "output_type": "execute_result"
    }
   ],
   "source": [
    "df.columns"
   ]
  },
  {
   "cell_type": "markdown",
   "metadata": {},
   "source": [
    "###### Dataframe values"
   ]
  },
  {
   "cell_type": "code",
   "execution_count": 87,
   "metadata": {},
   "outputs": [
    {
     "data": {
      "text/plain": [
       "array([[ 1.27948388, -1.28552402],\n",
       "       [ 0.15729701, -0.63250541],\n",
       "       [-1.64812358,  0.07572112],\n",
       "       [ 0.49991526,  2.5437941 ],\n",
       "       [ 0.91273573,  0.96696431],\n",
       "       [-0.49951654,  0.56439872],\n",
       "       [ 0.51928487, -0.37976706],\n",
       "       [ 1.16747499, -0.16059956],\n",
       "       [-1.73739413, -0.05369831],\n",
       "       [-0.0158653 ,  0.91208434],\n",
       "       [-0.00330923, -0.19500195],\n",
       "       [ 0.23907418, -0.54138664],\n",
       "       [ 0.33884001,  0.68266766],\n",
       "       [ 0.65699816, -0.09293382],\n",
       "       [-1.45860323, -0.49729495],\n",
       "       [-1.08580252,  0.77572291],\n",
       "       [ 0.02357373, -1.05652414],\n",
       "       [-1.20573485, -0.59599354],\n",
       "       [ 0.06765172,  1.24545477],\n",
       "       [-0.96720663,  0.65536936]])"
      ]
     },
     "execution_count": 87,
     "metadata": {},
     "output_type": "execute_result"
    }
   ],
   "source": [
    "df.values"
   ]
  },
  {
   "cell_type": "markdown",
   "metadata": {},
   "source": [
    "###### Describe shows a quick statistic summary of your data"
   ]
  },
  {
   "cell_type": "code",
   "execution_count": 88,
   "metadata": {},
   "outputs": [
    {
     "data": {
      "text/html": [
       "<div>\n",
       "<style scoped>\n",
       "    .dataframe tbody tr th:only-of-type {\n",
       "        vertical-align: middle;\n",
       "    }\n",
       "\n",
       "    .dataframe tbody tr th {\n",
       "        vertical-align: top;\n",
       "    }\n",
       "\n",
       "    .dataframe thead th {\n",
       "        text-align: right;\n",
       "    }\n",
       "</style>\n",
       "<table border=\"1\" class=\"dataframe\">\n",
       "  <thead>\n",
       "    <tr style=\"text-align: right;\">\n",
       "      <th></th>\n",
       "      <th>A</th>\n",
       "      <th>B</th>\n",
       "    </tr>\n",
       "  </thead>\n",
       "  <tbody>\n",
       "    <tr>\n",
       "      <th>count</th>\n",
       "      <td>20.000000</td>\n",
       "      <td>20.000000</td>\n",
       "    </tr>\n",
       "    <tr>\n",
       "      <th>mean</th>\n",
       "      <td>-0.137961</td>\n",
       "      <td>0.146547</td>\n",
       "    </tr>\n",
       "    <tr>\n",
       "      <th>std</th>\n",
       "      <td>0.925827</td>\n",
       "      <td>0.902192</td>\n",
       "    </tr>\n",
       "    <tr>\n",
       "      <th>min</th>\n",
       "      <td>-1.737394</td>\n",
       "      <td>-1.285524</td>\n",
       "    </tr>\n",
       "    <tr>\n",
       "      <th>25%</th>\n",
       "      <td>-0.996856</td>\n",
       "      <td>-0.508318</td>\n",
       "    </tr>\n",
       "    <tr>\n",
       "      <th>50%</th>\n",
       "      <td>0.045613</td>\n",
       "      <td>-0.073316</td>\n",
       "    </tr>\n",
       "    <tr>\n",
       "      <th>75%</th>\n",
       "      <td>0.504758</td>\n",
       "      <td>0.705931</td>\n",
       "    </tr>\n",
       "    <tr>\n",
       "      <th>max</th>\n",
       "      <td>1.279484</td>\n",
       "      <td>2.543794</td>\n",
       "    </tr>\n",
       "  </tbody>\n",
       "</table>\n",
       "</div>"
      ],
      "text/plain": [
       "               A          B\n",
       "count  20.000000  20.000000\n",
       "mean   -0.137961   0.146547\n",
       "std     0.925827   0.902192\n",
       "min    -1.737394  -1.285524\n",
       "25%    -0.996856  -0.508318\n",
       "50%     0.045613  -0.073316\n",
       "75%     0.504758   0.705931\n",
       "max     1.279484   2.543794"
      ]
     },
     "execution_count": 88,
     "metadata": {},
     "output_type": "execute_result"
    }
   ],
   "source": [
    "df.describe() # similar to summary() in R"
   ]
  },
  {
   "cell_type": "markdown",
   "metadata": {},
   "source": [
    "###### Transposing your data"
   ]
  },
  {
   "cell_type": "code",
   "execution_count": 89,
   "metadata": {},
   "outputs": [
    {
     "data": {
      "text/html": [
       "<div>\n",
       "<style scoped>\n",
       "    .dataframe tbody tr th:only-of-type {\n",
       "        vertical-align: middle;\n",
       "    }\n",
       "\n",
       "    .dataframe tbody tr th {\n",
       "        vertical-align: top;\n",
       "    }\n",
       "\n",
       "    .dataframe thead th {\n",
       "        text-align: right;\n",
       "    }\n",
       "</style>\n",
       "<table border=\"1\" class=\"dataframe\">\n",
       "  <thead>\n",
       "    <tr style=\"text-align: right;\">\n",
       "      <th></th>\n",
       "      <th>0</th>\n",
       "      <th>1</th>\n",
       "      <th>2</th>\n",
       "      <th>3</th>\n",
       "      <th>4</th>\n",
       "      <th>5</th>\n",
       "      <th>6</th>\n",
       "      <th>7</th>\n",
       "      <th>8</th>\n",
       "      <th>9</th>\n",
       "      <th>10</th>\n",
       "      <th>11</th>\n",
       "      <th>12</th>\n",
       "      <th>13</th>\n",
       "      <th>14</th>\n",
       "      <th>15</th>\n",
       "      <th>16</th>\n",
       "      <th>17</th>\n",
       "      <th>18</th>\n",
       "      <th>19</th>\n",
       "    </tr>\n",
       "  </thead>\n",
       "  <tbody>\n",
       "    <tr>\n",
       "      <th>A</th>\n",
       "      <td>1.279484</td>\n",
       "      <td>0.157297</td>\n",
       "      <td>-1.648124</td>\n",
       "      <td>0.499915</td>\n",
       "      <td>0.912736</td>\n",
       "      <td>-0.499517</td>\n",
       "      <td>0.519285</td>\n",
       "      <td>1.167475</td>\n",
       "      <td>-1.737394</td>\n",
       "      <td>-0.015865</td>\n",
       "      <td>-0.003309</td>\n",
       "      <td>0.239074</td>\n",
       "      <td>0.338840</td>\n",
       "      <td>0.656998</td>\n",
       "      <td>-1.458603</td>\n",
       "      <td>-1.085803</td>\n",
       "      <td>0.023574</td>\n",
       "      <td>-1.205735</td>\n",
       "      <td>0.067652</td>\n",
       "      <td>-0.967207</td>\n",
       "    </tr>\n",
       "    <tr>\n",
       "      <th>B</th>\n",
       "      <td>-1.285524</td>\n",
       "      <td>-0.632505</td>\n",
       "      <td>0.075721</td>\n",
       "      <td>2.543794</td>\n",
       "      <td>0.966964</td>\n",
       "      <td>0.564399</td>\n",
       "      <td>-0.379767</td>\n",
       "      <td>-0.160600</td>\n",
       "      <td>-0.053698</td>\n",
       "      <td>0.912084</td>\n",
       "      <td>-0.195002</td>\n",
       "      <td>-0.541387</td>\n",
       "      <td>0.682668</td>\n",
       "      <td>-0.092934</td>\n",
       "      <td>-0.497295</td>\n",
       "      <td>0.775723</td>\n",
       "      <td>-1.056524</td>\n",
       "      <td>-0.595994</td>\n",
       "      <td>1.245455</td>\n",
       "      <td>0.655369</td>\n",
       "    </tr>\n",
       "  </tbody>\n",
       "</table>\n",
       "</div>"
      ],
      "text/plain": [
       "         0         1         2         3         4         5         6   \\\n",
       "A  1.279484  0.157297 -1.648124  0.499915  0.912736 -0.499517  0.519285   \n",
       "B -1.285524 -0.632505  0.075721  2.543794  0.966964  0.564399 -0.379767   \n",
       "\n",
       "         7         8         9         10        11        12        13  \\\n",
       "A  1.167475 -1.737394 -0.015865 -0.003309  0.239074  0.338840  0.656998   \n",
       "B -0.160600 -0.053698  0.912084 -0.195002 -0.541387  0.682668 -0.092934   \n",
       "\n",
       "         14        15        16        17        18        19  \n",
       "A -1.458603 -1.085803  0.023574 -1.205735  0.067652 -0.967207  \n",
       "B -0.497295  0.775723 -1.056524 -0.595994  1.245455  0.655369  "
      ]
     },
     "execution_count": 89,
     "metadata": {},
     "output_type": "execute_result"
    }
   ],
   "source": [
    "df.T"
   ]
  },
  {
   "cell_type": "markdown",
   "metadata": {},
   "source": [
    "## Sorting by an axis"
   ]
  },
  {
   "cell_type": "code",
   "execution_count": 90,
   "metadata": {},
   "outputs": [
    {
     "data": {
      "text/html": [
       "<div>\n",
       "<style scoped>\n",
       "    .dataframe tbody tr th:only-of-type {\n",
       "        vertical-align: middle;\n",
       "    }\n",
       "\n",
       "    .dataframe tbody tr th {\n",
       "        vertical-align: top;\n",
       "    }\n",
       "\n",
       "    .dataframe thead th {\n",
       "        text-align: right;\n",
       "    }\n",
       "</style>\n",
       "<table border=\"1\" class=\"dataframe\">\n",
       "  <thead>\n",
       "    <tr style=\"text-align: right;\">\n",
       "      <th></th>\n",
       "      <th>A</th>\n",
       "      <th>B</th>\n",
       "    </tr>\n",
       "  </thead>\n",
       "  <tbody>\n",
       "    <tr>\n",
       "      <th>19</th>\n",
       "      <td>-0.967207</td>\n",
       "      <td>0.655369</td>\n",
       "    </tr>\n",
       "    <tr>\n",
       "      <th>18</th>\n",
       "      <td>0.067652</td>\n",
       "      <td>1.245455</td>\n",
       "    </tr>\n",
       "    <tr>\n",
       "      <th>17</th>\n",
       "      <td>-1.205735</td>\n",
       "      <td>-0.595994</td>\n",
       "    </tr>\n",
       "    <tr>\n",
       "      <th>16</th>\n",
       "      <td>0.023574</td>\n",
       "      <td>-1.056524</td>\n",
       "    </tr>\n",
       "    <tr>\n",
       "      <th>15</th>\n",
       "      <td>-1.085803</td>\n",
       "      <td>0.775723</td>\n",
       "    </tr>\n",
       "    <tr>\n",
       "      <th>14</th>\n",
       "      <td>-1.458603</td>\n",
       "      <td>-0.497295</td>\n",
       "    </tr>\n",
       "    <tr>\n",
       "      <th>13</th>\n",
       "      <td>0.656998</td>\n",
       "      <td>-0.092934</td>\n",
       "    </tr>\n",
       "    <tr>\n",
       "      <th>12</th>\n",
       "      <td>0.338840</td>\n",
       "      <td>0.682668</td>\n",
       "    </tr>\n",
       "    <tr>\n",
       "      <th>11</th>\n",
       "      <td>0.239074</td>\n",
       "      <td>-0.541387</td>\n",
       "    </tr>\n",
       "    <tr>\n",
       "      <th>10</th>\n",
       "      <td>-0.003309</td>\n",
       "      <td>-0.195002</td>\n",
       "    </tr>\n",
       "    <tr>\n",
       "      <th>9</th>\n",
       "      <td>-0.015865</td>\n",
       "      <td>0.912084</td>\n",
       "    </tr>\n",
       "    <tr>\n",
       "      <th>8</th>\n",
       "      <td>-1.737394</td>\n",
       "      <td>-0.053698</td>\n",
       "    </tr>\n",
       "    <tr>\n",
       "      <th>7</th>\n",
       "      <td>1.167475</td>\n",
       "      <td>-0.160600</td>\n",
       "    </tr>\n",
       "    <tr>\n",
       "      <th>6</th>\n",
       "      <td>0.519285</td>\n",
       "      <td>-0.379767</td>\n",
       "    </tr>\n",
       "    <tr>\n",
       "      <th>5</th>\n",
       "      <td>-0.499517</td>\n",
       "      <td>0.564399</td>\n",
       "    </tr>\n",
       "    <tr>\n",
       "      <th>4</th>\n",
       "      <td>0.912736</td>\n",
       "      <td>0.966964</td>\n",
       "    </tr>\n",
       "    <tr>\n",
       "      <th>3</th>\n",
       "      <td>0.499915</td>\n",
       "      <td>2.543794</td>\n",
       "    </tr>\n",
       "    <tr>\n",
       "      <th>2</th>\n",
       "      <td>-1.648124</td>\n",
       "      <td>0.075721</td>\n",
       "    </tr>\n",
       "    <tr>\n",
       "      <th>1</th>\n",
       "      <td>0.157297</td>\n",
       "      <td>-0.632505</td>\n",
       "    </tr>\n",
       "    <tr>\n",
       "      <th>0</th>\n",
       "      <td>1.279484</td>\n",
       "      <td>-1.285524</td>\n",
       "    </tr>\n",
       "  </tbody>\n",
       "</table>\n",
       "</div>"
      ],
      "text/plain": [
       "           A         B\n",
       "19 -0.967207  0.655369\n",
       "18  0.067652  1.245455\n",
       "17 -1.205735 -0.595994\n",
       "16  0.023574 -1.056524\n",
       "15 -1.085803  0.775723\n",
       "14 -1.458603 -0.497295\n",
       "13  0.656998 -0.092934\n",
       "12  0.338840  0.682668\n",
       "11  0.239074 -0.541387\n",
       "10 -0.003309 -0.195002\n",
       "9  -0.015865  0.912084\n",
       "8  -1.737394 -0.053698\n",
       "7   1.167475 -0.160600\n",
       "6   0.519285 -0.379767\n",
       "5  -0.499517  0.564399\n",
       "4   0.912736  0.966964\n",
       "3   0.499915  2.543794\n",
       "2  -1.648124  0.075721\n",
       "1   0.157297 -0.632505\n",
       "0   1.279484 -1.285524"
      ]
     },
     "execution_count": 90,
     "metadata": {},
     "output_type": "execute_result"
    }
   ],
   "source": [
    "df.sort_index(ascending=False) # based on rows , default tries to sort the index"
   ]
  },
  {
   "cell_type": "markdown",
   "metadata": {},
   "source": [
    "##### If we want to sort out dataframe based on a single column"
   ]
  },
  {
   "cell_type": "code",
   "execution_count": 91,
   "metadata": {},
   "outputs": [
    {
     "name": "stderr",
     "output_type": "stream",
     "text": [
      "C:\\Users\\ISE\\Anaconda3\\lib\\site-packages\\ipykernel_launcher.py:1: FutureWarning: by argument to sort_index is deprecated, please use .sort_values(by=...)\n",
      "  \"\"\"Entry point for launching an IPython kernel.\n"
     ]
    },
    {
     "data": {
      "text/html": [
       "<div>\n",
       "<style scoped>\n",
       "    .dataframe tbody tr th:only-of-type {\n",
       "        vertical-align: middle;\n",
       "    }\n",
       "\n",
       "    .dataframe tbody tr th {\n",
       "        vertical-align: top;\n",
       "    }\n",
       "\n",
       "    .dataframe thead th {\n",
       "        text-align: right;\n",
       "    }\n",
       "</style>\n",
       "<table border=\"1\" class=\"dataframe\">\n",
       "  <thead>\n",
       "    <tr style=\"text-align: right;\">\n",
       "      <th></th>\n",
       "      <th>A</th>\n",
       "      <th>B</th>\n",
       "    </tr>\n",
       "  </thead>\n",
       "  <tbody>\n",
       "    <tr>\n",
       "      <th>0</th>\n",
       "      <td>1.279484</td>\n",
       "      <td>-1.285524</td>\n",
       "    </tr>\n",
       "    <tr>\n",
       "      <th>7</th>\n",
       "      <td>1.167475</td>\n",
       "      <td>-0.160600</td>\n",
       "    </tr>\n",
       "    <tr>\n",
       "      <th>4</th>\n",
       "      <td>0.912736</td>\n",
       "      <td>0.966964</td>\n",
       "    </tr>\n",
       "    <tr>\n",
       "      <th>13</th>\n",
       "      <td>0.656998</td>\n",
       "      <td>-0.092934</td>\n",
       "    </tr>\n",
       "    <tr>\n",
       "      <th>6</th>\n",
       "      <td>0.519285</td>\n",
       "      <td>-0.379767</td>\n",
       "    </tr>\n",
       "    <tr>\n",
       "      <th>3</th>\n",
       "      <td>0.499915</td>\n",
       "      <td>2.543794</td>\n",
       "    </tr>\n",
       "    <tr>\n",
       "      <th>12</th>\n",
       "      <td>0.338840</td>\n",
       "      <td>0.682668</td>\n",
       "    </tr>\n",
       "    <tr>\n",
       "      <th>11</th>\n",
       "      <td>0.239074</td>\n",
       "      <td>-0.541387</td>\n",
       "    </tr>\n",
       "    <tr>\n",
       "      <th>1</th>\n",
       "      <td>0.157297</td>\n",
       "      <td>-0.632505</td>\n",
       "    </tr>\n",
       "    <tr>\n",
       "      <th>18</th>\n",
       "      <td>0.067652</td>\n",
       "      <td>1.245455</td>\n",
       "    </tr>\n",
       "    <tr>\n",
       "      <th>16</th>\n",
       "      <td>0.023574</td>\n",
       "      <td>-1.056524</td>\n",
       "    </tr>\n",
       "    <tr>\n",
       "      <th>10</th>\n",
       "      <td>-0.003309</td>\n",
       "      <td>-0.195002</td>\n",
       "    </tr>\n",
       "    <tr>\n",
       "      <th>9</th>\n",
       "      <td>-0.015865</td>\n",
       "      <td>0.912084</td>\n",
       "    </tr>\n",
       "    <tr>\n",
       "      <th>5</th>\n",
       "      <td>-0.499517</td>\n",
       "      <td>0.564399</td>\n",
       "    </tr>\n",
       "    <tr>\n",
       "      <th>19</th>\n",
       "      <td>-0.967207</td>\n",
       "      <td>0.655369</td>\n",
       "    </tr>\n",
       "    <tr>\n",
       "      <th>15</th>\n",
       "      <td>-1.085803</td>\n",
       "      <td>0.775723</td>\n",
       "    </tr>\n",
       "    <tr>\n",
       "      <th>17</th>\n",
       "      <td>-1.205735</td>\n",
       "      <td>-0.595994</td>\n",
       "    </tr>\n",
       "    <tr>\n",
       "      <th>14</th>\n",
       "      <td>-1.458603</td>\n",
       "      <td>-0.497295</td>\n",
       "    </tr>\n",
       "    <tr>\n",
       "      <th>2</th>\n",
       "      <td>-1.648124</td>\n",
       "      <td>0.075721</td>\n",
       "    </tr>\n",
       "    <tr>\n",
       "      <th>8</th>\n",
       "      <td>-1.737394</td>\n",
       "      <td>-0.053698</td>\n",
       "    </tr>\n",
       "  </tbody>\n",
       "</table>\n",
       "</div>"
      ],
      "text/plain": [
       "           A         B\n",
       "0   1.279484 -1.285524\n",
       "7   1.167475 -0.160600\n",
       "4   0.912736  0.966964\n",
       "13  0.656998 -0.092934\n",
       "6   0.519285 -0.379767\n",
       "3   0.499915  2.543794\n",
       "12  0.338840  0.682668\n",
       "11  0.239074 -0.541387\n",
       "1   0.157297 -0.632505\n",
       "18  0.067652  1.245455\n",
       "16  0.023574 -1.056524\n",
       "10 -0.003309 -0.195002\n",
       "9  -0.015865  0.912084\n",
       "5  -0.499517  0.564399\n",
       "19 -0.967207  0.655369\n",
       "15 -1.085803  0.775723\n",
       "17 -1.205735 -0.595994\n",
       "14 -1.458603 -0.497295\n",
       "2  -1.648124  0.075721\n",
       "8  -1.737394 -0.053698"
      ]
     },
     "execution_count": 91,
     "metadata": {},
     "output_type": "execute_result"
    }
   ],
   "source": [
    "df.sort_index(axis=0, ascending=False,by='A')"
   ]
  },
  {
   "cell_type": "code",
   "execution_count": 92,
   "metadata": {},
   "outputs": [
    {
     "data": {
      "text/html": [
       "<div>\n",
       "<style scoped>\n",
       "    .dataframe tbody tr th:only-of-type {\n",
       "        vertical-align: middle;\n",
       "    }\n",
       "\n",
       "    .dataframe tbody tr th {\n",
       "        vertical-align: top;\n",
       "    }\n",
       "\n",
       "    .dataframe thead th {\n",
       "        text-align: right;\n",
       "    }\n",
       "</style>\n",
       "<table border=\"1\" class=\"dataframe\">\n",
       "  <thead>\n",
       "    <tr style=\"text-align: right;\">\n",
       "      <th></th>\n",
       "      <th>B</th>\n",
       "      <th>A</th>\n",
       "    </tr>\n",
       "  </thead>\n",
       "  <tbody>\n",
       "    <tr>\n",
       "      <th>0</th>\n",
       "      <td>-1.285524</td>\n",
       "      <td>1.279484</td>\n",
       "    </tr>\n",
       "    <tr>\n",
       "      <th>1</th>\n",
       "      <td>-0.632505</td>\n",
       "      <td>0.157297</td>\n",
       "    </tr>\n",
       "    <tr>\n",
       "      <th>2</th>\n",
       "      <td>0.075721</td>\n",
       "      <td>-1.648124</td>\n",
       "    </tr>\n",
       "    <tr>\n",
       "      <th>3</th>\n",
       "      <td>2.543794</td>\n",
       "      <td>0.499915</td>\n",
       "    </tr>\n",
       "    <tr>\n",
       "      <th>4</th>\n",
       "      <td>0.966964</td>\n",
       "      <td>0.912736</td>\n",
       "    </tr>\n",
       "    <tr>\n",
       "      <th>5</th>\n",
       "      <td>0.564399</td>\n",
       "      <td>-0.499517</td>\n",
       "    </tr>\n",
       "    <tr>\n",
       "      <th>6</th>\n",
       "      <td>-0.379767</td>\n",
       "      <td>0.519285</td>\n",
       "    </tr>\n",
       "    <tr>\n",
       "      <th>7</th>\n",
       "      <td>-0.160600</td>\n",
       "      <td>1.167475</td>\n",
       "    </tr>\n",
       "    <tr>\n",
       "      <th>8</th>\n",
       "      <td>-0.053698</td>\n",
       "      <td>-1.737394</td>\n",
       "    </tr>\n",
       "    <tr>\n",
       "      <th>9</th>\n",
       "      <td>0.912084</td>\n",
       "      <td>-0.015865</td>\n",
       "    </tr>\n",
       "    <tr>\n",
       "      <th>10</th>\n",
       "      <td>-0.195002</td>\n",
       "      <td>-0.003309</td>\n",
       "    </tr>\n",
       "    <tr>\n",
       "      <th>11</th>\n",
       "      <td>-0.541387</td>\n",
       "      <td>0.239074</td>\n",
       "    </tr>\n",
       "    <tr>\n",
       "      <th>12</th>\n",
       "      <td>0.682668</td>\n",
       "      <td>0.338840</td>\n",
       "    </tr>\n",
       "    <tr>\n",
       "      <th>13</th>\n",
       "      <td>-0.092934</td>\n",
       "      <td>0.656998</td>\n",
       "    </tr>\n",
       "    <tr>\n",
       "      <th>14</th>\n",
       "      <td>-0.497295</td>\n",
       "      <td>-1.458603</td>\n",
       "    </tr>\n",
       "    <tr>\n",
       "      <th>15</th>\n",
       "      <td>0.775723</td>\n",
       "      <td>-1.085803</td>\n",
       "    </tr>\n",
       "    <tr>\n",
       "      <th>16</th>\n",
       "      <td>-1.056524</td>\n",
       "      <td>0.023574</td>\n",
       "    </tr>\n",
       "    <tr>\n",
       "      <th>17</th>\n",
       "      <td>-0.595994</td>\n",
       "      <td>-1.205735</td>\n",
       "    </tr>\n",
       "    <tr>\n",
       "      <th>18</th>\n",
       "      <td>1.245455</td>\n",
       "      <td>0.067652</td>\n",
       "    </tr>\n",
       "    <tr>\n",
       "      <th>19</th>\n",
       "      <td>0.655369</td>\n",
       "      <td>-0.967207</td>\n",
       "    </tr>\n",
       "  </tbody>\n",
       "</table>\n",
       "</div>"
      ],
      "text/plain": [
       "           B         A\n",
       "0  -1.285524  1.279484\n",
       "1  -0.632505  0.157297\n",
       "2   0.075721 -1.648124\n",
       "3   2.543794  0.499915\n",
       "4   0.966964  0.912736\n",
       "5   0.564399 -0.499517\n",
       "6  -0.379767  0.519285\n",
       "7  -0.160600  1.167475\n",
       "8  -0.053698 -1.737394\n",
       "9   0.912084 -0.015865\n",
       "10 -0.195002 -0.003309\n",
       "11 -0.541387  0.239074\n",
       "12  0.682668  0.338840\n",
       "13 -0.092934  0.656998\n",
       "14 -0.497295 -1.458603\n",
       "15  0.775723 -1.085803\n",
       "16 -1.056524  0.023574\n",
       "17 -0.595994 -1.205735\n",
       "18  1.245455  0.067652\n",
       "19  0.655369 -0.967207"
      ]
     },
     "execution_count": 92,
     "metadata": {},
     "output_type": "execute_result"
    }
   ],
   "source": [
    "df.sort_index(axis=1, ascending=False) # Sort based on columns, again,by default sorts the col names"
   ]
  },
  {
   "cell_type": "markdown",
   "metadata": {},
   "source": [
    "### Selection ( Also called indexing)"
   ]
  },
  {
   "cell_type": "markdown",
   "metadata": {},
   "source": [
    "#### Selection by Position"
   ]
  },
  {
   "cell_type": "markdown",
   "metadata": {},
   "source": [
    "###### .iloc is primarily integer position based (from 0 to length of the axis -1 ), but may also be used with a boolean array. \n",
    ".iloc will raise IndexError if a requested indexer is out-of-bounds, except slice indexers which allow out-of-bounds indexing."
   ]
  },
  {
   "cell_type": "code",
   "execution_count": 93,
   "metadata": {},
   "outputs": [],
   "source": [
    "# df.iloc[35,:]"
   ]
  },
  {
   "cell_type": "code",
   "execution_count": 94,
   "metadata": {},
   "outputs": [
    {
     "data": {
      "text/html": [
       "<div>\n",
       "<style scoped>\n",
       "    .dataframe tbody tr th:only-of-type {\n",
       "        vertical-align: middle;\n",
       "    }\n",
       "\n",
       "    .dataframe tbody tr th {\n",
       "        vertical-align: top;\n",
       "    }\n",
       "\n",
       "    .dataframe thead th {\n",
       "        text-align: right;\n",
       "    }\n",
       "</style>\n",
       "<table border=\"1\" class=\"dataframe\">\n",
       "  <thead>\n",
       "    <tr style=\"text-align: right;\">\n",
       "      <th></th>\n",
       "      <th>A</th>\n",
       "      <th>B</th>\n",
       "    </tr>\n",
       "  </thead>\n",
       "  <tbody>\n",
       "    <tr>\n",
       "      <th>3</th>\n",
       "      <td>0.499915</td>\n",
       "      <td>2.543794</td>\n",
       "    </tr>\n",
       "    <tr>\n",
       "      <th>4</th>\n",
       "      <td>0.912736</td>\n",
       "      <td>0.966964</td>\n",
       "    </tr>\n",
       "  </tbody>\n",
       "</table>\n",
       "</div>"
      ],
      "text/plain": [
       "          A         B\n",
       "3  0.499915  2.543794\n",
       "4  0.912736  0.966964"
      ]
     },
     "execution_count": 94,
     "metadata": {},
     "output_type": "execute_result"
    }
   ],
   "source": [
    "df.iloc[3:5,0:2]"
   ]
  },
  {
   "cell_type": "markdown",
   "metadata": {},
   "source": [
    "### Selection by Label"
   ]
  },
  {
   "cell_type": "markdown",
   "metadata": {},
   "source": [
    "##### .loc is primarily label based, but may also be used with a boolean array. .loc will raise KeyError when the items are not found. "
   ]
  },
  {
   "cell_type": "markdown",
   "metadata": {},
   "source": [
    "##### Showing label slicing, both endpoints are included"
   ]
  },
  {
   "cell_type": "code",
   "execution_count": 95,
   "metadata": {},
   "outputs": [
    {
     "data": {
      "text/html": [
       "<div>\n",
       "<style scoped>\n",
       "    .dataframe tbody tr th:only-of-type {\n",
       "        vertical-align: middle;\n",
       "    }\n",
       "\n",
       "    .dataframe tbody tr th {\n",
       "        vertical-align: top;\n",
       "    }\n",
       "\n",
       "    .dataframe thead th {\n",
       "        text-align: right;\n",
       "    }\n",
       "</style>\n",
       "<table border=\"1\" class=\"dataframe\">\n",
       "  <thead>\n",
       "    <tr style=\"text-align: right;\">\n",
       "      <th></th>\n",
       "      <th>A</th>\n",
       "      <th>B</th>\n",
       "    </tr>\n",
       "  </thead>\n",
       "  <tbody>\n",
       "    <tr>\n",
       "      <th>0</th>\n",
       "      <td>1.279484</td>\n",
       "      <td>-1.285524</td>\n",
       "    </tr>\n",
       "    <tr>\n",
       "      <th>1</th>\n",
       "      <td>0.157297</td>\n",
       "      <td>-0.632505</td>\n",
       "    </tr>\n",
       "    <tr>\n",
       "      <th>2</th>\n",
       "      <td>-1.648124</td>\n",
       "      <td>0.075721</td>\n",
       "    </tr>\n",
       "  </tbody>\n",
       "</table>\n",
       "</div>"
      ],
      "text/plain": [
       "          A         B\n",
       "0  1.279484 -1.285524\n",
       "1  0.157297 -0.632505\n",
       "2 -1.648124  0.075721"
      ]
     },
     "execution_count": 95,
     "metadata": {},
     "output_type": "execute_result"
    }
   ],
   "source": [
    "df.loc[range(3),['A','B']]"
   ]
  },
  {
   "cell_type": "markdown",
   "metadata": {},
   "source": [
    "# Let us try our hand at a dataset"
   ]
  },
  {
   "cell_type": "markdown",
   "metadata": {},
   "source": [
    "#### Load data"
   ]
  },
  {
   "cell_type": "markdown",
   "metadata": {},
   "source": [
    "###### german credit data 1"
   ]
  },
  {
   "cell_type": "code",
   "execution_count": 96,
   "metadata": {},
   "outputs": [],
   "source": [
    "import pandas as pd"
   ]
  },
  {
   "cell_type": "code",
   "execution_count": 97,
   "metadata": {},
   "outputs": [],
   "source": [
    "german_credit_1 = pd.read_csv(\"./German-Credit_1.csv\")"
   ]
  },
  {
   "cell_type": "markdown",
   "metadata": {},
   "source": [
    "#### Exploration"
   ]
  },
  {
   "cell_type": "markdown",
   "metadata": {},
   "source": [
    "##### Print the column names for the dataset"
   ]
  },
  {
   "cell_type": "code",
   "execution_count": 98,
   "metadata": {},
   "outputs": [
    {
     "data": {
      "text/plain": [
       "Index(['OBS', 'DURATION', 'NEW_CAR', 'USED_CAR', 'FURNITURE', 'RADIO_TV',\n",
       "       'EDUCATION', 'RETRAINING', 'AMOUNT', 'INSTALL_RATE', 'CO_APPLICANT',\n",
       "       'GUARANTOR', 'REAL_ESTATE', 'PROP_UNKN_NONE', 'AGE', 'OTHER_INSTALL',\n",
       "       'RENT', 'OWN_RES', 'NUM_CREDITS', 'NUM_DEPENDENTS', 'TELEPHONE',\n",
       "       'FOREIGN', 'RESPONSE'],\n",
       "      dtype='object')"
      ]
     },
     "execution_count": 98,
     "metadata": {},
     "output_type": "execute_result"
    }
   ],
   "source": [
    "german_credit_1.columns"
   ]
  },
  {
   "cell_type": "markdown",
   "metadata": {},
   "source": [
    "##### Print the data types for the dataset"
   ]
  },
  {
   "cell_type": "code",
   "execution_count": 99,
   "metadata": {},
   "outputs": [
    {
     "data": {
      "text/plain": [
       "OBS                 int64\n",
       "DURATION          float64\n",
       "NEW_CAR           float64\n",
       "USED_CAR          float64\n",
       "FURNITURE         float64\n",
       "RADIO_TV          float64\n",
       "EDUCATION         float64\n",
       "RETRAINING        float64\n",
       "AMOUNT            float64\n",
       "INSTALL_RATE      float64\n",
       "CO_APPLICANT      float64\n",
       "GUARANTOR         float64\n",
       "REAL_ESTATE       float64\n",
       "PROP_UNKN_NONE    float64\n",
       "AGE               float64\n",
       "OTHER_INSTALL     float64\n",
       "RENT              float64\n",
       "OWN_RES           float64\n",
       "NUM_CREDITS       float64\n",
       "NUM_DEPENDENTS    float64\n",
       "TELEPHONE         float64\n",
       "FOREIGN           float64\n",
       "RESPONSE          float64\n",
       "dtype: object"
      ]
     },
     "execution_count": 99,
     "metadata": {},
     "output_type": "execute_result"
    }
   ],
   "source": [
    "german_credit_1.dtypes"
   ]
  },
  {
   "cell_type": "markdown",
   "metadata": {},
   "source": [
    "##### Print the first few columns of the dataset"
   ]
  },
  {
   "cell_type": "code",
   "execution_count": 100,
   "metadata": {},
   "outputs": [
    {
     "data": {
      "text/html": [
       "<div>\n",
       "<style scoped>\n",
       "    .dataframe tbody tr th:only-of-type {\n",
       "        vertical-align: middle;\n",
       "    }\n",
       "\n",
       "    .dataframe tbody tr th {\n",
       "        vertical-align: top;\n",
       "    }\n",
       "\n",
       "    .dataframe thead th {\n",
       "        text-align: right;\n",
       "    }\n",
       "</style>\n",
       "<table border=\"1\" class=\"dataframe\">\n",
       "  <thead>\n",
       "    <tr style=\"text-align: right;\">\n",
       "      <th></th>\n",
       "      <th>OBS</th>\n",
       "      <th>DURATION</th>\n",
       "      <th>NEW_CAR</th>\n",
       "      <th>USED_CAR</th>\n",
       "      <th>FURNITURE</th>\n",
       "      <th>RADIO_TV</th>\n",
       "      <th>EDUCATION</th>\n",
       "      <th>RETRAINING</th>\n",
       "      <th>AMOUNT</th>\n",
       "      <th>INSTALL_RATE</th>\n",
       "      <th>...</th>\n",
       "      <th>PROP_UNKN_NONE</th>\n",
       "      <th>AGE</th>\n",
       "      <th>OTHER_INSTALL</th>\n",
       "      <th>RENT</th>\n",
       "      <th>OWN_RES</th>\n",
       "      <th>NUM_CREDITS</th>\n",
       "      <th>NUM_DEPENDENTS</th>\n",
       "      <th>TELEPHONE</th>\n",
       "      <th>FOREIGN</th>\n",
       "      <th>RESPONSE</th>\n",
       "    </tr>\n",
       "  </thead>\n",
       "  <tbody>\n",
       "    <tr>\n",
       "      <th>0</th>\n",
       "      <td>1</td>\n",
       "      <td>6.0</td>\n",
       "      <td>0.0</td>\n",
       "      <td>0.0</td>\n",
       "      <td>0.0</td>\n",
       "      <td>1.0</td>\n",
       "      <td>0.0</td>\n",
       "      <td>0.0</td>\n",
       "      <td>1169.0</td>\n",
       "      <td>4.0</td>\n",
       "      <td>...</td>\n",
       "      <td>0.0</td>\n",
       "      <td>67.0</td>\n",
       "      <td>0.0</td>\n",
       "      <td>0.0</td>\n",
       "      <td>1.0</td>\n",
       "      <td>2.0</td>\n",
       "      <td>1.0</td>\n",
       "      <td>1.0</td>\n",
       "      <td>0.0</td>\n",
       "      <td>1.0</td>\n",
       "    </tr>\n",
       "    <tr>\n",
       "      <th>1</th>\n",
       "      <td>2</td>\n",
       "      <td>48.0</td>\n",
       "      <td>0.0</td>\n",
       "      <td>0.0</td>\n",
       "      <td>0.0</td>\n",
       "      <td>1.0</td>\n",
       "      <td>0.0</td>\n",
       "      <td>0.0</td>\n",
       "      <td>5951.0</td>\n",
       "      <td>2.0</td>\n",
       "      <td>...</td>\n",
       "      <td>0.0</td>\n",
       "      <td>22.0</td>\n",
       "      <td>0.0</td>\n",
       "      <td>0.0</td>\n",
       "      <td>1.0</td>\n",
       "      <td>1.0</td>\n",
       "      <td>1.0</td>\n",
       "      <td>0.0</td>\n",
       "      <td>0.0</td>\n",
       "      <td>0.0</td>\n",
       "    </tr>\n",
       "    <tr>\n",
       "      <th>2</th>\n",
       "      <td>3</td>\n",
       "      <td>12.0</td>\n",
       "      <td>0.0</td>\n",
       "      <td>0.0</td>\n",
       "      <td>0.0</td>\n",
       "      <td>0.0</td>\n",
       "      <td>1.0</td>\n",
       "      <td>0.0</td>\n",
       "      <td>2096.0</td>\n",
       "      <td>2.0</td>\n",
       "      <td>...</td>\n",
       "      <td>0.0</td>\n",
       "      <td>49.0</td>\n",
       "      <td>0.0</td>\n",
       "      <td>0.0</td>\n",
       "      <td>1.0</td>\n",
       "      <td>1.0</td>\n",
       "      <td>2.0</td>\n",
       "      <td>0.0</td>\n",
       "      <td>0.0</td>\n",
       "      <td>1.0</td>\n",
       "    </tr>\n",
       "    <tr>\n",
       "      <th>3</th>\n",
       "      <td>4</td>\n",
       "      <td>42.0</td>\n",
       "      <td>0.0</td>\n",
       "      <td>0.0</td>\n",
       "      <td>1.0</td>\n",
       "      <td>0.0</td>\n",
       "      <td>0.0</td>\n",
       "      <td>0.0</td>\n",
       "      <td>7882.0</td>\n",
       "      <td>2.0</td>\n",
       "      <td>...</td>\n",
       "      <td>0.0</td>\n",
       "      <td>45.0</td>\n",
       "      <td>0.0</td>\n",
       "      <td>0.0</td>\n",
       "      <td>0.0</td>\n",
       "      <td>1.0</td>\n",
       "      <td>2.0</td>\n",
       "      <td>0.0</td>\n",
       "      <td>0.0</td>\n",
       "      <td>1.0</td>\n",
       "    </tr>\n",
       "    <tr>\n",
       "      <th>4</th>\n",
       "      <td>5</td>\n",
       "      <td>24.0</td>\n",
       "      <td>1.0</td>\n",
       "      <td>0.0</td>\n",
       "      <td>0.0</td>\n",
       "      <td>0.0</td>\n",
       "      <td>0.0</td>\n",
       "      <td>0.0</td>\n",
       "      <td>4870.0</td>\n",
       "      <td>3.0</td>\n",
       "      <td>...</td>\n",
       "      <td>1.0</td>\n",
       "      <td>53.0</td>\n",
       "      <td>0.0</td>\n",
       "      <td>0.0</td>\n",
       "      <td>0.0</td>\n",
       "      <td>2.0</td>\n",
       "      <td>2.0</td>\n",
       "      <td>0.0</td>\n",
       "      <td>0.0</td>\n",
       "      <td>0.0</td>\n",
       "    </tr>\n",
       "  </tbody>\n",
       "</table>\n",
       "<p>5 rows × 23 columns</p>\n",
       "</div>"
      ],
      "text/plain": [
       "   OBS  DURATION  NEW_CAR  USED_CAR  FURNITURE  RADIO_TV  EDUCATION  \\\n",
       "0    1       6.0      0.0       0.0        0.0       1.0        0.0   \n",
       "1    2      48.0      0.0       0.0        0.0       1.0        0.0   \n",
       "2    3      12.0      0.0       0.0        0.0       0.0        1.0   \n",
       "3    4      42.0      0.0       0.0        1.0       0.0        0.0   \n",
       "4    5      24.0      1.0       0.0        0.0       0.0        0.0   \n",
       "\n",
       "   RETRAINING  AMOUNT  INSTALL_RATE    ...     PROP_UNKN_NONE   AGE  \\\n",
       "0         0.0  1169.0           4.0    ...                0.0  67.0   \n",
       "1         0.0  5951.0           2.0    ...                0.0  22.0   \n",
       "2         0.0  2096.0           2.0    ...                0.0  49.0   \n",
       "3         0.0  7882.0           2.0    ...                0.0  45.0   \n",
       "4         0.0  4870.0           3.0    ...                1.0  53.0   \n",
       "\n",
       "   OTHER_INSTALL  RENT  OWN_RES  NUM_CREDITS  NUM_DEPENDENTS  TELEPHONE  \\\n",
       "0            0.0   0.0      1.0          2.0             1.0        1.0   \n",
       "1            0.0   0.0      1.0          1.0             1.0        0.0   \n",
       "2            0.0   0.0      1.0          1.0             2.0        0.0   \n",
       "3            0.0   0.0      0.0          1.0             2.0        0.0   \n",
       "4            0.0   0.0      0.0          2.0             2.0        0.0   \n",
       "\n",
       "   FOREIGN  RESPONSE  \n",
       "0      0.0       1.0  \n",
       "1      0.0       0.0  \n",
       "2      0.0       1.0  \n",
       "3      0.0       1.0  \n",
       "4      0.0       0.0  \n",
       "\n",
       "[5 rows x 23 columns]"
      ]
     },
     "execution_count": 100,
     "metadata": {},
     "output_type": "execute_result"
    }
   ],
   "source": [
    "german_credit_1.head()"
   ]
  },
  {
   "cell_type": "markdown",
   "metadata": {},
   "source": [
    "##### Print the first few columns of the dataset"
   ]
  },
  {
   "cell_type": "code",
   "execution_count": 101,
   "metadata": {},
   "outputs": [
    {
     "data": {
      "text/html": [
       "<div>\n",
       "<style scoped>\n",
       "    .dataframe tbody tr th:only-of-type {\n",
       "        vertical-align: middle;\n",
       "    }\n",
       "\n",
       "    .dataframe tbody tr th {\n",
       "        vertical-align: top;\n",
       "    }\n",
       "\n",
       "    .dataframe thead th {\n",
       "        text-align: right;\n",
       "    }\n",
       "</style>\n",
       "<table border=\"1\" class=\"dataframe\">\n",
       "  <thead>\n",
       "    <tr style=\"text-align: right;\">\n",
       "      <th></th>\n",
       "      <th>OBS</th>\n",
       "      <th>DURATION</th>\n",
       "      <th>NEW_CAR</th>\n",
       "      <th>USED_CAR</th>\n",
       "      <th>FURNITURE</th>\n",
       "      <th>RADIO_TV</th>\n",
       "      <th>EDUCATION</th>\n",
       "      <th>RETRAINING</th>\n",
       "      <th>AMOUNT</th>\n",
       "      <th>INSTALL_RATE</th>\n",
       "      <th>...</th>\n",
       "      <th>PROP_UNKN_NONE</th>\n",
       "      <th>AGE</th>\n",
       "      <th>OTHER_INSTALL</th>\n",
       "      <th>RENT</th>\n",
       "      <th>OWN_RES</th>\n",
       "      <th>NUM_CREDITS</th>\n",
       "      <th>NUM_DEPENDENTS</th>\n",
       "      <th>TELEPHONE</th>\n",
       "      <th>FOREIGN</th>\n",
       "      <th>RESPONSE</th>\n",
       "    </tr>\n",
       "  </thead>\n",
       "  <tbody>\n",
       "    <tr>\n",
       "      <th>0</th>\n",
       "      <td>1</td>\n",
       "      <td>6.0</td>\n",
       "      <td>0.0</td>\n",
       "      <td>0.0</td>\n",
       "      <td>0.0</td>\n",
       "      <td>1.0</td>\n",
       "      <td>0.0</td>\n",
       "      <td>0.0</td>\n",
       "      <td>1169.0</td>\n",
       "      <td>4.0</td>\n",
       "      <td>...</td>\n",
       "      <td>0.0</td>\n",
       "      <td>67.0</td>\n",
       "      <td>0.0</td>\n",
       "      <td>0.0</td>\n",
       "      <td>1.0</td>\n",
       "      <td>2.0</td>\n",
       "      <td>1.0</td>\n",
       "      <td>1.0</td>\n",
       "      <td>0.0</td>\n",
       "      <td>1.0</td>\n",
       "    </tr>\n",
       "    <tr>\n",
       "      <th>1</th>\n",
       "      <td>2</td>\n",
       "      <td>48.0</td>\n",
       "      <td>0.0</td>\n",
       "      <td>0.0</td>\n",
       "      <td>0.0</td>\n",
       "      <td>1.0</td>\n",
       "      <td>0.0</td>\n",
       "      <td>0.0</td>\n",
       "      <td>5951.0</td>\n",
       "      <td>2.0</td>\n",
       "      <td>...</td>\n",
       "      <td>0.0</td>\n",
       "      <td>22.0</td>\n",
       "      <td>0.0</td>\n",
       "      <td>0.0</td>\n",
       "      <td>1.0</td>\n",
       "      <td>1.0</td>\n",
       "      <td>1.0</td>\n",
       "      <td>0.0</td>\n",
       "      <td>0.0</td>\n",
       "      <td>0.0</td>\n",
       "    </tr>\n",
       "    <tr>\n",
       "      <th>2</th>\n",
       "      <td>3</td>\n",
       "      <td>12.0</td>\n",
       "      <td>0.0</td>\n",
       "      <td>0.0</td>\n",
       "      <td>0.0</td>\n",
       "      <td>0.0</td>\n",
       "      <td>1.0</td>\n",
       "      <td>0.0</td>\n",
       "      <td>2096.0</td>\n",
       "      <td>2.0</td>\n",
       "      <td>...</td>\n",
       "      <td>0.0</td>\n",
       "      <td>49.0</td>\n",
       "      <td>0.0</td>\n",
       "      <td>0.0</td>\n",
       "      <td>1.0</td>\n",
       "      <td>1.0</td>\n",
       "      <td>2.0</td>\n",
       "      <td>0.0</td>\n",
       "      <td>0.0</td>\n",
       "      <td>1.0</td>\n",
       "    </tr>\n",
       "    <tr>\n",
       "      <th>3</th>\n",
       "      <td>4</td>\n",
       "      <td>42.0</td>\n",
       "      <td>0.0</td>\n",
       "      <td>0.0</td>\n",
       "      <td>1.0</td>\n",
       "      <td>0.0</td>\n",
       "      <td>0.0</td>\n",
       "      <td>0.0</td>\n",
       "      <td>7882.0</td>\n",
       "      <td>2.0</td>\n",
       "      <td>...</td>\n",
       "      <td>0.0</td>\n",
       "      <td>45.0</td>\n",
       "      <td>0.0</td>\n",
       "      <td>0.0</td>\n",
       "      <td>0.0</td>\n",
       "      <td>1.0</td>\n",
       "      <td>2.0</td>\n",
       "      <td>0.0</td>\n",
       "      <td>0.0</td>\n",
       "      <td>1.0</td>\n",
       "    </tr>\n",
       "    <tr>\n",
       "      <th>4</th>\n",
       "      <td>5</td>\n",
       "      <td>24.0</td>\n",
       "      <td>1.0</td>\n",
       "      <td>0.0</td>\n",
       "      <td>0.0</td>\n",
       "      <td>0.0</td>\n",
       "      <td>0.0</td>\n",
       "      <td>0.0</td>\n",
       "      <td>4870.0</td>\n",
       "      <td>3.0</td>\n",
       "      <td>...</td>\n",
       "      <td>1.0</td>\n",
       "      <td>53.0</td>\n",
       "      <td>0.0</td>\n",
       "      <td>0.0</td>\n",
       "      <td>0.0</td>\n",
       "      <td>2.0</td>\n",
       "      <td>2.0</td>\n",
       "      <td>0.0</td>\n",
       "      <td>0.0</td>\n",
       "      <td>0.0</td>\n",
       "    </tr>\n",
       "  </tbody>\n",
       "</table>\n",
       "<p>5 rows × 23 columns</p>\n",
       "</div>"
      ],
      "text/plain": [
       "   OBS  DURATION  NEW_CAR  USED_CAR  FURNITURE  RADIO_TV  EDUCATION  \\\n",
       "0    1       6.0      0.0       0.0        0.0       1.0        0.0   \n",
       "1    2      48.0      0.0       0.0        0.0       1.0        0.0   \n",
       "2    3      12.0      0.0       0.0        0.0       0.0        1.0   \n",
       "3    4      42.0      0.0       0.0        1.0       0.0        0.0   \n",
       "4    5      24.0      1.0       0.0        0.0       0.0        0.0   \n",
       "\n",
       "   RETRAINING  AMOUNT  INSTALL_RATE    ...     PROP_UNKN_NONE   AGE  \\\n",
       "0         0.0  1169.0           4.0    ...                0.0  67.0   \n",
       "1         0.0  5951.0           2.0    ...                0.0  22.0   \n",
       "2         0.0  2096.0           2.0    ...                0.0  49.0   \n",
       "3         0.0  7882.0           2.0    ...                0.0  45.0   \n",
       "4         0.0  4870.0           3.0    ...                1.0  53.0   \n",
       "\n",
       "   OTHER_INSTALL  RENT  OWN_RES  NUM_CREDITS  NUM_DEPENDENTS  TELEPHONE  \\\n",
       "0            0.0   0.0      1.0          2.0             1.0        1.0   \n",
       "1            0.0   0.0      1.0          1.0             1.0        0.0   \n",
       "2            0.0   0.0      1.0          1.0             2.0        0.0   \n",
       "3            0.0   0.0      0.0          1.0             2.0        0.0   \n",
       "4            0.0   0.0      0.0          2.0             2.0        0.0   \n",
       "\n",
       "   FOREIGN  RESPONSE  \n",
       "0      0.0       1.0  \n",
       "1      0.0       0.0  \n",
       "2      0.0       1.0  \n",
       "3      0.0       1.0  \n",
       "4      0.0       0.0  \n",
       "\n",
       "[5 rows x 23 columns]"
      ]
     },
     "execution_count": 101,
     "metadata": {},
     "output_type": "execute_result"
    }
   ],
   "source": [
    "german_credit_1.head()"
   ]
  },
  {
   "cell_type": "markdown",
   "metadata": {},
   "source": [
    "###### Check the shape of the data set"
   ]
  },
  {
   "cell_type": "code",
   "execution_count": 102,
   "metadata": {},
   "outputs": [
    {
     "data": {
      "text/plain": [
       "(1000, 23)"
      ]
     },
     "execution_count": 102,
     "metadata": {},
     "output_type": "execute_result"
    }
   ],
   "source": [
    "german_credit_1.shape"
   ]
  },
  {
   "cell_type": "code",
   "execution_count": 103,
   "metadata": {},
   "outputs": [],
   "source": [
    "german_credit_2 = pd.read_csv(\"./German-Credit_2.csv\")"
   ]
  },
  {
   "cell_type": "code",
   "execution_count": 104,
   "metadata": {},
   "outputs": [
    {
     "data": {
      "text/plain": [
       "(1000, 7)"
      ]
     },
     "execution_count": 104,
     "metadata": {},
     "output_type": "execute_result"
    }
   ],
   "source": [
    "german_credit_2.shape"
   ]
  },
  {
   "cell_type": "code",
   "execution_count": 105,
   "metadata": {},
   "outputs": [
    {
     "data": {
      "text/html": [
       "<div>\n",
       "<style scoped>\n",
       "    .dataframe tbody tr th:only-of-type {\n",
       "        vertical-align: middle;\n",
       "    }\n",
       "\n",
       "    .dataframe tbody tr th {\n",
       "        vertical-align: top;\n",
       "    }\n",
       "\n",
       "    .dataframe thead th {\n",
       "        text-align: right;\n",
       "    }\n",
       "</style>\n",
       "<table border=\"1\" class=\"dataframe\">\n",
       "  <thead>\n",
       "    <tr style=\"text-align: right;\">\n",
       "      <th></th>\n",
       "      <th>OBS</th>\n",
       "      <th>CHK_ACCT</th>\n",
       "      <th>HISTORY</th>\n",
       "      <th>SAV_ACCT</th>\n",
       "      <th>EMPLOYMENT</th>\n",
       "      <th>PRESENT_RESIDENT</th>\n",
       "      <th>JOB</th>\n",
       "    </tr>\n",
       "  </thead>\n",
       "  <tbody>\n",
       "    <tr>\n",
       "      <th>0</th>\n",
       "      <td>1</td>\n",
       "      <td>0</td>\n",
       "      <td>4</td>\n",
       "      <td>4</td>\n",
       "      <td>4</td>\n",
       "      <td>4</td>\n",
       "      <td>2</td>\n",
       "    </tr>\n",
       "    <tr>\n",
       "      <th>1</th>\n",
       "      <td>2</td>\n",
       "      <td>1</td>\n",
       "      <td>2</td>\n",
       "      <td>0</td>\n",
       "      <td>2</td>\n",
       "      <td>2</td>\n",
       "      <td>2</td>\n",
       "    </tr>\n",
       "    <tr>\n",
       "      <th>2</th>\n",
       "      <td>3</td>\n",
       "      <td>3</td>\n",
       "      <td>4</td>\n",
       "      <td>0</td>\n",
       "      <td>3</td>\n",
       "      <td>3</td>\n",
       "      <td>1</td>\n",
       "    </tr>\n",
       "    <tr>\n",
       "      <th>3</th>\n",
       "      <td>4</td>\n",
       "      <td>0</td>\n",
       "      <td>2</td>\n",
       "      <td>0</td>\n",
       "      <td>3</td>\n",
       "      <td>4</td>\n",
       "      <td>2</td>\n",
       "    </tr>\n",
       "    <tr>\n",
       "      <th>4</th>\n",
       "      <td>5</td>\n",
       "      <td>0</td>\n",
       "      <td>3</td>\n",
       "      <td>0</td>\n",
       "      <td>2</td>\n",
       "      <td>4</td>\n",
       "      <td>2</td>\n",
       "    </tr>\n",
       "  </tbody>\n",
       "</table>\n",
       "</div>"
      ],
      "text/plain": [
       "   OBS  CHK_ACCT  HISTORY  SAV_ACCT  EMPLOYMENT  PRESENT_RESIDENT  JOB\n",
       "0    1         0        4         4           4                 4    2\n",
       "1    2         1        2         0           2                 2    2\n",
       "2    3         3        4         0           3                 3    1\n",
       "3    4         0        2         0           3                 4    2\n",
       "4    5         0        3         0           2                 4    2"
      ]
     },
     "execution_count": 105,
     "metadata": {},
     "output_type": "execute_result"
    }
   ],
   "source": [
    "german_credit_2.head()"
   ]
  },
  {
   "cell_type": "code",
   "execution_count": 106,
   "metadata": {},
   "outputs": [],
   "source": [
    "df3 = german_credit_1.merge(german_credit_2,on=['OBS'])"
   ]
  },
  {
   "cell_type": "code",
   "execution_count": 107,
   "metadata": {},
   "outputs": [
    {
     "data": {
      "text/plain": [
       "(1000, 29)"
      ]
     },
     "execution_count": 107,
     "metadata": {},
     "output_type": "execute_result"
    }
   ],
   "source": [
    "df3.shape"
   ]
  },
  {
   "cell_type": "markdown",
   "metadata": {},
   "source": [
    "######  Numeric attributes"
   ]
  },
  {
   "cell_type": "code",
   "execution_count": 108,
   "metadata": {},
   "outputs": [],
   "source": [
    "num_attr = [\"DURATION\",\"AMOUNT\",\"INSTALL_RATE\",\"AGE\",\"NUM_CREDITS\",\"NUM_DEPENDENTS\"]"
   ]
  },
  {
   "cell_type": "code",
   "execution_count": 109,
   "metadata": {},
   "outputs": [
    {
     "data": {
      "text/plain": [
       "['DURATION', 'AMOUNT', 'INSTALL_RATE', 'AGE', 'NUM_CREDITS', 'NUM_DEPENDENTS']"
      ]
     },
     "execution_count": 109,
     "metadata": {},
     "output_type": "execute_result"
    }
   ],
   "source": [
    "num_attr"
   ]
  },
  {
   "cell_type": "code",
   "execution_count": 110,
   "metadata": {},
   "outputs": [],
   "source": [
    "cat_attr = [i for i in df3.columns.values if i not in num_attr]"
   ]
  },
  {
   "cell_type": "code",
   "execution_count": 111,
   "metadata": {},
   "outputs": [
    {
     "data": {
      "text/plain": [
       "['OBS',\n",
       " 'NEW_CAR',\n",
       " 'USED_CAR',\n",
       " 'FURNITURE',\n",
       " 'RADIO_TV',\n",
       " 'EDUCATION',\n",
       " 'RETRAINING',\n",
       " 'CO_APPLICANT',\n",
       " 'GUARANTOR',\n",
       " 'REAL_ESTATE',\n",
       " 'PROP_UNKN_NONE',\n",
       " 'OTHER_INSTALL',\n",
       " 'RENT',\n",
       " 'OWN_RES',\n",
       " 'TELEPHONE',\n",
       " 'FOREIGN',\n",
       " 'RESPONSE',\n",
       " 'CHK_ACCT',\n",
       " 'HISTORY',\n",
       " 'SAV_ACCT',\n",
       " 'EMPLOYMENT',\n",
       " 'PRESENT_RESIDENT',\n",
       " 'JOB']"
      ]
     },
     "execution_count": 111,
     "metadata": {},
     "output_type": "execute_result"
    }
   ],
   "source": [
    "cat_attr"
   ]
  },
  {
   "cell_type": "markdown",
   "metadata": {},
   "source": [
    "##### apply function(to convert all categorical attributes to factors)\n"
   ]
  },
  {
   "cell_type": "code",
   "execution_count": 112,
   "metadata": {},
   "outputs": [],
   "source": [
    "def convert_to_categorical(dataset,col_names_to_convert):\n",
    "    for i in col_names_to_convert:\n",
    "        dataset[i] = dataset[i].astype(str)\n",
    "    return(dataset)"
   ]
  },
  {
   "cell_type": "code",
   "execution_count": 113,
   "metadata": {},
   "outputs": [],
   "source": [
    "df3 = convert_to_categorical(df3,col_names_to_convert=cat_attr)"
   ]
  },
  {
   "cell_type": "code",
   "execution_count": 114,
   "metadata": {},
   "outputs": [
    {
     "data": {
      "text/plain": [
       "OBS                  object\n",
       "DURATION            float64\n",
       "NEW_CAR              object\n",
       "USED_CAR             object\n",
       "FURNITURE            object\n",
       "RADIO_TV             object\n",
       "EDUCATION            object\n",
       "RETRAINING           object\n",
       "AMOUNT              float64\n",
       "INSTALL_RATE        float64\n",
       "CO_APPLICANT         object\n",
       "GUARANTOR            object\n",
       "REAL_ESTATE          object\n",
       "PROP_UNKN_NONE       object\n",
       "AGE                 float64\n",
       "OTHER_INSTALL        object\n",
       "RENT                 object\n",
       "OWN_RES              object\n",
       "NUM_CREDITS         float64\n",
       "NUM_DEPENDENTS      float64\n",
       "TELEPHONE            object\n",
       "FOREIGN              object\n",
       "RESPONSE             object\n",
       "CHK_ACCT             object\n",
       "HISTORY              object\n",
       "SAV_ACCT             object\n",
       "EMPLOYMENT           object\n",
       "PRESENT_RESIDENT     object\n",
       "JOB                  object\n",
       "dtype: object"
      ]
     },
     "execution_count": 114,
     "metadata": {},
     "output_type": "execute_result"
    }
   ],
   "source": [
    "df3.dtypes"
   ]
  },
  {
   "cell_type": "markdown",
   "metadata": {},
   "source": [
    "#### Data exploration\n"
   ]
  },
  {
   "cell_type": "code",
   "execution_count": 115,
   "metadata": {},
   "outputs": [
    {
     "data": {
      "text/html": [
       "<div>\n",
       "<style scoped>\n",
       "    .dataframe tbody tr th:only-of-type {\n",
       "        vertical-align: middle;\n",
       "    }\n",
       "\n",
       "    .dataframe tbody tr th {\n",
       "        vertical-align: top;\n",
       "    }\n",
       "\n",
       "    .dataframe thead th {\n",
       "        text-align: right;\n",
       "    }\n",
       "</style>\n",
       "<table border=\"1\" class=\"dataframe\">\n",
       "  <thead>\n",
       "    <tr style=\"text-align: right;\">\n",
       "      <th></th>\n",
       "      <th>DURATION</th>\n",
       "      <th>AMOUNT</th>\n",
       "      <th>INSTALL_RATE</th>\n",
       "      <th>AGE</th>\n",
       "      <th>NUM_CREDITS</th>\n",
       "      <th>NUM_DEPENDENTS</th>\n",
       "    </tr>\n",
       "  </thead>\n",
       "  <tbody>\n",
       "    <tr>\n",
       "      <th>count</th>\n",
       "      <td>998.000000</td>\n",
       "      <td>990.000000</td>\n",
       "      <td>993.000000</td>\n",
       "      <td>990.000000</td>\n",
       "      <td>994.000000</td>\n",
       "      <td>993.000000</td>\n",
       "    </tr>\n",
       "    <tr>\n",
       "      <th>mean</th>\n",
       "      <td>20.917836</td>\n",
       "      <td>3273.168687</td>\n",
       "      <td>2.972810</td>\n",
       "      <td>35.505051</td>\n",
       "      <td>1.406439</td>\n",
       "      <td>1.156093</td>\n",
       "    </tr>\n",
       "    <tr>\n",
       "      <th>std</th>\n",
       "      <td>12.064656</td>\n",
       "      <td>2826.183525</td>\n",
       "      <td>1.119055</td>\n",
       "      <td>11.342694</td>\n",
       "      <td>0.576302</td>\n",
       "      <td>0.363126</td>\n",
       "    </tr>\n",
       "    <tr>\n",
       "      <th>min</th>\n",
       "      <td>4.000000</td>\n",
       "      <td>250.000000</td>\n",
       "      <td>1.000000</td>\n",
       "      <td>19.000000</td>\n",
       "      <td>1.000000</td>\n",
       "      <td>1.000000</td>\n",
       "    </tr>\n",
       "    <tr>\n",
       "      <th>25%</th>\n",
       "      <td>12.000000</td>\n",
       "      <td>1371.250000</td>\n",
       "      <td>2.000000</td>\n",
       "      <td>27.000000</td>\n",
       "      <td>1.000000</td>\n",
       "      <td>1.000000</td>\n",
       "    </tr>\n",
       "    <tr>\n",
       "      <th>50%</th>\n",
       "      <td>18.000000</td>\n",
       "      <td>2321.500000</td>\n",
       "      <td>3.000000</td>\n",
       "      <td>33.000000</td>\n",
       "      <td>1.000000</td>\n",
       "      <td>1.000000</td>\n",
       "    </tr>\n",
       "    <tr>\n",
       "      <th>75%</th>\n",
       "      <td>24.000000</td>\n",
       "      <td>3970.500000</td>\n",
       "      <td>4.000000</td>\n",
       "      <td>42.000000</td>\n",
       "      <td>2.000000</td>\n",
       "      <td>1.000000</td>\n",
       "    </tr>\n",
       "    <tr>\n",
       "      <th>max</th>\n",
       "      <td>72.000000</td>\n",
       "      <td>18424.000000</td>\n",
       "      <td>4.000000</td>\n",
       "      <td>75.000000</td>\n",
       "      <td>4.000000</td>\n",
       "      <td>2.000000</td>\n",
       "    </tr>\n",
       "  </tbody>\n",
       "</table>\n",
       "</div>"
      ],
      "text/plain": [
       "         DURATION        AMOUNT  INSTALL_RATE         AGE  NUM_CREDITS  \\\n",
       "count  998.000000    990.000000    993.000000  990.000000   994.000000   \n",
       "mean    20.917836   3273.168687      2.972810   35.505051     1.406439   \n",
       "std     12.064656   2826.183525      1.119055   11.342694     0.576302   \n",
       "min      4.000000    250.000000      1.000000   19.000000     1.000000   \n",
       "25%     12.000000   1371.250000      2.000000   27.000000     1.000000   \n",
       "50%     18.000000   2321.500000      3.000000   33.000000     1.000000   \n",
       "75%     24.000000   3970.500000      4.000000   42.000000     2.000000   \n",
       "max     72.000000  18424.000000      4.000000   75.000000     4.000000   \n",
       "\n",
       "       NUM_DEPENDENTS  \n",
       "count      993.000000  \n",
       "mean         1.156093  \n",
       "std          0.363126  \n",
       "min          1.000000  \n",
       "25%          1.000000  \n",
       "50%          1.000000  \n",
       "75%          1.000000  \n",
       "max          2.000000  "
      ]
     },
     "execution_count": 115,
     "metadata": {},
     "output_type": "execute_result"
    }
   ],
   "source": [
    "df3.describe()"
   ]
  },
  {
   "cell_type": "code",
   "execution_count": 116,
   "metadata": {},
   "outputs": [
    {
     "data": {
      "text/html": [
       "<div>\n",
       "<style scoped>\n",
       "    .dataframe tbody tr th:only-of-type {\n",
       "        vertical-align: middle;\n",
       "    }\n",
       "\n",
       "    .dataframe tbody tr th {\n",
       "        vertical-align: top;\n",
       "    }\n",
       "\n",
       "    .dataframe thead th {\n",
       "        text-align: right;\n",
       "    }\n",
       "</style>\n",
       "<table border=\"1\" class=\"dataframe\">\n",
       "  <thead>\n",
       "    <tr style=\"text-align: right;\">\n",
       "      <th></th>\n",
       "      <th>count</th>\n",
       "      <th>unique</th>\n",
       "      <th>top</th>\n",
       "      <th>freq</th>\n",
       "    </tr>\n",
       "  </thead>\n",
       "  <tbody>\n",
       "    <tr>\n",
       "      <th>OBS</th>\n",
       "      <td>1000</td>\n",
       "      <td>1000</td>\n",
       "      <td>614</td>\n",
       "      <td>1</td>\n",
       "    </tr>\n",
       "    <tr>\n",
       "      <th>NEW_CAR</th>\n",
       "      <td>1000</td>\n",
       "      <td>3</td>\n",
       "      <td>0.0</td>\n",
       "      <td>765</td>\n",
       "    </tr>\n",
       "    <tr>\n",
       "      <th>USED_CAR</th>\n",
       "      <td>1000</td>\n",
       "      <td>3</td>\n",
       "      <td>0.0</td>\n",
       "      <td>896</td>\n",
       "    </tr>\n",
       "    <tr>\n",
       "      <th>FURNITURE</th>\n",
       "      <td>1000</td>\n",
       "      <td>3</td>\n",
       "      <td>0.0</td>\n",
       "      <td>819</td>\n",
       "    </tr>\n",
       "    <tr>\n",
       "      <th>RADIO_TV</th>\n",
       "      <td>1000</td>\n",
       "      <td>3</td>\n",
       "      <td>0.0</td>\n",
       "      <td>718</td>\n",
       "    </tr>\n",
       "    <tr>\n",
       "      <th>EDUCATION</th>\n",
       "      <td>1000</td>\n",
       "      <td>3</td>\n",
       "      <td>0.0</td>\n",
       "      <td>946</td>\n",
       "    </tr>\n",
       "    <tr>\n",
       "      <th>RETRAINING</th>\n",
       "      <td>1000</td>\n",
       "      <td>3</td>\n",
       "      <td>0.0</td>\n",
       "      <td>899</td>\n",
       "    </tr>\n",
       "    <tr>\n",
       "      <th>CO_APPLICANT</th>\n",
       "      <td>1000</td>\n",
       "      <td>3</td>\n",
       "      <td>0.0</td>\n",
       "      <td>951</td>\n",
       "    </tr>\n",
       "    <tr>\n",
       "      <th>GUARANTOR</th>\n",
       "      <td>1000</td>\n",
       "      <td>3</td>\n",
       "      <td>0.0</td>\n",
       "      <td>941</td>\n",
       "    </tr>\n",
       "    <tr>\n",
       "      <th>REAL_ESTATE</th>\n",
       "      <td>1000</td>\n",
       "      <td>3</td>\n",
       "      <td>0.0</td>\n",
       "      <td>713</td>\n",
       "    </tr>\n",
       "    <tr>\n",
       "      <th>PROP_UNKN_NONE</th>\n",
       "      <td>1000</td>\n",
       "      <td>3</td>\n",
       "      <td>0.0</td>\n",
       "      <td>839</td>\n",
       "    </tr>\n",
       "    <tr>\n",
       "      <th>OTHER_INSTALL</th>\n",
       "      <td>1000</td>\n",
       "      <td>3</td>\n",
       "      <td>0.0</td>\n",
       "      <td>806</td>\n",
       "    </tr>\n",
       "    <tr>\n",
       "      <th>RENT</th>\n",
       "      <td>1000</td>\n",
       "      <td>3</td>\n",
       "      <td>0.0</td>\n",
       "      <td>815</td>\n",
       "    </tr>\n",
       "    <tr>\n",
       "      <th>OWN_RES</th>\n",
       "      <td>1000</td>\n",
       "      <td>3</td>\n",
       "      <td>1.0</td>\n",
       "      <td>709</td>\n",
       "    </tr>\n",
       "    <tr>\n",
       "      <th>TELEPHONE</th>\n",
       "      <td>1000</td>\n",
       "      <td>3</td>\n",
       "      <td>0.0</td>\n",
       "      <td>594</td>\n",
       "    </tr>\n",
       "    <tr>\n",
       "      <th>FOREIGN</th>\n",
       "      <td>1000</td>\n",
       "      <td>3</td>\n",
       "      <td>0.0</td>\n",
       "      <td>957</td>\n",
       "    </tr>\n",
       "    <tr>\n",
       "      <th>RESPONSE</th>\n",
       "      <td>1000</td>\n",
       "      <td>3</td>\n",
       "      <td>1.0</td>\n",
       "      <td>698</td>\n",
       "    </tr>\n",
       "    <tr>\n",
       "      <th>CHK_ACCT</th>\n",
       "      <td>1000</td>\n",
       "      <td>4</td>\n",
       "      <td>3</td>\n",
       "      <td>394</td>\n",
       "    </tr>\n",
       "    <tr>\n",
       "      <th>HISTORY</th>\n",
       "      <td>1000</td>\n",
       "      <td>5</td>\n",
       "      <td>2</td>\n",
       "      <td>530</td>\n",
       "    </tr>\n",
       "    <tr>\n",
       "      <th>SAV_ACCT</th>\n",
       "      <td>1000</td>\n",
       "      <td>5</td>\n",
       "      <td>0</td>\n",
       "      <td>603</td>\n",
       "    </tr>\n",
       "    <tr>\n",
       "      <th>EMPLOYMENT</th>\n",
       "      <td>1000</td>\n",
       "      <td>5</td>\n",
       "      <td>2</td>\n",
       "      <td>339</td>\n",
       "    </tr>\n",
       "    <tr>\n",
       "      <th>PRESENT_RESIDENT</th>\n",
       "      <td>1000</td>\n",
       "      <td>4</td>\n",
       "      <td>4</td>\n",
       "      <td>413</td>\n",
       "    </tr>\n",
       "    <tr>\n",
       "      <th>JOB</th>\n",
       "      <td>1000</td>\n",
       "      <td>4</td>\n",
       "      <td>2</td>\n",
       "      <td>630</td>\n",
       "    </tr>\n",
       "  </tbody>\n",
       "</table>\n",
       "</div>"
      ],
      "text/plain": [
       "                 count unique  top freq\n",
       "OBS               1000   1000  614    1\n",
       "NEW_CAR           1000      3  0.0  765\n",
       "USED_CAR          1000      3  0.0  896\n",
       "FURNITURE         1000      3  0.0  819\n",
       "RADIO_TV          1000      3  0.0  718\n",
       "EDUCATION         1000      3  0.0  946\n",
       "RETRAINING        1000      3  0.0  899\n",
       "CO_APPLICANT      1000      3  0.0  951\n",
       "GUARANTOR         1000      3  0.0  941\n",
       "REAL_ESTATE       1000      3  0.0  713\n",
       "PROP_UNKN_NONE    1000      3  0.0  839\n",
       "OTHER_INSTALL     1000      3  0.0  806\n",
       "RENT              1000      3  0.0  815\n",
       "OWN_RES           1000      3  1.0  709\n",
       "TELEPHONE         1000      3  0.0  594\n",
       "FOREIGN           1000      3  0.0  957\n",
       "RESPONSE          1000      3  1.0  698\n",
       "CHK_ACCT          1000      4    3  394\n",
       "HISTORY           1000      5    2  530\n",
       "SAV_ACCT          1000      5    0  603\n",
       "EMPLOYMENT        1000      5    2  339\n",
       "PRESENT_RESIDENT  1000      4    4  413\n",
       "JOB               1000      4    2  630"
      ]
     },
     "execution_count": 116,
     "metadata": {},
     "output_type": "execute_result"
    }
   ],
   "source": [
    "df3.describe(include=[np.object]).transpose() # to include the categorical columns?"
   ]
  },
  {
   "cell_type": "markdown",
   "metadata": {},
   "source": [
    "##### Pandas DataFrame Methods\n",
    "Some methods in pandas dataframes we generally use"
   ]
  },
  {
   "cell_type": "markdown",
   "metadata": {},
   "source": [
    "- pandas.DataFrame.max — finds the highest value in each column.\n",
    "- pandas.DataFrame.min — finds the lowest value in each column.\n",
    "- pandas.DataFrame.median — finds the median of each column.\n",
    "- pandas.DataFrame.std — finds the standard deviation of each column."
   ]
  },
  {
   "cell_type": "code",
   "execution_count": 117,
   "metadata": {},
   "outputs": [
    {
     "data": {
      "text/plain": [
       "75.0"
      ]
     },
     "execution_count": 117,
     "metadata": {},
     "output_type": "execute_result"
    }
   ],
   "source": [
    "df3.AGE.max()"
   ]
  },
  {
   "cell_type": "code",
   "execution_count": 118,
   "metadata": {},
   "outputs": [
    {
     "data": {
      "text/plain": [
       "19.0"
      ]
     },
     "execution_count": 118,
     "metadata": {},
     "output_type": "execute_result"
    }
   ],
   "source": [
    "df3.AGE.min()"
   ]
  },
  {
   "cell_type": "code",
   "execution_count": 119,
   "metadata": {},
   "outputs": [
    {
     "data": {
      "text/plain": [
       "35.505050505050505"
      ]
     },
     "execution_count": 119,
     "metadata": {},
     "output_type": "execute_result"
    }
   ],
   "source": [
    "df3.AGE.mean()"
   ]
  },
  {
   "cell_type": "code",
   "execution_count": 120,
   "metadata": {},
   "outputs": [
    {
     "data": {
      "text/plain": [
       "33.0"
      ]
     },
     "execution_count": 120,
     "metadata": {},
     "output_type": "execute_result"
    }
   ],
   "source": [
    "df3.AGE.median()"
   ]
  },
  {
   "cell_type": "code",
   "execution_count": 121,
   "metadata": {},
   "outputs": [
    {
     "data": {
      "text/plain": [
       "11.342693614402492"
      ]
     },
     "execution_count": 121,
     "metadata": {},
     "output_type": "execute_result"
    }
   ],
   "source": [
    "df3.AGE.std()"
   ]
  },
  {
   "cell_type": "markdown",
   "metadata": {
    "collapsed": true
   },
   "source": [
    "##### Checking Number of unique values/levels\n"
   ]
  },
  {
   "cell_type": "code",
   "execution_count": 122,
   "metadata": {},
   "outputs": [
    {
     "name": "stdout",
     "output_type": "stream",
     "text": [
      "['OBS', 1000]\n",
      "['DURATION', 35]\n",
      "['NEW_CAR', 3]\n",
      "['USED_CAR', 3]\n",
      "['FURNITURE', 3]\n",
      "['RADIO_TV', 3]\n",
      "['EDUCATION', 3]\n",
      "['RETRAINING', 3]\n",
      "['AMOUNT', 922]\n",
      "['INSTALL_RATE', 11]\n",
      "['CO_APPLICANT', 3]\n",
      "['GUARANTOR', 3]\n",
      "['REAL_ESTATE', 3]\n",
      "['PROP_UNKN_NONE', 3]\n",
      "['AGE', 63]\n",
      "['OTHER_INSTALL', 3]\n",
      "['RENT', 3]\n",
      "['OWN_RES', 3]\n",
      "['NUM_CREDITS', 10]\n",
      "['NUM_DEPENDENTS', 9]\n",
      "['TELEPHONE', 3]\n",
      "['FOREIGN', 3]\n",
      "['RESPONSE', 3]\n",
      "['CHK_ACCT', 4]\n",
      "['HISTORY', 5]\n",
      "['SAV_ACCT', 5]\n",
      "['EMPLOYMENT', 5]\n",
      "['PRESENT_RESIDENT', 4]\n",
      "['JOB', 4]\n"
     ]
    }
   ],
   "source": [
    "for i in df3.columns:\n",
    "    n = np.unique(df3[i])\n",
    "    print([i,len(n)])"
   ]
  },
  {
   "cell_type": "code",
   "execution_count": 123,
   "metadata": {},
   "outputs": [],
   "source": [
    "temp = df3.copy()"
   ]
  },
  {
   "cell_type": "code",
   "execution_count": 124,
   "metadata": {},
   "outputs": [],
   "source": [
    "#Subsetting data: \n",
    "# dropping 1st and 2nd column\n",
    "temp.drop(['OBS','DURATION'],inplace=True,axis=1)"
   ]
  },
  {
   "cell_type": "code",
   "execution_count": 125,
   "metadata": {},
   "outputs": [
    {
     "data": {
      "text/plain": [
       "Index(['NEW_CAR', 'USED_CAR', 'FURNITURE', 'RADIO_TV', 'EDUCATION',\n",
       "       'RETRAINING', 'AMOUNT', 'INSTALL_RATE', 'CO_APPLICANT', 'GUARANTOR',\n",
       "       'REAL_ESTATE', 'PROP_UNKN_NONE', 'AGE', 'OTHER_INSTALL', 'RENT',\n",
       "       'OWN_RES', 'NUM_CREDITS', 'NUM_DEPENDENTS', 'TELEPHONE', 'FOREIGN',\n",
       "       'RESPONSE', 'CHK_ACCT', 'HISTORY', 'SAV_ACCT', 'EMPLOYMENT',\n",
       "       'PRESENT_RESIDENT', 'JOB'],\n",
       "      dtype='object')"
      ]
     },
     "execution_count": 125,
     "metadata": {},
     "output_type": "execute_result"
    }
   ],
   "source": [
    "temp.columns"
   ]
  },
  {
   "cell_type": "code",
   "execution_count": 126,
   "metadata": {},
   "outputs": [
    {
     "data": {
      "text/plain": [
       "Index(['OBS', 'DURATION', 'NEW_CAR', 'USED_CAR', 'FURNITURE', 'RADIO_TV',\n",
       "       'EDUCATION', 'RETRAINING', 'AMOUNT', 'INSTALL_RATE', 'CO_APPLICANT',\n",
       "       'GUARANTOR', 'REAL_ESTATE', 'PROP_UNKN_NONE', 'AGE', 'OTHER_INSTALL',\n",
       "       'RENT', 'OWN_RES', 'NUM_CREDITS', 'NUM_DEPENDENTS', 'TELEPHONE',\n",
       "       'FOREIGN', 'RESPONSE', 'CHK_ACCT', 'HISTORY', 'SAV_ACCT', 'EMPLOYMENT',\n",
       "       'PRESENT_RESIDENT', 'JOB'],\n",
       "      dtype='object')"
      ]
     },
     "execution_count": 126,
     "metadata": {},
     "output_type": "execute_result"
    }
   ],
   "source": [
    "df3.columns"
   ]
  },
  {
   "cell_type": "code",
   "execution_count": 127,
   "metadata": {},
   "outputs": [
    {
     "data": {
      "text/html": [
       "<div>\n",
       "<style scoped>\n",
       "    .dataframe tbody tr th:only-of-type {\n",
       "        vertical-align: middle;\n",
       "    }\n",
       "\n",
       "    .dataframe tbody tr th {\n",
       "        vertical-align: top;\n",
       "    }\n",
       "\n",
       "    .dataframe thead th {\n",
       "        text-align: right;\n",
       "    }\n",
       "</style>\n",
       "<table border=\"1\" class=\"dataframe\">\n",
       "  <thead>\n",
       "    <tr style=\"text-align: right;\">\n",
       "      <th></th>\n",
       "      <th>OBS</th>\n",
       "      <th>DURATION</th>\n",
       "      <th>NEW_CAR</th>\n",
       "      <th>USED_CAR</th>\n",
       "      <th>FURNITURE</th>\n",
       "      <th>RADIO_TV</th>\n",
       "      <th>EDUCATION</th>\n",
       "      <th>RETRAINING</th>\n",
       "      <th>AMOUNT</th>\n",
       "      <th>INSTALL_RATE</th>\n",
       "      <th>...</th>\n",
       "      <th>NUM_DEPENDENTS</th>\n",
       "      <th>TELEPHONE</th>\n",
       "      <th>FOREIGN</th>\n",
       "      <th>RESPONSE</th>\n",
       "      <th>CHK_ACCT</th>\n",
       "      <th>HISTORY</th>\n",
       "      <th>SAV_ACCT</th>\n",
       "      <th>EMPLOYMENT</th>\n",
       "      <th>PRESENT_RESIDENT</th>\n",
       "      <th>JOB</th>\n",
       "    </tr>\n",
       "  </thead>\n",
       "  <tbody>\n",
       "    <tr>\n",
       "      <th>0</th>\n",
       "      <td>1</td>\n",
       "      <td>6.0</td>\n",
       "      <td>0.0</td>\n",
       "      <td>0.0</td>\n",
       "      <td>0.0</td>\n",
       "      <td>1.0</td>\n",
       "      <td>0.0</td>\n",
       "      <td>0.0</td>\n",
       "      <td>1169.0</td>\n",
       "      <td>4.0</td>\n",
       "      <td>...</td>\n",
       "      <td>1.0</td>\n",
       "      <td>1.0</td>\n",
       "      <td>0.0</td>\n",
       "      <td>1.0</td>\n",
       "      <td>0</td>\n",
       "      <td>4</td>\n",
       "      <td>4</td>\n",
       "      <td>4</td>\n",
       "      <td>4</td>\n",
       "      <td>2</td>\n",
       "    </tr>\n",
       "    <tr>\n",
       "      <th>1</th>\n",
       "      <td>2</td>\n",
       "      <td>48.0</td>\n",
       "      <td>0.0</td>\n",
       "      <td>0.0</td>\n",
       "      <td>0.0</td>\n",
       "      <td>1.0</td>\n",
       "      <td>0.0</td>\n",
       "      <td>0.0</td>\n",
       "      <td>5951.0</td>\n",
       "      <td>2.0</td>\n",
       "      <td>...</td>\n",
       "      <td>1.0</td>\n",
       "      <td>0.0</td>\n",
       "      <td>0.0</td>\n",
       "      <td>0.0</td>\n",
       "      <td>1</td>\n",
       "      <td>2</td>\n",
       "      <td>0</td>\n",
       "      <td>2</td>\n",
       "      <td>2</td>\n",
       "      <td>2</td>\n",
       "    </tr>\n",
       "  </tbody>\n",
       "</table>\n",
       "<p>2 rows × 29 columns</p>\n",
       "</div>"
      ],
      "text/plain": [
       "  OBS  DURATION NEW_CAR USED_CAR FURNITURE RADIO_TV EDUCATION RETRAINING  \\\n",
       "0   1       6.0     0.0      0.0       0.0      1.0       0.0        0.0   \n",
       "1   2      48.0     0.0      0.0       0.0      1.0       0.0        0.0   \n",
       "\n",
       "   AMOUNT  INSTALL_RATE ...  NUM_DEPENDENTS TELEPHONE FOREIGN RESPONSE  \\\n",
       "0  1169.0           4.0 ...             1.0       1.0     0.0      1.0   \n",
       "1  5951.0           2.0 ...             1.0       0.0     0.0      0.0   \n",
       "\n",
       "   CHK_ACCT HISTORY SAV_ACCT EMPLOYMENT  PRESENT_RESIDENT  JOB  \n",
       "0         0       4        4          4                 4    2  \n",
       "1         1       2        0          2                 2    2  \n",
       "\n",
       "[2 rows x 29 columns]"
      ]
     },
     "execution_count": 127,
     "metadata": {},
     "output_type": "execute_result"
    }
   ],
   "source": [
    "# selecting 1st and 2nd row\n",
    "df3.iloc[0:2,:]"
   ]
  },
  {
   "cell_type": "markdown",
   "metadata": {},
   "source": [
    "### Finding outliers"
   ]
  },
  {
   "cell_type": "markdown",
   "metadata": {},
   "source": [
    "###### Threshold method"
   ]
  },
  {
   "cell_type": "code",
   "execution_count": 128,
   "metadata": {},
   "outputs": [],
   "source": [
    "import numpy as np\n",
    "def outliers_z_score(ys,threshold = 3):\n",
    "    \"\"\" This function takes a numeric column and returns the outliers.\n",
    "    Default threshold is 3, but takes any integer or float value\"\"\"\n",
    "    mean_y = np.mean(ys)\n",
    "    stdev_y = np.std(ys)\n",
    "    z_scores = [(y - mean_y) / stdev_y for y in ys]\n",
    "    return np.where(np.abs(z_scores) > threshold)"
   ]
  },
  {
   "cell_type": "code",
   "execution_count": 129,
   "metadata": {},
   "outputs": [
    {
     "name": "stderr",
     "output_type": "stream",
     "text": [
      "C:\\Users\\ISE\\Anaconda3\\lib\\site-packages\\ipykernel_launcher.py:8: RuntimeWarning: invalid value encountered in greater\n",
      "  \n"
     ]
    },
    {
     "data": {
      "text/plain": [
       "DURATION          ([29, 134, 255, 332, 373, 374, 616, 637, 672, ...\n",
       "AMOUNT            ([18, 63, 87, 95, 105, 236, 272, 274, 373, 374...\n",
       "INSTALL_RATE                                                  ([],)\n",
       "AGE                          ([163, 186, 330, 430, 536, 606, 756],)\n",
       "NUM_CREDITS                        ([65, 197, 590, 653, 807, 890],)\n",
       "NUM_DEPENDENTS                                                ([],)\n",
       "dtype: object"
      ]
     },
     "execution_count": 129,
     "metadata": {},
     "output_type": "execute_result"
    }
   ],
   "source": [
    "df3.loc[:,num_attr].apply(outliers_z_score)"
   ]
  },
  {
   "cell_type": "markdown",
   "metadata": {},
   "source": [
    "###### IQR method"
   ]
  },
  {
   "cell_type": "code",
   "execution_count": 130,
   "metadata": {},
   "outputs": [],
   "source": [
    "import numpy as np\n",
    "def outliers_iqr(ys):\n",
    "    quartile_1, quartile_3 = np.percentile(ys, [25, 75])\n",
    "    iqr = quartile_3 - quartile_1\n",
    "    lower_bound = quartile_1 - (iqr * 1.5)\n",
    "    upper_bound = quartile_3 + (iqr * 1.5)\n",
    "    return np.where((ys > upper_bound) | (ys < lower_bound))"
   ]
  },
  {
   "cell_type": "code",
   "execution_count": 131,
   "metadata": {},
   "outputs": [
    {
     "name": "stderr",
     "output_type": "stream",
     "text": [
      "C:\\Users\\ISE\\Anaconda3\\lib\\site-packages\\numpy\\lib\\function_base.py:4291: RuntimeWarning: Invalid value encountered in percentile\n",
      "  interpolation=interpolation)\n"
     ]
    },
    {
     "data": {
      "text/plain": [
       "DURATION          ([],)\n",
       "AMOUNT            ([],)\n",
       "INSTALL_RATE      ([],)\n",
       "AGE               ([],)\n",
       "NUM_CREDITS       ([],)\n",
       "NUM_DEPENDENTS    ([],)\n",
       "dtype: object"
      ]
     },
     "execution_count": 131,
     "metadata": {},
     "output_type": "execute_result"
    }
   ],
   "source": [
    "df3.loc[:,num_attr].apply(outliers_iqr)"
   ]
  },
  {
   "cell_type": "markdown",
   "metadata": {},
   "source": [
    "##### Handling Missing values"
   ]
  },
  {
   "cell_type": "code",
   "execution_count": 132,
   "metadata": {},
   "outputs": [],
   "source": [
    "#To check null values in data"
   ]
  },
  {
   "cell_type": "code",
   "execution_count": 133,
   "metadata": {},
   "outputs": [
    {
     "data": {
      "text/html": [
       "<div>\n",
       "<style scoped>\n",
       "    .dataframe tbody tr th:only-of-type {\n",
       "        vertical-align: middle;\n",
       "    }\n",
       "\n",
       "    .dataframe tbody tr th {\n",
       "        vertical-align: top;\n",
       "    }\n",
       "\n",
       "    .dataframe thead th {\n",
       "        text-align: right;\n",
       "    }\n",
       "</style>\n",
       "<table border=\"1\" class=\"dataframe\">\n",
       "  <thead>\n",
       "    <tr style=\"text-align: right;\">\n",
       "      <th></th>\n",
       "      <th>OBS</th>\n",
       "      <th>DURATION</th>\n",
       "      <th>NEW_CAR</th>\n",
       "      <th>USED_CAR</th>\n",
       "      <th>FURNITURE</th>\n",
       "      <th>RADIO_TV</th>\n",
       "      <th>EDUCATION</th>\n",
       "      <th>RETRAINING</th>\n",
       "      <th>AMOUNT</th>\n",
       "      <th>INSTALL_RATE</th>\n",
       "      <th>...</th>\n",
       "      <th>NUM_DEPENDENTS</th>\n",
       "      <th>TELEPHONE</th>\n",
       "      <th>FOREIGN</th>\n",
       "      <th>RESPONSE</th>\n",
       "      <th>CHK_ACCT</th>\n",
       "      <th>HISTORY</th>\n",
       "      <th>SAV_ACCT</th>\n",
       "      <th>EMPLOYMENT</th>\n",
       "      <th>PRESENT_RESIDENT</th>\n",
       "      <th>JOB</th>\n",
       "    </tr>\n",
       "  </thead>\n",
       "  <tbody>\n",
       "    <tr>\n",
       "      <th>0</th>\n",
       "      <td>False</td>\n",
       "      <td>False</td>\n",
       "      <td>False</td>\n",
       "      <td>False</td>\n",
       "      <td>False</td>\n",
       "      <td>False</td>\n",
       "      <td>False</td>\n",
       "      <td>False</td>\n",
       "      <td>False</td>\n",
       "      <td>False</td>\n",
       "      <td>...</td>\n",
       "      <td>False</td>\n",
       "      <td>False</td>\n",
       "      <td>False</td>\n",
       "      <td>False</td>\n",
       "      <td>False</td>\n",
       "      <td>False</td>\n",
       "      <td>False</td>\n",
       "      <td>False</td>\n",
       "      <td>False</td>\n",
       "      <td>False</td>\n",
       "    </tr>\n",
       "    <tr>\n",
       "      <th>1</th>\n",
       "      <td>False</td>\n",
       "      <td>False</td>\n",
       "      <td>False</td>\n",
       "      <td>False</td>\n",
       "      <td>False</td>\n",
       "      <td>False</td>\n",
       "      <td>False</td>\n",
       "      <td>False</td>\n",
       "      <td>False</td>\n",
       "      <td>False</td>\n",
       "      <td>...</td>\n",
       "      <td>False</td>\n",
       "      <td>False</td>\n",
       "      <td>False</td>\n",
       "      <td>False</td>\n",
       "      <td>False</td>\n",
       "      <td>False</td>\n",
       "      <td>False</td>\n",
       "      <td>False</td>\n",
       "      <td>False</td>\n",
       "      <td>False</td>\n",
       "    </tr>\n",
       "    <tr>\n",
       "      <th>2</th>\n",
       "      <td>False</td>\n",
       "      <td>False</td>\n",
       "      <td>False</td>\n",
       "      <td>False</td>\n",
       "      <td>False</td>\n",
       "      <td>False</td>\n",
       "      <td>False</td>\n",
       "      <td>False</td>\n",
       "      <td>False</td>\n",
       "      <td>False</td>\n",
       "      <td>...</td>\n",
       "      <td>False</td>\n",
       "      <td>False</td>\n",
       "      <td>False</td>\n",
       "      <td>False</td>\n",
       "      <td>False</td>\n",
       "      <td>False</td>\n",
       "      <td>False</td>\n",
       "      <td>False</td>\n",
       "      <td>False</td>\n",
       "      <td>False</td>\n",
       "    </tr>\n",
       "    <tr>\n",
       "      <th>3</th>\n",
       "      <td>False</td>\n",
       "      <td>False</td>\n",
       "      <td>False</td>\n",
       "      <td>False</td>\n",
       "      <td>False</td>\n",
       "      <td>False</td>\n",
       "      <td>False</td>\n",
       "      <td>False</td>\n",
       "      <td>False</td>\n",
       "      <td>False</td>\n",
       "      <td>...</td>\n",
       "      <td>False</td>\n",
       "      <td>False</td>\n",
       "      <td>False</td>\n",
       "      <td>False</td>\n",
       "      <td>False</td>\n",
       "      <td>False</td>\n",
       "      <td>False</td>\n",
       "      <td>False</td>\n",
       "      <td>False</td>\n",
       "      <td>False</td>\n",
       "    </tr>\n",
       "    <tr>\n",
       "      <th>4</th>\n",
       "      <td>False</td>\n",
       "      <td>False</td>\n",
       "      <td>False</td>\n",
       "      <td>False</td>\n",
       "      <td>False</td>\n",
       "      <td>False</td>\n",
       "      <td>False</td>\n",
       "      <td>False</td>\n",
       "      <td>False</td>\n",
       "      <td>False</td>\n",
       "      <td>...</td>\n",
       "      <td>False</td>\n",
       "      <td>False</td>\n",
       "      <td>False</td>\n",
       "      <td>False</td>\n",
       "      <td>False</td>\n",
       "      <td>False</td>\n",
       "      <td>False</td>\n",
       "      <td>False</td>\n",
       "      <td>False</td>\n",
       "      <td>False</td>\n",
       "    </tr>\n",
       "    <tr>\n",
       "      <th>5</th>\n",
       "      <td>False</td>\n",
       "      <td>False</td>\n",
       "      <td>False</td>\n",
       "      <td>False</td>\n",
       "      <td>False</td>\n",
       "      <td>False</td>\n",
       "      <td>False</td>\n",
       "      <td>False</td>\n",
       "      <td>False</td>\n",
       "      <td>False</td>\n",
       "      <td>...</td>\n",
       "      <td>False</td>\n",
       "      <td>False</td>\n",
       "      <td>False</td>\n",
       "      <td>False</td>\n",
       "      <td>False</td>\n",
       "      <td>False</td>\n",
       "      <td>False</td>\n",
       "      <td>False</td>\n",
       "      <td>False</td>\n",
       "      <td>False</td>\n",
       "    </tr>\n",
       "    <tr>\n",
       "      <th>6</th>\n",
       "      <td>False</td>\n",
       "      <td>False</td>\n",
       "      <td>False</td>\n",
       "      <td>False</td>\n",
       "      <td>False</td>\n",
       "      <td>False</td>\n",
       "      <td>False</td>\n",
       "      <td>False</td>\n",
       "      <td>False</td>\n",
       "      <td>False</td>\n",
       "      <td>...</td>\n",
       "      <td>False</td>\n",
       "      <td>False</td>\n",
       "      <td>False</td>\n",
       "      <td>False</td>\n",
       "      <td>False</td>\n",
       "      <td>False</td>\n",
       "      <td>False</td>\n",
       "      <td>False</td>\n",
       "      <td>False</td>\n",
       "      <td>False</td>\n",
       "    </tr>\n",
       "    <tr>\n",
       "      <th>7</th>\n",
       "      <td>False</td>\n",
       "      <td>False</td>\n",
       "      <td>False</td>\n",
       "      <td>False</td>\n",
       "      <td>False</td>\n",
       "      <td>False</td>\n",
       "      <td>False</td>\n",
       "      <td>False</td>\n",
       "      <td>False</td>\n",
       "      <td>False</td>\n",
       "      <td>...</td>\n",
       "      <td>False</td>\n",
       "      <td>False</td>\n",
       "      <td>False</td>\n",
       "      <td>False</td>\n",
       "      <td>False</td>\n",
       "      <td>False</td>\n",
       "      <td>False</td>\n",
       "      <td>False</td>\n",
       "      <td>False</td>\n",
       "      <td>False</td>\n",
       "    </tr>\n",
       "    <tr>\n",
       "      <th>8</th>\n",
       "      <td>False</td>\n",
       "      <td>False</td>\n",
       "      <td>False</td>\n",
       "      <td>False</td>\n",
       "      <td>False</td>\n",
       "      <td>False</td>\n",
       "      <td>False</td>\n",
       "      <td>False</td>\n",
       "      <td>False</td>\n",
       "      <td>False</td>\n",
       "      <td>...</td>\n",
       "      <td>False</td>\n",
       "      <td>False</td>\n",
       "      <td>False</td>\n",
       "      <td>False</td>\n",
       "      <td>False</td>\n",
       "      <td>False</td>\n",
       "      <td>False</td>\n",
       "      <td>False</td>\n",
       "      <td>False</td>\n",
       "      <td>False</td>\n",
       "    </tr>\n",
       "    <tr>\n",
       "      <th>9</th>\n",
       "      <td>False</td>\n",
       "      <td>False</td>\n",
       "      <td>False</td>\n",
       "      <td>False</td>\n",
       "      <td>False</td>\n",
       "      <td>False</td>\n",
       "      <td>False</td>\n",
       "      <td>False</td>\n",
       "      <td>False</td>\n",
       "      <td>False</td>\n",
       "      <td>...</td>\n",
       "      <td>False</td>\n",
       "      <td>False</td>\n",
       "      <td>False</td>\n",
       "      <td>False</td>\n",
       "      <td>False</td>\n",
       "      <td>False</td>\n",
       "      <td>False</td>\n",
       "      <td>False</td>\n",
       "      <td>False</td>\n",
       "      <td>False</td>\n",
       "    </tr>\n",
       "    <tr>\n",
       "      <th>10</th>\n",
       "      <td>False</td>\n",
       "      <td>False</td>\n",
       "      <td>False</td>\n",
       "      <td>False</td>\n",
       "      <td>False</td>\n",
       "      <td>False</td>\n",
       "      <td>False</td>\n",
       "      <td>False</td>\n",
       "      <td>False</td>\n",
       "      <td>False</td>\n",
       "      <td>...</td>\n",
       "      <td>False</td>\n",
       "      <td>False</td>\n",
       "      <td>False</td>\n",
       "      <td>False</td>\n",
       "      <td>False</td>\n",
       "      <td>False</td>\n",
       "      <td>False</td>\n",
       "      <td>False</td>\n",
       "      <td>False</td>\n",
       "      <td>False</td>\n",
       "    </tr>\n",
       "    <tr>\n",
       "      <th>11</th>\n",
       "      <td>False</td>\n",
       "      <td>False</td>\n",
       "      <td>False</td>\n",
       "      <td>False</td>\n",
       "      <td>False</td>\n",
       "      <td>False</td>\n",
       "      <td>False</td>\n",
       "      <td>False</td>\n",
       "      <td>False</td>\n",
       "      <td>False</td>\n",
       "      <td>...</td>\n",
       "      <td>False</td>\n",
       "      <td>False</td>\n",
       "      <td>False</td>\n",
       "      <td>False</td>\n",
       "      <td>False</td>\n",
       "      <td>False</td>\n",
       "      <td>False</td>\n",
       "      <td>False</td>\n",
       "      <td>False</td>\n",
       "      <td>False</td>\n",
       "    </tr>\n",
       "    <tr>\n",
       "      <th>12</th>\n",
       "      <td>False</td>\n",
       "      <td>False</td>\n",
       "      <td>False</td>\n",
       "      <td>False</td>\n",
       "      <td>False</td>\n",
       "      <td>False</td>\n",
       "      <td>False</td>\n",
       "      <td>False</td>\n",
       "      <td>False</td>\n",
       "      <td>False</td>\n",
       "      <td>...</td>\n",
       "      <td>False</td>\n",
       "      <td>False</td>\n",
       "      <td>False</td>\n",
       "      <td>False</td>\n",
       "      <td>False</td>\n",
       "      <td>False</td>\n",
       "      <td>False</td>\n",
       "      <td>False</td>\n",
       "      <td>False</td>\n",
       "      <td>False</td>\n",
       "    </tr>\n",
       "    <tr>\n",
       "      <th>13</th>\n",
       "      <td>False</td>\n",
       "      <td>False</td>\n",
       "      <td>False</td>\n",
       "      <td>False</td>\n",
       "      <td>False</td>\n",
       "      <td>False</td>\n",
       "      <td>False</td>\n",
       "      <td>False</td>\n",
       "      <td>True</td>\n",
       "      <td>False</td>\n",
       "      <td>...</td>\n",
       "      <td>True</td>\n",
       "      <td>False</td>\n",
       "      <td>False</td>\n",
       "      <td>False</td>\n",
       "      <td>False</td>\n",
       "      <td>False</td>\n",
       "      <td>False</td>\n",
       "      <td>False</td>\n",
       "      <td>False</td>\n",
       "      <td>False</td>\n",
       "    </tr>\n",
       "    <tr>\n",
       "      <th>14</th>\n",
       "      <td>False</td>\n",
       "      <td>False</td>\n",
       "      <td>False</td>\n",
       "      <td>False</td>\n",
       "      <td>False</td>\n",
       "      <td>False</td>\n",
       "      <td>False</td>\n",
       "      <td>False</td>\n",
       "      <td>False</td>\n",
       "      <td>False</td>\n",
       "      <td>...</td>\n",
       "      <td>False</td>\n",
       "      <td>False</td>\n",
       "      <td>False</td>\n",
       "      <td>False</td>\n",
       "      <td>False</td>\n",
       "      <td>False</td>\n",
       "      <td>False</td>\n",
       "      <td>False</td>\n",
       "      <td>False</td>\n",
       "      <td>False</td>\n",
       "    </tr>\n",
       "    <tr>\n",
       "      <th>15</th>\n",
       "      <td>False</td>\n",
       "      <td>False</td>\n",
       "      <td>False</td>\n",
       "      <td>False</td>\n",
       "      <td>False</td>\n",
       "      <td>False</td>\n",
       "      <td>False</td>\n",
       "      <td>False</td>\n",
       "      <td>False</td>\n",
       "      <td>False</td>\n",
       "      <td>...</td>\n",
       "      <td>False</td>\n",
       "      <td>False</td>\n",
       "      <td>False</td>\n",
       "      <td>False</td>\n",
       "      <td>False</td>\n",
       "      <td>False</td>\n",
       "      <td>False</td>\n",
       "      <td>False</td>\n",
       "      <td>False</td>\n",
       "      <td>False</td>\n",
       "    </tr>\n",
       "    <tr>\n",
       "      <th>16</th>\n",
       "      <td>False</td>\n",
       "      <td>False</td>\n",
       "      <td>False</td>\n",
       "      <td>False</td>\n",
       "      <td>False</td>\n",
       "      <td>False</td>\n",
       "      <td>False</td>\n",
       "      <td>False</td>\n",
       "      <td>False</td>\n",
       "      <td>False</td>\n",
       "      <td>...</td>\n",
       "      <td>False</td>\n",
       "      <td>False</td>\n",
       "      <td>False</td>\n",
       "      <td>False</td>\n",
       "      <td>False</td>\n",
       "      <td>False</td>\n",
       "      <td>False</td>\n",
       "      <td>False</td>\n",
       "      <td>False</td>\n",
       "      <td>False</td>\n",
       "    </tr>\n",
       "    <tr>\n",
       "      <th>17</th>\n",
       "      <td>False</td>\n",
       "      <td>False</td>\n",
       "      <td>False</td>\n",
       "      <td>False</td>\n",
       "      <td>False</td>\n",
       "      <td>False</td>\n",
       "      <td>False</td>\n",
       "      <td>False</td>\n",
       "      <td>False</td>\n",
       "      <td>False</td>\n",
       "      <td>...</td>\n",
       "      <td>False</td>\n",
       "      <td>False</td>\n",
       "      <td>False</td>\n",
       "      <td>False</td>\n",
       "      <td>False</td>\n",
       "      <td>False</td>\n",
       "      <td>False</td>\n",
       "      <td>False</td>\n",
       "      <td>False</td>\n",
       "      <td>False</td>\n",
       "    </tr>\n",
       "    <tr>\n",
       "      <th>18</th>\n",
       "      <td>False</td>\n",
       "      <td>False</td>\n",
       "      <td>False</td>\n",
       "      <td>False</td>\n",
       "      <td>False</td>\n",
       "      <td>False</td>\n",
       "      <td>False</td>\n",
       "      <td>False</td>\n",
       "      <td>False</td>\n",
       "      <td>False</td>\n",
       "      <td>...</td>\n",
       "      <td>False</td>\n",
       "      <td>False</td>\n",
       "      <td>False</td>\n",
       "      <td>False</td>\n",
       "      <td>False</td>\n",
       "      <td>False</td>\n",
       "      <td>False</td>\n",
       "      <td>False</td>\n",
       "      <td>False</td>\n",
       "      <td>False</td>\n",
       "    </tr>\n",
       "    <tr>\n",
       "      <th>19</th>\n",
       "      <td>False</td>\n",
       "      <td>False</td>\n",
       "      <td>False</td>\n",
       "      <td>False</td>\n",
       "      <td>False</td>\n",
       "      <td>False</td>\n",
       "      <td>False</td>\n",
       "      <td>False</td>\n",
       "      <td>False</td>\n",
       "      <td>False</td>\n",
       "      <td>...</td>\n",
       "      <td>False</td>\n",
       "      <td>False</td>\n",
       "      <td>False</td>\n",
       "      <td>False</td>\n",
       "      <td>False</td>\n",
       "      <td>False</td>\n",
       "      <td>False</td>\n",
       "      <td>False</td>\n",
       "      <td>False</td>\n",
       "      <td>False</td>\n",
       "    </tr>\n",
       "    <tr>\n",
       "      <th>20</th>\n",
       "      <td>False</td>\n",
       "      <td>False</td>\n",
       "      <td>False</td>\n",
       "      <td>False</td>\n",
       "      <td>False</td>\n",
       "      <td>False</td>\n",
       "      <td>False</td>\n",
       "      <td>False</td>\n",
       "      <td>True</td>\n",
       "      <td>True</td>\n",
       "      <td>...</td>\n",
       "      <td>True</td>\n",
       "      <td>False</td>\n",
       "      <td>False</td>\n",
       "      <td>False</td>\n",
       "      <td>False</td>\n",
       "      <td>False</td>\n",
       "      <td>False</td>\n",
       "      <td>False</td>\n",
       "      <td>False</td>\n",
       "      <td>False</td>\n",
       "    </tr>\n",
       "    <tr>\n",
       "      <th>21</th>\n",
       "      <td>False</td>\n",
       "      <td>False</td>\n",
       "      <td>False</td>\n",
       "      <td>False</td>\n",
       "      <td>False</td>\n",
       "      <td>False</td>\n",
       "      <td>False</td>\n",
       "      <td>False</td>\n",
       "      <td>False</td>\n",
       "      <td>False</td>\n",
       "      <td>...</td>\n",
       "      <td>False</td>\n",
       "      <td>False</td>\n",
       "      <td>False</td>\n",
       "      <td>False</td>\n",
       "      <td>False</td>\n",
       "      <td>False</td>\n",
       "      <td>False</td>\n",
       "      <td>False</td>\n",
       "      <td>False</td>\n",
       "      <td>False</td>\n",
       "    </tr>\n",
       "    <tr>\n",
       "      <th>22</th>\n",
       "      <td>False</td>\n",
       "      <td>False</td>\n",
       "      <td>False</td>\n",
       "      <td>False</td>\n",
       "      <td>False</td>\n",
       "      <td>False</td>\n",
       "      <td>False</td>\n",
       "      <td>False</td>\n",
       "      <td>False</td>\n",
       "      <td>False</td>\n",
       "      <td>...</td>\n",
       "      <td>False</td>\n",
       "      <td>False</td>\n",
       "      <td>False</td>\n",
       "      <td>False</td>\n",
       "      <td>False</td>\n",
       "      <td>False</td>\n",
       "      <td>False</td>\n",
       "      <td>False</td>\n",
       "      <td>False</td>\n",
       "      <td>False</td>\n",
       "    </tr>\n",
       "    <tr>\n",
       "      <th>23</th>\n",
       "      <td>False</td>\n",
       "      <td>False</td>\n",
       "      <td>False</td>\n",
       "      <td>False</td>\n",
       "      <td>False</td>\n",
       "      <td>False</td>\n",
       "      <td>False</td>\n",
       "      <td>False</td>\n",
       "      <td>False</td>\n",
       "      <td>False</td>\n",
       "      <td>...</td>\n",
       "      <td>False</td>\n",
       "      <td>False</td>\n",
       "      <td>False</td>\n",
       "      <td>False</td>\n",
       "      <td>False</td>\n",
       "      <td>False</td>\n",
       "      <td>False</td>\n",
       "      <td>False</td>\n",
       "      <td>False</td>\n",
       "      <td>False</td>\n",
       "    </tr>\n",
       "    <tr>\n",
       "      <th>24</th>\n",
       "      <td>False</td>\n",
       "      <td>False</td>\n",
       "      <td>False</td>\n",
       "      <td>False</td>\n",
       "      <td>False</td>\n",
       "      <td>False</td>\n",
       "      <td>False</td>\n",
       "      <td>False</td>\n",
       "      <td>False</td>\n",
       "      <td>False</td>\n",
       "      <td>...</td>\n",
       "      <td>False</td>\n",
       "      <td>False</td>\n",
       "      <td>False</td>\n",
       "      <td>False</td>\n",
       "      <td>False</td>\n",
       "      <td>False</td>\n",
       "      <td>False</td>\n",
       "      <td>False</td>\n",
       "      <td>False</td>\n",
       "      <td>False</td>\n",
       "    </tr>\n",
       "    <tr>\n",
       "      <th>25</th>\n",
       "      <td>False</td>\n",
       "      <td>False</td>\n",
       "      <td>False</td>\n",
       "      <td>False</td>\n",
       "      <td>False</td>\n",
       "      <td>False</td>\n",
       "      <td>False</td>\n",
       "      <td>False</td>\n",
       "      <td>False</td>\n",
       "      <td>False</td>\n",
       "      <td>...</td>\n",
       "      <td>False</td>\n",
       "      <td>False</td>\n",
       "      <td>False</td>\n",
       "      <td>False</td>\n",
       "      <td>False</td>\n",
       "      <td>False</td>\n",
       "      <td>False</td>\n",
       "      <td>False</td>\n",
       "      <td>False</td>\n",
       "      <td>False</td>\n",
       "    </tr>\n",
       "    <tr>\n",
       "      <th>26</th>\n",
       "      <td>False</td>\n",
       "      <td>False</td>\n",
       "      <td>False</td>\n",
       "      <td>False</td>\n",
       "      <td>False</td>\n",
       "      <td>False</td>\n",
       "      <td>False</td>\n",
       "      <td>False</td>\n",
       "      <td>True</td>\n",
       "      <td>True</td>\n",
       "      <td>...</td>\n",
       "      <td>False</td>\n",
       "      <td>False</td>\n",
       "      <td>False</td>\n",
       "      <td>False</td>\n",
       "      <td>False</td>\n",
       "      <td>False</td>\n",
       "      <td>False</td>\n",
       "      <td>False</td>\n",
       "      <td>False</td>\n",
       "      <td>False</td>\n",
       "    </tr>\n",
       "    <tr>\n",
       "      <th>27</th>\n",
       "      <td>False</td>\n",
       "      <td>False</td>\n",
       "      <td>False</td>\n",
       "      <td>False</td>\n",
       "      <td>False</td>\n",
       "      <td>False</td>\n",
       "      <td>False</td>\n",
       "      <td>False</td>\n",
       "      <td>False</td>\n",
       "      <td>False</td>\n",
       "      <td>...</td>\n",
       "      <td>False</td>\n",
       "      <td>False</td>\n",
       "      <td>False</td>\n",
       "      <td>False</td>\n",
       "      <td>False</td>\n",
       "      <td>False</td>\n",
       "      <td>False</td>\n",
       "      <td>False</td>\n",
       "      <td>False</td>\n",
       "      <td>False</td>\n",
       "    </tr>\n",
       "    <tr>\n",
       "      <th>28</th>\n",
       "      <td>False</td>\n",
       "      <td>False</td>\n",
       "      <td>False</td>\n",
       "      <td>False</td>\n",
       "      <td>False</td>\n",
       "      <td>False</td>\n",
       "      <td>False</td>\n",
       "      <td>False</td>\n",
       "      <td>False</td>\n",
       "      <td>False</td>\n",
       "      <td>...</td>\n",
       "      <td>False</td>\n",
       "      <td>False</td>\n",
       "      <td>False</td>\n",
       "      <td>False</td>\n",
       "      <td>False</td>\n",
       "      <td>False</td>\n",
       "      <td>False</td>\n",
       "      <td>False</td>\n",
       "      <td>False</td>\n",
       "      <td>False</td>\n",
       "    </tr>\n",
       "    <tr>\n",
       "      <th>29</th>\n",
       "      <td>False</td>\n",
       "      <td>False</td>\n",
       "      <td>False</td>\n",
       "      <td>False</td>\n",
       "      <td>False</td>\n",
       "      <td>False</td>\n",
       "      <td>False</td>\n",
       "      <td>False</td>\n",
       "      <td>False</td>\n",
       "      <td>False</td>\n",
       "      <td>...</td>\n",
       "      <td>False</td>\n",
       "      <td>False</td>\n",
       "      <td>False</td>\n",
       "      <td>False</td>\n",
       "      <td>False</td>\n",
       "      <td>False</td>\n",
       "      <td>False</td>\n",
       "      <td>False</td>\n",
       "      <td>False</td>\n",
       "      <td>False</td>\n",
       "    </tr>\n",
       "    <tr>\n",
       "      <th>...</th>\n",
       "      <td>...</td>\n",
       "      <td>...</td>\n",
       "      <td>...</td>\n",
       "      <td>...</td>\n",
       "      <td>...</td>\n",
       "      <td>...</td>\n",
       "      <td>...</td>\n",
       "      <td>...</td>\n",
       "      <td>...</td>\n",
       "      <td>...</td>\n",
       "      <td>...</td>\n",
       "      <td>...</td>\n",
       "      <td>...</td>\n",
       "      <td>...</td>\n",
       "      <td>...</td>\n",
       "      <td>...</td>\n",
       "      <td>...</td>\n",
       "      <td>...</td>\n",
       "      <td>...</td>\n",
       "      <td>...</td>\n",
       "      <td>...</td>\n",
       "    </tr>\n",
       "    <tr>\n",
       "      <th>970</th>\n",
       "      <td>False</td>\n",
       "      <td>False</td>\n",
       "      <td>False</td>\n",
       "      <td>False</td>\n",
       "      <td>False</td>\n",
       "      <td>False</td>\n",
       "      <td>False</td>\n",
       "      <td>False</td>\n",
       "      <td>False</td>\n",
       "      <td>False</td>\n",
       "      <td>...</td>\n",
       "      <td>False</td>\n",
       "      <td>False</td>\n",
       "      <td>False</td>\n",
       "      <td>False</td>\n",
       "      <td>False</td>\n",
       "      <td>False</td>\n",
       "      <td>False</td>\n",
       "      <td>False</td>\n",
       "      <td>False</td>\n",
       "      <td>False</td>\n",
       "    </tr>\n",
       "    <tr>\n",
       "      <th>971</th>\n",
       "      <td>False</td>\n",
       "      <td>False</td>\n",
       "      <td>False</td>\n",
       "      <td>False</td>\n",
       "      <td>False</td>\n",
       "      <td>False</td>\n",
       "      <td>False</td>\n",
       "      <td>False</td>\n",
       "      <td>False</td>\n",
       "      <td>False</td>\n",
       "      <td>...</td>\n",
       "      <td>False</td>\n",
       "      <td>False</td>\n",
       "      <td>False</td>\n",
       "      <td>False</td>\n",
       "      <td>False</td>\n",
       "      <td>False</td>\n",
       "      <td>False</td>\n",
       "      <td>False</td>\n",
       "      <td>False</td>\n",
       "      <td>False</td>\n",
       "    </tr>\n",
       "    <tr>\n",
       "      <th>972</th>\n",
       "      <td>False</td>\n",
       "      <td>False</td>\n",
       "      <td>False</td>\n",
       "      <td>False</td>\n",
       "      <td>False</td>\n",
       "      <td>False</td>\n",
       "      <td>False</td>\n",
       "      <td>False</td>\n",
       "      <td>False</td>\n",
       "      <td>False</td>\n",
       "      <td>...</td>\n",
       "      <td>False</td>\n",
       "      <td>False</td>\n",
       "      <td>False</td>\n",
       "      <td>False</td>\n",
       "      <td>False</td>\n",
       "      <td>False</td>\n",
       "      <td>False</td>\n",
       "      <td>False</td>\n",
       "      <td>False</td>\n",
       "      <td>False</td>\n",
       "    </tr>\n",
       "    <tr>\n",
       "      <th>973</th>\n",
       "      <td>False</td>\n",
       "      <td>False</td>\n",
       "      <td>False</td>\n",
       "      <td>False</td>\n",
       "      <td>False</td>\n",
       "      <td>False</td>\n",
       "      <td>False</td>\n",
       "      <td>False</td>\n",
       "      <td>False</td>\n",
       "      <td>False</td>\n",
       "      <td>...</td>\n",
       "      <td>False</td>\n",
       "      <td>False</td>\n",
       "      <td>False</td>\n",
       "      <td>False</td>\n",
       "      <td>False</td>\n",
       "      <td>False</td>\n",
       "      <td>False</td>\n",
       "      <td>False</td>\n",
       "      <td>False</td>\n",
       "      <td>False</td>\n",
       "    </tr>\n",
       "    <tr>\n",
       "      <th>974</th>\n",
       "      <td>False</td>\n",
       "      <td>False</td>\n",
       "      <td>False</td>\n",
       "      <td>False</td>\n",
       "      <td>False</td>\n",
       "      <td>False</td>\n",
       "      <td>False</td>\n",
       "      <td>False</td>\n",
       "      <td>False</td>\n",
       "      <td>False</td>\n",
       "      <td>...</td>\n",
       "      <td>False</td>\n",
       "      <td>False</td>\n",
       "      <td>False</td>\n",
       "      <td>False</td>\n",
       "      <td>False</td>\n",
       "      <td>False</td>\n",
       "      <td>False</td>\n",
       "      <td>False</td>\n",
       "      <td>False</td>\n",
       "      <td>False</td>\n",
       "    </tr>\n",
       "    <tr>\n",
       "      <th>975</th>\n",
       "      <td>False</td>\n",
       "      <td>False</td>\n",
       "      <td>False</td>\n",
       "      <td>False</td>\n",
       "      <td>False</td>\n",
       "      <td>False</td>\n",
       "      <td>False</td>\n",
       "      <td>False</td>\n",
       "      <td>False</td>\n",
       "      <td>False</td>\n",
       "      <td>...</td>\n",
       "      <td>False</td>\n",
       "      <td>False</td>\n",
       "      <td>False</td>\n",
       "      <td>False</td>\n",
       "      <td>False</td>\n",
       "      <td>False</td>\n",
       "      <td>False</td>\n",
       "      <td>False</td>\n",
       "      <td>False</td>\n",
       "      <td>False</td>\n",
       "    </tr>\n",
       "    <tr>\n",
       "      <th>976</th>\n",
       "      <td>False</td>\n",
       "      <td>False</td>\n",
       "      <td>False</td>\n",
       "      <td>False</td>\n",
       "      <td>False</td>\n",
       "      <td>False</td>\n",
       "      <td>False</td>\n",
       "      <td>False</td>\n",
       "      <td>False</td>\n",
       "      <td>False</td>\n",
       "      <td>...</td>\n",
       "      <td>False</td>\n",
       "      <td>False</td>\n",
       "      <td>False</td>\n",
       "      <td>False</td>\n",
       "      <td>False</td>\n",
       "      <td>False</td>\n",
       "      <td>False</td>\n",
       "      <td>False</td>\n",
       "      <td>False</td>\n",
       "      <td>False</td>\n",
       "    </tr>\n",
       "    <tr>\n",
       "      <th>977</th>\n",
       "      <td>False</td>\n",
       "      <td>False</td>\n",
       "      <td>False</td>\n",
       "      <td>False</td>\n",
       "      <td>False</td>\n",
       "      <td>False</td>\n",
       "      <td>False</td>\n",
       "      <td>False</td>\n",
       "      <td>False</td>\n",
       "      <td>False</td>\n",
       "      <td>...</td>\n",
       "      <td>False</td>\n",
       "      <td>False</td>\n",
       "      <td>False</td>\n",
       "      <td>False</td>\n",
       "      <td>False</td>\n",
       "      <td>False</td>\n",
       "      <td>False</td>\n",
       "      <td>False</td>\n",
       "      <td>False</td>\n",
       "      <td>False</td>\n",
       "    </tr>\n",
       "    <tr>\n",
       "      <th>978</th>\n",
       "      <td>False</td>\n",
       "      <td>False</td>\n",
       "      <td>False</td>\n",
       "      <td>False</td>\n",
       "      <td>False</td>\n",
       "      <td>False</td>\n",
       "      <td>False</td>\n",
       "      <td>False</td>\n",
       "      <td>False</td>\n",
       "      <td>False</td>\n",
       "      <td>...</td>\n",
       "      <td>False</td>\n",
       "      <td>False</td>\n",
       "      <td>False</td>\n",
       "      <td>False</td>\n",
       "      <td>False</td>\n",
       "      <td>False</td>\n",
       "      <td>False</td>\n",
       "      <td>False</td>\n",
       "      <td>False</td>\n",
       "      <td>False</td>\n",
       "    </tr>\n",
       "    <tr>\n",
       "      <th>979</th>\n",
       "      <td>False</td>\n",
       "      <td>False</td>\n",
       "      <td>False</td>\n",
       "      <td>False</td>\n",
       "      <td>False</td>\n",
       "      <td>False</td>\n",
       "      <td>False</td>\n",
       "      <td>False</td>\n",
       "      <td>False</td>\n",
       "      <td>False</td>\n",
       "      <td>...</td>\n",
       "      <td>False</td>\n",
       "      <td>False</td>\n",
       "      <td>False</td>\n",
       "      <td>False</td>\n",
       "      <td>False</td>\n",
       "      <td>False</td>\n",
       "      <td>False</td>\n",
       "      <td>False</td>\n",
       "      <td>False</td>\n",
       "      <td>False</td>\n",
       "    </tr>\n",
       "    <tr>\n",
       "      <th>980</th>\n",
       "      <td>False</td>\n",
       "      <td>False</td>\n",
       "      <td>False</td>\n",
       "      <td>False</td>\n",
       "      <td>False</td>\n",
       "      <td>False</td>\n",
       "      <td>False</td>\n",
       "      <td>False</td>\n",
       "      <td>True</td>\n",
       "      <td>True</td>\n",
       "      <td>...</td>\n",
       "      <td>False</td>\n",
       "      <td>False</td>\n",
       "      <td>False</td>\n",
       "      <td>False</td>\n",
       "      <td>False</td>\n",
       "      <td>False</td>\n",
       "      <td>False</td>\n",
       "      <td>False</td>\n",
       "      <td>False</td>\n",
       "      <td>False</td>\n",
       "    </tr>\n",
       "    <tr>\n",
       "      <th>981</th>\n",
       "      <td>False</td>\n",
       "      <td>False</td>\n",
       "      <td>False</td>\n",
       "      <td>False</td>\n",
       "      <td>False</td>\n",
       "      <td>False</td>\n",
       "      <td>False</td>\n",
       "      <td>False</td>\n",
       "      <td>False</td>\n",
       "      <td>False</td>\n",
       "      <td>...</td>\n",
       "      <td>False</td>\n",
       "      <td>False</td>\n",
       "      <td>False</td>\n",
       "      <td>False</td>\n",
       "      <td>False</td>\n",
       "      <td>False</td>\n",
       "      <td>False</td>\n",
       "      <td>False</td>\n",
       "      <td>False</td>\n",
       "      <td>False</td>\n",
       "    </tr>\n",
       "    <tr>\n",
       "      <th>982</th>\n",
       "      <td>False</td>\n",
       "      <td>False</td>\n",
       "      <td>False</td>\n",
       "      <td>False</td>\n",
       "      <td>False</td>\n",
       "      <td>False</td>\n",
       "      <td>False</td>\n",
       "      <td>False</td>\n",
       "      <td>False</td>\n",
       "      <td>False</td>\n",
       "      <td>...</td>\n",
       "      <td>False</td>\n",
       "      <td>False</td>\n",
       "      <td>False</td>\n",
       "      <td>False</td>\n",
       "      <td>False</td>\n",
       "      <td>False</td>\n",
       "      <td>False</td>\n",
       "      <td>False</td>\n",
       "      <td>False</td>\n",
       "      <td>False</td>\n",
       "    </tr>\n",
       "    <tr>\n",
       "      <th>983</th>\n",
       "      <td>False</td>\n",
       "      <td>False</td>\n",
       "      <td>False</td>\n",
       "      <td>False</td>\n",
       "      <td>False</td>\n",
       "      <td>False</td>\n",
       "      <td>False</td>\n",
       "      <td>False</td>\n",
       "      <td>False</td>\n",
       "      <td>False</td>\n",
       "      <td>...</td>\n",
       "      <td>False</td>\n",
       "      <td>False</td>\n",
       "      <td>False</td>\n",
       "      <td>False</td>\n",
       "      <td>False</td>\n",
       "      <td>False</td>\n",
       "      <td>False</td>\n",
       "      <td>False</td>\n",
       "      <td>False</td>\n",
       "      <td>False</td>\n",
       "    </tr>\n",
       "    <tr>\n",
       "      <th>984</th>\n",
       "      <td>False</td>\n",
       "      <td>False</td>\n",
       "      <td>False</td>\n",
       "      <td>False</td>\n",
       "      <td>False</td>\n",
       "      <td>False</td>\n",
       "      <td>False</td>\n",
       "      <td>False</td>\n",
       "      <td>False</td>\n",
       "      <td>False</td>\n",
       "      <td>...</td>\n",
       "      <td>False</td>\n",
       "      <td>False</td>\n",
       "      <td>False</td>\n",
       "      <td>False</td>\n",
       "      <td>False</td>\n",
       "      <td>False</td>\n",
       "      <td>False</td>\n",
       "      <td>False</td>\n",
       "      <td>False</td>\n",
       "      <td>False</td>\n",
       "    </tr>\n",
       "    <tr>\n",
       "      <th>985</th>\n",
       "      <td>False</td>\n",
       "      <td>False</td>\n",
       "      <td>False</td>\n",
       "      <td>False</td>\n",
       "      <td>False</td>\n",
       "      <td>False</td>\n",
       "      <td>False</td>\n",
       "      <td>False</td>\n",
       "      <td>False</td>\n",
       "      <td>False</td>\n",
       "      <td>...</td>\n",
       "      <td>False</td>\n",
       "      <td>False</td>\n",
       "      <td>False</td>\n",
       "      <td>False</td>\n",
       "      <td>False</td>\n",
       "      <td>False</td>\n",
       "      <td>False</td>\n",
       "      <td>False</td>\n",
       "      <td>False</td>\n",
       "      <td>False</td>\n",
       "    </tr>\n",
       "    <tr>\n",
       "      <th>986</th>\n",
       "      <td>False</td>\n",
       "      <td>False</td>\n",
       "      <td>False</td>\n",
       "      <td>False</td>\n",
       "      <td>False</td>\n",
       "      <td>False</td>\n",
       "      <td>False</td>\n",
       "      <td>False</td>\n",
       "      <td>False</td>\n",
       "      <td>False</td>\n",
       "      <td>...</td>\n",
       "      <td>False</td>\n",
       "      <td>False</td>\n",
       "      <td>False</td>\n",
       "      <td>False</td>\n",
       "      <td>False</td>\n",
       "      <td>False</td>\n",
       "      <td>False</td>\n",
       "      <td>False</td>\n",
       "      <td>False</td>\n",
       "      <td>False</td>\n",
       "    </tr>\n",
       "    <tr>\n",
       "      <th>987</th>\n",
       "      <td>False</td>\n",
       "      <td>False</td>\n",
       "      <td>False</td>\n",
       "      <td>False</td>\n",
       "      <td>False</td>\n",
       "      <td>False</td>\n",
       "      <td>False</td>\n",
       "      <td>False</td>\n",
       "      <td>False</td>\n",
       "      <td>False</td>\n",
       "      <td>...</td>\n",
       "      <td>False</td>\n",
       "      <td>False</td>\n",
       "      <td>False</td>\n",
       "      <td>False</td>\n",
       "      <td>False</td>\n",
       "      <td>False</td>\n",
       "      <td>False</td>\n",
       "      <td>False</td>\n",
       "      <td>False</td>\n",
       "      <td>False</td>\n",
       "    </tr>\n",
       "    <tr>\n",
       "      <th>988</th>\n",
       "      <td>False</td>\n",
       "      <td>False</td>\n",
       "      <td>False</td>\n",
       "      <td>False</td>\n",
       "      <td>False</td>\n",
       "      <td>False</td>\n",
       "      <td>False</td>\n",
       "      <td>False</td>\n",
       "      <td>False</td>\n",
       "      <td>False</td>\n",
       "      <td>...</td>\n",
       "      <td>False</td>\n",
       "      <td>False</td>\n",
       "      <td>False</td>\n",
       "      <td>False</td>\n",
       "      <td>False</td>\n",
       "      <td>False</td>\n",
       "      <td>False</td>\n",
       "      <td>False</td>\n",
       "      <td>False</td>\n",
       "      <td>False</td>\n",
       "    </tr>\n",
       "    <tr>\n",
       "      <th>989</th>\n",
       "      <td>False</td>\n",
       "      <td>False</td>\n",
       "      <td>False</td>\n",
       "      <td>False</td>\n",
       "      <td>False</td>\n",
       "      <td>False</td>\n",
       "      <td>False</td>\n",
       "      <td>False</td>\n",
       "      <td>False</td>\n",
       "      <td>False</td>\n",
       "      <td>...</td>\n",
       "      <td>False</td>\n",
       "      <td>False</td>\n",
       "      <td>False</td>\n",
       "      <td>False</td>\n",
       "      <td>False</td>\n",
       "      <td>False</td>\n",
       "      <td>False</td>\n",
       "      <td>False</td>\n",
       "      <td>False</td>\n",
       "      <td>False</td>\n",
       "    </tr>\n",
       "    <tr>\n",
       "      <th>990</th>\n",
       "      <td>False</td>\n",
       "      <td>False</td>\n",
       "      <td>False</td>\n",
       "      <td>False</td>\n",
       "      <td>False</td>\n",
       "      <td>False</td>\n",
       "      <td>False</td>\n",
       "      <td>False</td>\n",
       "      <td>False</td>\n",
       "      <td>False</td>\n",
       "      <td>...</td>\n",
       "      <td>False</td>\n",
       "      <td>False</td>\n",
       "      <td>False</td>\n",
       "      <td>False</td>\n",
       "      <td>False</td>\n",
       "      <td>False</td>\n",
       "      <td>False</td>\n",
       "      <td>False</td>\n",
       "      <td>False</td>\n",
       "      <td>False</td>\n",
       "    </tr>\n",
       "    <tr>\n",
       "      <th>991</th>\n",
       "      <td>False</td>\n",
       "      <td>False</td>\n",
       "      <td>False</td>\n",
       "      <td>False</td>\n",
       "      <td>False</td>\n",
       "      <td>False</td>\n",
       "      <td>False</td>\n",
       "      <td>False</td>\n",
       "      <td>False</td>\n",
       "      <td>False</td>\n",
       "      <td>...</td>\n",
       "      <td>False</td>\n",
       "      <td>False</td>\n",
       "      <td>False</td>\n",
       "      <td>False</td>\n",
       "      <td>False</td>\n",
       "      <td>False</td>\n",
       "      <td>False</td>\n",
       "      <td>False</td>\n",
       "      <td>False</td>\n",
       "      <td>False</td>\n",
       "    </tr>\n",
       "    <tr>\n",
       "      <th>992</th>\n",
       "      <td>False</td>\n",
       "      <td>False</td>\n",
       "      <td>False</td>\n",
       "      <td>False</td>\n",
       "      <td>False</td>\n",
       "      <td>False</td>\n",
       "      <td>False</td>\n",
       "      <td>False</td>\n",
       "      <td>False</td>\n",
       "      <td>False</td>\n",
       "      <td>...</td>\n",
       "      <td>False</td>\n",
       "      <td>False</td>\n",
       "      <td>False</td>\n",
       "      <td>False</td>\n",
       "      <td>False</td>\n",
       "      <td>False</td>\n",
       "      <td>False</td>\n",
       "      <td>False</td>\n",
       "      <td>False</td>\n",
       "      <td>False</td>\n",
       "    </tr>\n",
       "    <tr>\n",
       "      <th>993</th>\n",
       "      <td>False</td>\n",
       "      <td>False</td>\n",
       "      <td>False</td>\n",
       "      <td>False</td>\n",
       "      <td>False</td>\n",
       "      <td>False</td>\n",
       "      <td>False</td>\n",
       "      <td>False</td>\n",
       "      <td>False</td>\n",
       "      <td>False</td>\n",
       "      <td>...</td>\n",
       "      <td>False</td>\n",
       "      <td>False</td>\n",
       "      <td>False</td>\n",
       "      <td>False</td>\n",
       "      <td>False</td>\n",
       "      <td>False</td>\n",
       "      <td>False</td>\n",
       "      <td>False</td>\n",
       "      <td>False</td>\n",
       "      <td>False</td>\n",
       "    </tr>\n",
       "    <tr>\n",
       "      <th>994</th>\n",
       "      <td>False</td>\n",
       "      <td>False</td>\n",
       "      <td>False</td>\n",
       "      <td>False</td>\n",
       "      <td>False</td>\n",
       "      <td>False</td>\n",
       "      <td>False</td>\n",
       "      <td>False</td>\n",
       "      <td>False</td>\n",
       "      <td>False</td>\n",
       "      <td>...</td>\n",
       "      <td>False</td>\n",
       "      <td>False</td>\n",
       "      <td>False</td>\n",
       "      <td>False</td>\n",
       "      <td>False</td>\n",
       "      <td>False</td>\n",
       "      <td>False</td>\n",
       "      <td>False</td>\n",
       "      <td>False</td>\n",
       "      <td>False</td>\n",
       "    </tr>\n",
       "    <tr>\n",
       "      <th>995</th>\n",
       "      <td>False</td>\n",
       "      <td>False</td>\n",
       "      <td>False</td>\n",
       "      <td>False</td>\n",
       "      <td>False</td>\n",
       "      <td>False</td>\n",
       "      <td>False</td>\n",
       "      <td>False</td>\n",
       "      <td>True</td>\n",
       "      <td>True</td>\n",
       "      <td>...</td>\n",
       "      <td>True</td>\n",
       "      <td>False</td>\n",
       "      <td>False</td>\n",
       "      <td>False</td>\n",
       "      <td>False</td>\n",
       "      <td>False</td>\n",
       "      <td>False</td>\n",
       "      <td>False</td>\n",
       "      <td>False</td>\n",
       "      <td>False</td>\n",
       "    </tr>\n",
       "    <tr>\n",
       "      <th>996</th>\n",
       "      <td>False</td>\n",
       "      <td>False</td>\n",
       "      <td>False</td>\n",
       "      <td>False</td>\n",
       "      <td>False</td>\n",
       "      <td>False</td>\n",
       "      <td>False</td>\n",
       "      <td>False</td>\n",
       "      <td>False</td>\n",
       "      <td>False</td>\n",
       "      <td>...</td>\n",
       "      <td>False</td>\n",
       "      <td>False</td>\n",
       "      <td>False</td>\n",
       "      <td>False</td>\n",
       "      <td>False</td>\n",
       "      <td>False</td>\n",
       "      <td>False</td>\n",
       "      <td>False</td>\n",
       "      <td>False</td>\n",
       "      <td>False</td>\n",
       "    </tr>\n",
       "    <tr>\n",
       "      <th>997</th>\n",
       "      <td>False</td>\n",
       "      <td>False</td>\n",
       "      <td>False</td>\n",
       "      <td>False</td>\n",
       "      <td>False</td>\n",
       "      <td>False</td>\n",
       "      <td>False</td>\n",
       "      <td>False</td>\n",
       "      <td>False</td>\n",
       "      <td>False</td>\n",
       "      <td>...</td>\n",
       "      <td>False</td>\n",
       "      <td>False</td>\n",
       "      <td>False</td>\n",
       "      <td>False</td>\n",
       "      <td>False</td>\n",
       "      <td>False</td>\n",
       "      <td>False</td>\n",
       "      <td>False</td>\n",
       "      <td>False</td>\n",
       "      <td>False</td>\n",
       "    </tr>\n",
       "    <tr>\n",
       "      <th>998</th>\n",
       "      <td>False</td>\n",
       "      <td>False</td>\n",
       "      <td>False</td>\n",
       "      <td>False</td>\n",
       "      <td>False</td>\n",
       "      <td>False</td>\n",
       "      <td>False</td>\n",
       "      <td>False</td>\n",
       "      <td>False</td>\n",
       "      <td>False</td>\n",
       "      <td>...</td>\n",
       "      <td>False</td>\n",
       "      <td>False</td>\n",
       "      <td>False</td>\n",
       "      <td>False</td>\n",
       "      <td>False</td>\n",
       "      <td>False</td>\n",
       "      <td>False</td>\n",
       "      <td>False</td>\n",
       "      <td>False</td>\n",
       "      <td>False</td>\n",
       "    </tr>\n",
       "    <tr>\n",
       "      <th>999</th>\n",
       "      <td>False</td>\n",
       "      <td>False</td>\n",
       "      <td>False</td>\n",
       "      <td>False</td>\n",
       "      <td>False</td>\n",
       "      <td>False</td>\n",
       "      <td>False</td>\n",
       "      <td>False</td>\n",
       "      <td>True</td>\n",
       "      <td>False</td>\n",
       "      <td>...</td>\n",
       "      <td>False</td>\n",
       "      <td>False</td>\n",
       "      <td>False</td>\n",
       "      <td>False</td>\n",
       "      <td>False</td>\n",
       "      <td>False</td>\n",
       "      <td>False</td>\n",
       "      <td>False</td>\n",
       "      <td>False</td>\n",
       "      <td>False</td>\n",
       "    </tr>\n",
       "  </tbody>\n",
       "</table>\n",
       "<p>1000 rows × 29 columns</p>\n",
       "</div>"
      ],
      "text/plain": [
       "       OBS  DURATION  NEW_CAR  USED_CAR  FURNITURE  RADIO_TV  EDUCATION  \\\n",
       "0    False     False    False     False      False     False      False   \n",
       "1    False     False    False     False      False     False      False   \n",
       "2    False     False    False     False      False     False      False   \n",
       "3    False     False    False     False      False     False      False   \n",
       "4    False     False    False     False      False     False      False   \n",
       "5    False     False    False     False      False     False      False   \n",
       "6    False     False    False     False      False     False      False   \n",
       "7    False     False    False     False      False     False      False   \n",
       "8    False     False    False     False      False     False      False   \n",
       "9    False     False    False     False      False     False      False   \n",
       "10   False     False    False     False      False     False      False   \n",
       "11   False     False    False     False      False     False      False   \n",
       "12   False     False    False     False      False     False      False   \n",
       "13   False     False    False     False      False     False      False   \n",
       "14   False     False    False     False      False     False      False   \n",
       "15   False     False    False     False      False     False      False   \n",
       "16   False     False    False     False      False     False      False   \n",
       "17   False     False    False     False      False     False      False   \n",
       "18   False     False    False     False      False     False      False   \n",
       "19   False     False    False     False      False     False      False   \n",
       "20   False     False    False     False      False     False      False   \n",
       "21   False     False    False     False      False     False      False   \n",
       "22   False     False    False     False      False     False      False   \n",
       "23   False     False    False     False      False     False      False   \n",
       "24   False     False    False     False      False     False      False   \n",
       "25   False     False    False     False      False     False      False   \n",
       "26   False     False    False     False      False     False      False   \n",
       "27   False     False    False     False      False     False      False   \n",
       "28   False     False    False     False      False     False      False   \n",
       "29   False     False    False     False      False     False      False   \n",
       "..     ...       ...      ...       ...        ...       ...        ...   \n",
       "970  False     False    False     False      False     False      False   \n",
       "971  False     False    False     False      False     False      False   \n",
       "972  False     False    False     False      False     False      False   \n",
       "973  False     False    False     False      False     False      False   \n",
       "974  False     False    False     False      False     False      False   \n",
       "975  False     False    False     False      False     False      False   \n",
       "976  False     False    False     False      False     False      False   \n",
       "977  False     False    False     False      False     False      False   \n",
       "978  False     False    False     False      False     False      False   \n",
       "979  False     False    False     False      False     False      False   \n",
       "980  False     False    False     False      False     False      False   \n",
       "981  False     False    False     False      False     False      False   \n",
       "982  False     False    False     False      False     False      False   \n",
       "983  False     False    False     False      False     False      False   \n",
       "984  False     False    False     False      False     False      False   \n",
       "985  False     False    False     False      False     False      False   \n",
       "986  False     False    False     False      False     False      False   \n",
       "987  False     False    False     False      False     False      False   \n",
       "988  False     False    False     False      False     False      False   \n",
       "989  False     False    False     False      False     False      False   \n",
       "990  False     False    False     False      False     False      False   \n",
       "991  False     False    False     False      False     False      False   \n",
       "992  False     False    False     False      False     False      False   \n",
       "993  False     False    False     False      False     False      False   \n",
       "994  False     False    False     False      False     False      False   \n",
       "995  False     False    False     False      False     False      False   \n",
       "996  False     False    False     False      False     False      False   \n",
       "997  False     False    False     False      False     False      False   \n",
       "998  False     False    False     False      False     False      False   \n",
       "999  False     False    False     False      False     False      False   \n",
       "\n",
       "     RETRAINING  AMOUNT  INSTALL_RATE  ...    NUM_DEPENDENTS  TELEPHONE  \\\n",
       "0         False   False         False  ...             False      False   \n",
       "1         False   False         False  ...             False      False   \n",
       "2         False   False         False  ...             False      False   \n",
       "3         False   False         False  ...             False      False   \n",
       "4         False   False         False  ...             False      False   \n",
       "5         False   False         False  ...             False      False   \n",
       "6         False   False         False  ...             False      False   \n",
       "7         False   False         False  ...             False      False   \n",
       "8         False   False         False  ...             False      False   \n",
       "9         False   False         False  ...             False      False   \n",
       "10        False   False         False  ...             False      False   \n",
       "11        False   False         False  ...             False      False   \n",
       "12        False   False         False  ...             False      False   \n",
       "13        False    True         False  ...              True      False   \n",
       "14        False   False         False  ...             False      False   \n",
       "15        False   False         False  ...             False      False   \n",
       "16        False   False         False  ...             False      False   \n",
       "17        False   False         False  ...             False      False   \n",
       "18        False   False         False  ...             False      False   \n",
       "19        False   False         False  ...             False      False   \n",
       "20        False    True          True  ...              True      False   \n",
       "21        False   False         False  ...             False      False   \n",
       "22        False   False         False  ...             False      False   \n",
       "23        False   False         False  ...             False      False   \n",
       "24        False   False         False  ...             False      False   \n",
       "25        False   False         False  ...             False      False   \n",
       "26        False    True          True  ...             False      False   \n",
       "27        False   False         False  ...             False      False   \n",
       "28        False   False         False  ...             False      False   \n",
       "29        False   False         False  ...             False      False   \n",
       "..          ...     ...           ...  ...               ...        ...   \n",
       "970       False   False         False  ...             False      False   \n",
       "971       False   False         False  ...             False      False   \n",
       "972       False   False         False  ...             False      False   \n",
       "973       False   False         False  ...             False      False   \n",
       "974       False   False         False  ...             False      False   \n",
       "975       False   False         False  ...             False      False   \n",
       "976       False   False         False  ...             False      False   \n",
       "977       False   False         False  ...             False      False   \n",
       "978       False   False         False  ...             False      False   \n",
       "979       False   False         False  ...             False      False   \n",
       "980       False    True          True  ...             False      False   \n",
       "981       False   False         False  ...             False      False   \n",
       "982       False   False         False  ...             False      False   \n",
       "983       False   False         False  ...             False      False   \n",
       "984       False   False         False  ...             False      False   \n",
       "985       False   False         False  ...             False      False   \n",
       "986       False   False         False  ...             False      False   \n",
       "987       False   False         False  ...             False      False   \n",
       "988       False   False         False  ...             False      False   \n",
       "989       False   False         False  ...             False      False   \n",
       "990       False   False         False  ...             False      False   \n",
       "991       False   False         False  ...             False      False   \n",
       "992       False   False         False  ...             False      False   \n",
       "993       False   False         False  ...             False      False   \n",
       "994       False   False         False  ...             False      False   \n",
       "995       False    True          True  ...              True      False   \n",
       "996       False   False         False  ...             False      False   \n",
       "997       False   False         False  ...             False      False   \n",
       "998       False   False         False  ...             False      False   \n",
       "999       False    True         False  ...             False      False   \n",
       "\n",
       "     FOREIGN  RESPONSE  CHK_ACCT  HISTORY  SAV_ACCT  EMPLOYMENT  \\\n",
       "0      False     False     False    False     False       False   \n",
       "1      False     False     False    False     False       False   \n",
       "2      False     False     False    False     False       False   \n",
       "3      False     False     False    False     False       False   \n",
       "4      False     False     False    False     False       False   \n",
       "5      False     False     False    False     False       False   \n",
       "6      False     False     False    False     False       False   \n",
       "7      False     False     False    False     False       False   \n",
       "8      False     False     False    False     False       False   \n",
       "9      False     False     False    False     False       False   \n",
       "10     False     False     False    False     False       False   \n",
       "11     False     False     False    False     False       False   \n",
       "12     False     False     False    False     False       False   \n",
       "13     False     False     False    False     False       False   \n",
       "14     False     False     False    False     False       False   \n",
       "15     False     False     False    False     False       False   \n",
       "16     False     False     False    False     False       False   \n",
       "17     False     False     False    False     False       False   \n",
       "18     False     False     False    False     False       False   \n",
       "19     False     False     False    False     False       False   \n",
       "20     False     False     False    False     False       False   \n",
       "21     False     False     False    False     False       False   \n",
       "22     False     False     False    False     False       False   \n",
       "23     False     False     False    False     False       False   \n",
       "24     False     False     False    False     False       False   \n",
       "25     False     False     False    False     False       False   \n",
       "26     False     False     False    False     False       False   \n",
       "27     False     False     False    False     False       False   \n",
       "28     False     False     False    False     False       False   \n",
       "29     False     False     False    False     False       False   \n",
       "..       ...       ...       ...      ...       ...         ...   \n",
       "970    False     False     False    False     False       False   \n",
       "971    False     False     False    False     False       False   \n",
       "972    False     False     False    False     False       False   \n",
       "973    False     False     False    False     False       False   \n",
       "974    False     False     False    False     False       False   \n",
       "975    False     False     False    False     False       False   \n",
       "976    False     False     False    False     False       False   \n",
       "977    False     False     False    False     False       False   \n",
       "978    False     False     False    False     False       False   \n",
       "979    False     False     False    False     False       False   \n",
       "980    False     False     False    False     False       False   \n",
       "981    False     False     False    False     False       False   \n",
       "982    False     False     False    False     False       False   \n",
       "983    False     False     False    False     False       False   \n",
       "984    False     False     False    False     False       False   \n",
       "985    False     False     False    False     False       False   \n",
       "986    False     False     False    False     False       False   \n",
       "987    False     False     False    False     False       False   \n",
       "988    False     False     False    False     False       False   \n",
       "989    False     False     False    False     False       False   \n",
       "990    False     False     False    False     False       False   \n",
       "991    False     False     False    False     False       False   \n",
       "992    False     False     False    False     False       False   \n",
       "993    False     False     False    False     False       False   \n",
       "994    False     False     False    False     False       False   \n",
       "995    False     False     False    False     False       False   \n",
       "996    False     False     False    False     False       False   \n",
       "997    False     False     False    False     False       False   \n",
       "998    False     False     False    False     False       False   \n",
       "999    False     False     False    False     False       False   \n",
       "\n",
       "     PRESENT_RESIDENT    JOB  \n",
       "0               False  False  \n",
       "1               False  False  \n",
       "2               False  False  \n",
       "3               False  False  \n",
       "4               False  False  \n",
       "5               False  False  \n",
       "6               False  False  \n",
       "7               False  False  \n",
       "8               False  False  \n",
       "9               False  False  \n",
       "10              False  False  \n",
       "11              False  False  \n",
       "12              False  False  \n",
       "13              False  False  \n",
       "14              False  False  \n",
       "15              False  False  \n",
       "16              False  False  \n",
       "17              False  False  \n",
       "18              False  False  \n",
       "19              False  False  \n",
       "20              False  False  \n",
       "21              False  False  \n",
       "22              False  False  \n",
       "23              False  False  \n",
       "24              False  False  \n",
       "25              False  False  \n",
       "26              False  False  \n",
       "27              False  False  \n",
       "28              False  False  \n",
       "29              False  False  \n",
       "..                ...    ...  \n",
       "970             False  False  \n",
       "971             False  False  \n",
       "972             False  False  \n",
       "973             False  False  \n",
       "974             False  False  \n",
       "975             False  False  \n",
       "976             False  False  \n",
       "977             False  False  \n",
       "978             False  False  \n",
       "979             False  False  \n",
       "980             False  False  \n",
       "981             False  False  \n",
       "982             False  False  \n",
       "983             False  False  \n",
       "984             False  False  \n",
       "985             False  False  \n",
       "986             False  False  \n",
       "987             False  False  \n",
       "988             False  False  \n",
       "989             False  False  \n",
       "990             False  False  \n",
       "991             False  False  \n",
       "992             False  False  \n",
       "993             False  False  \n",
       "994             False  False  \n",
       "995             False  False  \n",
       "996             False  False  \n",
       "997             False  False  \n",
       "998             False  False  \n",
       "999             False  False  \n",
       "\n",
       "[1000 rows x 29 columns]"
      ]
     },
     "execution_count": 133,
     "metadata": {},
     "output_type": "execute_result"
    }
   ],
   "source": [
    "df3.isnull()"
   ]
  },
  {
   "cell_type": "code",
   "execution_count": 134,
   "metadata": {},
   "outputs": [
    {
     "data": {
      "text/plain": [
       "OBS                  0\n",
       "DURATION             2\n",
       "NEW_CAR              0\n",
       "USED_CAR             0\n",
       "FURNITURE            0\n",
       "RADIO_TV             0\n",
       "EDUCATION            0\n",
       "RETRAINING           0\n",
       "AMOUNT              10\n",
       "INSTALL_RATE         7\n",
       "CO_APPLICANT         0\n",
       "GUARANTOR            0\n",
       "REAL_ESTATE          0\n",
       "PROP_UNKN_NONE       0\n",
       "AGE                 10\n",
       "OTHER_INSTALL        0\n",
       "RENT                 0\n",
       "OWN_RES              0\n",
       "NUM_CREDITS          6\n",
       "NUM_DEPENDENTS       7\n",
       "TELEPHONE            0\n",
       "FOREIGN              0\n",
       "RESPONSE             0\n",
       "CHK_ACCT             0\n",
       "HISTORY              0\n",
       "SAV_ACCT             0\n",
       "EMPLOYMENT           0\n",
       "PRESENT_RESIDENT     0\n",
       "JOB                  0\n",
       "dtype: int64"
      ]
     },
     "execution_count": 134,
     "metadata": {},
     "output_type": "execute_result"
    }
   ],
   "source": [
    "df3.isnull().sum()"
   ]
  },
  {
   "cell_type": "code",
   "execution_count": 135,
   "metadata": {},
   "outputs": [],
   "source": [
    "# function to identify columns with na values\n",
    "def na_column_names(dataset,per = 0):\n",
    "    na_cols = dataset.isnull().sum()[dataset.isnull().sum()>per]\n",
    "    return(list(na_cols.index))"
   ]
  },
  {
   "cell_type": "code",
   "execution_count": 136,
   "metadata": {},
   "outputs": [
    {
     "data": {
      "text/plain": [
       "['DURATION', 'AMOUNT', 'INSTALL_RATE', 'AGE', 'NUM_CREDITS', 'NUM_DEPENDENTS']"
      ]
     },
     "execution_count": 136,
     "metadata": {},
     "output_type": "execute_result"
    }
   ],
   "source": [
    "na_column_names(df3)"
   ]
  },
  {
   "cell_type": "markdown",
   "metadata": {},
   "source": [
    "##### Dropping the records with missing values"
   ]
  },
  {
   "cell_type": "code",
   "execution_count": 137,
   "metadata": {},
   "outputs": [],
   "source": [
    "temp = df3.dropna()"
   ]
  },
  {
   "cell_type": "code",
   "execution_count": 138,
   "metadata": {},
   "outputs": [
    {
     "data": {
      "text/plain": [
       "(986, 29)"
      ]
     },
     "execution_count": 138,
     "metadata": {},
     "output_type": "execute_result"
    }
   ],
   "source": [
    "# Looking at the dimension\n",
    "temp.shape"
   ]
  },
  {
   "cell_type": "code",
   "execution_count": 139,
   "metadata": {},
   "outputs": [
    {
     "data": {
      "text/plain": [
       "(996, 29)"
      ]
     },
     "execution_count": 139,
     "metadata": {},
     "output_type": "execute_result"
    }
   ],
   "source": [
    "df3.dropna(thresh=25,axis=0).shape #Keep only the rows with at least 25 non-na values"
   ]
  },
  {
   "cell_type": "markdown",
   "metadata": {},
   "source": [
    "### Imputing missing values\n"
   ]
  },
  {
   "cell_type": "markdown",
   "metadata": {},
   "source": [
    "##### Imputing Numeric Columns"
   ]
  },
  {
   "cell_type": "code",
   "execution_count": 140,
   "metadata": {},
   "outputs": [],
   "source": [
    "from sklearn.preprocessing import Imputer"
   ]
  },
  {
   "cell_type": "code",
   "execution_count": 141,
   "metadata": {},
   "outputs": [],
   "source": [
    "imp_num = Imputer(missing_values='NaN', strategy='mean', axis=0) #Create an imputer object"
   ]
  },
  {
   "cell_type": "code",
   "execution_count": 142,
   "metadata": {},
   "outputs": [],
   "source": [
    "df_num_nans_imputed = pd.DataFrame(imp_num.fit_transform(df3[num_attr]), columns=num_attr) #fit and transform"
   ]
  },
  {
   "cell_type": "code",
   "execution_count": 143,
   "metadata": {},
   "outputs": [
    {
     "data": {
      "text/plain": [
       "DURATION          0\n",
       "AMOUNT            0\n",
       "INSTALL_RATE      0\n",
       "AGE               0\n",
       "NUM_CREDITS       0\n",
       "NUM_DEPENDENTS    0\n",
       "dtype: int64"
      ]
     },
     "execution_count": 143,
     "metadata": {},
     "output_type": "execute_result"
    }
   ],
   "source": [
    "df_num_nans_imputed.isnull().sum()    "
   ]
  },
  {
   "cell_type": "markdown",
   "metadata": {},
   "source": [
    "##### Imputing Categorical columns with mode"
   ]
  },
  {
   "cell_type": "code",
   "execution_count": 144,
   "metadata": {},
   "outputs": [
    {
     "data": {
      "text/plain": [
       "OBS                 object\n",
       "NEW_CAR             object\n",
       "USED_CAR            object\n",
       "FURNITURE           object\n",
       "RADIO_TV            object\n",
       "EDUCATION           object\n",
       "RETRAINING          object\n",
       "CO_APPLICANT        object\n",
       "GUARANTOR           object\n",
       "REAL_ESTATE         object\n",
       "PROP_UNKN_NONE      object\n",
       "OTHER_INSTALL       object\n",
       "RENT                object\n",
       "OWN_RES             object\n",
       "TELEPHONE           object\n",
       "FOREIGN             object\n",
       "RESPONSE            object\n",
       "CHK_ACCT            object\n",
       "HISTORY             object\n",
       "SAV_ACCT            object\n",
       "EMPLOYMENT          object\n",
       "PRESENT_RESIDENT    object\n",
       "JOB                 object\n",
       "dtype: object"
      ]
     },
     "execution_count": 144,
     "metadata": {},
     "output_type": "execute_result"
    }
   ],
   "source": [
    "df3[cat_attr].dtypes"
   ]
  },
  {
   "cell_type": "markdown",
   "metadata": {},
   "source": [
    "\n",
    "when we convered the columns in to string type, nan will be treated as a string, we will replace the string with pythons inbuilt null type"
   ]
  },
  {
   "cell_type": "code",
   "execution_count": 145,
   "metadata": {},
   "outputs": [],
   "source": [
    "df3[cat_attr] = df3[cat_attr].replace('nan',np.NaN)"
   ]
  },
  {
   "cell_type": "code",
   "execution_count": 146,
   "metadata": {},
   "outputs": [],
   "source": [
    "df_cat_nans_imputed = df3[cat_attr].apply(lambda x:x.fillna(x.value_counts().index[0]))"
   ]
  },
  {
   "cell_type": "code",
   "execution_count": 147,
   "metadata": {},
   "outputs": [],
   "source": [
    "df_imputed = pd.concat([df_num_nans_imputed,df_cat_nans_imputed],axis=1)"
   ]
  },
  {
   "cell_type": "code",
   "execution_count": 148,
   "metadata": {},
   "outputs": [
    {
     "data": {
      "text/plain": [
       "Index(['DURATION', 'AMOUNT', 'INSTALL_RATE', 'AGE', 'NUM_CREDITS',\n",
       "       'NUM_DEPENDENTS', 'OBS', 'NEW_CAR', 'USED_CAR', 'FURNITURE', 'RADIO_TV',\n",
       "       'EDUCATION', 'RETRAINING', 'CO_APPLICANT', 'GUARANTOR', 'REAL_ESTATE',\n",
       "       'PROP_UNKN_NONE', 'OTHER_INSTALL', 'RENT', 'OWN_RES', 'TELEPHONE',\n",
       "       'FOREIGN', 'RESPONSE', 'CHK_ACCT', 'HISTORY', 'SAV_ACCT', 'EMPLOYMENT',\n",
       "       'PRESENT_RESIDENT', 'JOB'],\n",
       "      dtype='object')"
      ]
     },
     "execution_count": 148,
     "metadata": {},
     "output_type": "execute_result"
    }
   ],
   "source": [
    "df_imputed.columns"
   ]
  },
  {
   "cell_type": "code",
   "execution_count": 149,
   "metadata": {},
   "outputs": [
    {
     "data": {
      "text/plain": [
       "(1000, 29)"
      ]
     },
     "execution_count": 149,
     "metadata": {},
     "output_type": "execute_result"
    }
   ],
   "source": [
    "df_imputed.shape"
   ]
  },
  {
   "cell_type": "code",
   "execution_count": 150,
   "metadata": {},
   "outputs": [
    {
     "data": {
      "text/plain": [
       "(1000, 29)"
      ]
     },
     "execution_count": 150,
     "metadata": {},
     "output_type": "execute_result"
    }
   ],
   "source": [
    "df3.shape"
   ]
  },
  {
   "cell_type": "markdown",
   "metadata": {},
   "source": [
    "##### Discretizing the variable\n"
   ]
  },
  {
   "cell_type": "code",
   "execution_count": 151,
   "metadata": {},
   "outputs": [],
   "source": [
    "bin_cutoffs =[i for i in range(0,np.max(df_imputed.AMOUNT.astype(\"int64\")),2000)]"
   ]
  },
  {
   "cell_type": "code",
   "execution_count": 152,
   "metadata": {},
   "outputs": [
    {
     "data": {
      "text/plain": [
       "([0, 2000, 4000, 6000, 8000, 10000, 12000, 14000, 16000, 18000], 10)"
      ]
     },
     "execution_count": 152,
     "metadata": {},
     "output_type": "execute_result"
    }
   ],
   "source": [
    "bin_cutoffs,len(bin_cutoffs)"
   ]
  },
  {
   "cell_type": "markdown",
   "metadata": {},
   "source": [
    "###### returns an array showing the bin number to which each value belongs to"
   ]
  },
  {
   "cell_type": "code",
   "execution_count": 153,
   "metadata": {},
   "outputs": [],
   "source": [
    "bin_numbers = np.digitize(df_imputed.AMOUNT.astype(\"int64\"),bins=bin_cutoffs)"
   ]
  },
  {
   "cell_type": "code",
   "execution_count": 154,
   "metadata": {},
   "outputs": [
    {
     "name": "stdout",
     "output_type": "stream",
     "text": [
      "(1169.0, 1)\n",
      "(5951.0, 3)\n",
      "(2096.0, 2)\n",
      "(7882.0, 4)\n",
      "(4870.0, 3)\n",
      "(9055.0, 5)\n",
      "(2835.0, 2)\n",
      "(6948.0, 4)\n",
      "(3059.0, 2)\n",
      "(5234.0, 3)\n",
      "(1295.0, 1)\n",
      "(4308.0, 3)\n",
      "(1567.0, 1)\n",
      "(3273.168686868687, 2)\n",
      "(1403.0, 1)\n",
      "(1282.0, 1)\n",
      "(2424.0, 2)\n",
      "(8072.0, 5)\n",
      "(12579.0, 7)\n",
      "(3430.0, 2)\n",
      "(3273.168686868687, 2)\n",
      "(2647.0, 2)\n",
      "(2241.0, 2)\n",
      "(1804.0, 1)\n",
      "(2069.0, 2)\n",
      "(1374.0, 1)\n",
      "(3273.168686868687, 2)\n",
      "(409.0, 1)\n",
      "(2415.0, 2)\n",
      "(6836.0, 4)\n",
      "(1913.0, 1)\n",
      "(4020.0, 3)\n",
      "(5866.0, 3)\n",
      "(1264.0, 1)\n",
      "(1474.0, 1)\n",
      "(4746.0, 3)\n",
      "(6110.0, 4)\n",
      "(2100.0, 2)\n",
      "(1225.0, 1)\n",
      "(458.0, 1)\n",
      "(2333.0, 2)\n",
      "(1158.0, 1)\n",
      "(6204.0, 4)\n",
      "(6187.0, 4)\n",
      "(6143.0, 4)\n",
      "(1393.0, 1)\n",
      "(2299.0, 2)\n",
      "(3273.168686868687, 2)\n",
      "(7228.0, 4)\n",
      "(2073.0, 2)\n",
      "(2333.0, 2)\n",
      "(5965.0, 3)\n",
      "(1262.0, 1)\n",
      "(3378.0, 2)\n",
      "(2225.0, 2)\n",
      "(783.0, 1)\n",
      "(6468.0, 4)\n",
      "(9566.0, 5)\n",
      "(1961.0, 1)\n",
      "(6229.0, 4)\n",
      "(1391.0, 1)\n",
      "(1537.0, 1)\n",
      "(1953.0, 1)\n",
      "(14421.0, 8)\n",
      "(3181.0, 2)\n",
      "(5190.0, 3)\n",
      "(2171.0, 2)\n",
      "(1007.0, 1)\n",
      "(1819.0, 1)\n",
      "(2394.0, 2)\n",
      "(8133.0, 5)\n",
      "(730.0, 1)\n",
      "(1164.0, 1)\n",
      "(5954.0, 3)\n",
      "(1977.0, 1)\n",
      "(1526.0, 1)\n",
      "(3965.0, 2)\n",
      "(4771.0, 3)\n",
      "(9436.0, 5)\n",
      "(3832.0, 2)\n",
      "(5943.0, 3)\n",
      "(1213.0, 1)\n",
      "(1568.0, 1)\n",
      "(1755.0, 1)\n",
      "(2315.0, 2)\n",
      "(1412.0, 1)\n",
      "(1295.0, 1)\n",
      "(12612.0, 7)\n",
      "(2249.0, 2)\n",
      "(1108.0, 1)\n",
      "(618.0, 1)\n",
      "(1409.0, 1)\n",
      "(797.0, 1)\n",
      "(3617.0, 2)\n",
      "(1318.0, 1)\n",
      "(15945.0, 8)\n",
      "(2012.0, 2)\n",
      "(2622.0, 2)\n",
      "(2337.0, 2)\n",
      "(7057.0, 4)\n",
      "(1469.0, 1)\n",
      "(2323.0, 2)\n",
      "(932.0, 1)\n",
      "(1919.0, 1)\n",
      "(2445.0, 2)\n",
      "(11938.0, 6)\n",
      "(6458.0, 4)\n",
      "(6078.0, 4)\n",
      "(7721.0, 4)\n",
      "(1410.0, 1)\n",
      "(1449.0, 1)\n",
      "(392.0, 1)\n",
      "(6260.0, 4)\n",
      "(7855.0, 4)\n",
      "(1680.0, 1)\n",
      "(3578.0, 2)\n",
      "(7174.0, 4)\n",
      "(2132.0, 2)\n",
      "(4281.0, 3)\n",
      "(2366.0, 2)\n",
      "(1835.0, 1)\n",
      "(3868.0, 2)\n",
      "(1768.0, 1)\n",
      "(781.0, 1)\n",
      "(1924.0, 1)\n",
      "(2121.0, 2)\n",
      "(701.0, 1)\n",
      "(639.0, 1)\n",
      "(1860.0, 1)\n",
      "(3499.0, 2)\n",
      "(8487.0, 5)\n",
      "(6887.0, 4)\n",
      "(2708.0, 2)\n",
      "(1984.0, 1)\n",
      "(10144.0, 6)\n",
      "(1240.0, 1)\n",
      "(8613.0, 5)\n",
      "(766.0, 1)\n",
      "(2728.0, 2)\n",
      "(1881.0, 1)\n",
      "(709.0, 1)\n",
      "(4795.0, 3)\n",
      "(3416.0, 2)\n",
      "(2462.0, 2)\n",
      "(2288.0, 2)\n",
      "(3566.0, 2)\n",
      "(860.0, 1)\n",
      "(682.0, 1)\n",
      "(5371.0, 3)\n",
      "(1582.0, 1)\n",
      "(1346.0, 1)\n",
      "(1924.0, 1)\n",
      "(5848.0, 3)\n",
      "(7758.0, 4)\n",
      "(6967.0, 4)\n",
      "(1282.0, 1)\n",
      "(1288.0, 1)\n",
      "(339.0, 1)\n",
      "(3512.0, 2)\n",
      "(1898.0, 1)\n",
      "(2872.0, 2)\n",
      "(1055.0, 1)\n",
      "(1262.0, 1)\n",
      "(7308.0, 4)\n",
      "(909.0, 1)\n",
      "(2978.0, 2)\n",
      "(1131.0, 1)\n",
      "(1577.0, 1)\n",
      "(3972.0, 2)\n",
      "(1935.0, 1)\n",
      "(950.0, 1)\n",
      "(763.0, 1)\n",
      "(2064.0, 2)\n",
      "(1414.0, 1)\n",
      "(3414.0, 2)\n",
      "(7485.0, 4)\n",
      "(2577.0, 2)\n",
      "(338.0, 1)\n",
      "(1963.0, 1)\n",
      "(571.0, 1)\n",
      "(9572.0, 5)\n",
      "(4455.0, 3)\n",
      "(1647.0, 1)\n",
      "(3777.0, 2)\n",
      "(884.0, 1)\n",
      "(1360.0, 1)\n",
      "(5129.0, 3)\n",
      "(1175.0, 1)\n",
      "(674.0, 1)\n",
      "(3244.0, 2)\n",
      "(4591.0, 3)\n",
      "(3844.0, 2)\n",
      "(3915.0, 2)\n",
      "(2108.0, 2)\n",
      "(3031.0, 2)\n",
      "(1501.0, 1)\n",
      "(1382.0, 1)\n",
      "(951.0, 1)\n",
      "(2760.0, 2)\n",
      "(4297.0, 3)\n",
      "(936.0, 1)\n",
      "(1168.0, 1)\n",
      "(5117.0, 3)\n",
      "(902.0, 1)\n",
      "(1495.0, 1)\n",
      "(10623.0, 6)\n",
      "(1935.0, 1)\n",
      "(1424.0, 1)\n",
      "(6568.0, 4)\n",
      "(1413.0, 1)\n",
      "(3074.0, 2)\n",
      "(3835.0, 2)\n",
      "(5293.0, 3)\n",
      "(1908.0, 1)\n",
      "(3273.168686868687, 2)\n",
      "(932.0, 1)\n",
      "(3104.0, 2)\n",
      "(3913.0, 2)\n",
      "(3021.0, 2)\n",
      "(1364.0, 1)\n",
      "(625.0, 1)\n",
      "(1200.0, 1)\n",
      "(707.0, 1)\n",
      "(2978.0, 2)\n",
      "(4657.0, 3)\n",
      "(2613.0, 2)\n",
      "(10961.0, 6)\n",
      "(7865.0, 4)\n",
      "(1478.0, 1)\n",
      "(3149.0, 2)\n",
      "(4210.0, 3)\n",
      "(2507.0, 2)\n",
      "(2141.0, 2)\n",
      "(866.0, 1)\n",
      "(1544.0, 1)\n",
      "(1823.0, 1)\n",
      "(14555.0, 8)\n",
      "(2767.0, 2)\n",
      "(1291.0, 1)\n",
      "(2522.0, 2)\n",
      "(915.0, 1)\n",
      "(1595.0, 1)\n",
      "(4605.0, 3)\n",
      "(1185.0, 1)\n",
      "(3447.0, 2)\n",
      "(1258.0, 1)\n",
      "(717.0, 1)\n",
      "(1204.0, 1)\n",
      "(1925.0, 1)\n",
      "(433.0, 1)\n",
      "(666.0, 1)\n",
      "(2251.0, 2)\n",
      "(2150.0, 2)\n",
      "(4151.0, 3)\n",
      "(2030.0, 2)\n",
      "(7418.0, 4)\n",
      "(2684.0, 2)\n",
      "(2149.0, 2)\n",
      "(3812.0, 2)\n",
      "(1154.0, 1)\n",
      "(1657.0, 1)\n",
      "(1603.0, 1)\n",
      "(5302.0, 3)\n",
      "(2748.0, 2)\n",
      "(1231.0, 1)\n",
      "(802.0, 1)\n",
      "(3273.168686868687, 2)\n",
      "(1533.0, 1)\n",
      "(8978.0, 5)\n",
      "(999.0, 1)\n",
      "(2662.0, 2)\n",
      "(1402.0, 1)\n",
      "(12169.0, 7)\n",
      "(3060.0, 2)\n",
      "(11998.0, 6)\n",
      "(2697.0, 2)\n",
      "(2404.0, 2)\n",
      "(1262.0, 1)\n",
      "(4611.0, 3)\n",
      "(1901.0, 1)\n",
      "(3368.0, 2)\n",
      "(1574.0, 1)\n",
      "(1445.0, 1)\n",
      "(1520.0, 1)\n",
      "(3878.0, 2)\n",
      "(10722.0, 6)\n",
      "(4788.0, 3)\n",
      "(7582.0, 4)\n",
      "(1092.0, 1)\n",
      "(1024.0, 1)\n",
      "(1076.0, 1)\n",
      "(9398.0, 5)\n",
      "(6419.0, 4)\n",
      "(4796.0, 3)\n",
      "(7629.0, 4)\n",
      "(9960.0, 5)\n",
      "(4675.0, 3)\n",
      "(1287.0, 1)\n",
      "(2515.0, 2)\n",
      "(2745.0, 2)\n",
      "(672.0, 1)\n",
      "(3804.0, 2)\n",
      "(1344.0, 1)\n",
      "(1038.0, 1)\n",
      "(10127.0, 6)\n",
      "(1543.0, 1)\n",
      "(4811.0, 3)\n",
      "(727.0, 1)\n",
      "(1237.0, 1)\n",
      "(276.0, 1)\n",
      "(5381.0, 3)\n",
      "(5511.0, 3)\n",
      "(3749.0, 2)\n",
      "(685.0, 1)\n",
      "(1494.0, 1)\n",
      "(2746.0, 2)\n",
      "(708.0, 1)\n",
      "(4351.0, 3)\n",
      "(701.0, 1)\n",
      "(3643.0, 2)\n",
      "(4249.0, 3)\n",
      "(1938.0, 1)\n",
      "(2910.0, 2)\n",
      "(2659.0, 2)\n",
      "(1028.0, 1)\n",
      "(3398.0, 2)\n",
      "(5801.0, 3)\n",
      "(1525.0, 1)\n",
      "(4473.0, 3)\n",
      "(1068.0, 1)\n",
      "(6615.0, 4)\n",
      "(1864.0, 1)\n",
      "(7408.0, 4)\n",
      "(11590.0, 6)\n",
      "(4110.0, 3)\n",
      "(3384.0, 2)\n",
      "(2101.0, 2)\n",
      "(1275.0, 1)\n",
      "(4169.0, 3)\n",
      "(1521.0, 1)\n",
      "(5743.0, 3)\n",
      "(3599.0, 2)\n",
      "(3213.0, 2)\n",
      "(4439.0, 3)\n",
      "(3949.0, 2)\n",
      "(1459.0, 1)\n",
      "(882.0, 1)\n",
      "(3758.0, 2)\n",
      "(1743.0, 1)\n",
      "(1136.0, 1)\n",
      "(1236.0, 1)\n",
      "(959.0, 1)\n",
      "(3229.0, 2)\n",
      "(6199.0, 4)\n",
      "(727.0, 1)\n",
      "(1246.0, 1)\n",
      "(2331.0, 2)\n",
      "(4463.0, 3)\n",
      "(776.0, 1)\n",
      "(2406.0, 2)\n",
      "(1239.0, 1)\n",
      "(3399.0, 2)\n",
      "(2247.0, 2)\n",
      "(1766.0, 1)\n",
      "(2473.0, 2)\n",
      "(1542.0, 1)\n",
      "(3850.0, 2)\n",
      "(3650.0, 2)\n",
      "(3446.0, 2)\n",
      "(3001.0, 2)\n",
      "(3079.0, 2)\n",
      "(6070.0, 4)\n",
      "(2146.0, 2)\n",
      "(13756.0, 7)\n",
      "(14782.0, 8)\n",
      "(7685.0, 4)\n",
      "(2320.0, 2)\n",
      "(846.0, 1)\n",
      "(14318.0, 8)\n",
      "(362.0, 1)\n",
      "(2212.0, 2)\n",
      "(12976.0, 7)\n",
      "(1283.0, 1)\n",
      "(1330.0, 1)\n",
      "(4272.0, 3)\n",
      "(2238.0, 2)\n",
      "(1126.0, 1)\n",
      "(7374.0, 4)\n",
      "(2326.0, 2)\n",
      "(1449.0, 1)\n",
      "(1820.0, 1)\n",
      "(983.0, 1)\n",
      "(3249.0, 2)\n",
      "(1957.0, 1)\n",
      "(2406.0, 2)\n",
      "(11760.0, 6)\n",
      "(2578.0, 2)\n",
      "(2348.0, 2)\n",
      "(1223.0, 1)\n",
      "(1516.0, 1)\n",
      "(1473.0, 1)\n",
      "(1887.0, 1)\n",
      "(8648.0, 5)\n",
      "(802.0, 1)\n",
      "(2899.0, 2)\n",
      "(2039.0, 2)\n",
      "(2197.0, 2)\n",
      "(1053.0, 1)\n",
      "(3235.0, 2)\n",
      "(939.0, 1)\n",
      "(1967.0, 1)\n",
      "(7253.0, 4)\n",
      "(2292.0, 2)\n",
      "(1597.0, 1)\n",
      "(1381.0, 1)\n",
      "(5842.0, 3)\n",
      "(2579.0, 2)\n",
      "(8471.0, 5)\n",
      "(2782.0, 2)\n",
      "(1042.0, 1)\n",
      "(3186.0, 2)\n",
      "(2028.0, 2)\n",
      "(958.0, 1)\n",
      "(1591.0, 1)\n",
      "(2762.0, 2)\n",
      "(2779.0, 2)\n",
      "(2743.0, 2)\n",
      "(1149.0, 1)\n",
      "(1313.0, 1)\n",
      "(1190.0, 1)\n",
      "(3448.0, 2)\n",
      "(11328.0, 6)\n",
      "(1872.0, 1)\n",
      "(2058.0, 2)\n",
      "(2136.0, 2)\n",
      "(1484.0, 1)\n",
      "(660.0, 1)\n",
      "(1287.0, 1)\n",
      "(3394.0, 2)\n",
      "(609.0, 1)\n",
      "(1884.0, 1)\n",
      "(1620.0, 1)\n",
      "(2629.0, 2)\n",
      "(719.0, 1)\n",
      "(5096.0, 3)\n",
      "(1244.0, 1)\n",
      "(1842.0, 1)\n",
      "(2576.0, 2)\n",
      "(1424.0, 1)\n",
      "(1512.0, 1)\n",
      "(11054.0, 6)\n",
      "(518.0, 1)\n",
      "(2759.0, 2)\n",
      "(2670.0, 2)\n",
      "(4817.0, 3)\n",
      "(2679.0, 2)\n",
      "(3905.0, 2)\n",
      "(3386.0, 2)\n",
      "(343.0, 1)\n",
      "(4594.0, 3)\n",
      "(3620.0, 2)\n",
      "(1721.0, 1)\n",
      "(3017.0, 2)\n",
      "(754.0, 1)\n",
      "(1950.0, 1)\n",
      "(2924.0, 2)\n",
      "(1659.0, 1)\n",
      "(7238.0, 4)\n",
      "(2764.0, 2)\n",
      "(4679.0, 3)\n",
      "(3092.0, 2)\n",
      "(448.0, 1)\n",
      "(654.0, 1)\n",
      "(1238.0, 1)\n",
      "(1245.0, 1)\n",
      "(3114.0, 2)\n",
      "(2569.0, 2)\n",
      "(5152.0, 3)\n",
      "(1037.0, 1)\n",
      "(1478.0, 1)\n",
      "(3573.0, 2)\n",
      "(1201.0, 1)\n",
      "(3622.0, 2)\n",
      "(960.0, 1)\n",
      "(1163.0, 1)\n",
      "(1209.0, 1)\n",
      "(3077.0, 2)\n",
      "(3757.0, 2)\n",
      "(1418.0, 1)\n",
      "(3518.0, 2)\n",
      "(1934.0, 1)\n",
      "(8318.0, 5)\n",
      "(1237.0, 1)\n",
      "(368.0, 1)\n",
      "(2122.0, 2)\n",
      "(2996.0, 2)\n",
      "(9034.0, 5)\n",
      "(1585.0, 1)\n",
      "(1301.0, 1)\n",
      "(1323.0, 1)\n",
      "(3123.0, 2)\n",
      "(5493.0, 3)\n",
      "(1126.0, 1)\n",
      "(1216.0, 1)\n",
      "(1207.0, 1)\n",
      "(1309.0, 1)\n",
      "(2360.0, 2)\n",
      "(6850.0, 4)\n",
      "(1413.0, 1)\n",
      "(8588.0, 5)\n",
      "(759.0, 1)\n",
      "(4686.0, 3)\n",
      "(2687.0, 2)\n",
      "(585.0, 1)\n",
      "(2255.0, 2)\n",
      "(609.0, 1)\n",
      "(1361.0, 1)\n",
      "(7127.0, 4)\n",
      "(1203.0, 1)\n",
      "(700.0, 1)\n",
      "(5507.0, 3)\n",
      "(3190.0, 2)\n",
      "(7119.0, 4)\n",
      "(3488.0, 2)\n",
      "(1113.0, 1)\n",
      "(7966.0, 4)\n",
      "(1532.0, 1)\n",
      "(1503.0, 1)\n",
      "(2302.0, 2)\n",
      "(662.0, 1)\n",
      "(2273.0, 2)\n",
      "(2631.0, 2)\n",
      "(1503.0, 1)\n",
      "(1311.0, 1)\n",
      "(3105.0, 2)\n",
      "(2319.0, 2)\n",
      "(1374.0, 1)\n",
      "(3612.0, 2)\n",
      "(7763.0, 4)\n",
      "(3049.0, 2)\n",
      "(1534.0, 1)\n",
      "(2032.0, 2)\n",
      "(6350.0, 4)\n",
      "(2864.0, 2)\n",
      "(1255.0, 1)\n",
      "(1333.0, 1)\n",
      "(2022.0, 2)\n",
      "(1552.0, 1)\n",
      "(626.0, 1)\n",
      "(8858.0, 5)\n",
      "(996.0, 1)\n",
      "(1750.0, 1)\n",
      "(6999.0, 4)\n",
      "(1995.0, 1)\n",
      "(1199.0, 1)\n",
      "(1331.0, 1)\n",
      "(2278.0, 2)\n",
      "(5003.0, 3)\n",
      "(3552.0, 2)\n",
      "(1928.0, 1)\n",
      "(2964.0, 2)\n",
      "(1546.0, 1)\n",
      "(683.0, 1)\n",
      "(12389.0, 7)\n",
      "(4712.0, 3)\n",
      "(1553.0, 1)\n",
      "(1372.0, 1)\n",
      "(2578.0, 2)\n",
      "(3979.0, 2)\n",
      "(6758.0, 4)\n",
      "(3234.0, 2)\n",
      "(5954.0, 3)\n",
      "(5433.0, 3)\n",
      "(806.0, 1)\n",
      "(1082.0, 1)\n",
      "(2788.0, 2)\n",
      "(2930.0, 2)\n",
      "(1927.0, 1)\n",
      "(2820.0, 2)\n",
      "(937.0, 1)\n",
      "(1056.0, 1)\n",
      "(3124.0, 2)\n",
      "(1388.0, 1)\n",
      "(2384.0, 2)\n",
      "(2133.0, 2)\n",
      "(2039.0, 2)\n",
      "(2799.0, 2)\n",
      "(1289.0, 1)\n",
      "(1217.0, 1)\n",
      "(2246.0, 2)\n",
      "(385.0, 1)\n",
      "(1965.0, 1)\n",
      "(1572.0, 1)\n",
      "(2718.0, 2)\n",
      "(1358.0, 1)\n",
      "(931.0, 1)\n",
      "(1442.0, 1)\n",
      "(4241.0, 3)\n",
      "(2775.0, 2)\n",
      "(3863.0, 2)\n",
      "(2329.0, 2)\n",
      "(918.0, 1)\n",
      "(1837.0, 1)\n",
      "(3349.0, 2)\n",
      "(1275.0, 1)\n",
      "(2828.0, 2)\n",
      "(4526.0, 3)\n",
      "(2671.0, 2)\n",
      "(2051.0, 2)\n",
      "(1300.0, 1)\n",
      "(741.0, 1)\n",
      "(1240.0, 1)\n",
      "(3357.0, 2)\n",
      "(3632.0, 2)\n",
      "(1808.0, 1)\n",
      "(12204.0, 7)\n",
      "(9157.0, 5)\n",
      "(3676.0, 2)\n",
      "(3441.0, 2)\n",
      "(640.0, 1)\n",
      "(3652.0, 2)\n",
      "(1530.0, 1)\n",
      "(3914.0, 2)\n",
      "(1858.0, 1)\n",
      "(2600.0, 2)\n",
      "(1979.0, 1)\n",
      "(2116.0, 2)\n",
      "(1437.0, 1)\n",
      "(4042.0, 3)\n",
      "(3832.0, 2)\n",
      "(3660.0, 2)\n",
      "(1553.0, 1)\n",
      "(1444.0, 1)\n",
      "(1980.0, 1)\n",
      "(1355.0, 1)\n",
      "(1393.0, 1)\n",
      "(1376.0, 1)\n",
      "(15653.0, 8)\n",
      "(1493.0, 1)\n",
      "(4370.0, 3)\n",
      "(750.0, 1)\n",
      "(1308.0, 1)\n",
      "(4623.0, 3)\n",
      "(1851.0, 1)\n",
      "(1880.0, 1)\n",
      "(7980.0, 4)\n",
      "(4583.0, 3)\n",
      "(1386.0, 1)\n",
      "(947.0, 1)\n",
      "(684.0, 1)\n",
      "(7476.0, 4)\n",
      "(1922.0, 1)\n",
      "(2303.0, 2)\n",
      "(8086.0, 5)\n",
      "(2346.0, 2)\n",
      "(3973.0, 2)\n",
      "(888.0, 1)\n",
      "(10222.0, 6)\n",
      "(4221.0, 3)\n",
      "(6361.0, 4)\n",
      "(1297.0, 1)\n",
      "(900.0, 1)\n",
      "(2241.0, 2)\n",
      "(1050.0, 1)\n",
      "(1047.0, 1)\n",
      "(6314.0, 4)\n",
      "(3496.0, 2)\n",
      "(3609.0, 2)\n",
      "(4843.0, 3)\n",
      "(3017.0, 2)\n",
      "(4139.0, 3)\n",
      "(5742.0, 3)\n",
      "(10366.0, 6)\n",
      "(2080.0, 2)\n",
      "(2580.0, 2)\n",
      "(4530.0, 3)\n",
      "(5150.0, 3)\n",
      "(5595.0, 3)\n",
      "(2384.0, 2)\n",
      "(1453.0, 1)\n",
      "(1538.0, 1)\n",
      "(2279.0, 2)\n",
      "(1478.0, 1)\n",
      "(5103.0, 3)\n",
      "(9857.0, 5)\n",
      "(6527.0, 4)\n",
      "(1347.0, 1)\n",
      "(2862.0, 2)\n",
      "(2753.0, 2)\n",
      "(3651.0, 2)\n",
      "(975.0, 1)\n",
      "(2631.0, 2)\n",
      "(2896.0, 2)\n",
      "(4716.0, 3)\n",
      "(2284.0, 2)\n",
      "(1236.0, 1)\n",
      "(1103.0, 1)\n",
      "(926.0, 1)\n",
      "(1800.0, 1)\n",
      "(1905.0, 1)\n",
      "(1123.0, 1)\n",
      "(6331.0, 4)\n",
      "(1377.0, 1)\n",
      "(2503.0, 2)\n",
      "(2528.0, 2)\n",
      "(5324.0, 3)\n",
      "(6560.0, 4)\n",
      "(2969.0, 2)\n",
      "(1206.0, 1)\n",
      "(2118.0, 2)\n",
      "(629.0, 1)\n",
      "(1198.0, 1)\n",
      "(2476.0, 2)\n",
      "(1138.0, 1)\n",
      "(14027.0, 8)\n",
      "(7596.0, 4)\n",
      "(3077.0, 2)\n",
      "(1505.0, 1)\n",
      "(3148.0, 2)\n",
      "(6148.0, 4)\n",
      "(1337.0, 1)\n",
      "(433.0, 1)\n",
      "(1228.0, 1)\n",
      "(790.0, 1)\n",
      "(2570.0, 2)\n",
      "(250.0, 1)\n",
      "(1316.0, 1)\n",
      "(1882.0, 1)\n",
      "(6416.0, 4)\n",
      "(1275.0, 1)\n",
      "(6403.0, 4)\n",
      "(1987.0, 1)\n",
      "(760.0, 1)\n",
      "(2603.0, 2)\n",
      "(3380.0, 2)\n",
      "(3990.0, 2)\n",
      "(11560.0, 6)\n",
      "(4380.0, 3)\n",
      "(6761.0, 4)\n",
      "(4280.0, 3)\n",
      "(2325.0, 2)\n",
      "(1048.0, 1)\n",
      "(3160.0, 2)\n",
      "(2483.0, 2)\n",
      "(14179.0, 8)\n",
      "(1797.0, 1)\n",
      "(2511.0, 2)\n",
      "(1274.0, 1)\n",
      "(5248.0, 3)\n",
      "(3029.0, 2)\n",
      "(428.0, 1)\n",
      "(976.0, 1)\n",
      "(841.0, 1)\n",
      "(5771.0, 3)\n",
      "(1555.0, 1)\n",
      "(1285.0, 1)\n",
      "(1299.0, 1)\n",
      "(1271.0, 1)\n",
      "(1393.0, 1)\n",
      "(691.0, 1)\n",
      "(5045.0, 3)\n",
      "(2124.0, 2)\n",
      "(2214.0, 2)\n",
      "(12680.0, 7)\n",
      "(2463.0, 2)\n",
      "(1155.0, 1)\n",
      "(3108.0, 2)\n",
      "(2901.0, 2)\n",
      "(3617.0, 2)\n",
      "(1655.0, 1)\n",
      "(2812.0, 2)\n",
      "(8065.0, 5)\n",
      "(3275.0, 2)\n",
      "(2223.0, 2)\n",
      "(1480.0, 1)\n",
      "(1371.0, 1)\n",
      "(3535.0, 2)\n",
      "(3509.0, 2)\n",
      "(5711.0, 3)\n",
      "(3872.0, 2)\n",
      "(4933.0, 3)\n",
      "(1940.0, 1)\n",
      "(1410.0, 1)\n",
      "(836.0, 1)\n",
      "(6468.0, 4)\n",
      "(1941.0, 1)\n",
      "(2675.0, 2)\n",
      "(2751.0, 2)\n",
      "(6224.0, 4)\n",
      "(5998.0, 3)\n",
      "(1188.0, 1)\n",
      "(6313.0, 4)\n",
      "(1221.0, 1)\n",
      "(2892.0, 2)\n",
      "(3062.0, 2)\n",
      "(2301.0, 2)\n",
      "(7511.0, 4)\n",
      "(1258.0, 1)\n",
      "(717.0, 1)\n",
      "(1549.0, 1)\n",
      "(1597.0, 1)\n",
      "(1795.0, 1)\n",
      "(4272.0, 3)\n",
      "(976.0, 1)\n",
      "(7472.0, 4)\n",
      "(9271.0, 5)\n",
      "(590.0, 1)\n",
      "(930.0, 1)\n",
      "(9283.0, 5)\n",
      "(1778.0, 1)\n",
      "(907.0, 1)\n",
      "(484.0, 1)\n",
      "(9629.0, 5)\n",
      "(3051.0, 2)\n",
      "(3931.0, 2)\n",
      "(7432.0, 4)\n",
      "(1338.0, 1)\n",
      "(1554.0, 1)\n",
      "(15857.0, 8)\n",
      "(1345.0, 1)\n",
      "(1101.0, 1)\n",
      "(3016.0, 2)\n",
      "(2712.0, 2)\n",
      "(731.0, 1)\n",
      "(3780.0, 2)\n",
      "(1602.0, 1)\n",
      "(3966.0, 2)\n",
      "(4165.0, 3)\n",
      "(8335.0, 5)\n",
      "(6681.0, 4)\n",
      "(2375.0, 2)\n",
      "(1216.0, 1)\n",
      "(11816.0, 6)\n",
      "(5084.0, 3)\n",
      "(2327.0, 2)\n",
      "(1082.0, 1)\n",
      "(886.0, 1)\n",
      "(601.0, 1)\n",
      "(2957.0, 2)\n",
      "(2611.0, 2)\n",
      "(5179.0, 3)\n",
      "(2993.0, 2)\n",
      "(1943.0, 1)\n",
      "(1559.0, 1)\n",
      "(3422.0, 2)\n",
      "(3976.0, 2)\n",
      "(6761.0, 4)\n",
      "(1249.0, 1)\n",
      "(1364.0, 1)\n",
      "(709.0, 1)\n",
      "(2235.0, 2)\n",
      "(4042.0, 3)\n",
      "(1471.0, 1)\n",
      "(1442.0, 1)\n",
      "(10875.0, 6)\n",
      "(1474.0, 1)\n",
      "(894.0, 1)\n",
      "(3343.0, 2)\n",
      "(3959.0, 2)\n",
      "(3577.0, 2)\n",
      "(5804.0, 3)\n",
      "(2169.0, 2)\n",
      "(2439.0, 2)\n",
      "(4526.0, 3)\n",
      "(2210.0, 2)\n",
      "(2221.0, 2)\n",
      "(2389.0, 2)\n",
      "(3331.0, 2)\n",
      "(7409.0, 4)\n",
      "(652.0, 1)\n",
      "(7678.0, 4)\n",
      "(1343.0, 1)\n",
      "(1382.0, 1)\n",
      "(874.0, 1)\n",
      "(3590.0, 2)\n",
      "(1322.0, 1)\n",
      "(1940.0, 1)\n",
      "(3595.0, 2)\n",
      "(1422.0, 1)\n",
      "(6742.0, 4)\n",
      "(7814.0, 4)\n",
      "(9277.0, 5)\n",
      "(2181.0, 2)\n",
      "(1098.0, 1)\n",
      "(4057.0, 3)\n",
      "(795.0, 1)\n",
      "(2825.0, 2)\n",
      "(15672.0, 8)\n",
      "(6614.0, 4)\n",
      "(7824.0, 4)\n",
      "(2442.0, 2)\n",
      "(1829.0, 1)\n",
      "(2171.0, 2)\n",
      "(5800.0, 3)\n",
      "(1169.0, 1)\n",
      "(8947.0, 5)\n",
      "(2606.0, 2)\n",
      "(1592.0, 1)\n",
      "(2186.0, 2)\n",
      "(4153.0, 3)\n",
      "(2625.0, 2)\n",
      "(3485.0, 2)\n",
      "(10477.0, 6)\n",
      "(1386.0, 1)\n",
      "(1278.0, 1)\n",
      "(1107.0, 1)\n",
      "(3763.0, 2)\n",
      "(3711.0, 2)\n",
      "(3594.0, 2)\n",
      "(3195.0, 2)\n",
      "(4454.0, 3)\n",
      "(4736.0, 3)\n",
      "(2991.0, 2)\n",
      "(2142.0, 2)\n",
      "(3161.0, 2)\n",
      "(18424.0, 10)\n",
      "(2848.0, 2)\n",
      "(14896.0, 8)\n",
      "(2359.0, 2)\n",
      "(3345.0, 2)\n",
      "(1817.0, 1)\n",
      "(12749.0, 7)\n",
      "(3273.168686868687, 2)\n",
      "(2002.0, 2)\n",
      "(6872.0, 4)\n",
      "(697.0, 1)\n",
      "(1049.0, 1)\n",
      "(10297.0, 6)\n",
      "(1867.0, 1)\n",
      "(1344.0, 1)\n",
      "(1747.0, 1)\n",
      "(1670.0, 1)\n",
      "(1224.0, 1)\n",
      "(522.0, 1)\n",
      "(1498.0, 1)\n",
      "(1919.0, 1)\n",
      "(745.0, 1)\n",
      "(2063.0, 2)\n",
      "(6288.0, 4)\n",
      "(6842.0, 4)\n",
      "(3527.0, 2)\n",
      "(1546.0, 1)\n",
      "(929.0, 1)\n",
      "(1455.0, 1)\n",
      "(1845.0, 1)\n",
      "(8358.0, 5)\n",
      "(3349.0, 2)\n",
      "(2859.0, 2)\n",
      "(1533.0, 1)\n",
      "(3621.0, 2)\n",
      "(3590.0, 2)\n",
      "(2145.0, 2)\n",
      "(4113.0, 3)\n",
      "(10974.0, 6)\n",
      "(1893.0, 1)\n",
      "(1231.0, 1)\n",
      "(3656.0, 2)\n",
      "(1154.0, 1)\n",
      "(4006.0, 3)\n",
      "(3069.0, 2)\n",
      "(1740.0, 1)\n",
      "(2353.0, 2)\n",
      "(3556.0, 2)\n",
      "(2397.0, 2)\n",
      "(454.0, 1)\n",
      "(1715.0, 1)\n",
      "(2520.0, 2)\n",
      "(3568.0, 2)\n",
      "(7166.0, 4)\n",
      "(3939.0, 2)\n",
      "(1514.0, 1)\n",
      "(7393.0, 4)\n",
      "(1193.0, 1)\n",
      "(7297.0, 4)\n",
      "(2831.0, 2)\n",
      "(1258.0, 1)\n",
      "(753.0, 1)\n",
      "(2427.0, 2)\n",
      "(2538.0, 2)\n",
      "(1264.0, 1)\n",
      "(3273.168686868687, 2)\n",
      "(4844.0, 3)\n",
      "(2923.0, 2)\n",
      "(8229.0, 5)\n",
      "(2028.0, 2)\n",
      "(1433.0, 1)\n",
      "(6289.0, 4)\n",
      "(1409.0, 1)\n",
      "(6579.0, 4)\n",
      "(1743.0, 1)\n",
      "(3565.0, 2)\n",
      "(1569.0, 1)\n",
      "(1936.0, 1)\n",
      "(3959.0, 2)\n",
      "(2390.0, 2)\n",
      "(3273.168686868687, 2)\n",
      "(3857.0, 2)\n",
      "(804.0, 1)\n",
      "(1845.0, 1)\n",
      "(3273.168686868687, 2)\n"
     ]
    }
   ],
   "source": [
    "for i in zip(df_imputed.AMOUNT,bin_numbers):\n",
    "    print(i)"
   ]
  },
  {
   "cell_type": "code",
   "execution_count": 155,
   "metadata": {},
   "outputs": [
    {
     "data": {
      "text/plain": [
       "1     427\n",
       "2     330\n",
       "3      96\n",
       "4      78\n",
       "5      29\n",
       "6      19\n",
       "8      11\n",
       "7       9\n",
       "10      1\n",
       "dtype: int64"
      ]
     },
     "execution_count": 155,
     "metadata": {},
     "output_type": "execute_result"
    }
   ],
   "source": [
    "pd.Series(bin_numbers).value_counts()"
   ]
  },
  {
   "cell_type": "markdown",
   "metadata": {},
   "source": [
    "In the real world situations , we may not always have domain knowledge. In such cases we can divide the continuous variable into a fixed number of bins, each bin having approximately same number of values"
   ]
  },
  {
   "cell_type": "code",
   "execution_count": 156,
   "metadata": {},
   "outputs": [
    {
     "data": {
      "text/plain": [
       "(249.999, 1374.0]    251\n",
       "(3960.5, 18424.0]    250\n",
       "(2330.0, 3960.5]     250\n",
       "(1374.0, 2330.0]     249\n",
       "Name: AMOUNT, dtype: int64"
      ]
     },
     "execution_count": 156,
     "metadata": {},
     "output_type": "execute_result"
    }
   ],
   "source": [
    "pd.qcut(df_imputed.AMOUNT,4).value_counts()"
   ]
  },
  {
   "cell_type": "markdown",
   "metadata": {
    "collapsed": true
   },
   "source": [
    "### Creating dummy variables and adding to original table\n"
   ]
  },
  {
   "cell_type": "code",
   "execution_count": 157,
   "metadata": {},
   "outputs": [],
   "source": [
    "Job_dummies = pd.get_dummies(df3.JOB,prefix=\"JOB\").head()"
   ]
  },
  {
   "cell_type": "code",
   "execution_count": 158,
   "metadata": {},
   "outputs": [
    {
     "data": {
      "text/html": [
       "<div>\n",
       "<style scoped>\n",
       "    .dataframe tbody tr th:only-of-type {\n",
       "        vertical-align: middle;\n",
       "    }\n",
       "\n",
       "    .dataframe tbody tr th {\n",
       "        vertical-align: top;\n",
       "    }\n",
       "\n",
       "    .dataframe thead th {\n",
       "        text-align: right;\n",
       "    }\n",
       "</style>\n",
       "<table border=\"1\" class=\"dataframe\">\n",
       "  <thead>\n",
       "    <tr style=\"text-align: right;\">\n",
       "      <th></th>\n",
       "      <th>DURATION</th>\n",
       "      <th>AMOUNT</th>\n",
       "      <th>INSTALL_RATE</th>\n",
       "      <th>AGE</th>\n",
       "      <th>NUM_CREDITS</th>\n",
       "      <th>NUM_DEPENDENTS</th>\n",
       "      <th>OBS</th>\n",
       "      <th>NEW_CAR</th>\n",
       "      <th>USED_CAR</th>\n",
       "      <th>FURNITURE</th>\n",
       "      <th>...</th>\n",
       "      <th>CHK_ACCT</th>\n",
       "      <th>HISTORY</th>\n",
       "      <th>SAV_ACCT</th>\n",
       "      <th>EMPLOYMENT</th>\n",
       "      <th>PRESENT_RESIDENT</th>\n",
       "      <th>JOB</th>\n",
       "      <th>JOB_0</th>\n",
       "      <th>JOB_1</th>\n",
       "      <th>JOB_2</th>\n",
       "      <th>JOB_3</th>\n",
       "    </tr>\n",
       "  </thead>\n",
       "  <tbody>\n",
       "    <tr>\n",
       "      <th>0</th>\n",
       "      <td>6.0</td>\n",
       "      <td>1169.0</td>\n",
       "      <td>4.0</td>\n",
       "      <td>67.0</td>\n",
       "      <td>2.0</td>\n",
       "      <td>1.0</td>\n",
       "      <td>1</td>\n",
       "      <td>0.0</td>\n",
       "      <td>0.0</td>\n",
       "      <td>0.0</td>\n",
       "      <td>...</td>\n",
       "      <td>0</td>\n",
       "      <td>4</td>\n",
       "      <td>4</td>\n",
       "      <td>4</td>\n",
       "      <td>4</td>\n",
       "      <td>2</td>\n",
       "      <td>0.0</td>\n",
       "      <td>0.0</td>\n",
       "      <td>1.0</td>\n",
       "      <td>0.0</td>\n",
       "    </tr>\n",
       "    <tr>\n",
       "      <th>1</th>\n",
       "      <td>48.0</td>\n",
       "      <td>5951.0</td>\n",
       "      <td>2.0</td>\n",
       "      <td>22.0</td>\n",
       "      <td>1.0</td>\n",
       "      <td>1.0</td>\n",
       "      <td>2</td>\n",
       "      <td>0.0</td>\n",
       "      <td>0.0</td>\n",
       "      <td>0.0</td>\n",
       "      <td>...</td>\n",
       "      <td>1</td>\n",
       "      <td>2</td>\n",
       "      <td>0</td>\n",
       "      <td>2</td>\n",
       "      <td>2</td>\n",
       "      <td>2</td>\n",
       "      <td>0.0</td>\n",
       "      <td>0.0</td>\n",
       "      <td>1.0</td>\n",
       "      <td>0.0</td>\n",
       "    </tr>\n",
       "    <tr>\n",
       "      <th>2</th>\n",
       "      <td>12.0</td>\n",
       "      <td>2096.0</td>\n",
       "      <td>2.0</td>\n",
       "      <td>49.0</td>\n",
       "      <td>1.0</td>\n",
       "      <td>2.0</td>\n",
       "      <td>3</td>\n",
       "      <td>0.0</td>\n",
       "      <td>0.0</td>\n",
       "      <td>0.0</td>\n",
       "      <td>...</td>\n",
       "      <td>3</td>\n",
       "      <td>4</td>\n",
       "      <td>0</td>\n",
       "      <td>3</td>\n",
       "      <td>3</td>\n",
       "      <td>1</td>\n",
       "      <td>0.0</td>\n",
       "      <td>1.0</td>\n",
       "      <td>0.0</td>\n",
       "      <td>0.0</td>\n",
       "    </tr>\n",
       "    <tr>\n",
       "      <th>3</th>\n",
       "      <td>42.0</td>\n",
       "      <td>7882.0</td>\n",
       "      <td>2.0</td>\n",
       "      <td>45.0</td>\n",
       "      <td>1.0</td>\n",
       "      <td>2.0</td>\n",
       "      <td>4</td>\n",
       "      <td>0.0</td>\n",
       "      <td>0.0</td>\n",
       "      <td>1.0</td>\n",
       "      <td>...</td>\n",
       "      <td>0</td>\n",
       "      <td>2</td>\n",
       "      <td>0</td>\n",
       "      <td>3</td>\n",
       "      <td>4</td>\n",
       "      <td>2</td>\n",
       "      <td>0.0</td>\n",
       "      <td>0.0</td>\n",
       "      <td>1.0</td>\n",
       "      <td>0.0</td>\n",
       "    </tr>\n",
       "    <tr>\n",
       "      <th>4</th>\n",
       "      <td>24.0</td>\n",
       "      <td>4870.0</td>\n",
       "      <td>3.0</td>\n",
       "      <td>53.0</td>\n",
       "      <td>2.0</td>\n",
       "      <td>2.0</td>\n",
       "      <td>5</td>\n",
       "      <td>1.0</td>\n",
       "      <td>0.0</td>\n",
       "      <td>0.0</td>\n",
       "      <td>...</td>\n",
       "      <td>0</td>\n",
       "      <td>3</td>\n",
       "      <td>0</td>\n",
       "      <td>2</td>\n",
       "      <td>4</td>\n",
       "      <td>2</td>\n",
       "      <td>0.0</td>\n",
       "      <td>0.0</td>\n",
       "      <td>1.0</td>\n",
       "      <td>0.0</td>\n",
       "    </tr>\n",
       "  </tbody>\n",
       "</table>\n",
       "<p>5 rows × 33 columns</p>\n",
       "</div>"
      ],
      "text/plain": [
       "   DURATION  AMOUNT  INSTALL_RATE   AGE  NUM_CREDITS  NUM_DEPENDENTS OBS  \\\n",
       "0       6.0  1169.0           4.0  67.0          2.0             1.0   1   \n",
       "1      48.0  5951.0           2.0  22.0          1.0             1.0   2   \n",
       "2      12.0  2096.0           2.0  49.0          1.0             2.0   3   \n",
       "3      42.0  7882.0           2.0  45.0          1.0             2.0   4   \n",
       "4      24.0  4870.0           3.0  53.0          2.0             2.0   5   \n",
       "\n",
       "  NEW_CAR USED_CAR FURNITURE  ...  CHK_ACCT HISTORY SAV_ACCT EMPLOYMENT  \\\n",
       "0     0.0      0.0       0.0  ...         0       4        4          4   \n",
       "1     0.0      0.0       0.0  ...         1       2        0          2   \n",
       "2     0.0      0.0       0.0  ...         3       4        0          3   \n",
       "3     0.0      0.0       1.0  ...         0       2        0          3   \n",
       "4     1.0      0.0       0.0  ...         0       3        0          2   \n",
       "\n",
       "  PRESENT_RESIDENT JOB JOB_0 JOB_1 JOB_2 JOB_3  \n",
       "0                4   2   0.0   0.0   1.0   0.0  \n",
       "1                2   2   0.0   0.0   1.0   0.0  \n",
       "2                3   1   0.0   1.0   0.0   0.0  \n",
       "3                4   2   0.0   0.0   1.0   0.0  \n",
       "4                4   2   0.0   0.0   1.0   0.0  \n",
       "\n",
       "[5 rows x 33 columns]"
      ]
     },
     "execution_count": 158,
     "metadata": {},
     "output_type": "execute_result"
    }
   ],
   "source": [
    "pd.concat([df_imputed,Job_dummies],axis=1).head()"
   ]
  },
  {
   "cell_type": "markdown",
   "metadata": {},
   "source": [
    "### Normalization"
   ]
  },
  {
   "cell_type": "code",
   "execution_count": 159,
   "metadata": {},
   "outputs": [],
   "source": [
    "from sklearn.preprocessing import MinMaxScaler"
   ]
  },
  {
   "cell_type": "code",
   "execution_count": 160,
   "metadata": {},
   "outputs": [],
   "source": [
    "minmaxscaler = MinMaxScaler()"
   ]
  },
  {
   "cell_type": "markdown",
   "metadata": {},
   "source": [
    "Scaling the arrtibutes to 0 - 1 scale"
   ]
  },
  {
   "cell_type": "code",
   "execution_count": 161,
   "metadata": {},
   "outputs": [
    {
     "data": {
      "text/plain": [
       "MinMaxScaler(copy=True, feature_range=(0, 1))"
      ]
     },
     "execution_count": 161,
     "metadata": {},
     "output_type": "execute_result"
    }
   ],
   "source": [
    "minmaxscaler.fit(df_imputed[num_attr])"
   ]
  },
  {
   "cell_type": "code",
   "execution_count": 162,
   "metadata": {},
   "outputs": [
    {
     "data": {
      "text/plain": [
       "array([  4., 250.,   1.,  19.,   1.,   1.])"
      ]
     },
     "execution_count": 162,
     "metadata": {},
     "output_type": "execute_result"
    }
   ],
   "source": [
    "minmaxscaler.data_min_"
   ]
  },
  {
   "cell_type": "code",
   "execution_count": 163,
   "metadata": {},
   "outputs": [
    {
     "data": {
      "text/plain": [
       "array([7.2000e+01, 1.8424e+04, 4.0000e+00, 7.5000e+01, 4.0000e+00,\n",
       "       2.0000e+00])"
      ]
     },
     "execution_count": 163,
     "metadata": {},
     "output_type": "execute_result"
    }
   ],
   "source": [
    "minmaxscaler.data_max_"
   ]
  },
  {
   "cell_type": "code",
   "execution_count": 164,
   "metadata": {},
   "outputs": [],
   "source": [
    "df_min_max_scaled = minmaxscaler.transform(df_imputed[num_attr])"
   ]
  },
  {
   "cell_type": "code",
   "execution_count": 165,
   "metadata": {},
   "outputs": [],
   "source": [
    "df_min_max_scaled = pd.DataFrame(df_min_max_scaled,columns=num_attr)"
   ]
  },
  {
   "cell_type": "code",
   "execution_count": 166,
   "metadata": {},
   "outputs": [
    {
     "data": {
      "text/html": [
       "<div>\n",
       "<style scoped>\n",
       "    .dataframe tbody tr th:only-of-type {\n",
       "        vertical-align: middle;\n",
       "    }\n",
       "\n",
       "    .dataframe tbody tr th {\n",
       "        vertical-align: top;\n",
       "    }\n",
       "\n",
       "    .dataframe thead th {\n",
       "        text-align: right;\n",
       "    }\n",
       "</style>\n",
       "<table border=\"1\" class=\"dataframe\">\n",
       "  <thead>\n",
       "    <tr style=\"text-align: right;\">\n",
       "      <th></th>\n",
       "      <th>DURATION</th>\n",
       "      <th>AMOUNT</th>\n",
       "      <th>INSTALL_RATE</th>\n",
       "      <th>AGE</th>\n",
       "      <th>NUM_CREDITS</th>\n",
       "      <th>NUM_DEPENDENTS</th>\n",
       "    </tr>\n",
       "  </thead>\n",
       "  <tbody>\n",
       "    <tr>\n",
       "      <th>0</th>\n",
       "      <td>0.029412</td>\n",
       "      <td>0.050567</td>\n",
       "      <td>1.000000</td>\n",
       "      <td>0.857143</td>\n",
       "      <td>0.333333</td>\n",
       "      <td>0.0</td>\n",
       "    </tr>\n",
       "    <tr>\n",
       "      <th>1</th>\n",
       "      <td>0.647059</td>\n",
       "      <td>0.313690</td>\n",
       "      <td>0.333333</td>\n",
       "      <td>0.053571</td>\n",
       "      <td>0.000000</td>\n",
       "      <td>0.0</td>\n",
       "    </tr>\n",
       "    <tr>\n",
       "      <th>2</th>\n",
       "      <td>0.117647</td>\n",
       "      <td>0.101574</td>\n",
       "      <td>0.333333</td>\n",
       "      <td>0.535714</td>\n",
       "      <td>0.000000</td>\n",
       "      <td>1.0</td>\n",
       "    </tr>\n",
       "    <tr>\n",
       "      <th>3</th>\n",
       "      <td>0.558824</td>\n",
       "      <td>0.419941</td>\n",
       "      <td>0.333333</td>\n",
       "      <td>0.464286</td>\n",
       "      <td>0.000000</td>\n",
       "      <td>1.0</td>\n",
       "    </tr>\n",
       "    <tr>\n",
       "      <th>4</th>\n",
       "      <td>0.294118</td>\n",
       "      <td>0.254209</td>\n",
       "      <td>0.666667</td>\n",
       "      <td>0.607143</td>\n",
       "      <td>0.333333</td>\n",
       "      <td>1.0</td>\n",
       "    </tr>\n",
       "  </tbody>\n",
       "</table>\n",
       "</div>"
      ],
      "text/plain": [
       "   DURATION    AMOUNT  INSTALL_RATE       AGE  NUM_CREDITS  NUM_DEPENDENTS\n",
       "0  0.029412  0.050567      1.000000  0.857143     0.333333             0.0\n",
       "1  0.647059  0.313690      0.333333  0.053571     0.000000             0.0\n",
       "2  0.117647  0.101574      0.333333  0.535714     0.000000             1.0\n",
       "3  0.558824  0.419941      0.333333  0.464286     0.000000             1.0\n",
       "4  0.294118  0.254209      0.666667  0.607143     0.333333             1.0"
      ]
     },
     "execution_count": 166,
     "metadata": {},
     "output_type": "execute_result"
    }
   ],
   "source": [
    "df_min_max_scaled.head()"
   ]
  },
  {
   "cell_type": "code",
   "execution_count": 167,
   "metadata": {},
   "outputs": [
    {
     "data": {
      "text/html": [
       "<div>\n",
       "<style scoped>\n",
       "    .dataframe tbody tr th:only-of-type {\n",
       "        vertical-align: middle;\n",
       "    }\n",
       "\n",
       "    .dataframe tbody tr th {\n",
       "        vertical-align: top;\n",
       "    }\n",
       "\n",
       "    .dataframe thead th {\n",
       "        text-align: right;\n",
       "    }\n",
       "</style>\n",
       "<table border=\"1\" class=\"dataframe\">\n",
       "  <thead>\n",
       "    <tr style=\"text-align: right;\">\n",
       "      <th></th>\n",
       "      <th>DURATION</th>\n",
       "      <th>AMOUNT</th>\n",
       "      <th>INSTALL_RATE</th>\n",
       "      <th>AGE</th>\n",
       "      <th>NUM_CREDITS</th>\n",
       "      <th>NUM_DEPENDENTS</th>\n",
       "    </tr>\n",
       "  </thead>\n",
       "  <tbody>\n",
       "    <tr>\n",
       "      <th>count</th>\n",
       "      <td>1000.000000</td>\n",
       "      <td>1000.000000</td>\n",
       "      <td>1000.000000</td>\n",
       "      <td>1000.000000</td>\n",
       "      <td>1000.000000</td>\n",
       "      <td>1000.000000</td>\n",
       "    </tr>\n",
       "    <tr>\n",
       "      <th>mean</th>\n",
       "      <td>0.248792</td>\n",
       "      <td>0.166346</td>\n",
       "      <td>0.657603</td>\n",
       "      <td>0.294733</td>\n",
       "      <td>0.135480</td>\n",
       "      <td>0.156093</td>\n",
       "    </tr>\n",
       "    <tr>\n",
       "      <th>std</th>\n",
       "      <td>0.177244</td>\n",
       "      <td>0.154727</td>\n",
       "      <td>0.371709</td>\n",
       "      <td>0.201532</td>\n",
       "      <td>0.191523</td>\n",
       "      <td>0.361852</td>\n",
       "    </tr>\n",
       "    <tr>\n",
       "      <th>min</th>\n",
       "      <td>0.000000</td>\n",
       "      <td>0.000000</td>\n",
       "      <td>0.000000</td>\n",
       "      <td>0.000000</td>\n",
       "      <td>0.000000</td>\n",
       "      <td>0.000000</td>\n",
       "    </tr>\n",
       "    <tr>\n",
       "      <th>25%</th>\n",
       "      <td>0.117647</td>\n",
       "      <td>0.061847</td>\n",
       "      <td>0.333333</td>\n",
       "      <td>0.142857</td>\n",
       "      <td>0.000000</td>\n",
       "      <td>0.000000</td>\n",
       "    </tr>\n",
       "    <tr>\n",
       "      <th>50%</th>\n",
       "      <td>0.205882</td>\n",
       "      <td>0.114449</td>\n",
       "      <td>0.666667</td>\n",
       "      <td>0.250000</td>\n",
       "      <td>0.000000</td>\n",
       "      <td>0.000000</td>\n",
       "    </tr>\n",
       "    <tr>\n",
       "      <th>75%</th>\n",
       "      <td>0.294118</td>\n",
       "      <td>0.204165</td>\n",
       "      <td>1.000000</td>\n",
       "      <td>0.410714</td>\n",
       "      <td>0.333333</td>\n",
       "      <td>0.000000</td>\n",
       "    </tr>\n",
       "    <tr>\n",
       "      <th>max</th>\n",
       "      <td>1.000000</td>\n",
       "      <td>1.000000</td>\n",
       "      <td>1.000000</td>\n",
       "      <td>1.000000</td>\n",
       "      <td>1.000000</td>\n",
       "      <td>1.000000</td>\n",
       "    </tr>\n",
       "  </tbody>\n",
       "</table>\n",
       "</div>"
      ],
      "text/plain": [
       "          DURATION       AMOUNT  INSTALL_RATE          AGE  NUM_CREDITS  \\\n",
       "count  1000.000000  1000.000000   1000.000000  1000.000000  1000.000000   \n",
       "mean      0.248792     0.166346      0.657603     0.294733     0.135480   \n",
       "std       0.177244     0.154727      0.371709     0.201532     0.191523   \n",
       "min       0.000000     0.000000      0.000000     0.000000     0.000000   \n",
       "25%       0.117647     0.061847      0.333333     0.142857     0.000000   \n",
       "50%       0.205882     0.114449      0.666667     0.250000     0.000000   \n",
       "75%       0.294118     0.204165      1.000000     0.410714     0.333333   \n",
       "max       1.000000     1.000000      1.000000     1.000000     1.000000   \n",
       "\n",
       "       NUM_DEPENDENTS  \n",
       "count     1000.000000  \n",
       "mean         0.156093  \n",
       "std          0.361852  \n",
       "min          0.000000  \n",
       "25%          0.000000  \n",
       "50%          0.000000  \n",
       "75%          0.000000  \n",
       "max          1.000000  "
      ]
     },
     "execution_count": 167,
     "metadata": {},
     "output_type": "execute_result"
    }
   ],
   "source": [
    "df_min_max_scaled[num_attr].describe()"
   ]
  },
  {
   "cell_type": "markdown",
   "metadata": {
    "collapsed": true
   },
   "source": [
    "#### Standardizing the data \n"
   ]
  },
  {
   "cell_type": "code",
   "execution_count": 168,
   "metadata": {},
   "outputs": [],
   "source": [
    "from sklearn.preprocessing import  StandardScaler"
   ]
  },
  {
   "cell_type": "code",
   "execution_count": 169,
   "metadata": {},
   "outputs": [],
   "source": [
    "scaler = StandardScaler(with_mean=True, with_std=True).fit(df_imputed[num_attr])"
   ]
  },
  {
   "cell_type": "code",
   "execution_count": 170,
   "metadata": {},
   "outputs": [
    {
     "data": {
      "text/plain": [
       "StandardScaler(copy=True, with_mean=True, with_std=True)"
      ]
     },
     "execution_count": 170,
     "metadata": {},
     "output_type": "execute_result"
    }
   ],
   "source": [
    "scaler"
   ]
  },
  {
   "cell_type": "code",
   "execution_count": 171,
   "metadata": {},
   "outputs": [
    {
     "data": {
      "text/plain": [
       "array([2.09178357e+01, 3.27316869e+03, 2.97280967e+00, 3.55050505e+01,\n",
       "       1.40643863e+00, 1.15609265e+00])"
      ]
     },
     "execution_count": 171,
     "metadata": {},
     "output_type": "execute_result"
    }
   ],
   "source": [
    "scaler.mean_"
   ]
  },
  {
   "cell_type": "code",
   "execution_count": 172,
   "metadata": {},
   "outputs": [],
   "source": [
    "df_scaled = pd.DataFrame(scaler.transform(df_imputed[num_attr]),columns=num_attr)"
   ]
  },
  {
   "cell_type": "code",
   "execution_count": 173,
   "metadata": {},
   "outputs": [
    {
     "data": {
      "text/html": [
       "<div>\n",
       "<style scoped>\n",
       "    .dataframe tbody tr th:only-of-type {\n",
       "        vertical-align: middle;\n",
       "    }\n",
       "\n",
       "    .dataframe tbody tr th {\n",
       "        vertical-align: top;\n",
       "    }\n",
       "\n",
       "    .dataframe thead th {\n",
       "        text-align: right;\n",
       "    }\n",
       "</style>\n",
       "<table border=\"1\" class=\"dataframe\">\n",
       "  <thead>\n",
       "    <tr style=\"text-align: right;\">\n",
       "      <th></th>\n",
       "      <th>DURATION</th>\n",
       "      <th>AMOUNT</th>\n",
       "      <th>INSTALL_RATE</th>\n",
       "      <th>AGE</th>\n",
       "      <th>NUM_CREDITS</th>\n",
       "      <th>NUM_DEPENDENTS</th>\n",
       "    </tr>\n",
       "  </thead>\n",
       "  <tbody>\n",
       "    <tr>\n",
       "      <th>0</th>\n",
       "      <td>-1.238350</td>\n",
       "      <td>-0.748656</td>\n",
       "      <td>0.921603</td>\n",
       "      <td>2.792072</td>\n",
       "      <td>1.033573</td>\n",
       "      <td>-0.431588</td>\n",
       "    </tr>\n",
       "    <tr>\n",
       "      <th>1</th>\n",
       "      <td>2.248127</td>\n",
       "      <td>0.952763</td>\n",
       "      <td>-0.872812</td>\n",
       "      <td>-1.197242</td>\n",
       "      <td>-0.707735</td>\n",
       "      <td>-0.431588</td>\n",
       "    </tr>\n",
       "    <tr>\n",
       "      <th>2</th>\n",
       "      <td>-0.740282</td>\n",
       "      <td>-0.418832</td>\n",
       "      <td>-0.872812</td>\n",
       "      <td>1.196346</td>\n",
       "      <td>-0.707735</td>\n",
       "      <td>2.333359</td>\n",
       "    </tr>\n",
       "    <tr>\n",
       "      <th>3</th>\n",
       "      <td>1.750059</td>\n",
       "      <td>1.639805</td>\n",
       "      <td>-0.872812</td>\n",
       "      <td>0.841741</td>\n",
       "      <td>-0.707735</td>\n",
       "      <td>2.333359</td>\n",
       "    </tr>\n",
       "    <tr>\n",
       "      <th>4</th>\n",
       "      <td>0.255855</td>\n",
       "      <td>0.568147</td>\n",
       "      <td>0.024395</td>\n",
       "      <td>1.550952</td>\n",
       "      <td>1.033573</td>\n",
       "      <td>2.333359</td>\n",
       "    </tr>\n",
       "  </tbody>\n",
       "</table>\n",
       "</div>"
      ],
      "text/plain": [
       "   DURATION    AMOUNT  INSTALL_RATE       AGE  NUM_CREDITS  NUM_DEPENDENTS\n",
       "0 -1.238350 -0.748656      0.921603  2.792072     1.033573       -0.431588\n",
       "1  2.248127  0.952763     -0.872812 -1.197242    -0.707735       -0.431588\n",
       "2 -0.740282 -0.418832     -0.872812  1.196346    -0.707735        2.333359\n",
       "3  1.750059  1.639805     -0.872812  0.841741    -0.707735        2.333359\n",
       "4  0.255855  0.568147      0.024395  1.550952     1.033573        2.333359"
      ]
     },
     "execution_count": 173,
     "metadata": {},
     "output_type": "execute_result"
    }
   ],
   "source": [
    "df_scaled.head()"
   ]
  },
  {
   "cell_type": "code",
   "execution_count": 174,
   "metadata": {},
   "outputs": [
    {
     "data": {
      "text/html": [
       "<div>\n",
       "<style scoped>\n",
       "    .dataframe tbody tr th:only-of-type {\n",
       "        vertical-align: middle;\n",
       "    }\n",
       "\n",
       "    .dataframe tbody tr th {\n",
       "        vertical-align: top;\n",
       "    }\n",
       "\n",
       "    .dataframe thead th {\n",
       "        text-align: right;\n",
       "    }\n",
       "</style>\n",
       "<table border=\"1\" class=\"dataframe\">\n",
       "  <thead>\n",
       "    <tr style=\"text-align: right;\">\n",
       "      <th></th>\n",
       "      <th>DURATION</th>\n",
       "      <th>AMOUNT</th>\n",
       "      <th>INSTALL_RATE</th>\n",
       "      <th>AGE</th>\n",
       "      <th>NUM_CREDITS</th>\n",
       "      <th>NUM_DEPENDENTS</th>\n",
       "    </tr>\n",
       "  </thead>\n",
       "  <tbody>\n",
       "    <tr>\n",
       "      <th>count</th>\n",
       "      <td>1.000000e+03</td>\n",
       "      <td>1.000000e+03</td>\n",
       "      <td>1.000000e+03</td>\n",
       "      <td>1.000000e+03</td>\n",
       "      <td>1.000000e+03</td>\n",
       "      <td>1.000000e+03</td>\n",
       "    </tr>\n",
       "    <tr>\n",
       "      <th>mean</th>\n",
       "      <td>3.952394e-16</td>\n",
       "      <td>1.341657e-16</td>\n",
       "      <td>-2.116328e-16</td>\n",
       "      <td>1.887379e-17</td>\n",
       "      <td>9.303669e-17</td>\n",
       "      <td>-7.814860e-16</td>\n",
       "    </tr>\n",
       "    <tr>\n",
       "      <th>std</th>\n",
       "      <td>1.000500e+00</td>\n",
       "      <td>1.000500e+00</td>\n",
       "      <td>1.000500e+00</td>\n",
       "      <td>1.000500e+00</td>\n",
       "      <td>1.000500e+00</td>\n",
       "      <td>1.000500e+00</td>\n",
       "    </tr>\n",
       "    <tr>\n",
       "      <th>min</th>\n",
       "      <td>-1.404372e+00</td>\n",
       "      <td>-1.075632e+00</td>\n",
       "      <td>-1.770019e+00</td>\n",
       "      <td>-1.463196e+00</td>\n",
       "      <td>-7.077346e-01</td>\n",
       "      <td>-4.315879e-01</td>\n",
       "    </tr>\n",
       "    <tr>\n",
       "      <th>25%</th>\n",
       "      <td>-7.402816e-01</td>\n",
       "      <td>-6.757173e-01</td>\n",
       "      <td>-8.728118e-01</td>\n",
       "      <td>-7.539847e-01</td>\n",
       "      <td>-7.077346e-01</td>\n",
       "      <td>-4.315879e-01</td>\n",
       "    </tr>\n",
       "    <tr>\n",
       "      <th>50%</th>\n",
       "      <td>-2.422135e-01</td>\n",
       "      <td>-3.355760e-01</td>\n",
       "      <td>2.439536e-02</td>\n",
       "      <td>-2.220763e-01</td>\n",
       "      <td>-7.077346e-01</td>\n",
       "      <td>-4.315879e-01</td>\n",
       "    </tr>\n",
       "    <tr>\n",
       "      <th>75%</th>\n",
       "      <td>2.558546e-01</td>\n",
       "      <td>2.445500e-01</td>\n",
       "      <td>9.216025e-01</td>\n",
       "      <td>5.757864e-01</td>\n",
       "      <td>1.033573e+00</td>\n",
       "      <td>-4.315879e-01</td>\n",
       "    </tr>\n",
       "    <tr>\n",
       "      <th>max</th>\n",
       "      <td>4.240399e+00</td>\n",
       "      <td>5.390611e+00</td>\n",
       "      <td>9.216025e-01</td>\n",
       "      <td>3.501283e+00</td>\n",
       "      <td>4.516188e+00</td>\n",
       "      <td>2.333359e+00</td>\n",
       "    </tr>\n",
       "  </tbody>\n",
       "</table>\n",
       "</div>"
      ],
      "text/plain": [
       "           DURATION        AMOUNT  INSTALL_RATE           AGE   NUM_CREDITS  \\\n",
       "count  1.000000e+03  1.000000e+03  1.000000e+03  1.000000e+03  1.000000e+03   \n",
       "mean   3.952394e-16  1.341657e-16 -2.116328e-16  1.887379e-17  9.303669e-17   \n",
       "std    1.000500e+00  1.000500e+00  1.000500e+00  1.000500e+00  1.000500e+00   \n",
       "min   -1.404372e+00 -1.075632e+00 -1.770019e+00 -1.463196e+00 -7.077346e-01   \n",
       "25%   -7.402816e-01 -6.757173e-01 -8.728118e-01 -7.539847e-01 -7.077346e-01   \n",
       "50%   -2.422135e-01 -3.355760e-01  2.439536e-02 -2.220763e-01 -7.077346e-01   \n",
       "75%    2.558546e-01  2.445500e-01  9.216025e-01  5.757864e-01  1.033573e+00   \n",
       "max    4.240399e+00  5.390611e+00  9.216025e-01  3.501283e+00  4.516188e+00   \n",
       "\n",
       "       NUM_DEPENDENTS  \n",
       "count    1.000000e+03  \n",
       "mean    -7.814860e-16  \n",
       "std      1.000500e+00  \n",
       "min     -4.315879e-01  \n",
       "25%     -4.315879e-01  \n",
       "50%     -4.315879e-01  \n",
       "75%     -4.315879e-01  \n",
       "max      2.333359e+00  "
      ]
     },
     "execution_count": 174,
     "metadata": {},
     "output_type": "execute_result"
    }
   ],
   "source": [
    "df_scaled.describe()"
   ]
  },
  {
   "cell_type": "markdown",
   "metadata": {},
   "source": [
    "## Apply functions"
   ]
  },
  {
   "cell_type": "markdown",
   "metadata": {},
   "source": [
    "##### apply functions allow us to perform a specific action on a single row, single column , set of rows, set of columns in the dataset"
   ]
  },
  {
   "cell_type": "markdown",
   "metadata": {},
   "source": [
    "Find the min, max, standard  deviation of the numeric columns"
   ]
  },
  {
   "cell_type": "code",
   "execution_count": 175,
   "metadata": {},
   "outputs": [
    {
     "data": {
      "text/html": [
       "<div>\n",
       "<style scoped>\n",
       "    .dataframe tbody tr th:only-of-type {\n",
       "        vertical-align: middle;\n",
       "    }\n",
       "\n",
       "    .dataframe tbody tr th {\n",
       "        vertical-align: top;\n",
       "    }\n",
       "\n",
       "    .dataframe thead th {\n",
       "        text-align: right;\n",
       "    }\n",
       "</style>\n",
       "<table border=\"1\" class=\"dataframe\">\n",
       "  <thead>\n",
       "    <tr style=\"text-align: right;\">\n",
       "      <th></th>\n",
       "      <th>DURATION</th>\n",
       "      <th>AMOUNT</th>\n",
       "      <th>INSTALL_RATE</th>\n",
       "      <th>AGE</th>\n",
       "      <th>NUM_CREDITS</th>\n",
       "      <th>NUM_DEPENDENTS</th>\n",
       "    </tr>\n",
       "  </thead>\n",
       "  <tbody>\n",
       "    <tr>\n",
       "      <th>amin</th>\n",
       "      <td>4.000000</td>\n",
       "      <td>250.000000</td>\n",
       "      <td>1.000000</td>\n",
       "      <td>19.000000</td>\n",
       "      <td>1.000000</td>\n",
       "      <td>1.000000</td>\n",
       "    </tr>\n",
       "    <tr>\n",
       "      <th>amax</th>\n",
       "      <td>72.000000</td>\n",
       "      <td>18424.000000</td>\n",
       "      <td>4.000000</td>\n",
       "      <td>75.000000</td>\n",
       "      <td>4.000000</td>\n",
       "      <td>2.000000</td>\n",
       "    </tr>\n",
       "    <tr>\n",
       "      <th>std</th>\n",
       "      <td>12.052573</td>\n",
       "      <td>2812.002886</td>\n",
       "      <td>1.115128</td>\n",
       "      <td>11.285781</td>\n",
       "      <td>0.574568</td>\n",
       "      <td>0.361852</td>\n",
       "    </tr>\n",
       "  </tbody>\n",
       "</table>\n",
       "</div>"
      ],
      "text/plain": [
       "       DURATION        AMOUNT  INSTALL_RATE        AGE  NUM_CREDITS  \\\n",
       "amin   4.000000    250.000000      1.000000  19.000000     1.000000   \n",
       "amax  72.000000  18424.000000      4.000000  75.000000     4.000000   \n",
       "std   12.052573   2812.002886      1.115128  11.285781     0.574568   \n",
       "\n",
       "      NUM_DEPENDENTS  \n",
       "amin        1.000000  \n",
       "amax        2.000000  \n",
       "std         0.361852  "
      ]
     },
     "execution_count": 175,
     "metadata": {},
     "output_type": "execute_result"
    }
   ],
   "source": [
    "df_imputed[num_attr].apply([np.min,np.max,np.std])"
   ]
  },
  {
   "cell_type": "markdown",
   "metadata": {},
   "source": [
    "Find the \n",
    "\n",
    "- min\n",
    "- max\n",
    "- mean\n",
    "- median\n",
    "\n",
    "for the columns AGE and AMOUNT\n",
    "\n",
    "where the applicants purpose of credit is a new car"
   ]
  },
  {
   "cell_type": "code",
   "execution_count": 176,
   "metadata": {},
   "outputs": [
    {
     "data": {
      "text/html": [
       "<div>\n",
       "<style scoped>\n",
       "    .dataframe tbody tr th:only-of-type {\n",
       "        vertical-align: middle;\n",
       "    }\n",
       "\n",
       "    .dataframe tbody tr th {\n",
       "        vertical-align: top;\n",
       "    }\n",
       "\n",
       "    .dataframe thead th {\n",
       "        text-align: right;\n",
       "    }\n",
       "</style>\n",
       "<table border=\"1\" class=\"dataframe\">\n",
       "  <thead>\n",
       "    <tr style=\"text-align: right;\">\n",
       "      <th></th>\n",
       "      <th>AMOUNT</th>\n",
       "      <th>AGE</th>\n",
       "    </tr>\n",
       "  </thead>\n",
       "  <tbody>\n",
       "    <tr>\n",
       "      <th>mean</th>\n",
       "      <td>3075.064655</td>\n",
       "      <td>36.943966</td>\n",
       "    </tr>\n",
       "    <tr>\n",
       "      <th>median</th>\n",
       "      <td>1980.000000</td>\n",
       "      <td>35.000000</td>\n",
       "    </tr>\n",
       "  </tbody>\n",
       "</table>\n",
       "</div>"
      ],
      "text/plain": [
       "             AMOUNT        AGE\n",
       "mean    3075.064655  36.943966\n",
       "median  1980.000000  35.000000"
      ]
     },
     "execution_count": 176,
     "metadata": {},
     "output_type": "execute_result"
    }
   ],
   "source": [
    "df3[['AMOUNT','AGE']][df3.NEW_CAR=='1.0'].apply([np.mean,np.median])"
   ]
  },
  {
   "cell_type": "markdown",
   "metadata": {},
   "source": [
    "compare it with the values when the aapplicants purpose of credit is a used car"
   ]
  },
  {
   "cell_type": "code",
   "execution_count": 177,
   "metadata": {},
   "outputs": [
    {
     "data": {
      "text/html": [
       "<div>\n",
       "<style scoped>\n",
       "    .dataframe tbody tr th:only-of-type {\n",
       "        vertical-align: middle;\n",
       "    }\n",
       "\n",
       "    .dataframe tbody tr th {\n",
       "        vertical-align: top;\n",
       "    }\n",
       "\n",
       "    .dataframe thead th {\n",
       "        text-align: right;\n",
       "    }\n",
       "</style>\n",
       "<table border=\"1\" class=\"dataframe\">\n",
       "  <thead>\n",
       "    <tr style=\"text-align: right;\">\n",
       "      <th></th>\n",
       "      <th>AMOUNT</th>\n",
       "      <th>AGE</th>\n",
       "    </tr>\n",
       "  </thead>\n",
       "  <tbody>\n",
       "    <tr>\n",
       "      <th>mean</th>\n",
       "      <td>5417.871287</td>\n",
       "      <td>37.49505</td>\n",
       "    </tr>\n",
       "    <tr>\n",
       "      <th>median</th>\n",
       "      <td>4796.000000</td>\n",
       "      <td>35.00000</td>\n",
       "    </tr>\n",
       "  </tbody>\n",
       "</table>\n",
       "</div>"
      ],
      "text/plain": [
       "             AMOUNT       AGE\n",
       "mean    5417.871287  37.49505\n",
       "median  4796.000000  35.00000"
      ]
     },
     "execution_count": 177,
     "metadata": {},
     "output_type": "execute_result"
    }
   ],
   "source": [
    "df3[['AMOUNT','AGE']][df3.USED_CAR=='1.0'].apply([np.mean,np.median])"
   ]
  },
  {
   "cell_type": "markdown",
   "metadata": {},
   "source": [
    "### Practice/Assignment\n",
    "use `df_imputed` for answering these questions"
   ]
  },
  {
   "cell_type": "markdown",
   "metadata": {},
   "source": [
    "- How many customers applied for a credit for EDUCATION?"
   ]
  },
  {
   "cell_type": "code",
   "execution_count": 178,
   "metadata": {},
   "outputs": [
    {
     "data": {
      "text/plain": [
       "50"
      ]
     },
     "execution_count": 178,
     "metadata": {},
     "output_type": "execute_result"
    }
   ],
   "source": [
    "np.sum(df_imputed.EDUCATION == '1.0')"
   ]
  },
  {
   "cell_type": "markdown",
   "metadata": {},
   "source": [
    " - How many customers applied for a credit for FURNITURE?"
   ]
  },
  {
   "cell_type": "markdown",
   "metadata": {},
   "source": [
    "- How many single males applied for a credit for new car?"
   ]
  },
  {
   "cell_type": "markdown",
   "metadata": {},
   "source": [
    "- How many FOREIGN workers applied for a Credit?"
   ]
  },
  {
   "cell_type": "markdown",
   "metadata": {},
   "source": [
    "- What is the maximum credit given to a foreign worker?"
   ]
  },
  {
   "cell_type": "markdown",
   "metadata": {},
   "source": [
    " - What is the maximum credit given to a non foreign worker?"
   ]
  }
 ],
 "metadata": {
  "anaconda-cloud": {},
  "kernelspec": {
   "display_name": "Python 3",
   "language": "python",
   "name": "python3"
  },
  "language_info": {
   "codemirror_mode": {
    "name": "ipython",
    "version": 3
   },
   "file_extension": ".py",
   "mimetype": "text/x-python",
   "name": "python",
   "nbconvert_exporter": "python",
   "pygments_lexer": "ipython3",
   "version": "3.6.5"
  }
 },
 "nbformat": 4,
 "nbformat_minor": 1
}
