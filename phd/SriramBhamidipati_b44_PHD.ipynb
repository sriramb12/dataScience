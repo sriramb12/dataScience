{
 "cells": [
  {
   "cell_type": "markdown",
   "metadata": {},
   "source": [
    "## PHD Project:  Analysis of Bank Grading and Grievances Data\n",
    "### Input Data \n",
    "#### 2 tables are given\n",
    "-  Grievence Data\n",
    "-  Bank Grade"
   ]
  },
  {
   "cell_type": "markdown",
   "metadata": {},
   "source": [
    "## PHD Project:  Analysis of Bank Grading and Grievances Data\n",
    "### Input Data \n",
    "#### 2 tables are given\n",
    "-  Grievence Data\n",
    "-  Bank Grade"
   ]
  },
  {
   "cell_type": "markdown",
   "metadata": {},
   "source": [
    "### Environment"
   ]
  },
  {
   "cell_type": "code",
   "execution_count": 1,
   "metadata": {
    "ExecuteTime": {
     "end_time": "2018-11-30T17:50:33.445345Z",
     "start_time": "2018-11-30T17:50:33.442721Z"
    },
    "collapsed": true
   },
   "outputs": [],
   "source": [
    "import os\n",
    "os.chdir('/Users/bsriram/Downloads/datasci/phd')"
   ]
  },
  {
   "cell_type": "code",
   "execution_count": 2,
   "metadata": {
    "ExecuteTime": {
     "end_time": "2018-11-30T17:50:34.263429Z",
     "start_time": "2018-11-30T17:50:33.449956Z"
    },
    "collapsed": true,
    "hideCode": false,
    "hidePrompt": false
   },
   "outputs": [],
   "source": [
    "# Pandas is used for data manipulation\n",
    "import pandas as pd"
   ]
  },
  {
   "cell_type": "code",
   "execution_count": 3,
   "metadata": {
    "ExecuteTime": {
     "end_time": "2018-11-30T17:50:34.268756Z",
     "start_time": "2018-11-30T17:50:34.265679Z"
    },
    "collapsed": true
   },
   "outputs": [],
   "source": [
    "import warnings\n",
    "warnings.filterwarnings('ignore')"
   ]
  },
  {
   "cell_type": "markdown",
   "metadata": {},
   "source": [
    "### Load Data"
   ]
  },
  {
   "cell_type": "code",
   "execution_count": 4,
   "metadata": {
    "ExecuteTime": {
     "end_time": "2018-11-30T17:50:35.086798Z",
     "start_time": "2018-11-30T17:50:34.271018Z"
    },
    "collapsed": true
   },
   "outputs": [],
   "source": [
    "# Train\n",
    "trainData = pd.read_csv('GrievancesData_Train.csv', header=0)\n",
    "trainGrade = pd.read_csv('Train.csv', header=0)\n"
   ]
  },
  {
   "cell_type": "code",
   "execution_count": 5,
   "metadata": {
    "ExecuteTime": {
     "end_time": "2018-11-30T17:50:35.450501Z",
     "start_time": "2018-11-30T17:50:35.088604Z"
    },
    "collapsed": true
   },
   "outputs": [],
   "source": [
    "testData = pd.read_csv('GrievancesData_Test.csv', header=0)\n",
    "testGrade = pd.read_csv('Test.csv', header=0)"
   ]
  },
  {
   "cell_type": "markdown",
   "metadata": {},
   "source": [
    "## Approach\n",
    "> It wil be a 3 part approach:\n",
    "   We will make preliminary study of the tables and based on observations, we will take appropriate in-depth analysus \n",
    "\n",
    "- Part A - Preliminary examination\n",
    "\n",
    "- Part B - Feature Exploration\n",
    "\n",
    "- Part C - Reduce the rows to examine (via elimination)\n",
    "\n",
    "- Part D - Analyze GrievenceDescription using Text analytics\n",
    "\n",
    "- Part E - Build/Tune/Evaluate models"
   ]
  },
  {
   "cell_type": "markdown",
   "metadata": {},
   "source": [
    "# Part A - Preliminary Study\n",
    "## Let us understand the data "
   ]
  },
  {
   "cell_type": "markdown",
   "metadata": {},
   "source": [
    "## A.1. BankGrade Table"
   ]
  },
  {
   "cell_type": "code",
   "execution_count": 6,
   "metadata": {
    "ExecuteTime": {
     "end_time": "2018-11-30T17:50:35.455483Z",
     "start_time": "2018-11-30T17:50:35.452308Z"
    },
    "hideCode": false,
    "hidePrompt": false
   },
   "outputs": [
    {
     "name": "stdout",
     "output_type": "stream",
     "text": [
      "The shape of train grade table is: (86, 2)\n",
      "The shape of test grade table is: (22, 2)\n"
     ]
    }
   ],
   "source": [
    "# Dimensions of the bank-grade table\n",
    "print('The shape of train grade table is:', trainGrade.shape)\n",
    "print('The shape of test grade table is:', testGrade.shape)"
   ]
  },
  {
   "cell_type": "code",
   "execution_count": 7,
   "metadata": {
    "ExecuteTime": {
     "end_time": "2018-11-30T17:50:35.484516Z",
     "start_time": "2018-11-30T17:50:35.457411Z"
    }
   },
   "outputs": [
    {
     "data": {
      "text/html": [
       "<div>\n",
       "<style scoped>\n",
       "    .dataframe tbody tr th:only-of-type {\n",
       "        vertical-align: middle;\n",
       "    }\n",
       "\n",
       "    .dataframe tbody tr th {\n",
       "        vertical-align: top;\n",
       "    }\n",
       "\n",
       "    .dataframe thead th {\n",
       "        text-align: right;\n",
       "    }\n",
       "</style>\n",
       "<table border=\"1\" class=\"dataframe\">\n",
       "  <thead>\n",
       "    <tr style=\"text-align: right;\">\n",
       "      <th></th>\n",
       "      <th>BankID</th>\n",
       "      <th>BankGrade</th>\n",
       "    </tr>\n",
       "  </thead>\n",
       "  <tbody>\n",
       "    <tr>\n",
       "      <th>count</th>\n",
       "      <td>86</td>\n",
       "      <td>86</td>\n",
       "    </tr>\n",
       "    <tr>\n",
       "      <th>unique</th>\n",
       "      <td>86</td>\n",
       "      <td>3</td>\n",
       "    </tr>\n",
       "    <tr>\n",
       "      <th>top</th>\n",
       "      <td>Bank5386</td>\n",
       "      <td>satisfactory</td>\n",
       "    </tr>\n",
       "    <tr>\n",
       "      <th>freq</th>\n",
       "      <td>1</td>\n",
       "      <td>54</td>\n",
       "    </tr>\n",
       "  </tbody>\n",
       "</table>\n",
       "</div>"
      ],
      "text/plain": [
       "          BankID     BankGrade\n",
       "count         86            86\n",
       "unique        86             3\n",
       "top     Bank5386  satisfactory\n",
       "freq           1            54"
      ]
     },
     "execution_count": 7,
     "metadata": {},
     "output_type": "execute_result"
    }
   ],
   "source": [
    "trainGrade.describe()"
   ]
  },
  {
   "cell_type": "code",
   "execution_count": 8,
   "metadata": {
    "ExecuteTime": {
     "end_time": "2018-11-30T17:50:35.499368Z",
     "start_time": "2018-11-30T17:50:35.486306Z"
    }
   },
   "outputs": [
    {
     "data": {
      "text/html": [
       "<div>\n",
       "<style scoped>\n",
       "    .dataframe tbody tr th:only-of-type {\n",
       "        vertical-align: middle;\n",
       "    }\n",
       "\n",
       "    .dataframe tbody tr th {\n",
       "        vertical-align: top;\n",
       "    }\n",
       "\n",
       "    .dataframe thead th {\n",
       "        text-align: right;\n",
       "    }\n",
       "</style>\n",
       "<table border=\"1\" class=\"dataframe\">\n",
       "  <thead>\n",
       "    <tr style=\"text-align: right;\">\n",
       "      <th></th>\n",
       "      <th>BankGrade</th>\n",
       "    </tr>\n",
       "  </thead>\n",
       "  <tbody>\n",
       "    <tr>\n",
       "      <th>count</th>\n",
       "      <td>22.000000</td>\n",
       "    </tr>\n",
       "    <tr>\n",
       "      <th>mean</th>\n",
       "      <td>1.954545</td>\n",
       "    </tr>\n",
       "    <tr>\n",
       "      <th>std</th>\n",
       "      <td>0.485727</td>\n",
       "    </tr>\n",
       "    <tr>\n",
       "      <th>min</th>\n",
       "      <td>1.000000</td>\n",
       "    </tr>\n",
       "    <tr>\n",
       "      <th>25%</th>\n",
       "      <td>2.000000</td>\n",
       "    </tr>\n",
       "    <tr>\n",
       "      <th>50%</th>\n",
       "      <td>2.000000</td>\n",
       "    </tr>\n",
       "    <tr>\n",
       "      <th>75%</th>\n",
       "      <td>2.000000</td>\n",
       "    </tr>\n",
       "    <tr>\n",
       "      <th>max</th>\n",
       "      <td>3.000000</td>\n",
       "    </tr>\n",
       "  </tbody>\n",
       "</table>\n",
       "</div>"
      ],
      "text/plain": [
       "       BankGrade\n",
       "count  22.000000\n",
       "mean    1.954545\n",
       "std     0.485727\n",
       "min     1.000000\n",
       "25%     2.000000\n",
       "50%     2.000000\n",
       "75%     2.000000\n",
       "max     3.000000"
      ]
     },
     "execution_count": 8,
     "metadata": {},
     "output_type": "execute_result"
    }
   ],
   "source": [
    "testGrade.describe()"
   ]
  },
  {
   "cell_type": "markdown",
   "metadata": {},
   "source": [
    "#### NAs?"
   ]
  },
  {
   "cell_type": "code",
   "execution_count": 9,
   "metadata": {
    "ExecuteTime": {
     "end_time": "2018-11-30T17:50:35.544276Z",
     "start_time": "2018-11-30T17:50:35.500837Z"
    }
   },
   "outputs": [
    {
     "name": "stdout",
     "output_type": "stream",
     "text": [
      "Train:  BankID       0\n",
      "BankGrade    0\n",
      "dtype: int64 Test:  BankID       0\n",
      "BankGrade    0\n",
      "dtype: int64\n"
     ]
    }
   ],
   "source": [
    "print(\"Train: \", trainGrade.isnull().sum(), \"Test: \", testGrade.isnull().sum())"
   ]
  },
  {
   "cell_type": "code",
   "execution_count": 10,
   "metadata": {
    "ExecuteTime": {
     "end_time": "2018-11-30T17:50:35.550895Z",
     "start_time": "2018-11-30T17:50:35.545812Z"
    }
   },
   "outputs": [
    {
     "name": "stdout",
     "output_type": "stream",
     "text": [
      "Train:  BankID       0\n",
      "BankGrade    0\n",
      "dtype: int64 Test:  BankID       0\n",
      "BankGrade    0\n",
      "dtype: int64\n"
     ]
    }
   ],
   "source": [
    "print(\"Train: \", trainGrade.isna().sum(), \"Test: \", testGrade.isna().sum())"
   ]
  },
  {
   "cell_type": "markdown",
   "metadata": {},
   "source": [
    "#### No NAs in bankGradeTable (both train/test)"
   ]
  },
  {
   "cell_type": "markdown",
   "metadata": {},
   "source": [
    "### Any duplicates in BankID (since this 'appears' to be a primary key)"
   ]
  },
  {
   "cell_type": "code",
   "execution_count": 11,
   "metadata": {
    "ExecuteTime": {
     "end_time": "2018-11-30T17:50:35.558730Z",
     "start_time": "2018-11-30T17:50:35.552583Z"
    }
   },
   "outputs": [
    {
     "data": {
      "text/plain": [
       "count        86\n",
       "unique        1\n",
       "top       False\n",
       "freq         86\n",
       "Name: BankID, dtype: object"
      ]
     },
     "execution_count": 11,
     "metadata": {},
     "output_type": "execute_result"
    }
   ],
   "source": [
    "trainGrade.BankID.duplicated().describe()"
   ]
  },
  {
   "cell_type": "code",
   "execution_count": 12,
   "metadata": {
    "ExecuteTime": {
     "end_time": "2018-11-30T17:50:35.566770Z",
     "start_time": "2018-11-30T17:50:35.560535Z"
    }
   },
   "outputs": [
    {
     "data": {
      "text/plain": [
       "count        22\n",
       "unique        1\n",
       "top       False\n",
       "freq         22\n",
       "Name: BankID, dtype: object"
      ]
     },
     "execution_count": 12,
     "metadata": {},
     "output_type": "execute_result"
    }
   ],
   "source": [
    "testGrade.BankID.duplicated().describe()"
   ]
  },
  {
   "cell_type": "markdown",
   "metadata": {},
   "source": [
    "#### No Duplicate BankID in either of train/test"
   ]
  },
  {
   "cell_type": "code",
   "execution_count": 13,
   "metadata": {
    "ExecuteTime": {
     "end_time": "2018-11-30T17:50:35.575463Z",
     "start_time": "2018-11-30T17:50:35.568826Z"
    }
   },
   "outputs": [
    {
     "data": {
      "text/html": [
       "<div>\n",
       "<style scoped>\n",
       "    .dataframe tbody tr th:only-of-type {\n",
       "        vertical-align: middle;\n",
       "    }\n",
       "\n",
       "    .dataframe tbody tr th {\n",
       "        vertical-align: top;\n",
       "    }\n",
       "\n",
       "    .dataframe thead th {\n",
       "        text-align: right;\n",
       "    }\n",
       "</style>\n",
       "<table border=\"1\" class=\"dataframe\">\n",
       "  <thead>\n",
       "    <tr style=\"text-align: right;\">\n",
       "      <th></th>\n",
       "      <th>BankID</th>\n",
       "      <th>BankGrade</th>\n",
       "    </tr>\n",
       "  </thead>\n",
       "  <tbody>\n",
       "    <tr>\n",
       "      <th>0</th>\n",
       "      <td>Bank5298</td>\n",
       "      <td>satisfactory</td>\n",
       "    </tr>\n",
       "    <tr>\n",
       "      <th>1</th>\n",
       "      <td>Bank5421</td>\n",
       "      <td>deficient</td>\n",
       "    </tr>\n",
       "    <tr>\n",
       "      <th>2</th>\n",
       "      <td>Bank5326</td>\n",
       "      <td>satisfactory</td>\n",
       "    </tr>\n",
       "  </tbody>\n",
       "</table>\n",
       "</div>"
      ],
      "text/plain": [
       "     BankID     BankGrade\n",
       "0  Bank5298  satisfactory\n",
       "1  Bank5421     deficient\n",
       "2  Bank5326  satisfactory"
      ]
     },
     "execution_count": 13,
     "metadata": {},
     "output_type": "execute_result"
    }
   ],
   "source": [
    "trainGrade.head(3)"
   ]
  },
  {
   "cell_type": "code",
   "execution_count": 14,
   "metadata": {
    "ExecuteTime": {
     "end_time": "2018-11-30T17:50:35.583331Z",
     "start_time": "2018-11-30T17:50:35.577141Z"
    }
   },
   "outputs": [
    {
     "data": {
      "text/html": [
       "<div>\n",
       "<style scoped>\n",
       "    .dataframe tbody tr th:only-of-type {\n",
       "        vertical-align: middle;\n",
       "    }\n",
       "\n",
       "    .dataframe tbody tr th {\n",
       "        vertical-align: top;\n",
       "    }\n",
       "\n",
       "    .dataframe thead th {\n",
       "        text-align: right;\n",
       "    }\n",
       "</style>\n",
       "<table border=\"1\" class=\"dataframe\">\n",
       "  <thead>\n",
       "    <tr style=\"text-align: right;\">\n",
       "      <th></th>\n",
       "      <th>BankID</th>\n",
       "      <th>BankGrade</th>\n",
       "    </tr>\n",
       "  </thead>\n",
       "  <tbody>\n",
       "    <tr>\n",
       "      <th>0</th>\n",
       "      <td>Bank5334</td>\n",
       "      <td>2</td>\n",
       "    </tr>\n",
       "    <tr>\n",
       "      <th>1</th>\n",
       "      <td>Bank5278</td>\n",
       "      <td>2</td>\n",
       "    </tr>\n",
       "    <tr>\n",
       "      <th>2</th>\n",
       "      <td>Bank5372</td>\n",
       "      <td>2</td>\n",
       "    </tr>\n",
       "  </tbody>\n",
       "</table>\n",
       "</div>"
      ],
      "text/plain": [
       "     BankID  BankGrade\n",
       "0  Bank5334          2\n",
       "1  Bank5278          2\n",
       "2  Bank5372          2"
      ]
     },
     "execution_count": 14,
     "metadata": {},
     "output_type": "execute_result"
    }
   ],
   "source": [
    "testGrade.head(3)"
   ]
  },
  {
   "cell_type": "markdown",
   "metadata": {},
   "source": [
    "#### As Expected, just one column in Test Data. We need to predict the Grade for these bankId's"
   ]
  },
  {
   "cell_type": "code",
   "execution_count": 15,
   "metadata": {
    "ExecuteTime": {
     "end_time": "2018-11-30T17:50:35.592819Z",
     "start_time": "2018-11-30T17:50:35.585158Z"
    }
   },
   "outputs": [
    {
     "data": {
      "text/html": [
       "<div>\n",
       "<style scoped>\n",
       "    .dataframe tbody tr th:only-of-type {\n",
       "        vertical-align: middle;\n",
       "    }\n",
       "\n",
       "    .dataframe tbody tr th {\n",
       "        vertical-align: top;\n",
       "    }\n",
       "\n",
       "    .dataframe thead th {\n",
       "        text-align: right;\n",
       "    }\n",
       "</style>\n",
       "<table border=\"1\" class=\"dataframe\">\n",
       "  <thead>\n",
       "    <tr style=\"text-align: right;\">\n",
       "      <th></th>\n",
       "      <th>BankID</th>\n",
       "    </tr>\n",
       "    <tr>\n",
       "      <th>BankGrade</th>\n",
       "      <th></th>\n",
       "    </tr>\n",
       "  </thead>\n",
       "  <tbody>\n",
       "    <tr>\n",
       "      <th>deficient</th>\n",
       "      <td>18</td>\n",
       "    </tr>\n",
       "    <tr>\n",
       "      <th>outstanding</th>\n",
       "      <td>14</td>\n",
       "    </tr>\n",
       "    <tr>\n",
       "      <th>satisfactory</th>\n",
       "      <td>54</td>\n",
       "    </tr>\n",
       "  </tbody>\n",
       "</table>\n",
       "</div>"
      ],
      "text/plain": [
       "              BankID\n",
       "BankGrade           \n",
       "deficient         18\n",
       "outstanding       14\n",
       "satisfactory      54"
      ]
     },
     "execution_count": 15,
     "metadata": {},
     "output_type": "execute_result"
    }
   ],
   "source": [
    "trainGrade.groupby(trainGrade.BankGrade).count()"
   ]
  },
  {
   "cell_type": "markdown",
   "metadata": {},
   "source": [
    "### Bank-Grade Gradewise (best and the worst)"
   ]
  },
  {
   "cell_type": "code",
   "execution_count": 19,
   "metadata": {
    "ExecuteTime": {
     "end_time": "2018-11-30T17:53:09.714018Z",
     "start_time": "2018-11-30T17:53:09.703755Z"
    }
   },
   "outputs": [
    {
     "data": {
      "text/html": [
       "<div>\n",
       "<style scoped>\n",
       "    .dataframe tbody tr th:only-of-type {\n",
       "        vertical-align: middle;\n",
       "    }\n",
       "\n",
       "    .dataframe tbody tr th {\n",
       "        vertical-align: top;\n",
       "    }\n",
       "\n",
       "    .dataframe thead th {\n",
       "        text-align: right;\n",
       "    }\n",
       "</style>\n",
       "<table border=\"1\" class=\"dataframe\">\n",
       "  <thead>\n",
       "    <tr style=\"text-align: right;\">\n",
       "      <th></th>\n",
       "      <th>BankID</th>\n",
       "      <th>BankGrade</th>\n",
       "    </tr>\n",
       "  </thead>\n",
       "  <tbody>\n",
       "    <tr>\n",
       "      <th>3</th>\n",
       "      <td>Bank5432</td>\n",
       "      <td>outstanding</td>\n",
       "    </tr>\n",
       "    <tr>\n",
       "      <th>13</th>\n",
       "      <td>Bank5350</td>\n",
       "      <td>outstanding</td>\n",
       "    </tr>\n",
       "    <tr>\n",
       "      <th>17</th>\n",
       "      <td>Bank5242</td>\n",
       "      <td>outstanding</td>\n",
       "    </tr>\n",
       "    <tr>\n",
       "      <th>20</th>\n",
       "      <td>Bank5408</td>\n",
       "      <td>outstanding</td>\n",
       "    </tr>\n",
       "    <tr>\n",
       "      <th>31</th>\n",
       "      <td>Bank5386</td>\n",
       "      <td>outstanding</td>\n",
       "    </tr>\n",
       "    <tr>\n",
       "      <th>37</th>\n",
       "      <td>Bank5261</td>\n",
       "      <td>outstanding</td>\n",
       "    </tr>\n",
       "    <tr>\n",
       "      <th>42</th>\n",
       "      <td>Bank5380</td>\n",
       "      <td>outstanding</td>\n",
       "    </tr>\n",
       "    <tr>\n",
       "      <th>51</th>\n",
       "      <td>Bank5279</td>\n",
       "      <td>outstanding</td>\n",
       "    </tr>\n",
       "    <tr>\n",
       "      <th>57</th>\n",
       "      <td>Bank5313</td>\n",
       "      <td>outstanding</td>\n",
       "    </tr>\n",
       "    <tr>\n",
       "      <th>60</th>\n",
       "      <td>Bank5459</td>\n",
       "      <td>outstanding</td>\n",
       "    </tr>\n",
       "    <tr>\n",
       "      <th>65</th>\n",
       "      <td>Bank5270</td>\n",
       "      <td>outstanding</td>\n",
       "    </tr>\n",
       "    <tr>\n",
       "      <th>77</th>\n",
       "      <td>Bank5414</td>\n",
       "      <td>outstanding</td>\n",
       "    </tr>\n",
       "    <tr>\n",
       "      <th>82</th>\n",
       "      <td>Bank5426</td>\n",
       "      <td>outstanding</td>\n",
       "    </tr>\n",
       "    <tr>\n",
       "      <th>84</th>\n",
       "      <td>Bank5359</td>\n",
       "      <td>outstanding</td>\n",
       "    </tr>\n",
       "  </tbody>\n",
       "</table>\n",
       "</div>"
      ],
      "text/plain": [
       "      BankID    BankGrade\n",
       "3   Bank5432  outstanding\n",
       "13  Bank5350  outstanding\n",
       "17  Bank5242  outstanding\n",
       "20  Bank5408  outstanding\n",
       "31  Bank5386  outstanding\n",
       "37  Bank5261  outstanding\n",
       "42  Bank5380  outstanding\n",
       "51  Bank5279  outstanding\n",
       "57  Bank5313  outstanding\n",
       "60  Bank5459  outstanding\n",
       "65  Bank5270  outstanding\n",
       "77  Bank5414  outstanding\n",
       "82  Bank5426  outstanding\n",
       "84  Bank5359  outstanding"
      ]
     },
     "execution_count": 19,
     "metadata": {},
     "output_type": "execute_result"
    }
   ],
   "source": [
    "#topGradedBanks = bankGrades[bankGrades.loc[['BankGrade']]]\n",
    "topGradedBanks = trainGrade.loc[trainGrade['BankGrade'] == 'outstanding']\n",
    "topGradedBanks\n"
   ]
  },
  {
   "cell_type": "code",
   "execution_count": 20,
   "metadata": {
    "ExecuteTime": {
     "end_time": "2018-11-30T17:53:16.043033Z",
     "start_time": "2018-11-30T17:53:16.036164Z"
    }
   },
   "outputs": [
    {
     "data": {
      "text/plain": [
       "BankGrade\n",
       "deficient       18\n",
       "outstanding     14\n",
       "satisfactory    54\n",
       "dtype: int64"
      ]
     },
     "execution_count": 20,
     "metadata": {},
     "output_type": "execute_result"
    }
   ],
   "source": [
    "#topGradedBanks = bankGrades[bankGrades.loc[['BankGrade']]]\n",
    "trainGrade.groupby(trainGrade.BankGrade).size()"
   ]
  },
  {
   "cell_type": "code",
   "execution_count": 21,
   "metadata": {
    "ExecuteTime": {
     "end_time": "2018-11-30T17:53:45.920754Z",
     "start_time": "2018-11-30T17:53:17.077396Z"
    },
    "collapsed": true
   },
   "outputs": [],
   "source": [
    "import seaborn as sns\n",
    "sns.plot = trainGrade['BankGrade'].value_counts().plot(kind='bar')"
   ]
  },
  {
   "cell_type": "markdown",
   "metadata": {},
   "source": [
    "### Bank-Grade Observations:\n",
    "-  Bank Grade is just a 2 column table, as expected and it just has grade given for a bank\n",
    "-  Most banks graded as **satisfactory**\n",
    "-  We can see that banks with outstanding are in slight minority\n",
    "-  No NAs are found, so no imputation is needed. Data is Clean\n",
    "-  No Duplicated bankID in the table. This ia a good sign, as we can use the table without cleanup measures at the moment"
   ]
  },
  {
   "cell_type": "markdown",
   "metadata": {},
   "source": [
    "### Next? \n",
    "We need to look at the next (grievences Data) to see if we can draw some correlations!"
   ]
  },
  {
   "cell_type": "markdown",
   "metadata": {},
   "source": [
    "## A.2. Grievnces Table"
   ]
  },
  {
   "cell_type": "code",
   "execution_count": 22,
   "metadata": {
    "ExecuteTime": {
     "end_time": "2018-11-30T17:53:45.925499Z",
     "start_time": "2018-11-30T17:53:45.922838Z"
    },
    "hideCode": false,
    "hidePrompt": false
   },
   "outputs": [
    {
     "name": "stdout",
     "output_type": "stream",
     "text": [
      "The shape of grievence table is: (53680, 10)\n"
     ]
    }
   ],
   "source": [
    "# Dimensions of the grievences train\n",
    "print('The shape of grievence table is:', trainData.shape)"
   ]
  },
  {
   "cell_type": "code",
   "execution_count": 23,
   "metadata": {
    "ExecuteTime": {
     "end_time": "2018-11-30T17:53:45.930371Z",
     "start_time": "2018-11-30T17:53:45.927806Z"
    },
    "hideCode": false,
    "hidePrompt": false
   },
   "outputs": [
    {
     "name": "stdout",
     "output_type": "stream",
     "text": [
      "The shape of grievence table is: (27954, 10)\n"
     ]
    }
   ],
   "source": [
    "# Dimensions of the grievences test\n",
    "print('The shape of grievence table is:', testData.shape)"
   ]
  },
  {
   "cell_type": "code",
   "execution_count": 24,
   "metadata": {
    "ExecuteTime": {
     "end_time": "2018-11-30T17:53:45.936645Z",
     "start_time": "2018-11-30T17:53:45.932852Z"
    }
   },
   "outputs": [
    {
     "data": {
      "text/plain": [
       "Index(['GrievanceID', 'BankID', 'State', 'DateOfGrievance',\n",
       "       'Grievance_Category', 'GrievanceDescription', 'LineOfBusiness',\n",
       "       'ResolutionComments', 'Disputed', 'DateOfResolution'],\n",
       "      dtype='object')"
      ]
     },
     "execution_count": 24,
     "metadata": {},
     "output_type": "execute_result"
    }
   ],
   "source": [
    "#train column names?\n",
    "trainData.columns"
   ]
  },
  {
   "cell_type": "code",
   "execution_count": 25,
   "metadata": {
    "ExecuteTime": {
     "end_time": "2018-11-30T17:53:45.943426Z",
     "start_time": "2018-11-30T17:53:45.939174Z"
    }
   },
   "outputs": [
    {
     "data": {
      "text/plain": [
       "Index(['GrievanceID', 'BankID', 'State', 'DateOfGrievance',\n",
       "       'Grievance_Category', 'GrievanceDescription', 'LineOfBusiness',\n",
       "       'ResolutionComments', 'Disputed', 'DateOfResolution'],\n",
       "      dtype='object')"
      ]
     },
     "execution_count": 25,
     "metadata": {},
     "output_type": "execute_result"
    }
   ],
   "source": [
    "#test column names?\n",
    "testData.columns"
   ]
  },
  {
   "cell_type": "markdown",
   "metadata": {},
   "source": [
    "####     It is important that train/test have same set of features (columns)\n",
    "- Lets check"
   ]
  },
  {
   "cell_type": "code",
   "execution_count": 26,
   "metadata": {
    "ExecuteTime": {
     "end_time": "2018-11-30T17:53:45.949370Z",
     "start_time": "2018-11-30T17:53:45.945727Z"
    }
   },
   "outputs": [
    {
     "name": "stdout",
     "output_type": "stream",
     "text": [
      "Train/Test data have same features\n"
     ]
    }
   ],
   "source": [
    "#identical column names?\n",
    "if (testData.columns.all() == trainData.columns.all()):\n",
    "    print(\"Train/Test data have same features\")"
   ]
  },
  {
   "cell_type": "markdown",
   "metadata": {},
   "source": [
    "### Observation:\n",
    "  -  Train: Over 53k rows of grievences with 10 columns \n",
    "  -  Test: Above 28k rows of grievences with 10 columns\n",
    "  -  It is verified that train/test have <b>identical</b> set of features (columns)"
   ]
  },
  {
   "cell_type": "markdown",
   "metadata": {},
   "source": [
    "#### What are the column types? (numerical or Categorical)"
   ]
  },
  {
   "cell_type": "code",
   "execution_count": 27,
   "metadata": {
    "ExecuteTime": {
     "end_time": "2018-11-30T17:53:46.055140Z",
     "start_time": "2018-11-30T17:53:45.951548Z"
    }
   },
   "outputs": [
    {
     "ename": "NameError",
     "evalue": "name 'grievenceData' is not defined",
     "output_type": "error",
     "traceback": [
      "\u001b[0;31m---------------------------------------------------------------------------\u001b[0m",
      "\u001b[0;31mNameError\u001b[0m                                 Traceback (most recent call last)",
      "\u001b[0;32m<ipython-input-27-0ebe04e6e0ab>\u001b[0m in \u001b[0;36m<module>\u001b[0;34m()\u001b[0m\n\u001b[0;32m----> 1\u001b[0;31m \u001b[0mgrievenceData\u001b[0m\u001b[0;34m.\u001b[0m\u001b[0mselect_dtypes\u001b[0m\u001b[0;34m(\u001b[0m\u001b[0mexclude\u001b[0m\u001b[0;34m=\u001b[0m\u001b[0;34m[\u001b[0m\u001b[0;34m'int'\u001b[0m\u001b[0;34m,\u001b[0m \u001b[0;34m'float'\u001b[0m\u001b[0;34m]\u001b[0m\u001b[0;34m)\u001b[0m\u001b[0;34m.\u001b[0m\u001b[0mcolumns\u001b[0m\u001b[0;34m\u001b[0m\u001b[0m\n\u001b[0m",
      "\u001b[0;31mNameError\u001b[0m: name 'grievenceData' is not defined"
     ]
    }
   ],
   "source": [
    "grievenceData.select_dtypes(exclude=['int', 'float']).columns"
   ]
  },
  {
   "cell_type": "markdown",
   "metadata": {},
   "source": [
    "####  Observations\n",
    "- There are NO numerical columns"
   ]
  },
  {
   "cell_type": "code",
   "execution_count": null,
   "metadata": {
    "ExecuteTime": {
     "end_time": "2018-11-30T17:53:46.056000Z",
     "start_time": "2018-11-30T17:53:24.442Z"
    },
    "collapsed": true
   },
   "outputs": [],
   "source": [
    "trainData.describe()"
   ]
  },
  {
   "cell_type": "code",
   "execution_count": null,
   "metadata": {
    "ExecuteTime": {
     "end_time": "2018-11-30T17:53:46.056971Z",
     "start_time": "2018-11-30T17:53:24.631Z"
    },
    "collapsed": true
   },
   "outputs": [],
   "source": [
    "testData.describe()"
   ]
  },
  {
   "cell_type": "code",
   "execution_count": null,
   "metadata": {
    "ExecuteTime": {
     "end_time": "2018-11-30T17:53:46.057751Z",
     "start_time": "2018-11-30T17:53:24.831Z"
    },
    "collapsed": true
   },
   "outputs": [],
   "source": [
    "trainData.isna().sum()"
   ]
  },
  {
   "cell_type": "code",
   "execution_count": null,
   "metadata": {
    "ExecuteTime": {
     "end_time": "2018-11-30T17:53:46.058684Z",
     "start_time": "2018-11-30T17:53:25.046Z"
    },
    "collapsed": true
   },
   "outputs": [],
   "source": [
    "trainData.isnull().sum()"
   ]
  },
  {
   "cell_type": "code",
   "execution_count": null,
   "metadata": {
    "ExecuteTime": {
     "end_time": "2018-11-30T17:53:46.059627Z",
     "start_time": "2018-11-30T17:53:25.260Z"
    },
    "collapsed": true
   },
   "outputs": [],
   "source": [
    "testData.isnull().sum()"
   ]
  },
  {
   "cell_type": "code",
   "execution_count": null,
   "metadata": {
    "ExecuteTime": {
     "end_time": "2018-11-30T17:53:46.060473Z",
     "start_time": "2018-11-30T17:53:25.465Z"
    },
    "collapsed": true
   },
   "outputs": [],
   "source": [
    "testData.isnull().sum()"
   ]
  },
  {
   "cell_type": "markdown",
   "metadata": {},
   "source": [
    "## Very few (compared to total observations) NA's in both train/Test data.\n",
    "#### We can either choose to mode impute or drop, depending on train/test mode values"
   ]
  },
  {
   "cell_type": "code",
   "execution_count": null,
   "metadata": {
    "ExecuteTime": {
     "end_time": "2018-11-30T17:53:46.061254Z",
     "start_time": "2018-11-30T17:53:25.887Z"
    },
    "collapsed": true
   },
   "outputs": [],
   "source": [
    "#impute using mode (1st iteration)\n",
    "stateMode = trainData.State.describe().top\n",
    "print('Mode of (train)State column is ', stateMode)\n",
    "#test: impute using mode (1st iteration)\n",
    "stateMode = testData.State.describe().top\n",
    "print('Mode of (test)State column is ', stateMode)"
   ]
  },
  {
   "cell_type": "markdown",
   "metadata": {},
   "source": [
    "## Luckily, both  both train/Test data have same mode (state9)\n",
    "#### We can  mode impute , safely"
   ]
  },
  {
   "cell_type": "code",
   "execution_count": null,
   "metadata": {
    "ExecuteTime": {
     "end_time": "2018-11-30T17:53:46.062251Z",
     "start_time": "2018-11-30T17:53:26.601Z"
    },
    "collapsed": true
   },
   "outputs": [],
   "source": [
    "trainData.State.fillna(stateMode,inplace=True)\n",
    "testData.State.fillna(stateMode,inplace=True)\n",
    "print(\"NAs in Train, test, after impute: Train\\n\", trainData.isna().sum(), \"test/n\", testData.isna().sum())"
   ]
  },
  {
   "cell_type": "markdown",
   "metadata": {},
   "source": [
    "#### Train Observations (from basic exploration)\n",
    "- There are **86** Banks in Train data and 22 banks in Test\n",
    "\n",
    "- **Bank5286** has most grievences (5623 obs)\n",
    "\n",
    "- NA count is only present in 'State' and is <b> very insignificant </b> compared to the observation set ( < 0.2%)\n",
    "\n",
    "- **State9** is most frequent state (5110 obs)\n",
    "\n",
    "- Most Frequent Grievence category is **Loan Servicing** (8465 obs)\n",
    "\n",
    "- Credit card is most **disputed** line of Business\n",
    "\n",
    "- ~42k grievences are **not** disputed (around **21%** are disputed)\n",
    "\n",
    "- Looking at Fields : 'DateOfGrievance' and DateOfResolution, we are better off deriving another feature such as 'ResolutionTime' as the date per se may not have much interpretability whereas ResolutionTime tells us something about the Bank. Hoe efficient/customer oriented, etc\n",
    "                                  "
   ]
  },
  {
   "cell_type": "code",
   "execution_count": null,
   "metadata": {
    "ExecuteTime": {
     "end_time": "2018-11-30T17:53:46.063193Z",
     "start_time": "2018-11-30T17:53:27.054Z"
    },
    "collapsed": true
   },
   "outputs": [],
   "source": [
    "trainData.groupby(trainData.BankID).size().nlargest(45)"
   ]
  },
  {
   "cell_type": "code",
   "execution_count": null,
   "metadata": {
    "ExecuteTime": {
     "end_time": "2018-11-30T17:53:46.064097Z",
     "start_time": "2018-11-30T17:53:27.308Z"
    },
    "collapsed": true
   },
   "outputs": [],
   "source": [
    "testData.groupby(testData.BankID).size().nlargest(12)"
   ]
  },
  {
   "cell_type": "markdown",
   "metadata": {},
   "source": [
    "#### Test Observations (from basic exploration)\n",
    "- There are **86** Banks in Train data and 22 banks in Test\n",
    "\n",
    "- **Bank5286** has most grievences (5623 obs)\n",
    "\n",
    "- NA count is only present in 'State' and is <b> very insignificant </b> compared to the observation set ( < 0.2%)\n",
    "\n",
    "- **State9** is most frequent state (5110 obs)\n",
    "\n",
    "- Most Frequent Grievence category is **Loan Servicing** (8465 obs)\n",
    "\n",
    "- Credit card is most **disputed** line of Business\n",
    "\n",
    "- ~42k grievences are **not** disputed (around **21%** are disputed)\n",
    "\n",
    "### Actions we can do:\n",
    "- Looking at Features : 'DateOfGrievance' and DateOfResolution, we are better off deriving another feature such as 'ResolutionTime' as the date per se may not have much interpretability whereas ResolutionTime tells us something about the Bank. Hoe efficient/customer oriented, etc\n",
    "                                  "
   ]
  },
  {
   "cell_type": "markdown",
   "metadata": {},
   "source": [
    "### Add 'ResolutionTime' column"
   ]
  },
  {
   "cell_type": "code",
   "execution_count": null,
   "metadata": {
    "ExecuteTime": {
     "end_time": "2018-11-30T17:53:46.064904Z",
     "start_time": "2018-11-30T17:53:27.936Z"
    },
    "collapsed": true
   },
   "outputs": [],
   "source": [
    "# A handy function..\n",
    "from datetime import date, datetime\n",
    "def getResolutionTime(row):\n",
    "     rpt = row['DateOfGrievance']\n",
    "     rsp = row['DateOfResolution']\n",
    "     #print(rpt, rsp)\n",
    "     y,m,d = [int(i) for i in rpt.split('-')]\n",
    "     st = date(y,m,d)\n",
    "     y,m,d = [int(i) for i in rsp.split('-')]\n",
    "     end = date(y,m,d)\n",
    "     return int(pd.to_numeric((end-st).days))"
   ]
  },
  {
   "cell_type": "code",
   "execution_count": null,
   "metadata": {
    "ExecuteTime": {
     "end_time": "2018-11-30T17:53:46.065675Z",
     "start_time": "2018-11-30T17:53:28.340Z"
    },
    "collapsed": true
   },
   "outputs": [],
   "source": [
    "trainData['ResolutionTime'] = trainData.apply(getResolutionTime, axis=1)\n",
    "print(trainData.describe())\n",
    "print(trainData.shape)"
   ]
  },
  {
   "cell_type": "code",
   "execution_count": null,
   "metadata": {
    "ExecuteTime": {
     "end_time": "2018-11-30T17:53:46.066498Z",
     "start_time": "2018-11-30T17:53:28.896Z"
    },
    "collapsed": true
   },
   "outputs": [],
   "source": [
    "testData['ResolutionTime'] = testData.apply(getResolutionTime, axis=1)\n",
    "print(testData.describe())\n",
    "print(testData.shape)"
   ]
  },
  {
   "cell_type": "code",
   "execution_count": null,
   "metadata": {
    "ExecuteTime": {
     "end_time": "2018-11-30T17:53:46.067191Z",
     "start_time": "2018-11-30T17:53:29.112Z"
    },
    "collapsed": true
   },
   "outputs": [],
   "source": [
    "trainData.ResolutionTime.plot.box()"
   ]
  },
  {
   "cell_type": "code",
   "execution_count": null,
   "metadata": {
    "ExecuteTime": {
     "end_time": "2018-11-30T17:53:46.068141Z",
     "start_time": "2018-11-30T17:53:29.351Z"
    },
    "collapsed": true
   },
   "outputs": [],
   "source": [
    "testData.ResolutionTime.plot.box()"
   ]
  },
  {
   "cell_type": "code",
   "execution_count": null,
   "metadata": {
    "ExecuteTime": {
     "end_time": "2018-11-30T17:53:46.068946Z",
     "start_time": "2018-11-30T17:53:29.595Z"
    },
    "collapsed": true
   },
   "outputs": [],
   "source": [
    "import numpy as np\n",
    "import matplotlib.pyplot as plt\n",
    "from scipy.stats import norm\n",
    "\n",
    "# Plot between -10 and 10 with .001 steps.\n",
    "tr_x_axis = trainData.ResolutionTime.as_matrix().reshape((53680,1))\n",
    "\n",
    "test_x_axis = trainData.ResolutionTime.as_matrix().reshape((53680,1))\n",
    "\n",
    "plt.show()\n",
    "plt.plot(tr_x_axis, norm.pdf(tr_x_axis,0,2))\n",
    "plt.show()\n",
    "\n",
    "plt.plot(test_x_axis, norm.pdf(test_x_axis,0,4))\n",
    "plt.show()"
   ]
  },
  {
   "cell_type": "markdown",
   "metadata": {},
   "source": [
    "### Resouition time for Both train and test are not very different, but Test data seems to have fewer outliers\n",
    "### Mean (train < test)\n",
    "### Std ( train> test)\n",
    "### Since there aren't significant differences, we can move on..."
   ]
  },
  {
   "cell_type": "code",
   "execution_count": null,
   "metadata": {
    "ExecuteTime": {
     "end_time": "2018-11-30T17:53:46.069802Z",
     "start_time": "2018-11-30T17:53:30.071Z"
    },
    "collapsed": true
   },
   "outputs": [],
   "source": [
    "trainData[trainData.ResolutionTime >100].shape"
   ]
  },
  {
   "cell_type": "code",
   "execution_count": null,
   "metadata": {
    "ExecuteTime": {
     "end_time": "2018-11-30T17:53:46.070911Z",
     "start_time": "2018-11-30T17:53:30.354Z"
    },
    "collapsed": true
   },
   "outputs": [],
   "source": [
    "testData[testData.ResolutionTime >100].shape"
   ]
  },
  {
   "cell_type": "code",
   "execution_count": null,
   "metadata": {
    "ExecuteTime": {
     "end_time": "2018-11-30T17:53:46.072351Z",
     "start_time": "2018-11-30T17:53:30.645Z"
    },
    "collapsed": true
   },
   "outputs": [],
   "source": [
    "for feature in trainData.columns:\n",
    "    print(trainData[feature].describe())\n",
    "    print('=========')"
   ]
  },
  {
   "cell_type": "code",
   "execution_count": null,
   "metadata": {
    "ExecuteTime": {
     "end_time": "2018-11-30T17:53:46.073353Z",
     "start_time": "2018-11-30T17:53:30.873Z"
    },
    "collapsed": true
   },
   "outputs": [],
   "source": [
    "for feature in testData.columns:\n",
    "    print(testData[feature].describe())\n",
    "    print('=========')"
   ]
  },
  {
   "cell_type": "code",
   "execution_count": null,
   "metadata": {
    "ExecuteTime": {
     "end_time": "2018-11-30T17:53:46.074089Z",
     "start_time": "2018-11-30T17:53:31.098Z"
    },
    "collapsed": true
   },
   "outputs": [],
   "source": [
    "for feature in featureList:\n",
    "    print(trainData.groupby(feature).size().nlargest(80))\n",
    "    print('=========')"
   ]
  },
  {
   "cell_type": "code",
   "execution_count": null,
   "metadata": {
    "ExecuteTime": {
     "end_time": "2018-11-30T17:53:46.075003Z",
     "start_time": "2018-11-30T17:53:31.820Z"
    },
    "collapsed": true
   },
   "outputs": [],
   "source": [
    "for feature in featureList:\n",
    "    print(testData.groupby(feature).size().nlargest(80))\n",
    "    print('=========')"
   ]
  },
  {
   "cell_type": "code",
   "execution_count": null,
   "metadata": {
    "ExecuteTime": {
     "end_time": "2018-11-30T17:53:46.075911Z",
     "start_time": "2018-11-30T17:53:32.035Z"
    },
    "collapsed": true
   },
   "outputs": [],
   "source": [
    "featureList = ['BankID', 'State', 'Grievance_Category', 'LineOfBusiness', 'Disputed',  'ResolutionTime']\n",
    "import matplotlib.pyplot as plt\n",
    "def plotfeatures(df):\n",
    " for feature in featureList:\n",
    "    print('Distribution of ', feature)\n",
    "    featureCount = df[feature].value_counts()\n",
    "    print(sum(featureCount.values.tolist()[0:40]))\n",
    "    \n",
    "    sns.barplot(featureCount.index, featureCount.values, alpha=0.9)\n",
    "    plt.ylabel('Number of Occurrences', fontsize=12)\n",
    "    plt.xlabel(feature, fontsize=12)\n",
    "    plt.show()\n"
   ]
  },
  {
   "cell_type": "code",
   "execution_count": null,
   "metadata": {
    "ExecuteTime": {
     "end_time": "2018-11-30T17:53:46.077223Z",
     "start_time": "2018-11-30T17:53:32.352Z"
    },
    "collapsed": true
   },
   "outputs": [],
   "source": [
    "print(\"Train Data feature plots\")\n",
    "plotfeatures(trainData)"
   ]
  },
  {
   "cell_type": "code",
   "execution_count": null,
   "metadata": {
    "ExecuteTime": {
     "end_time": "2018-11-30T17:53:46.078586Z",
     "start_time": "2018-11-30T17:53:32.591Z"
    },
    "collapsed": true
   },
   "outputs": [],
   "source": [
    "print(\"Test Data feature plots\")\n",
    "plotfeatures(testData)"
   ]
  },
  {
   "cell_type": "code",
   "execution_count": null,
   "metadata": {
    "ExecuteTime": {
     "end_time": "2018-11-30T17:53:46.081115Z",
     "start_time": "2018-11-30T17:53:32.885Z"
    },
    "collapsed": true
   },
   "outputs": [],
   "source": [
    "sum([8231, 4570, 3747, 3619, 2344, 2168, 2141, 2090, 1850, 1738, 1685, 1620, 1365, 1363, 1272, 1271, 962, 806, 706, 676])"
   ]
  },
  {
   "cell_type": "code",
   "execution_count": null,
   "metadata": {
    "collapsed": true
   },
   "outputs": [],
   "source": []
  },
  {
   "cell_type": "raw",
   "metadata": {},
   "source": [
    "### Train Data Observations:\n",
    "-  Grievance Data is 53K+ observations of various banks related to handling Customer Grievances/Complaints\n",
    "-  Most frequent BankGrade is **satisfactory**\n",
    "-  We can see that banks with outstanding are in slight minority\n",
    "-  A few NAs are found in one column (State), Deciding to impute with mode (most common state) Data is Clean\n",
    "-  No Duplicated bankID in the table. This ia a good sign, as we can use the table without cleanup measures at the moment"
   ]
  },
  {
   "cell_type": "raw",
   "metadata": {},
   "source": [
    "### Test Data Observations:\n",
    "-  Grievance Data is ~28K observations of various banks related to handling Customer Grievances/Complaints\n",
    "-  A few NAs are found in one column (State), impute with mode (most common state) Data is Clean\n",
    "-  No Duplicated bankID in the table. This ia a good sign, as we can use the table without cleanup measures at the moment"
   ]
  },
  {
   "cell_type": "markdown",
   "metadata": {},
   "source": [
    "### Story thusfar.. Tables are loaded and basic exploration of data is done\n",
    "- Feature Stats\n",
    "\n",
    "- Outliers -- not many, as most are categorical fields with \n",
    "\n",
    "- Feature Additions\n",
    "Added Resolution time, to make sense of how quickly banks are resolving complaints \n",
    "\n",
    "- Interesting observations: Mean Time to resolve (MTTR) : 11 days\n",
    "\n",
    "### What next?\n",
    "#### What do we make out of the tables? Are they related? Etc"
   ]
  },
  {
   "cell_type": "markdown",
   "metadata": {},
   "source": [
    "### Story So far.. Tables are loaded and basic exploration of data is done\n",
    "- Feature Stats\n",
    "- Outliers\n",
    "\n",
    "- Feature Additions\n",
    "Added Resolution time, to make sense of how quickly banks are resolving complaints \n",
    "- Interesting observations:\n",
    "Mean Time to resolve (MTTR) : 11 days\n",
    "\n",
    "### Problem Statement :\n",
    "Note : You are required to develop unique words/phrases for identification of a grievance as UFDP or otherwise by using key words of regulations and/or the text forming part of Grievance description through the use of text mining techniques. You can refer to the above cited link for definition of UFDP as per act and you may explore domain further to dig into the details.\n",
    "Exploration of  domain and also usage of Grievance Description column to identify the grievance category as UFDP or otherwise may help you not only to understand the problem well but also to understand some of the required domain based feature extraction  in solving the problem.\n",
    "\n",
    "Based on above, we need to focus on BankGrade (dependent) and its correnated columnts Grievence Description\n",
    "Before jumping into the text analytics on GreivenceDescription, we need to look for any clues.\n",
    "looking at the other fields and correlation to BankGrade is important, to gain more guidence\n"
   ]
  },
  {
   "cell_type": "code",
   "execution_count": null,
   "metadata": {
    "ExecuteTime": {
     "end_time": "2018-11-30T17:53:46.082108Z",
     "start_time": "2018-11-30T17:53:36.421Z"
    },
    "collapsed": true
   },
   "outputs": [],
   "source": [
    "print(\"GrievanceData Columns\", grievenceData.columns)\n",
    "print(\"Bank Grade Table Columns\", bankGradeTable.columns)"
   ]
  },
  {
   "cell_type": "markdown",
   "metadata": {},
   "source": [
    "Looks Like 'BankID' is common column.. But names can be same, even if they refer to different entities...\n",
    "We can look at unique set of BanKID list from *both* tables and see if they opverlap/match?"
   ]
  },
  {
   "cell_type": "markdown",
   "metadata": {},
   "source": [
    "### Are there any disjoint set of banks among the tables? \n",
    "##### compare the unique list (sorted) of BankIDs from both tables"
   ]
  },
  {
   "cell_type": "code",
   "execution_count": null,
   "metadata": {
    "ExecuteTime": {
     "end_time": "2018-11-30T17:53:46.083560Z",
     "start_time": "2018-11-30T17:53:42.828Z"
    },
    "collapsed": true
   },
   "outputs": [],
   "source": [
    "grvBankList = grievenceData.BankID.unique().sort()\n",
    "gradedBankList = bankGradeTable.BankID.unique().sort()\n",
    "if grvBankList == gradedBankList:\n",
    "    print('Both Tables have same bankIDs')\n"
   ]
  },
  {
   "cell_type": "markdown",
   "metadata": {},
   "source": [
    "#### Further Exploration can be in 2 independent directions, based on the possibiliies such as:\n",
    "##### No correlation between 2 tables.\n",
    "##### There may be a correlation between how a bank is graded and how it performed in handling consumer grievances (among other things, ofcourse, such as Business Strategy, Vision, etc) Unfortunately, we do not have ANY other data to look at!!!\n",
    "\n",
    "Based on Above reasoning, we will first check to see if any Correlation can be found among the tables\n",
    "How ? \n",
    "Ask many more questions and find the answers hidden\n",
    "A close look at features of the Grievances and arrange them in decreasing order of importance, based on some reasoning"
   ]
  },
  {
   "cell_type": "markdown",
   "metadata": {},
   "source": [
    "#### Combine tables\n",
    "-  Before proceeding any correlation, for the sake of avoiding repetitive join/merge , lets have a single table by merging both the tables on BankID\n"
   ]
  },
  {
   "cell_type": "markdown",
   "metadata": {},
   "source": [
    "### Which Features to look at? \n",
    "\n",
    "The following seem to be directly related to BankGrade\n",
    "> A way to Corroborate is to ask relevant QUESTIONS!!!!\n",
    "\n",
    "- Disputed\n",
    ">> How is Disputed (=yes) are in poor Grade?\n",
    "\n",
    "- Grievance_Category\n",
    "- ResolutionComments"
   ]
  },
  {
   "cell_type": "code",
   "execution_count": 30,
   "metadata": {
    "ExecuteTime": {
     "end_time": "2018-11-30T17:54:11.873843Z",
     "start_time": "2018-11-30T17:54:11.849105Z"
    }
   },
   "outputs": [
    {
     "data": {
      "text/plain": [
       "(53680, 11)"
      ]
     },
     "execution_count": 30,
     "metadata": {},
     "output_type": "execute_result"
    }
   ],
   "source": [
    "allData = trainData.merge(trainGrade)\n",
    "allData.shape"
   ]
  },
  {
   "cell_type": "code",
   "execution_count": 31,
   "metadata": {
    "ExecuteTime": {
     "end_time": "2018-11-30T17:54:13.622270Z",
     "start_time": "2018-11-30T17:54:13.340538Z"
    }
   },
   "outputs": [
    {
     "name": "stdout",
     "output_type": "stream",
     "text": [
      "Index(['GrievanceID', 'BankID', 'State', 'DateOfGrievance',\n",
      "       'Grievance_Category', 'GrievanceDescription', 'LineOfBusiness',\n",
      "       'ResolutionComments', 'Disputed', 'DateOfResolution', 'BankGrade'],\n",
      "      dtype='object')\n",
      "       GrievanceID    BankID   State DateOfGrievance  \\\n",
      "count        53680     53680   53559           53680   \n",
      "unique       53680        86      59            1222   \n",
      "top      GID435431  Bank5286  State9      2014-01-19   \n",
      "freq             1      5623    8110             172   \n",
      "\n",
      "                              Grievance_Category  \\\n",
      "count                                      53680   \n",
      "unique                                        67   \n",
      "top     Loan servicing, payments, escrow account   \n",
      "freq                                        8455   \n",
      "\n",
      "                                     GrievanceDescription LineOfBusiness  \\\n",
      "count                                               53680          53680   \n",
      "unique                                              46662              4   \n",
      "top      I was shocked when I reviewed my credit repor...    Credit card   \n",
      "freq                                                    8          21638   \n",
      "\n",
      "             ResolutionComments Disputed DateOfResolution     BankGrade  \n",
      "count                     53680    53680            53680         53680  \n",
      "unique                        4        2             1248             3  \n",
      "top     Closed with explanation       No       2013-10-01  satisfactory  \n",
      "freq                      41546    41895              142         34881  \n"
     ]
    }
   ],
   "source": [
    "print(allData.columns)\n",
    "print(allData.describe())"
   ]
  },
  {
   "cell_type": "markdown",
   "metadata": {},
   "source": [
    "###  For ease of data dissection , lets partition 'allData' by 'BankGrade'"
   ]
  },
  {
   "cell_type": "code",
   "execution_count": 32,
   "metadata": {
    "ExecuteTime": {
     "end_time": "2018-11-30T17:54:17.760657Z",
     "start_time": "2018-11-30T17:54:17.738844Z"
    },
    "collapsed": true
   },
   "outputs": [],
   "source": [
    "topGr = allData.loc[allData.BankGrade == 'outstanding']\n",
    "medGr = allData.loc[allData.BankGrade == 'satisfactory']\n",
    "lowGr = allData.loc[allData.BankGrade == 'deficient']"
   ]
  },
  {
   "cell_type": "code",
   "execution_count": 50,
   "metadata": {
    "ExecuteTime": {
     "end_time": "2018-11-30T18:09:41.522171Z",
     "start_time": "2018-11-30T18:09:41.488752Z"
    }
   },
   "outputs": [
    {
     "data": {
      "text/html": [
       "<div>\n",
       "<style scoped>\n",
       "    .dataframe tbody tr th:only-of-type {\n",
       "        vertical-align: middle;\n",
       "    }\n",
       "\n",
       "    .dataframe tbody tr th {\n",
       "        vertical-align: top;\n",
       "    }\n",
       "\n",
       "    .dataframe thead th {\n",
       "        text-align: right;\n",
       "    }\n",
       "</style>\n",
       "<table border=\"1\" class=\"dataframe\">\n",
       "  <thead>\n",
       "    <tr style=\"text-align: right;\">\n",
       "      <th></th>\n",
       "      <th>GrievanceID</th>\n",
       "      <th>BankID</th>\n",
       "      <th>State</th>\n",
       "      <th>DateOfGrievance</th>\n",
       "      <th>Grievance_Category</th>\n",
       "      <th>GrievanceDescription</th>\n",
       "      <th>LineOfBusiness</th>\n",
       "      <th>ResolutionComments</th>\n",
       "      <th>Disputed</th>\n",
       "      <th>DateOfResolution</th>\n",
       "      <th>BankGrade</th>\n",
       "    </tr>\n",
       "    <tr>\n",
       "      <th>Grievance_Category</th>\n",
       "      <th></th>\n",
       "      <th></th>\n",
       "      <th></th>\n",
       "      <th></th>\n",
       "      <th></th>\n",
       "      <th></th>\n",
       "      <th></th>\n",
       "      <th></th>\n",
       "      <th></th>\n",
       "      <th></th>\n",
       "      <th></th>\n",
       "    </tr>\n",
       "  </thead>\n",
       "  <tbody>\n",
       "    <tr>\n",
       "      <th>Application, originator, mortgage broker</th>\n",
       "      <td>10</td>\n",
       "      <td>10</td>\n",
       "      <td>10</td>\n",
       "      <td>10</td>\n",
       "      <td>10</td>\n",
       "      <td>10</td>\n",
       "      <td>10</td>\n",
       "      <td>10</td>\n",
       "      <td>10</td>\n",
       "      <td>10</td>\n",
       "      <td>10</td>\n",
       "    </tr>\n",
       "    <tr>\n",
       "      <th>Closing on a mortgage</th>\n",
       "      <td>1</td>\n",
       "      <td>1</td>\n",
       "      <td>1</td>\n",
       "      <td>1</td>\n",
       "      <td>1</td>\n",
       "      <td>1</td>\n",
       "      <td>1</td>\n",
       "      <td>1</td>\n",
       "      <td>1</td>\n",
       "      <td>1</td>\n",
       "      <td>1</td>\n",
       "    </tr>\n",
       "    <tr>\n",
       "      <th>Credit decision / Underwriting</th>\n",
       "      <td>1</td>\n",
       "      <td>1</td>\n",
       "      <td>1</td>\n",
       "      <td>1</td>\n",
       "      <td>1</td>\n",
       "      <td>1</td>\n",
       "      <td>1</td>\n",
       "      <td>1</td>\n",
       "      <td>1</td>\n",
       "      <td>1</td>\n",
       "      <td>1</td>\n",
       "    </tr>\n",
       "    <tr>\n",
       "      <th>Incorrect information on your report</th>\n",
       "      <td>1</td>\n",
       "      <td>1</td>\n",
       "      <td>1</td>\n",
       "      <td>1</td>\n",
       "      <td>1</td>\n",
       "      <td>1</td>\n",
       "      <td>1</td>\n",
       "      <td>1</td>\n",
       "      <td>1</td>\n",
       "      <td>1</td>\n",
       "      <td>1</td>\n",
       "    </tr>\n",
       "    <tr>\n",
       "      <th>Loan modification,collection,foreclosure</th>\n",
       "      <td>7</td>\n",
       "      <td>7</td>\n",
       "      <td>7</td>\n",
       "      <td>7</td>\n",
       "      <td>7</td>\n",
       "      <td>7</td>\n",
       "      <td>7</td>\n",
       "      <td>7</td>\n",
       "      <td>7</td>\n",
       "      <td>7</td>\n",
       "      <td>7</td>\n",
       "    </tr>\n",
       "    <tr>\n",
       "      <th>Loan servicing, payments, escrow account</th>\n",
       "      <td>9</td>\n",
       "      <td>9</td>\n",
       "      <td>9</td>\n",
       "      <td>9</td>\n",
       "      <td>9</td>\n",
       "      <td>9</td>\n",
       "      <td>9</td>\n",
       "      <td>9</td>\n",
       "      <td>9</td>\n",
       "      <td>9</td>\n",
       "      <td>9</td>\n",
       "    </tr>\n",
       "    <tr>\n",
       "      <th>Managing the loan or lease</th>\n",
       "      <td>16</td>\n",
       "      <td>16</td>\n",
       "      <td>16</td>\n",
       "      <td>16</td>\n",
       "      <td>16</td>\n",
       "      <td>16</td>\n",
       "      <td>16</td>\n",
       "      <td>16</td>\n",
       "      <td>16</td>\n",
       "      <td>16</td>\n",
       "      <td>16</td>\n",
       "    </tr>\n",
       "    <tr>\n",
       "      <th>Problems when you are unable to pay</th>\n",
       "      <td>12</td>\n",
       "      <td>12</td>\n",
       "      <td>12</td>\n",
       "      <td>12</td>\n",
       "      <td>12</td>\n",
       "      <td>12</td>\n",
       "      <td>12</td>\n",
       "      <td>12</td>\n",
       "      <td>12</td>\n",
       "      <td>12</td>\n",
       "      <td>12</td>\n",
       "    </tr>\n",
       "    <tr>\n",
       "      <th>Settlement process and costs</th>\n",
       "      <td>2</td>\n",
       "      <td>2</td>\n",
       "      <td>2</td>\n",
       "      <td>2</td>\n",
       "      <td>2</td>\n",
       "      <td>2</td>\n",
       "      <td>2</td>\n",
       "      <td>2</td>\n",
       "      <td>2</td>\n",
       "      <td>2</td>\n",
       "      <td>2</td>\n",
       "    </tr>\n",
       "    <tr>\n",
       "      <th>Shopping for a loan or lease</th>\n",
       "      <td>5</td>\n",
       "      <td>5</td>\n",
       "      <td>5</td>\n",
       "      <td>5</td>\n",
       "      <td>5</td>\n",
       "      <td>5</td>\n",
       "      <td>5</td>\n",
       "      <td>5</td>\n",
       "      <td>5</td>\n",
       "      <td>5</td>\n",
       "      <td>5</td>\n",
       "    </tr>\n",
       "    <tr>\n",
       "      <th>Struggling to pay mortgage</th>\n",
       "      <td>1</td>\n",
       "      <td>1</td>\n",
       "      <td>1</td>\n",
       "      <td>1</td>\n",
       "      <td>1</td>\n",
       "      <td>1</td>\n",
       "      <td>1</td>\n",
       "      <td>1</td>\n",
       "      <td>1</td>\n",
       "      <td>1</td>\n",
       "      <td>1</td>\n",
       "    </tr>\n",
       "    <tr>\n",
       "      <th>Taking out the loan or lease</th>\n",
       "      <td>4</td>\n",
       "      <td>4</td>\n",
       "      <td>4</td>\n",
       "      <td>4</td>\n",
       "      <td>4</td>\n",
       "      <td>4</td>\n",
       "      <td>4</td>\n",
       "      <td>4</td>\n",
       "      <td>4</td>\n",
       "      <td>4</td>\n",
       "      <td>4</td>\n",
       "    </tr>\n",
       "    <tr>\n",
       "      <th>Trouble during payment process</th>\n",
       "      <td>2</td>\n",
       "      <td>2</td>\n",
       "      <td>2</td>\n",
       "      <td>2</td>\n",
       "      <td>2</td>\n",
       "      <td>2</td>\n",
       "      <td>2</td>\n",
       "      <td>2</td>\n",
       "      <td>2</td>\n",
       "      <td>2</td>\n",
       "      <td>2</td>\n",
       "    </tr>\n",
       "  </tbody>\n",
       "</table>\n",
       "</div>"
      ],
      "text/plain": [
       "                                          GrievanceID  BankID  State  \\\n",
       "Grievance_Category                                                     \n",
       "Application, originator, mortgage broker           10      10     10   \n",
       "Closing on a mortgage                               1       1      1   \n",
       "Credit decision / Underwriting                      1       1      1   \n",
       "Incorrect information on your report                1       1      1   \n",
       "Loan modification,collection,foreclosure            7       7      7   \n",
       "Loan servicing, payments, escrow account            9       9      9   \n",
       "Managing the loan or lease                         16      16     16   \n",
       "Problems when you are unable to pay                12      12     12   \n",
       "Settlement process and costs                        2       2      2   \n",
       "Shopping for a loan or lease                        5       5      5   \n",
       "Struggling to pay mortgage                          1       1      1   \n",
       "Taking out the loan or lease                        4       4      4   \n",
       "Trouble during payment process                      2       2      2   \n",
       "\n",
       "                                          DateOfGrievance  Grievance_Category  \\\n",
       "Grievance_Category                                                              \n",
       "Application, originator, mortgage broker               10                  10   \n",
       "Closing on a mortgage                                   1                   1   \n",
       "Credit decision / Underwriting                          1                   1   \n",
       "Incorrect information on your report                    1                   1   \n",
       "Loan modification,collection,foreclosure                7                   7   \n",
       "Loan servicing, payments, escrow account                9                   9   \n",
       "Managing the loan or lease                             16                  16   \n",
       "Problems when you are unable to pay                    12                  12   \n",
       "Settlement process and costs                            2                   2   \n",
       "Shopping for a loan or lease                            5                   5   \n",
       "Struggling to pay mortgage                              1                   1   \n",
       "Taking out the loan or lease                            4                   4   \n",
       "Trouble during payment process                          2                   2   \n",
       "\n",
       "                                          GrievanceDescription  \\\n",
       "Grievance_Category                                               \n",
       "Application, originator, mortgage broker                    10   \n",
       "Closing on a mortgage                                        1   \n",
       "Credit decision / Underwriting                               1   \n",
       "Incorrect information on your report                         1   \n",
       "Loan modification,collection,foreclosure                     7   \n",
       "Loan servicing, payments, escrow account                     9   \n",
       "Managing the loan or lease                                  16   \n",
       "Problems when you are unable to pay                         12   \n",
       "Settlement process and costs                                 2   \n",
       "Shopping for a loan or lease                                 5   \n",
       "Struggling to pay mortgage                                   1   \n",
       "Taking out the loan or lease                                 4   \n",
       "Trouble during payment process                               2   \n",
       "\n",
       "                                          LineOfBusiness  ResolutionComments  \\\n",
       "Grievance_Category                                                             \n",
       "Application, originator, mortgage broker              10                  10   \n",
       "Closing on a mortgage                                  1                   1   \n",
       "Credit decision / Underwriting                         1                   1   \n",
       "Incorrect information on your report                   1                   1   \n",
       "Loan modification,collection,foreclosure               7                   7   \n",
       "Loan servicing, payments, escrow account               9                   9   \n",
       "Managing the loan or lease                            16                  16   \n",
       "Problems when you are unable to pay                   12                  12   \n",
       "Settlement process and costs                           2                   2   \n",
       "Shopping for a loan or lease                           5                   5   \n",
       "Struggling to pay mortgage                             1                   1   \n",
       "Taking out the loan or lease                           4                   4   \n",
       "Trouble during payment process                         2                   2   \n",
       "\n",
       "                                          Disputed  DateOfResolution  \\\n",
       "Grievance_Category                                                     \n",
       "Application, originator, mortgage broker        10                10   \n",
       "Closing on a mortgage                            1                 1   \n",
       "Credit decision / Underwriting                   1                 1   \n",
       "Incorrect information on your report             1                 1   \n",
       "Loan modification,collection,foreclosure         7                 7   \n",
       "Loan servicing, payments, escrow account         9                 9   \n",
       "Managing the loan or lease                      16                16   \n",
       "Problems when you are unable to pay             12                12   \n",
       "Settlement process and costs                     2                 2   \n",
       "Shopping for a loan or lease                     5                 5   \n",
       "Struggling to pay mortgage                       1                 1   \n",
       "Taking out the loan or lease                     4                 4   \n",
       "Trouble during payment process                   2                 2   \n",
       "\n",
       "                                          BankGrade  \n",
       "Grievance_Category                                   \n",
       "Application, originator, mortgage broker         10  \n",
       "Closing on a mortgage                             1  \n",
       "Credit decision / Underwriting                    1  \n",
       "Incorrect information on your report              1  \n",
       "Loan modification,collection,foreclosure          7  \n",
       "Loan servicing, payments, escrow account          9  \n",
       "Managing the loan or lease                       16  \n",
       "Problems when you are unable to pay              12  \n",
       "Settlement process and costs                      2  \n",
       "Shopping for a loan or lease                      5  \n",
       "Struggling to pay mortgage                        1  \n",
       "Taking out the loan or lease                      4  \n",
       "Trouble during payment process                    2  "
      ]
     },
     "execution_count": 50,
     "metadata": {},
     "output_type": "execute_result"
    }
   ],
   "source": [
    "b5439 = allData.loc[allData.BankID=='Bank5439']\n",
    "b5439.groupby(b5439.Grievance_Category).count()\n",
    "lowGr.groupby(allData.Grievance_Category).count()\n",
    "b5439.groupby(allData.Grievance_Category).count()\n",
    "\n",
    "#b5439.groupby(b5439.ResolutionComments).c.count(ount()"
   ]
  },
  {
   "cell_type": "code",
   "execution_count": 373,
   "metadata": {},
   "outputs": [
    {
     "data": {
      "text/plain": [
       "count                                                  4495\n",
       "unique                                                 4000\n",
       "top        I have a {$25000.00} credit card line with Re...\n",
       "freq                                                      3\n",
       "Name: GrievanceDescription, dtype: object"
      ]
     },
     "execution_count": 373,
     "metadata": {},
     "output_type": "execute_result"
    }
   ],
   "source": [
    "topGr.GrievanceDescription.describe()\n"
   ]
  },
  {
   "cell_type": "code",
   "execution_count": 58,
   "metadata": {
    "ExecuteTime": {
     "end_time": "2018-11-30T18:36:02.805789Z",
     "start_time": "2018-11-30T18:36:02.802308Z"
    },
    "collapsed": true
   },
   "outputs": [],
   "source": [
    "from nltk import word_tokenize\n",
    "from nltk.corpus import stopwords\n",
    "\n",
    "english_stopwords = stopwords.words('english')    # get english stop words\n",
    "\n",
    "def clean(doc):\n",
    "\n",
    "    # first tokenize your document to a list of words\n",
    "    words = word_tokenize(document)\n",
    "    #print(words)\n",
    "\n",
    "    # the remove all stop words\n",
    "    content = [w for w in words if w.lower() not in english_stopwords]\n",
    "    return(content)"
   ]
  },
  {
   "cell_type": "code",
   "execution_count": null,
   "metadata": {
    "collapsed": true
   },
   "outputs": [],
   "source": []
  },
  {
   "cell_type": "markdown",
   "metadata": {},
   "source": [
    "### lemmatize"
   ]
  },
  {
   "cell_type": "markdown",
   "metadata": {},
   "source": []
  },
  {
   "cell_type": "markdown",
   "metadata": {},
   "source": [
    "### How much data in each class (of table)?"
   ]
  },
  {
   "cell_type": "code",
   "execution_count": null,
   "metadata": {
    "collapsed": true
   },
   "outputs": [],
   "source": []
  },
  {
   "cell_type": "code",
   "execution_count": 374,
   "metadata": {},
   "outputs": [
    {
     "name": "stdout",
     "output_type": "stream",
     "text": [
      "4495\n",
      "34881\n",
      "14304\n"
     ]
    }
   ],
   "source": [
    "print(topGr.shape[0])\n",
    "print(medGr.shape[0])\n",
    "print(lowGr.shape[0])"
   ]
  },
  {
   "cell_type": "markdown",
   "metadata": {},
   "source": [
    "# Part B - In-depth Feature exploration \n",
    "> As per plan, we are trying to find any correlation between a bank's <font color='green'><b>grade - Grievance data </font></b>\n",
    "> In subsequent sub-sections, we will dissect each feature and try to learn how each category of banks fared\n",
    "> Based on exploration, We will order Features by decreasing importance"
   ]
  },
  {
   "cell_type": "code",
   "execution_count": 375,
   "metadata": {},
   "outputs": [
    {
     "data": {
      "text/plain": [
       "{'GrievanceID': None,\n",
       " 'BankID': None,\n",
       " 'State': None,\n",
       " 'DateOfGrievance': None,\n",
       " 'Grievance_Category': None,\n",
       " 'GrievanceDescription': None,\n",
       " 'LineOfBusiness': None,\n",
       " 'ResolutionComments': None,\n",
       " 'Disputed': None,\n",
       " 'DateOfResolution': None,\n",
       " 'ResolutionTime': None,\n",
       " 'weekday': None,\n",
       " 'BankGrade': None}"
      ]
     },
     "execution_count": 375,
     "metadata": {},
     "output_type": "execute_result"
    }
   ],
   "source": [
    "FeatureRank= dict.fromkeys(topGr.columns)\n",
    "FeatureRank"
   ]
  },
  {
   "cell_type": "code",
   "execution_count": 376,
   "metadata": {},
   "outputs": [
    {
     "name": "stdout",
     "output_type": "stream",
     "text": [
      "Feature  - LevelCount -  sum(top 30)\n",
      "----------------------------------\n",
      "BankID -- 86 43107\n",
      "State -- 59 49818\n",
      "Grievance_Category -- 67 50607\n",
      "LineOfBusiness -- 4 all\n",
      "ResolutionComments -- 4 all\n",
      "Disputed -- 2 all\n",
      "ResolutionTime -- 117 52580\n"
     ]
    }
   ],
   "source": [
    "def analyseFeatures(df):\n",
    "    features = ['BankID', 'State',\n",
    "       'Grievance_Category', 'LineOfBusiness',\n",
    "       'ResolutionComments', 'Disputed', 'ResolutionTime']\n",
    "    print(\"Feature\", \" - LevelCount - \", \"sum(top 30)\")\n",
    "    print('----------------------------------')\n",
    "    for feature in features:\n",
    "        levels = len(df[feature].value_counts())\n",
    "        if levels > 30:\n",
    "           print(feature, \"--\", levels, sum(df[feature].value_counts()[0:30]))\n",
    "        else:\n",
    "            print(feature, \"--\", levels, 'all')\n",
    "analyseFeatures(allData)"
   ]
  },
  {
   "cell_type": "markdown",
   "metadata": {},
   "source": [
    "### Except for BankID, 90% of data is covered by top 30 levels in respective features\n",
    "Why is this important?\n",
    "It helps in \n",
    "focussing on what matters most. \n",
    "Dimensionality Reduction\n",
    "However, this applies to more to conventional ML . In case of DL, this approach is not good, as DL is data hungry"
   ]
  },
  {
   "cell_type": "markdown",
   "metadata": {},
   "source": [
    "### B.1 Feature Analysis:  Disputed"
   ]
  },
  {
   "cell_type": "code",
   "execution_count": 377,
   "metadata": {},
   "outputs": [
    {
     "name": "stdout",
     "output_type": "stream",
     "text": [
      "(0, 13)\n",
      "        GrievanceID  BankID  State  DateOfGrievance  Grievance_Category  \\\n",
      "count             0       0      0                0                   0   \n",
      "unique            0       0      0                0                   0   \n",
      "\n",
      "        GrievanceDescription  LineOfBusiness  ResolutionComments  Disputed  \\\n",
      "count                      0               0                   0         0   \n",
      "unique                     0               0                   0         0   \n",
      "\n",
      "        DateOfResolution  ResolutionTime  weekday  BankGrade  \n",
      "count                  0               0        0          0  \n",
      "unique                 0               0        0          0  \n",
      "14.77 % of grievances are disputed for top graded banks\n",
      "22.04 % of grievances are disputed for medium graded banks\n",
      "23.99 % of grievances are disputed for low graded banks\n"
     ]
    }
   ],
   "source": [
    "def findDisputed(df):\n",
    "     return round(100*df.loc[df['Disputed'] =='Yes'].shape[0]/df.shape[0],2)\n",
    "\n",
    "bankSummary=pd.DataFrame(columns=allData.columns)\n",
    "bankSummary.drop(['GrievanceID',  'DateOfGrievance'], axis=1)\n",
    "print(bankSummary.shape)\n",
    "print(bankSummary.describe())\n",
    "\n",
    "print(findDisputed(topGr), \"% of grievances are disputed for top graded banks\")\n",
    "print(findDisputed(medGr), \"% of grievances are disputed for medium graded banks\")\n",
    "print(findDisputed(lowGr), \"% of grievances are disputed for low graded banks\")"
   ]
  },
  {
   "cell_type": "code",
   "execution_count": 378,
   "metadata": {},
   "outputs": [
    {
     "data": {
      "text/plain": [
       "Text(0.5,1,'Outstanding')"
      ]
     },
     "execution_count": 378,
     "metadata": {},
     "output_type": "execute_result"
    },
    {
     "data": {
      "image/png": "[encoded data removed]",
      "text/plain": [
       "<Figure size 432x288 with 1 Axes>"
      ]
     },
     "metadata": {},
     "output_type": "display_data"
    }
   ],
   "source": [
    "import seaborn as sns\n",
    "import matplotlib.pyplot as plt\n",
    "\n",
    "disp = sns.countplot(topGr.Disputed)\n",
    "disp.set_title(\"Outstanding\")"
   ]
  },
  {
   "cell_type": "code",
   "execution_count": 379,
   "metadata": {},
   "outputs": [
    {
     "data": {
      "text/plain": [
       "Text(0.5,1,'Satisfactory')"
      ]
     },
     "execution_count": 379,
     "metadata": {},
     "output_type": "execute_result"
    },
    {
     "data": {
      "image/png": "[encoded data removed]",
      "text/plain": [
       "<Figure size 432x288 with 1 Axes>"
      ]
     },
     "metadata": {},
     "output_type": "display_data"
    }
   ],
   "source": [
    "g = sns.countplot(medGr.Disputed)\n",
    "g.set_title(\"Satisfactory\")"
   ]
  },
  {
   "cell_type": "code",
   "execution_count": 380,
   "metadata": {},
   "outputs": [
    {
     "data": {
      "text/plain": [
       "Text(0.5,1,'Deficient')"
      ]
     },
     "execution_count": 380,
     "metadata": {},
     "output_type": "execute_result"
    },
    {
     "data": {
      "image/png": "[encoded data removed]",
      "text/plain": [
       "<Figure size 432x288 with 1 Axes>"
      ]
     },
     "metadata": {},
     "output_type": "display_data"
    }
   ],
   "source": [
    "g = sns.countplot(lowGr.Disputed)\n",
    "g.set_title(\"Deficient\")"
   ]
  },
  {
   "cell_type": "markdown",
   "metadata": {},
   "source": []
  },
  {
   "cell_type": "markdown",
   "metadata": {},
   "source": [
    "#### Conclusions of Feature Analysis: Disputed\n",
    "> As seen above, there seems to be a strong correlation of <b> disputed </b> with the Grade for <b>outstanding </b> banks and there is a week distinction among <b> satisfactory </b> and <b>deficient</b> graded banks\n",
    "\n",
    "We can form a relation as :\n",
    "  dispOut (0.14) << dispSat <0.22> < dispDef <0.24>\n",
    "  \n",
    "> <b>Disputed is an important Factor for predicting a grade </b>\n",
    "> Importance Rank-1"
   ]
  },
  {
   "cell_type": "code",
   "execution_count": 381,
   "metadata": {},
   "outputs": [
    {
     "data": {
      "text/plain": [
       "{'GrievanceID': None,\n",
       " 'BankID': None,\n",
       " 'State': None,\n",
       " 'DateOfGrievance': None,\n",
       " 'Grievance_Category': None,\n",
       " 'GrievanceDescription': None,\n",
       " 'LineOfBusiness': None,\n",
       " 'ResolutionComments': None,\n",
       " 'Disputed': 1,\n",
       " 'DateOfResolution': None,\n",
       " 'ResolutionTime': None,\n",
       " 'weekday': None,\n",
       " 'BankGrade': None}"
      ]
     },
     "execution_count": 381,
     "metadata": {},
     "output_type": "execute_result"
    }
   ],
   "source": [
    "#assign the rank\n",
    "FeatureRank['Disputed'] = 1\n",
    "FeatureRank"
   ]
  },
  {
   "cell_type": "code",
   "execution_count": 382,
   "metadata": {
    "collapsed": true
   },
   "outputs": [],
   "source": [
    "# Which Banks have most grievences in which State?\n",
    "#\n"
   ]
  },
  {
   "cell_type": "markdown",
   "metadata": {},
   "source": [
    "### B.2 Feature Analysis:  LineOfBusiness"
   ]
  },
  {
   "cell_type": "code",
   "execution_count": 383,
   "metadata": {},
   "outputs": [
    {
     "data": {
      "text/html": [
       "<div>\n",
       "<style scoped>\n",
       "    .dataframe tbody tr th:only-of-type {\n",
       "        vertical-align: middle;\n",
       "    }\n",
       "\n",
       "    .dataframe tbody tr th {\n",
       "        vertical-align: top;\n",
       "    }\n",
       "\n",
       "    .dataframe thead th {\n",
       "        text-align: right;\n",
       "    }\n",
       "</style>\n",
       "<table border=\"1\" class=\"dataframe\">\n",
       "  <thead>\n",
       "    <tr style=\"text-align: right;\">\n",
       "      <th></th>\n",
       "      <th>GrievanceID</th>\n",
       "      <th>BankID</th>\n",
       "      <th>State</th>\n",
       "      <th>DateOfGrievance</th>\n",
       "      <th>Grievance_Category</th>\n",
       "      <th>GrievanceDescription</th>\n",
       "      <th>ResolutionComments</th>\n",
       "      <th>Disputed</th>\n",
       "      <th>DateOfResolution</th>\n",
       "      <th>ResolutionTime</th>\n",
       "      <th>weekday</th>\n",
       "      <th>BankGrade</th>\n",
       "    </tr>\n",
       "    <tr>\n",
       "      <th>LineOfBusiness</th>\n",
       "      <th></th>\n",
       "      <th></th>\n",
       "      <th></th>\n",
       "      <th></th>\n",
       "      <th></th>\n",
       "      <th></th>\n",
       "      <th></th>\n",
       "      <th></th>\n",
       "      <th></th>\n",
       "      <th></th>\n",
       "      <th></th>\n",
       "      <th></th>\n",
       "    </tr>\n",
       "  </thead>\n",
       "  <tbody>\n",
       "    <tr>\n",
       "      <th>Consumer Loan</th>\n",
       "      <td>1230</td>\n",
       "      <td>1230</td>\n",
       "      <td>1230</td>\n",
       "      <td>1230</td>\n",
       "      <td>1230</td>\n",
       "      <td>1230</td>\n",
       "      <td>1230</td>\n",
       "      <td>1230</td>\n",
       "      <td>1230</td>\n",
       "      <td>1230</td>\n",
       "      <td>1230</td>\n",
       "      <td>1230</td>\n",
       "    </tr>\n",
       "    <tr>\n",
       "      <th>Credit card</th>\n",
       "      <td>88</td>\n",
       "      <td>88</td>\n",
       "      <td>88</td>\n",
       "      <td>88</td>\n",
       "      <td>88</td>\n",
       "      <td>88</td>\n",
       "      <td>88</td>\n",
       "      <td>88</td>\n",
       "      <td>88</td>\n",
       "      <td>88</td>\n",
       "      <td>88</td>\n",
       "      <td>88</td>\n",
       "    </tr>\n",
       "    <tr>\n",
       "      <th>Mortgage</th>\n",
       "      <td>2671</td>\n",
       "      <td>2671</td>\n",
       "      <td>2671</td>\n",
       "      <td>2671</td>\n",
       "      <td>2671</td>\n",
       "      <td>2671</td>\n",
       "      <td>2671</td>\n",
       "      <td>2671</td>\n",
       "      <td>2671</td>\n",
       "      <td>2671</td>\n",
       "      <td>2671</td>\n",
       "      <td>2671</td>\n",
       "    </tr>\n",
       "    <tr>\n",
       "      <th>Student loan</th>\n",
       "      <td>506</td>\n",
       "      <td>506</td>\n",
       "      <td>506</td>\n",
       "      <td>506</td>\n",
       "      <td>506</td>\n",
       "      <td>506</td>\n",
       "      <td>506</td>\n",
       "      <td>506</td>\n",
       "      <td>506</td>\n",
       "      <td>506</td>\n",
       "      <td>506</td>\n",
       "      <td>506</td>\n",
       "    </tr>\n",
       "  </tbody>\n",
       "</table>\n",
       "</div>"
      ],
      "text/plain": [
       "                GrievanceID  BankID  State  DateOfGrievance  \\\n",
       "LineOfBusiness                                                \n",
       "Consumer Loan          1230    1230   1230             1230   \n",
       "Credit card              88      88     88               88   \n",
       "Mortgage               2671    2671   2671             2671   \n",
       "Student loan            506     506    506              506   \n",
       "\n",
       "                Grievance_Category  GrievanceDescription  ResolutionComments  \\\n",
       "LineOfBusiness                                                                 \n",
       "Consumer Loan                 1230                  1230                1230   \n",
       "Credit card                     88                    88                  88   \n",
       "Mortgage                      2671                  2671                2671   \n",
       "Student loan                   506                   506                 506   \n",
       "\n",
       "                Disputed  DateOfResolution  ResolutionTime  weekday  BankGrade  \n",
       "LineOfBusiness                                                                  \n",
       "Consumer Loan       1230              1230            1230     1230       1230  \n",
       "Credit card           88                88              88       88         88  \n",
       "Mortgage            2671              2671            2671     2671       2671  \n",
       "Student loan         506               506             506      506        506  "
      ]
     },
     "execution_count": 383,
     "metadata": {},
     "output_type": "execute_result"
    }
   ],
   "source": [
    "topGr.groupby(topGr.LineOfBusiness).count()"
   ]
  },
  {
   "cell_type": "code",
   "execution_count": 384,
   "metadata": {},
   "outputs": [
    {
     "data": {
      "text/plain": [
       "Text(0.5,1,'Outstanding')"
      ]
     },
     "execution_count": 384,
     "metadata": {},
     "output_type": "execute_result"
    },
    {
     "data": {
      "image/png": "[encoded data removed]",
      "text/plain": [
       "<Figure size 432x288 with 1 Axes>"
      ]
     },
     "metadata": {},
     "output_type": "display_data"
    }
   ],
   "source": [
    "topLob = sns.countplot(topGr.LineOfBusiness)\n",
    "topLob.set_title(\"Outstanding\")"
   ]
  },
  {
   "cell_type": "code",
   "execution_count": 385,
   "metadata": {},
   "outputs": [
    {
     "data": {
      "text/plain": [
       "Text(0.5,1,'Satisfactory')"
      ]
     },
     "execution_count": 385,
     "metadata": {},
     "output_type": "execute_result"
    },
    {
     "data": {
      "image/png": "[encoded data removed]",
      "text/plain": [
       "<Figure size 432x288 with 1 Axes>"
      ]
     },
     "metadata": {},
     "output_type": "display_data"
    }
   ],
   "source": [
    "g = sns.countplot(medGr.LineOfBusiness)\n",
    "g.set_title(\"Satisfactory\")"
   ]
  },
  {
   "cell_type": "code",
   "execution_count": 386,
   "metadata": {
    "scrolled": true
   },
   "outputs": [
    {
     "data": {
      "text/plain": [
       "Text(0.5,1,'Deficient')"
      ]
     },
     "execution_count": 386,
     "metadata": {},
     "output_type": "execute_result"
    },
    {
     "data": {
      "image/png": "[encoded data removed]",
      "text/plain": [
       "<Figure size 432x288 with 1 Axes>"
      ]
     },
     "metadata": {},
     "output_type": "display_data"
    }
   ],
   "source": [
    "g = sns.countplot(lowGr.LineOfBusiness)\n",
    "g.set_title(\"Deficient\")"
   ]
  },
  {
   "cell_type": "markdown",
   "metadata": {},
   "source": [
    "#### Conclusions of Feature Analysis: Line of Business\n",
    "##### Visual plots clearly show some interesting and useful factors:\n",
    "> Outstanding banks <b>do not deal</b> with <b>Credit Cards</b> much but more on 'Mortgage' (secured asset?) loans.\n",
    "> Deficient banks deal <b>mostly with Credit Cards </b> and less on 'Mortgage' and consumer loans.\n",
    "> We can also see distinction between *satisfactory* and *deficient* in this feature: Mortgae.. Some tie breaker for us :-)\n",
    "\n",
    " <b>Line of Business is an important Factor for predicting a grade </b>\n",
    " > Importance Rank-2"
   ]
  },
  {
   "cell_type": "code",
   "execution_count": 387,
   "metadata": {},
   "outputs": [
    {
     "data": {
      "text/plain": [
       "{'GrievanceID': None,\n",
       " 'BankID': None,\n",
       " 'State': None,\n",
       " 'DateOfGrievance': None,\n",
       " 'Grievance_Category': None,\n",
       " 'GrievanceDescription': None,\n",
       " 'LineOfBusiness': 2,\n",
       " 'ResolutionComments': None,\n",
       " 'Disputed': 1,\n",
       " 'DateOfResolution': None,\n",
       " 'ResolutionTime': None,\n",
       " 'weekday': None,\n",
       " 'BankGrade': None}"
      ]
     },
     "execution_count": 387,
     "metadata": {},
     "output_type": "execute_result"
    }
   ],
   "source": [
    "#assign the rank\n",
    "FeatureRank['LineOfBusiness'] = 2\n",
    "FeatureRank"
   ]
  },
  {
   "cell_type": "markdown",
   "metadata": {},
   "source": [
    "### B.3 Feature Analysis:  Grievance_Category"
   ]
  },
  {
   "cell_type": "code",
   "execution_count": 388,
   "metadata": {},
   "outputs": [
    {
     "data": {
      "text/plain": [
       "Text(0.5,1,'Outstanding')"
      ]
     },
     "execution_count": 388,
     "metadata": {},
     "output_type": "execute_result"
    },
    {
     "data": {
      "image/png": "[encoded data removed]",
      "text/plain": [
       "<Figure size 432x288 with 1 Axes>"
      ]
     },
     "metadata": {},
     "output_type": "display_data"
    }
   ],
   "source": [
    "g = sns.countplot(topGr.Grievance_Category)\n",
    "g.set_title(\"Outstanding\")"
   ]
  },
  {
   "cell_type": "code",
   "execution_count": 389,
   "metadata": {},
   "outputs": [
    {
     "data": {
      "text/plain": [
       "Text(0.5,1,'Satisfactory')"
      ]
     },
     "execution_count": 389,
     "metadata": {},
     "output_type": "execute_result"
    },
    {
     "data": {
      "image/png": "[encoded data removed]",
      "text/plain": [
       "<Figure size 432x288 with 1 Axes>"
      ]
     },
     "metadata": {},
     "output_type": "display_data"
    }
   ],
   "source": [
    "g = sns.countplot(medGr.Grievance_Category)\n",
    "g.set_title(\"Satisfactory\")"
   ]
  },
  {
   "cell_type": "code",
   "execution_count": 390,
   "metadata": {},
   "outputs": [
    {
     "data": {
      "text/plain": [
       "Text(0.5,1,'Deficient')"
      ]
     },
     "execution_count": 390,
     "metadata": {},
     "output_type": "execute_result"
    },
    {
     "data": {
      "image/png": "[encoded data removed]",
      "text/plain": [
       "<Figure size 432x288 with 1 Axes>"
      ]
     },
     "metadata": {},
     "output_type": "display_data"
    }
   ],
   "source": [
    "g = sns.countplot(lowGr.Grievance_Category)\n",
    "g.set_title(\"Deficient\")"
   ]
  },
  {
   "cell_type": "markdown",
   "metadata": {},
   "source": [
    "#### Obeservations of Feature Analysis: Grievence Category\n",
    "> Visuals do not give much but still we can infer that 'Outstanding' banks have 'fewer' categories of complaints Vs others\n",
    "> more work to be done to check which Grievance Category occurs in each class"
   ]
  },
  {
   "cell_type": "code",
   "execution_count": 391,
   "metadata": {},
   "outputs": [
    {
     "data": {
      "text/plain": [
       "Loan servicing, payments, escrow account                       1443\n",
       "Managing the loan or lease                                      696\n",
       "Loan modification,collection,foreclosure                        455\n",
       "Trouble during payment process                                  296\n",
       "Problems when you are unable to pay                             250\n",
       "Dealing with my lender or servicer                              234\n",
       "Taking out the loan or lease                                    194\n",
       "Can't repay my loan                                             167\n",
       "Struggling to pay mortgage                                      148\n",
       "Application, originator, mortgage broker                        107\n",
       "Settlement process and costs                                     91\n",
       "Shopping for a loan or lease                                     73\n",
       "Credit decision / Underwriting                                   60\n",
       "Dealing with your lender or servicer                             48\n",
       "Struggling to repay your loan                                    30\n",
       "Closing on a mortgage                                            28\n",
       "Getting a loan                                                   25\n",
       "Applying for a mortgage or refinancing an existing mortgage      24\n",
       "Billing disputes                                                 15\n",
       "Late fee                                                         14\n",
       "Name: Grievance_Category, dtype: int64"
      ]
     },
     "execution_count": 391,
     "metadata": {},
     "output_type": "execute_result"
    }
   ],
   "source": [
    "(topGr.Grievance_Category.value_counts().nlargest(20))"
   ]
  },
  {
   "cell_type": "code",
   "execution_count": 392,
   "metadata": {},
   "outputs": [
    {
     "data": {
      "text/plain": [
       "Loan servicing, payments, escrow account    6251\n",
       "Loan modification,collection,foreclosure    5164\n",
       "Dealing with my lender or servicer          2547\n",
       "Managing the loan or lease                  1931\n",
       "Billing disputes                            1894\n",
       "Application, originator, mortgage broker    1190\n",
       "Other                                       1038\n",
       "Trouble during payment process               937\n",
       "Identity theft / Fraud / Embezzlement        924\n",
       "Settlement process and costs                 873\n",
       "Name: Grievance_Category, dtype: int64"
      ]
     },
     "execution_count": 392,
     "metadata": {},
     "output_type": "execute_result"
    }
   ],
   "source": [
    "(medGr.Grievance_Category.value_counts().nlargest(10))"
   ]
  },
  {
   "cell_type": "code",
   "execution_count": 393,
   "metadata": {},
   "outputs": [
    {
     "data": {
      "text/plain": [
       "Billing disputes                            1736\n",
       "Other                                       1094\n",
       "Identity theft / Fraud / Embezzlement       1021\n",
       "Loan modification,collection,foreclosure     850\n",
       "Closing/Cancelling account                   768\n",
       "Loan servicing, payments, escrow account     761\n",
       "Rewards                                      622\n",
       "Customer service / Customer relations        589\n",
       "Advertising and marketing                    512\n",
       "Delinquent account                           434\n",
       "Name: Grievance_Category, dtype: int64"
      ]
     },
     "execution_count": 393,
     "metadata": {},
     "output_type": "execute_result"
    }
   ],
   "source": [
    "(lowGr.Grievance_Category.value_counts().nlargest(10))"
   ]
  },
  {
   "cell_type": "markdown",
   "metadata": {},
   "source": [
    "#### Observations on Grievance_Category:\n",
    "> There is a clear difference in distribution of Complaint types\n",
    "Ex: Billing disputes is high in 'Deficient' Category whereas it is in bottom of top 20 in 'Outstanding' Banks\n",
    "\n",
    "> more work needs to be done (selecting exclusive set of grievence_categories in 'Deficient' and 'Satisfactory' banks"
   ]
  },
  {
   "cell_type": "code",
   "execution_count": 394,
   "metadata": {},
   "outputs": [
    {
     "name": "stdout",
     "output_type": "stream",
     "text": [
      "Count unique of grievance types(classwise) :\n",
      "                                            Deficient: 60\n",
      "                                            Satisfactory: 67\n",
      "                                            Outstanding: 50\n"
     ]
    }
   ],
   "source": [
    "print('Count unique of grievance types(classwise) :')\n",
    "print(\"                                            Deficient:\", len(lowGr.Grievance_Category.unique()))\n",
    "print(\"                                            Satisfactory:\", len(medGr.Grievance_Category.unique()))\n",
    "print(\"                                            Outstanding:\", len(topGr.Grievance_Category.unique()))"
   ]
  },
  {
   "cell_type": "markdown",
   "metadata": {},
   "source": [
    "#### Conclusions of Feature Analysis: Grievence Category\n",
    "  \n",
    "> <b>Grievance_Category seems to be a reasonably important Factor for predicting a grade, with careful preprocessing</b>\n",
    "\n",
    "> An approach is to remove common top 'n' types from all 3 categories. This reduces the dimensionality and collinearity for ML . The idea is to create 'signature' set of grievences for each class, helping in predictive power of this feature towards Grade. This will be an iterative approach\n",
    "\n",
    "> TODO: Find <b>'Signature set</b> of grievences for each class"
   ]
  },
  {
   "cell_type": "code",
   "execution_count": 395,
   "metadata": {},
   "outputs": [
    {
     "data": {
      "text/plain": [
       "{'GrievanceID': None,\n",
       " 'BankID': None,\n",
       " 'State': None,\n",
       " 'DateOfGrievance': None,\n",
       " 'Grievance_Category': 5,\n",
       " 'GrievanceDescription': None,\n",
       " 'LineOfBusiness': 2,\n",
       " 'ResolutionComments': None,\n",
       " 'Disputed': 1,\n",
       " 'DateOfResolution': None,\n",
       " 'ResolutionTime': None,\n",
       " 'weekday': None,\n",
       " 'BankGrade': None}"
      ]
     },
     "execution_count": 395,
     "metadata": {},
     "output_type": "execute_result"
    }
   ],
   "source": [
    "#assign the rank\n",
    "FeatureRank['Grievance_Category'] = 5\n",
    "FeatureRank"
   ]
  },
  {
   "cell_type": "markdown",
   "metadata": {},
   "source": [
    "###  B.4 Feature Analysis: GrievanceDescription"
   ]
  },
  {
   "cell_type": "code",
   "execution_count": 396,
   "metadata": {},
   "outputs": [
    {
     "data": {
      "text/plain": [
       "count                                                  4495\n",
       "unique                                                 4000\n",
       "top        I have a {$25000.00} credit card line with Re...\n",
       "freq                                                      3\n",
       "Name: GrievanceDescription, dtype: object"
      ]
     },
     "execution_count": 396,
     "metadata": {},
     "output_type": "execute_result"
    }
   ],
   "source": [
    "topGr.GrievanceDescription.describe()"
   ]
  },
  {
   "cell_type": "code",
   "execution_count": 397,
   "metadata": {},
   "outputs": [
    {
     "data": {
      "text/plain": [
       "count                                                 34881\n",
       "unique                                                30281\n",
       "top        This account is reported in to XXXX, XXXX and...\n",
       "freq                                                      6\n",
       "Name: GrievanceDescription, dtype: object"
      ]
     },
     "execution_count": 397,
     "metadata": {},
     "output_type": "execute_result"
    }
   ],
   "source": [
    "medGr.GrievanceDescription.describe()"
   ]
  },
  {
   "cell_type": "code",
   "execution_count": 398,
   "metadata": {},
   "outputs": [
    {
     "data": {
      "text/plain": [
       "count                                                 14304\n",
       "unique                                                13498\n",
       "top        This company is still reporting a account on ...\n",
       "freq                                                      4\n",
       "Name: GrievanceDescription, dtype: object"
      ]
     },
     "execution_count": 398,
     "metadata": {},
     "output_type": "execute_result"
    }
   ],
   "source": [
    "lowGr.GrievanceDescription.describe()"
   ]
  },
  {
   "cell_type": "markdown",
   "metadata": {},
   "source": [
    "#### Conclusions of Feature Analysis: Grievence Description\n",
    "  \n",
    "> <b>Grievance_Description is most complex as it involves NLP and text analytics\n",
    "> Approach will be do preprocessing, stop-word removal and sentiment analysis, to see if any keywords can be drawn which are specific to the Grade\n",
    "\n",
    "> TODO: A lot of text-preprocessing and Find <b>'Signature set of keywords</b> of grievences for each class\n",
    "\n",
    "> Among all the features, this will be the final/least preferred feature\n",
    "\n",
    "> Build a model without this feature and add this to improve accuracy on Train/Test"
   ]
  },
  {
   "cell_type": "markdown",
   "metadata": {},
   "source": [
    "> The above ranking on feature set is based on preliminary analysis and further exploration"
   ]
  },
  {
   "cell_type": "markdown",
   "metadata": {},
   "source": [
    "### B.6 Feature Analysis: ResolutionComments"
   ]
  },
  {
   "cell_type": "code",
   "execution_count": 399,
   "metadata": {},
   "outputs": [
    {
     "name": "stdout",
     "output_type": "stream",
     "text": [
      "(4495, 13) count                        4495\n",
      "unique                          4\n",
      "top       Closed with explanation\n",
      "freq                         4181\n",
      "Name: ResolutionComments, dtype: object\n",
      "(34881, 13) count                       34881\n",
      "unique                          4\n",
      "top       Closed with explanation\n",
      "freq                        26943\n",
      "Name: ResolutionComments, dtype: object\n",
      "(14304, 13) count                       14304\n",
      "unique                          4\n",
      "top       Closed with explanation\n",
      "freq                        10422\n",
      "Name: ResolutionComments, dtype: object\n",
      "Closed with explanation            4181\n",
      "Closed with monetary relief         181\n",
      "Closed with non-monetary relief     113\n",
      "Closed                               20\n",
      "Name: ResolutionComments, dtype: int64\n",
      "Closed with explanation            26943\n",
      "Closed with monetary relief         4155\n",
      "Closed with non-monetary relief     3231\n",
      "Closed                               552\n",
      "Name: ResolutionComments, dtype: int64\n",
      "Closed with explanation            10422\n",
      "Closed with monetary relief         2693\n",
      "Closed with non-monetary relief     1172\n",
      "Closed                                17\n",
      "Name: ResolutionComments, dtype: int64\n"
     ]
    }
   ],
   "source": [
    "print(topGr.shape, topGr.ResolutionComments.describe())\n",
    "print(medGr.shape, medGr.ResolutionComments.describe())\n",
    "print(lowGr.shape, lowGr.ResolutionComments.describe())\n",
    "print(topGr.ResolutionComments.value_counts())\n",
    "print(medGr.ResolutionComments.value_counts())\n",
    "print(lowGr.ResolutionComments.value_counts())"
   ]
  },
  {
   "cell_type": "code",
   "execution_count": 400,
   "metadata": {},
   "outputs": [
    {
     "data": {
      "text/plain": [
       "<matplotlib.axes._subplots.AxesSubplot at 0x10cf9b400>"
      ]
     },
     "execution_count": 400,
     "metadata": {},
     "output_type": "execute_result"
    },
    {
     "data": {
      "image/png": "[encoded data removed]",
      "text/plain": [
       "<Figure size 432x288 with 1 Axes>"
      ]
     },
     "metadata": {},
     "output_type": "display_data"
    }
   ],
   "source": [
    "topGr.ResolutionComments.value_counts().plot(kind='pie')\n"
   ]
  },
  {
   "cell_type": "code",
   "execution_count": 401,
   "metadata": {},
   "outputs": [
    {
     "data": {
      "text/plain": [
       "<matplotlib.axes._subplots.AxesSubplot at 0x10cf8ee80>"
      ]
     },
     "execution_count": 401,
     "metadata": {},
     "output_type": "execute_result"
    },
    {
     "data": {
      "image/png": "[encoded data removed]",
      "text/plain": [
       "<Figure size 432x288 with 1 Axes>"
      ]
     },
     "metadata": {},
     "output_type": "display_data"
    }
   ],
   "source": [
    "medGr.ResolutionComments.value_counts().plot(kind='pie')\n"
   ]
  },
  {
   "cell_type": "code",
   "execution_count": 402,
   "metadata": {},
   "outputs": [
    {
     "data": {
      "text/plain": [
       "<matplotlib.axes._subplots.AxesSubplot at 0x10cf83940>"
      ]
     },
     "execution_count": 402,
     "metadata": {},
     "output_type": "execute_result"
    },
    {
     "data": {
      "image/png": "[encoded data removed]",
      "text/plain": [
       "<Figure size 432x288 with 1 Axes>"
      ]
     },
     "metadata": {},
     "output_type": "display_data"
    }
   ],
   "source": [
    "lowGr.ResolutionComments.value_counts().plot(kind='pie')"
   ]
  },
  {
   "cell_type": "markdown",
   "metadata": {},
   "source": [
    "#### Conclusions of Feature Analysis: Resolution Comments\n",
    "> Most Cases are closed with explanation in All classes\n",
    "##### Monetary Relief \n",
    "> In case of Deficient graded banks, the fraction of *monetary relief* is higher than the other 2 classes\n",
    "> The plots indicate thet Outstanding banks have far fewer Monetary Releif closures\n",
    "##### Closed\n",
    "> Outstanding Banks lead > Satisfactory > Deficient\n",
    "\n",
    "This has good Grade correlation? "
   ]
  },
  {
   "cell_type": "markdown",
   "metadata": {},
   "source": [
    "### B.5 Important features for Grading of Banks\n",
    "- GrievenceDescription\n",
    "- Disputed\n",
    "- ResolutionComments\n",
    "- "
   ]
  },
  {
   "cell_type": "markdown",
   "metadata": {},
   "source": [
    "### B.5 Feature Analysis: State "
   ]
  },
  {
   "cell_type": "code",
   "execution_count": 403,
   "metadata": {},
   "outputs": [
    {
     "name": "stdout",
     "output_type": "stream",
     "text": [
      "Outstanding banks State Data:\n",
      " count       4495\n",
      "unique        56\n",
      "top       State9\n",
      "freq         535\n",
      "Name: State, dtype: object\n",
      "Satisfactory banks State Data:\n",
      " count       4495\n",
      "unique        56\n",
      "top       State9\n",
      "freq         535\n",
      "Name: State, dtype: object\n",
      "Outstanding banks State Data:\n",
      " count       4495\n",
      "unique        56\n",
      "top       State9\n",
      "freq         535\n",
      "Name: State, dtype: object\n"
     ]
    }
   ],
   "source": [
    "print(\"Outstanding banks State Data:\\n\", topGr.State.describe())\n",
    "print(\"Satisfactory banks State Data:\\n\", topGr.State.describe())\n",
    "print(\"Outstanding banks State Data:\\n\", topGr.State.describe())"
   ]
  },
  {
   "cell_type": "code",
   "execution_count": null,
   "metadata": {
    "collapsed": true
   },
   "outputs": [],
   "source": []
  },
  {
   "cell_type": "code",
   "execution_count": 404,
   "metadata": {},
   "outputs": [
    {
     "name": "stdout",
     "output_type": "stream",
     "text": [
      "Outstanding banks State Data:\n",
      " State9     535\n",
      "State14    406\n",
      "State53    346\n",
      "State16    247\n",
      "State21    195\n",
      "State40    182\n",
      "State47    177\n",
      "State43    177\n",
      "State44    171\n",
      "State56    157\n",
      "Name: State, dtype: int64\n",
      "Satisfactory banks State Data:\n",
      " State9     5458\n",
      "State14    3056\n",
      "State53    2350\n",
      "State43    2252\n",
      "State16    1562\n",
      "State40    1390\n",
      "State47    1359\n",
      "State21    1309\n",
      "State56    1188\n",
      "State27    1170\n",
      "Name: State, dtype: int64\n",
      "Deficient banks State Data:\n",
      " State9     2238\n",
      "State43    1318\n",
      "State14    1108\n",
      "State53     923\n",
      "State47     605\n",
      "State40     596\n",
      "State21     586\n",
      "State16     535\n",
      "State56     505\n",
      "State27     425\n",
      "Name: State, dtype: int64\n"
     ]
    }
   ],
   "source": [
    "print(\"Outstanding banks State Data:\\n\", topGr.State.value_counts().nlargest(10))\n",
    "print(\"Satisfactory banks State Data:\\n\", medGr.State.value_counts().nlargest(10))\n",
    "print(\"Deficient banks State Data:\\n\", lowGr.State.value_counts().nlargest(10))"
   ]
  },
  {
   "cell_type": "markdown",
   "metadata": {},
   "source": [
    "#### Which state has most Disputed?"
   ]
  },
  {
   "cell_type": "code",
   "execution_count": 405,
   "metadata": {},
   "outputs": [
    {
     "data": {
      "text/plain": [
       "count      59.000000\n",
       "mean      909.830508\n",
       "std      1386.495323\n",
       "min         2.000000\n",
       "25%       143.000000\n",
       "50%       388.000000\n",
       "75%      1271.500000\n",
       "max      8231.000000\n",
       "Name: State, dtype: float64"
      ]
     },
     "execution_count": 405,
     "metadata": {},
     "output_type": "execute_result"
    }
   ],
   "source": [
    "allData.State.value_counts().describe()"
   ]
  },
  {
   "cell_type": "code",
   "execution_count": 406,
   "metadata": {},
   "outputs": [
    {
     "name": "stdout",
     "output_type": "stream",
     "text": [
      "Distribution of Statewise Grievence counts\n"
     ]
    },
    {
     "data": {
      "image/png": "[encoded data removed]",
      "text/plain": [
       "<Figure size 432x288 with 1 Axes>"
      ]
     },
     "metadata": {},
     "output_type": "display_data"
    }
   ],
   "source": [
    "allData.State.value_counts().plot()\n",
    "print(\"Distribution of Statewise Grievence counts\")"
   ]
  },
  {
   "cell_type": "code",
   "execution_count": 407,
   "metadata": {},
   "outputs": [
    {
     "name": "stdout",
     "output_type": "stream",
     "text": [
      "90.36 % of Grievence Data is from 27 States\n"
     ]
    },
    {
     "data": {
      "image/png": "[encoded data removed]",
      "text/plain": [
       "<Figure size 432x288 with 1 Axes>"
      ]
     },
     "metadata": {},
     "output_type": "display_data"
    }
   ],
   "source": [
    "(allData.State.value_counts().nlargest(20)).plot(kind='pie')\n",
    "top90pc = round(100*(allData.State.value_counts().nlargest(27)).sum()/allData.shape[0],2)\n",
    "print(top90pc, \"% of Grievence Data is from 27 States\")\n"
   ]
  },
  {
   "cell_type": "code",
   "execution_count": 408,
   "metadata": {},
   "outputs": [
    {
     "data": {
      "text/plain": [
       "508"
      ]
     },
     "execution_count": 408,
     "metadata": {},
     "output_type": "execute_result"
    }
   ],
   "source": [
    "allData.State.value_counts()[26]"
   ]
  },
  {
   "cell_type": "markdown",
   "metadata": {},
   "source": [
    "#### Conclusions of Feature Analysis: State\n",
    "> State9 is most common the banks are operating\n",
    "\n",
    "> State43 figures 2nd on 'Deficient' Graded banks where as it is 8th in Outstanding ..\n",
    "\n",
    "> As seen above, there is no Obvious correlation but we need to add more factors (such as Grievence type/BankID ) to see if there is any pattern\n",
    "\n",
    "> 'State' is not important independent factor. More study is needed before we conclude"
   ]
  },
  {
   "cell_type": "code",
   "execution_count": 409,
   "metadata": {},
   "outputs": [
    {
     "data": {
      "text/plain": [
       "{'GrievanceID': None,\n",
       " 'BankID': None,\n",
       " 'State': 6,\n",
       " 'DateOfGrievance': None,\n",
       " 'Grievance_Category': 5,\n",
       " 'GrievanceDescription': None,\n",
       " 'LineOfBusiness': 2,\n",
       " 'ResolutionComments': None,\n",
       " 'Disputed': 1,\n",
       " 'DateOfResolution': None,\n",
       " 'ResolutionTime': None,\n",
       " 'weekday': None,\n",
       " 'BankGrade': None}"
      ]
     },
     "execution_count": 409,
     "metadata": {},
     "output_type": "execute_result"
    }
   ],
   "source": [
    "#assign the rank\n",
    "FeatureRank['State'] = 6\n",
    "FeatureRank"
   ]
  },
  {
   "cell_type": "code",
   "execution_count": 410,
   "metadata": {},
   "outputs": [
    {
     "data": {
      "text/plain": [
       "{'GrievanceID': None,\n",
       " 'BankID': None,\n",
       " 'State': 6,\n",
       " 'DateOfGrievance': None,\n",
       " 'Grievance_Category': 5,\n",
       " 'GrievanceDescription': None,\n",
       " 'LineOfBusiness': 2,\n",
       " 'ResolutionComments': 3,\n",
       " 'Disputed': 1,\n",
       " 'DateOfResolution': None,\n",
       " 'ResolutionTime': None,\n",
       " 'weekday': None,\n",
       " 'BankGrade': None}"
      ]
     },
     "execution_count": 410,
     "metadata": {},
     "output_type": "execute_result"
    }
   ],
   "source": [
    "#assign the rank\n",
    "FeatureRank['ResolutionComments'] = 3\n",
    "FeatureRank"
   ]
  },
  {
   "cell_type": "markdown",
   "metadata": {},
   "source": [
    "### B.7 Feature Analysis:  ResolutionTime"
   ]
  },
  {
   "cell_type": "code",
   "execution_count": 411,
   "metadata": {},
   "outputs": [
    {
     "data": {
      "text/plain": [
       "count    4495.000000\n",
       "mean       15.305451\n",
       "std         8.594453\n",
       "min         2.000000\n",
       "25%        11.000000\n",
       "50%        11.000000\n",
       "75%        18.000000\n",
       "max       205.000000\n",
       "Name: ResolutionTime, dtype: float64"
      ]
     },
     "execution_count": 411,
     "metadata": {},
     "output_type": "execute_result"
    }
   ],
   "source": [
    "topGr.ResolutionTime.describe()"
   ]
  },
  {
   "cell_type": "code",
   "execution_count": 412,
   "metadata": {},
   "outputs": [
    {
     "data": {
      "text/plain": [
       "count    34881.000000\n",
       "mean        17.306815\n",
       "std         10.752254\n",
       "min          1.000000\n",
       "25%         11.000000\n",
       "50%         11.000000\n",
       "75%         22.000000\n",
       "max        554.000000\n",
       "Name: ResolutionTime, dtype: float64"
      ]
     },
     "execution_count": 412,
     "metadata": {},
     "output_type": "execute_result"
    }
   ],
   "source": [
    "medGr.ResolutionTime.describe()"
   ]
  },
  {
   "cell_type": "code",
   "execution_count": 413,
   "metadata": {},
   "outputs": [
    {
     "data": {
      "text/plain": [
       "count    14304.00000\n",
       "mean        17.99189\n",
       "std         12.92717\n",
       "min          6.00000\n",
       "25%         11.00000\n",
       "50%         11.00000\n",
       "75%         22.00000\n",
       "max        629.00000\n",
       "Name: ResolutionTime, dtype: float64"
      ]
     },
     "execution_count": 413,
     "metadata": {},
     "output_type": "execute_result"
    }
   ],
   "source": [
    "lowGr.ResolutionTime.describe()"
   ]
  },
  {
   "cell_type": "code",
   "execution_count": 414,
   "metadata": {},
   "outputs": [
    {
     "data": {
      "text/plain": [
       "<matplotlib.axes._subplots.AxesSubplot at 0x10d01d048>"
      ]
     },
     "execution_count": 414,
     "metadata": {},
     "output_type": "execute_result"
    },
    {
     "data": {
      "image/png": "[encoded data removed]",
      "text/plain": [
       "<Figure size 432x288 with 1 Axes>"
      ]
     },
     "metadata": {},
     "output_type": "display_data"
    }
   ],
   "source": [
    "topGr.ResolutionTime.plot.box()"
   ]
  },
  {
   "cell_type": "code",
   "execution_count": 415,
   "metadata": {},
   "outputs": [
    {
     "data": {
      "text/plain": [
       "<matplotlib.axes._subplots.AxesSubplot at 0x10d00ca90>"
      ]
     },
     "execution_count": 415,
     "metadata": {},
     "output_type": "execute_result"
    },
    {
     "data": {
      "image/png": "[encoded data removed]",
      "text/plain": [
       "<Figure size 432x288 with 1 Axes>"
      ]
     },
     "metadata": {},
     "output_type": "display_data"
    }
   ],
   "source": [
    "medGr.ResolutionTime.plot.box()"
   ]
  },
  {
   "cell_type": "code",
   "execution_count": 416,
   "metadata": {},
   "outputs": [
    {
     "data": {
      "text/plain": [
       "<matplotlib.axes._subplots.AxesSubplot at 0x1a1f48f780>"
      ]
     },
     "execution_count": 416,
     "metadata": {},
     "output_type": "execute_result"
    },
    {
     "data": {
      "image/png": "[encoded data removed]",
      "text/plain": [
       "<Figure size 432x288 with 1 Axes>"
      ]
     },
     "metadata": {},
     "output_type": "display_data"
    }
   ],
   "source": [
    "lowGr.ResolutionTime.plot.box()"
   ]
  },
  {
   "cell_type": "code",
   "execution_count": 417,
   "metadata": {},
   "outputs": [
    {
     "name": "stdout",
     "output_type": "stream",
     "text": [
      "                 count       mean       std  min   25%   50%   75%    max\n",
      "ResolutionTime  4495.0  15.305451  8.594453  2.0  11.0  11.0  18.0  205.0\n",
      "                  count       mean        std  min   25%   50%   75%    max\n",
      "ResolutionTime  34881.0  17.306815  10.752254  1.0  11.0  11.0  22.0  554.0\n",
      "                  count      mean       std  min   25%   50%   75%    max\n",
      "ResolutionTime  14304.0  17.99189  12.92717  6.0  11.0  11.0  22.0  629.0\n"
     ]
    }
   ],
   "source": [
    "for i in [topGr, medGr, lowGr]:\n",
    "    print(pd.DataFrame(i.ResolutionTime.describe()).T)"
   ]
  },
  {
   "cell_type": "markdown",
   "metadata": {},
   "source": [
    "#### Conclusions of Feature Analysis: ResolutionTime\n",
    "> \n",
    "\n",
    "> In case of Deficient graded banks, the data distribution(describe) shows  ordering\n",
    "mean resolutionTime: outstanding < satisfactory < deficient\n",
    "std resolutionTime: outstanding < satisfactory < deficient\n",
    "This might need some more cleaning?"
   ]
  },
  {
   "cell_type": "code",
   "execution_count": 418,
   "metadata": {},
   "outputs": [
    {
     "data": {
      "text/plain": [
       "{'GrievanceID': None,\n",
       " 'BankID': None,\n",
       " 'State': 6,\n",
       " 'DateOfGrievance': None,\n",
       " 'Grievance_Category': 5,\n",
       " 'GrievanceDescription': None,\n",
       " 'LineOfBusiness': 2,\n",
       " 'ResolutionComments': 3,\n",
       " 'Disputed': 1,\n",
       " 'DateOfResolution': None,\n",
       " 'ResolutionTime': 4,\n",
       " 'weekday': None,\n",
       " 'BankGrade': None}"
      ]
     },
     "execution_count": 418,
     "metadata": {},
     "output_type": "execute_result"
    }
   ],
   "source": [
    "#assign the rank\n",
    "FeatureRank['ResolutionTime'] = 4\n",
    "FeatureRank"
   ]
  },
  {
   "cell_type": "markdown",
   "metadata": {},
   "source": [
    "## B.8. A few business impacting insights:\n",
    "<h5> \n",
    "BankId : Which bank has highest tickets in a State? Are these evenly spread? \n",
    "</h5>\n",
    "<h5>\n",
    "Is there a trend or seasonality in the Grievences?\n",
    "</h5>\n",
    "<h5>\n",
    "State : Which State has most grievances?\n",
    "</h5>\n",
    "<h5>\n",
    "Disputed : Disputed seems to have direct correlation with Grade, whete can A Bank improve?\n",
    "</h5\n",
    "<h5>\n",
    "LineOfBusiness: Which Banks need to change their strategy, to improve Grading?\n",
    "</h5>\n"
   ]
  },
  {
   "cell_type": "code",
   "execution_count": 419,
   "metadata": {},
   "outputs": [
    {
     "data": {
      "text/plain": [
       "State\n",
       "State1        3\n",
       "State10     962\n",
       "State11     655\n",
       "State12     480\n",
       "State13     299\n",
       "State14    4570\n",
       "State15       6\n",
       "State16    2344\n",
       "State17      11\n",
       "State18     191\n",
       "State19     211\n",
       "State2       33\n",
       "State20     155\n",
       "State21    2090\n",
       "State22     552\n",
       "State23     215\n",
       "State24     345\n",
       "State25     445\n",
       "State26    1365\n",
       "State27    1738\n",
       "State28     195\n",
       "State3       69\n",
       "State30    1272\n",
       "State31     676\n",
       "State32     706\n",
       "State33       2\n",
       "State34     205\n",
       "State35     102\n",
       "State36    1620\n",
       "State37      43\n",
       "State38     165\n",
       "State39     220\n",
       "State4      508\n",
       "State40    2168\n",
       "State41     211\n",
       "State42     650\n",
       "State43    3747\n",
       "State44    1685\n",
       "State45     349\n",
       "State46     644\n",
       "State47    2141\n",
       "State48      73\n",
       "State49     173\n",
       "State5       30\n",
       "State50     642\n",
       "State51      59\n",
       "State52     806\n",
       "State53    3619\n",
       "State55     388\n",
       "State56    1850\n",
       "State57      12\n",
       "State58      93\n",
       "State59    1271\n",
       "State6      204\n",
       "State60     630\n",
       "State61     131\n",
       "State62      57\n",
       "State8     1363\n",
       "State9     8231\n",
       "dtype: int64"
      ]
     },
     "execution_count": 419,
     "metadata": {},
     "output_type": "execute_result"
    }
   ],
   "source": [
    "allData.groupby([allData.State]).size()"
   ]
  },
  {
   "cell_type": "markdown",
   "metadata": {},
   "source": []
  },
  {
   "cell_type": "code",
   "execution_count": 420,
   "metadata": {},
   "outputs": [
    {
     "data": {
      "text/html": [
       "<div>\n",
       "<style scoped>\n",
       "    .dataframe tbody tr th:only-of-type {\n",
       "        vertical-align: middle;\n",
       "    }\n",
       "\n",
       "    .dataframe tbody tr th {\n",
       "        vertical-align: top;\n",
       "    }\n",
       "\n",
       "    .dataframe thead th {\n",
       "        text-align: right;\n",
       "    }\n",
       "</style>\n",
       "<table border=\"1\" class=\"dataframe\">\n",
       "  <thead>\n",
       "    <tr style=\"text-align: right;\">\n",
       "      <th></th>\n",
       "      <th>GrievanceID</th>\n",
       "      <th>BankID</th>\n",
       "      <th>State</th>\n",
       "      <th>DateOfGrievance</th>\n",
       "      <th>Grievance_Category</th>\n",
       "      <th>GrievanceDescription</th>\n",
       "      <th>LineOfBusiness</th>\n",
       "      <th>ResolutionComments</th>\n",
       "      <th>Disputed</th>\n",
       "      <th>DateOfResolution</th>\n",
       "      <th>ResolutionTime</th>\n",
       "      <th>weekday</th>\n",
       "      <th>BankGrade</th>\n",
       "    </tr>\n",
       "  </thead>\n",
       "  <tbody>\n",
       "    <tr>\n",
       "      <th>0</th>\n",
       "      <td>GID512411</td>\n",
       "      <td>Bank5279</td>\n",
       "      <td>State31</td>\n",
       "      <td>2016-01-19</td>\n",
       "      <td>Settlement process and costs</td>\n",
       "      <td>Bank5279 Research dpt. \\nXXXX XXXX XXXX XXXX,...</td>\n",
       "      <td>Mortgage</td>\n",
       "      <td>Closed with explanation</td>\n",
       "      <td>No</td>\n",
       "      <td>2016-01-30</td>\n",
       "      <td>11</td>\n",
       "      <td>SATURDAY</td>\n",
       "      <td>outstanding</td>\n",
       "    </tr>\n",
       "    <tr>\n",
       "      <th>1</th>\n",
       "      <td>GID512415</td>\n",
       "      <td>Bank5279</td>\n",
       "      <td>State53</td>\n",
       "      <td>2016-01-19</td>\n",
       "      <td>Loan servicing, payments, escrow account</td>\n",
       "      <td>Our Mortgage was sold to Bank5279 in XXXX of ...</td>\n",
       "      <td>Mortgage</td>\n",
       "      <td>Closed with explanation</td>\n",
       "      <td>No</td>\n",
       "      <td>2016-01-30</td>\n",
       "      <td>11</td>\n",
       "      <td>SATURDAY</td>\n",
       "      <td>outstanding</td>\n",
       "    </tr>\n",
       "    <tr>\n",
       "      <th>2</th>\n",
       "      <td>GID515128</td>\n",
       "      <td>Bank5279</td>\n",
       "      <td>State9</td>\n",
       "      <td>2016-03-19</td>\n",
       "      <td>Loan servicing, payments, escrow account</td>\n",
       "      <td>I was offered a trial modification by my serv...</td>\n",
       "      <td>Mortgage</td>\n",
       "      <td>Closed with explanation</td>\n",
       "      <td>No</td>\n",
       "      <td>2016-03-30</td>\n",
       "      <td>11</td>\n",
       "      <td>WEDNESDAY</td>\n",
       "      <td>outstanding</td>\n",
       "    </tr>\n",
       "    <tr>\n",
       "      <th>3</th>\n",
       "      <td>GID512466</td>\n",
       "      <td>Bank5279</td>\n",
       "      <td>State53</td>\n",
       "      <td>2016-01-19</td>\n",
       "      <td>Loan servicing, payments, escrow account</td>\n",
       "      <td>Our Mortgage was sold to Bank5279 in XXXX of ...</td>\n",
       "      <td>Mortgage</td>\n",
       "      <td>Closed with explanation</td>\n",
       "      <td>No</td>\n",
       "      <td>2016-01-30</td>\n",
       "      <td>11</td>\n",
       "      <td>SATURDAY</td>\n",
       "      <td>outstanding</td>\n",
       "    </tr>\n",
       "    <tr>\n",
       "      <th>4</th>\n",
       "      <td>GID512489</td>\n",
       "      <td>Bank5279</td>\n",
       "      <td>State25</td>\n",
       "      <td>2016-01-20</td>\n",
       "      <td>Loan servicing, payments, escrow account</td>\n",
       "      <td>My previous Mortgage Servicer sold my loan to...</td>\n",
       "      <td>Mortgage</td>\n",
       "      <td>Closed with explanation</td>\n",
       "      <td>No</td>\n",
       "      <td>2016-01-31</td>\n",
       "      <td>11</td>\n",
       "      <td>SUNDAY</td>\n",
       "      <td>outstanding</td>\n",
       "    </tr>\n",
       "    <tr>\n",
       "      <th>5</th>\n",
       "      <td>GID512637</td>\n",
       "      <td>Bank5279</td>\n",
       "      <td>State14</td>\n",
       "      <td>2016-01-23</td>\n",
       "      <td>Loan servicing, payments, escrow account</td>\n",
       "      <td>XXXX XXXX XXXX transferred the servicing of m...</td>\n",
       "      <td>Mortgage</td>\n",
       "      <td>Closed with explanation</td>\n",
       "      <td>No</td>\n",
       "      <td>2016-02-03</td>\n",
       "      <td>11</td>\n",
       "      <td>WEDNESDAY</td>\n",
       "      <td>outstanding</td>\n",
       "    </tr>\n",
       "  </tbody>\n",
       "</table>\n",
       "</div>"
      ],
      "text/plain": [
       "  GrievanceID    BankID    State DateOfGrievance  \\\n",
       "0   GID512411  Bank5279  State31      2016-01-19   \n",
       "1   GID512415  Bank5279  State53      2016-01-19   \n",
       "2   GID515128  Bank5279   State9      2016-03-19   \n",
       "3   GID512466  Bank5279  State53      2016-01-19   \n",
       "4   GID512489  Bank5279  State25      2016-01-20   \n",
       "5   GID512637  Bank5279  State14      2016-01-23   \n",
       "\n",
       "                         Grievance_Category  \\\n",
       "0              Settlement process and costs   \n",
       "1  Loan servicing, payments, escrow account   \n",
       "2  Loan servicing, payments, escrow account   \n",
       "3  Loan servicing, payments, escrow account   \n",
       "4  Loan servicing, payments, escrow account   \n",
       "5  Loan servicing, payments, escrow account   \n",
       "\n",
       "                                GrievanceDescription LineOfBusiness  \\\n",
       "0   Bank5279 Research dpt. \\nXXXX XXXX XXXX XXXX,...       Mortgage   \n",
       "1   Our Mortgage was sold to Bank5279 in XXXX of ...       Mortgage   \n",
       "2   I was offered a trial modification by my serv...       Mortgage   \n",
       "3   Our Mortgage was sold to Bank5279 in XXXX of ...       Mortgage   \n",
       "4   My previous Mortgage Servicer sold my loan to...       Mortgage   \n",
       "5   XXXX XXXX XXXX transferred the servicing of m...       Mortgage   \n",
       "\n",
       "        ResolutionComments Disputed DateOfResolution  ResolutionTime  \\\n",
       "0  Closed with explanation       No       2016-01-30              11   \n",
       "1  Closed with explanation       No       2016-01-30              11   \n",
       "2  Closed with explanation       No       2016-03-30              11   \n",
       "3  Closed with explanation       No       2016-01-30              11   \n",
       "4  Closed with explanation       No       2016-01-31              11   \n",
       "5  Closed with explanation       No       2016-02-03              11   \n",
       "\n",
       "     weekday    BankGrade  \n",
       "0   SATURDAY  outstanding  \n",
       "1   SATURDAY  outstanding  \n",
       "2  WEDNESDAY  outstanding  \n",
       "3   SATURDAY  outstanding  \n",
       "4     SUNDAY  outstanding  \n",
       "5  WEDNESDAY  outstanding  "
      ]
     },
     "execution_count": 420,
     "metadata": {},
     "output_type": "execute_result"
    }
   ],
   "source": [
    "allData[allData.DateOfGrievance > str(2014)].head(6)"
   ]
  },
  {
   "cell_type": "markdown",
   "metadata": {},
   "source": [
    "## B.8 A closer look at 'timelines'"
   ]
  },
  {
   "cell_type": "code",
   "execution_count": 421,
   "metadata": {},
   "outputs": [
    {
     "data": {
      "text/plain": [
       "<matplotlib.axes._subplots.AxesSubplot at 0x1a2eaf6518>"
      ]
     },
     "execution_count": 421,
     "metadata": {},
     "output_type": "execute_result"
    },
    {
     "data": {
      "image/png": "[encoded data removed]",
      "text/plain": [
       "<Figure size 432x288 with 1 Axes>"
      ]
     },
     "metadata": {},
     "output_type": "display_data"
    }
   ],
   "source": [
    "def findYear(row):\n",
    "     rpt = row['DateOfGrievance']\n",
    "     return rpt[0:4]\n",
    "\n",
    "allData['year'] = allData.apply(findYear, axis=1)\n",
    "\n",
    "allData.year.value_counts()\n",
    "allData.year.value_counts().plot(kind='pie')\n"
   ]
  },
  {
   "cell_type": "markdown",
   "metadata": {},
   "source": [
    "### There is a decreasing trend in number of Grievences\n",
    "Reasons could be severl, such as:\n",
    "\n",
    "a) Some Banksare going out of business due to regulatory issues?\n",
    "\n",
    "b) All banks are improving ? \n",
    "\n",
    "<b> More data dissection is needed in time </b>"
   ]
  },
  {
   "cell_type": "markdown",
   "metadata": {},
   "source": [
    "## B.9. Feature Analysis: BankGrade "
   ]
  },
  {
   "cell_type": "code",
   "execution_count": 422,
   "metadata": {},
   "outputs": [
    {
     "data": {
      "text/plain": [
       "Bank5286    5623\n",
       "Bank5257    5218\n",
       "Bank5382    3882\n",
       "Bank5285    3674\n",
       "Bank5454    2228\n",
       "Bank5237    2079\n",
       "Bank5277    2034\n",
       "Bank5256    1412\n",
       "Bank5249    1346\n",
       "Bank5421    1307\n",
       "Bank5309    1283\n",
       "Bank5428     961\n",
       "Bank5440     960\n",
       "Bank5418     893\n",
       "Bank5260     827\n",
       "Bank5397     825\n",
       "Bank5308     771\n",
       "Bank5279     745\n",
       "Bank5274     735\n",
       "Bank5378     696\n",
       "Bank5242     676\n",
       "Bank5338     640\n",
       "Bank5359     612\n",
       "Bank5348     602\n",
       "Bank5436     559\n",
       "Bank5425     559\n",
       "Bank5261     555\n",
       "Bank5426     505\n",
       "Bank5451     464\n",
       "Bank5390     436\n",
       "            ... \n",
       "Bank5330     180\n",
       "Bank5408     154\n",
       "Bank5341     152\n",
       "Bank5265     151\n",
       "Bank5303     142\n",
       "Bank5346     133\n",
       "Bank5336     133\n",
       "Bank5364     133\n",
       "Bank5410     128\n",
       "Bank5313     124\n",
       "Bank5296     119\n",
       "Bank5430     112\n",
       "Bank5386     106\n",
       "Bank5438     106\n",
       "Bank5446     105\n",
       "Bank5251     104\n",
       "Bank5432     104\n",
       "Bank5254      99\n",
       "Bank5445      94\n",
       "Bank5298      93\n",
       "Bank5350      91\n",
       "Bank5270      91\n",
       "Bank5266      91\n",
       "Bank5328      90\n",
       "Bank5455      79\n",
       "Bank5405      79\n",
       "Bank5252      78\n",
       "Bank5434      76\n",
       "Bank5245      72\n",
       "Bank5439      71\n",
       "Name: BankID, Length: 86, dtype: int64"
      ]
     },
     "execution_count": 422,
     "metadata": {},
     "output_type": "execute_result"
    }
   ],
   "source": [
    "allData.BankID.value_counts()"
   ]
  },
  {
   "cell_type": "code",
   "execution_count": 423,
   "metadata": {},
   "outputs": [
    {
     "data": {
      "text/plain": [
       "Bank5286    5623\n",
       "Bank5257    5218\n",
       "Bank5382    3882\n",
       "Bank5285    3674\n",
       "Bank5454    2228\n",
       "Bank5237    2079\n",
       "Bank5277    2034\n",
       "Bank5256    1412\n",
       "Bank5249    1346\n",
       "Bank5421    1307\n",
       "Bank5309    1283\n",
       "Bank5428     961\n",
       "Bank5440     960\n",
       "Bank5418     893\n",
       "Bank5260     827\n",
       "Bank5397     825\n",
       "Bank5308     771\n",
       "Bank5279     745\n",
       "Bank5274     735\n",
       "Bank5378     696\n",
       "Bank5242     676\n",
       "Bank5338     640\n",
       "Bank5359     612\n",
       "Bank5348     602\n",
       "Bank5436     559\n",
       "Name: BankID, dtype: int64"
      ]
     },
     "execution_count": 423,
     "metadata": {},
     "output_type": "execute_result"
    }
   ],
   "source": [
    "allData.BankID.value_counts()[0:25]"
   ]
  },
  {
   "cell_type": "markdown",
   "metadata": {},
   "source": [
    "#### Conclusions of Feature Analysis: Weekday\n",
    "> Most cases closed on Tuesday\n",
    "> All cleasses have identical ordering\n",
    "> no need for this derived feature.. Drop"
   ]
  },
  {
   "cell_type": "markdown",
   "metadata": {},
   "source": [
    "## B.10 Feature Analysis- Recap\n",
    "- While dissecting each feature, we got a few insights\n",
    "- Based on visualization and distribution of features, we could even create a featureRank  \n",
    "- A few salient points of features (recap)\n",
    "\n",
    "> -  Disputed -- More number of disputed grievances, more shady the Compliances Unfair/Deceptive practices?\n",
    "                 Higher cost to Bank (processing/litigation, compensation) \n",
    "> -  LineOfBusiness -- Could be a strong factor, as high risk players (unsecured Cr Cards or other loans can cause more reasons to file complaints?\n",
    "            Data Analysis can give insights to change strategy..\n",
    "> State - Demographics/location can suit a Bank to succeed more often than in other stats?\n",
    "> -  Grievance Category -- \n",
    "> -  GrievanceDescription\n",
    "> -  ResolutionComments\n",
    "\n",
    "State  \n",
    " >   -  state financial regulations can vary \n",
    " >   -  Polpulation Demographics \n",
    " >        more aware customers . eg. states with high urbanizaed populations Vs rural folks, etc\n",
    "Time for resolution (can be derived using DateOfResolution and DateOfGrievance)"
   ]
  },
  {
   "cell_type": "markdown",
   "metadata": {},
   "source": [
    "## Part C - Condense the data (can we tune to the signal)? \n",
    "### Lets see\n",
    "\n",
    "  Disputed\n",
    "  \n",
    "  LineOfBusiness\n",
    "  \n",
    "  GrievanceCategory\n",
    "  "
   ]
  },
  {
   "cell_type": "markdown",
   "metadata": {},
   "source": [
    "### Ask Questions"
   ]
  },
  {
   "cell_type": "markdown",
   "metadata": {},
   "source": [
    "### Revision of bankGrade distribution:"
   ]
  },
  {
   "cell_type": "code",
   "execution_count": 424,
   "metadata": {},
   "outputs": [
    {
     "data": {
      "text/plain": [
       "(4495, 13)"
      ]
     },
     "execution_count": 424,
     "metadata": {},
     "output_type": "execute_result"
    }
   ],
   "source": [
    "topGr.shape"
   ]
  },
  {
   "cell_type": "code",
   "execution_count": 425,
   "metadata": {},
   "outputs": [
    {
     "data": {
      "text/plain": [
       "(34881, 13)"
      ]
     },
     "execution_count": 425,
     "metadata": {},
     "output_type": "execute_result"
    }
   ],
   "source": [
    "medGr.shape"
   ]
  },
  {
   "cell_type": "code",
   "execution_count": 426,
   "metadata": {},
   "outputs": [
    {
     "data": {
      "text/plain": [
       "(14304, 13)"
      ]
     },
     "execution_count": 426,
     "metadata": {},
     "output_type": "execute_result"
    }
   ],
   "source": [
    "lowGr.shape"
   ]
  },
  {
   "cell_type": "markdown",
   "metadata": {},
   "source": [
    "### Try to remove unwanted rows..."
   ]
  },
  {
   "cell_type": "markdown",
   "metadata": {},
   "source": [
    "### How many Grievences are Disputed?"
   ]
  },
  {
   "cell_type": "code",
   "execution_count": 427,
   "metadata": {},
   "outputs": [
    {
     "data": {
      "text/plain": [
       "(11785, 14)"
      ]
     },
     "execution_count": 427,
     "metadata": {},
     "output_type": "execute_result"
    }
   ],
   "source": [
    "BankDataSubset = allData[allData.Disputed=='Yes']\n",
    "BankDataSubset.shape"
   ]
  },
  {
   "cell_type": "markdown",
   "metadata": {},
   "source": [
    "### How many Grievences are Disputed in each Grade?"
   ]
  },
  {
   "cell_type": "code",
   "execution_count": 428,
   "metadata": {},
   "outputs": [
    {
     "data": {
      "text/plain": [
       "BankGrade\n",
       "deficient       3432\n",
       "outstanding      664\n",
       "satisfactory    7689\n",
       "dtype: int64"
      ]
     },
     "execution_count": 428,
     "metadata": {},
     "output_type": "execute_result"
    }
   ],
   "source": [
    "BankDataSubset.groupby(BankDataSubset.BankGrade).size()"
   ]
  },
  {
   "cell_type": "code",
   "execution_count": 429,
   "metadata": {},
   "outputs": [
    {
     "data": {
      "text/plain": [
       "(41546, 14)"
      ]
     },
     "execution_count": 429,
     "metadata": {},
     "output_type": "execute_result"
    }
   ],
   "source": [
    "closedExpl = allData[allData.ResolutionComments == 'Closed with explanation']\n",
    "closedExpl.shape"
   ]
  },
  {
   "cell_type": "code",
   "execution_count": 430,
   "metadata": {},
   "outputs": [
    {
     "data": {
      "text/plain": [
       "(31418, 14)"
      ]
     },
     "execution_count": 430,
     "metadata": {},
     "output_type": "execute_result"
    }
   ],
   "source": [
    "closedExpl[closedExpl.Disputed == 'No'].shape"
   ]
  },
  {
   "cell_type": "markdown",
   "metadata": {},
   "source": [
    "### Grievences Disputed and resolution Time?"
   ]
  },
  {
   "cell_type": "code",
   "execution_count": 431,
   "metadata": {},
   "outputs": [
    {
     "name": "stdout",
     "output_type": "stream",
     "text": [
      "Resolution Time - Diputed Count\n",
      "23                 9235\n",
      "24                 9679\n",
      "25                 10167\n",
      "26                 10525\n",
      "27                 10868\n",
      "28                 11112\n",
      "29                 11256\n",
      "30                 11354\n",
      "31                 11397\n",
      "32                 11427\n",
      "33                 11455\n",
      "34                 11469\n",
      "35                 11488\n",
      "36                 11498\n",
      "37                 11511\n",
      "38                 11524\n",
      "39                 11543\n",
      "40                 11553\n",
      "41                 11564\n",
      "42                 11572\n",
      "43                 11580\n",
      "44                 11620\n",
      "45                 11629\n",
      "46                 11640\n",
      "47                 11649\n",
      "48                 11662\n",
      "49                 11674\n",
      "50                 11681\n",
      "51                 11690\n",
      "52                 11694\n",
      "53                 11700\n",
      "54                 11710\n",
      "55                 11717\n",
      "56                 11724\n",
      "57                 11727\n",
      "58                 11729\n",
      "59                 11734\n",
      "60                 11743\n",
      "61                 11748\n",
      "62                 11750\n",
      "63                 11750\n",
      "64                 11753\n",
      "65                 11757\n",
      "66                 11757\n",
      "67                 11761\n",
      "68                 11761\n",
      "69                 11764\n",
      "70                 11766\n",
      "71                 11767\n",
      "72                 11772\n",
      "73                 11772\n",
      "74                 11772\n",
      "75                 11772\n",
      "76                 11772\n",
      "77                 11772\n",
      "78                 11772\n",
      "79                 11772\n",
      "80                 11772\n",
      "81                 11774\n",
      "82                 11775\n",
      "83                 11775\n",
      "84                 11775\n",
      "85                 11776\n",
      "86                 11776\n",
      "87                 11776\n",
      "88                 11776\n",
      "89                 11776\n",
      "90                 11777\n",
      "91                 11778\n",
      "92                 11778\n",
      "93                 11778\n",
      "94                 11778\n",
      "95                 11778\n",
      "96                 11778\n",
      "97                 11778\n",
      "98                 11778\n",
      "99                 11779\n",
      "100                 11779\n",
      "101                 11779\n",
      "102                 11779\n",
      "103                 11779\n",
      "104                 11779\n",
      "105                 11779\n",
      "106                 11779\n",
      "107                 11779\n",
      "108                 11779\n",
      "109                 11779\n",
      "110                 11779\n",
      "111                 11779\n",
      "112                 11779\n",
      "113                 11779\n",
      "114                 11779\n",
      "115                 11779\n",
      "116                 11779\n",
      "117                 11779\n",
      "118                 11779\n",
      "119                 11779\n",
      "120                 11779\n",
      "121                 11779\n",
      "122                 11779\n",
      "123                 11779\n",
      "124                 11779\n",
      "125                 11779\n",
      "126                 11779\n",
      "127                 11779\n",
      "128                 11779\n",
      "129                 11779\n",
      "130                 11779\n",
      "131                 11779\n",
      "132                 11779\n",
      "133                 11779\n",
      "134                 11779\n",
      "135                 11779\n",
      "136                 11779\n",
      "137                 11779\n",
      "138                 11779\n",
      "139                 11779\n",
      "140                 11779\n",
      "141                 11779\n",
      "142                 11779\n",
      "143                 11779\n",
      "144                 11779\n",
      "145                 11779\n",
      "146                 11779\n",
      "147                 11779\n",
      "148                 11779\n",
      "149                 11779\n",
      "150                 11779\n",
      "151                 11779\n",
      "152                 11779\n",
      "153                 11779\n",
      "154                 11779\n",
      "155                 11779\n",
      "156                 11781\n",
      "157                 11781\n",
      "158                 11781\n",
      "159                 11781\n",
      "160                 11781\n",
      "161                 11781\n",
      "162                 11781\n",
      "163                 11781\n",
      "164                 11781\n",
      "165                 11781\n",
      "166                 11781\n",
      "167                 11781\n",
      "168                 11781\n",
      "169                 11781\n",
      "170                 11781\n",
      "171                 11781\n",
      "172                 11781\n",
      "173                 11781\n",
      "174                 11781\n",
      "175                 11781\n",
      "176                 11781\n",
      "177                 11781\n",
      "178                 11781\n",
      "179                 11781\n",
      "180                 11781\n",
      "181                 11781\n",
      "182                 11781\n",
      "183                 11781\n",
      "184                 11781\n",
      "185                 11781\n",
      "186                 11781\n",
      "187                 11781\n",
      "188                 11781\n",
      "189                 11781\n",
      "190                 11781\n",
      "191                 11781\n",
      "192                 11781\n",
      "193                 11781\n",
      "194                 11781\n",
      "195                 11781\n",
      "196                 11781\n",
      "197                 11781\n",
      "198                 11781\n",
      "199                 11782\n"
     ]
    }
   ],
   "source": [
    "print('Resolution Time - Diputed Count')\n",
    "for resolutionThreshold in range(200):\n",
    " quickResolved = allData[allData.ResolutionTime < resolutionThreshold]\n",
    " dispCount = quickResolved[quickResolved.Disputed=='Yes'].shape[0]\n",
    " if dispCount:\n",
    "    print(resolutionThreshold, \"               \", dispCount)\n",
    " #if dispCount == allData[allData.Disputed == 'Yes'].shape(0):\n",
    " #  print(\"All Disputed Grievences resolved in max of \", resolutionThreshold, \" days\")\n"
   ]
  },
  {
   "cell_type": "markdown",
   "metadata": {},
   "source": [
    "### Interesting:None of the Disputed Resolutions are closed under 22 days!!\n",
    "#### Why is this useful? Assuming 'Disputed' Transactions are more likely fall into unreasonable /unfair /or deceptive as conumer is contesting Bank's decision. \n",
    "\n",
    "While this presumption may not be entirely true, we can initially focus on the subset of disputed transactions alone.\n"
   ]
  },
  {
   "cell_type": "code",
   "execution_count": 432,
   "metadata": {
    "collapsed": true
   },
   "outputs": [],
   "source": [
    "disputedResolutions = allData[allData.ResolutionTime > 20]"
   ]
  },
  {
   "cell_type": "code",
   "execution_count": 433,
   "metadata": {},
   "outputs": [
    {
     "data": {
      "text/plain": [
       "(18305, 14)"
      ]
     },
     "execution_count": 433,
     "metadata": {},
     "output_type": "execute_result"
    }
   ],
   "source": [
    "disputedResolutions.shape"
   ]
  },
  {
   "cell_type": "code",
   "execution_count": 434,
   "metadata": {},
   "outputs": [
    {
     "data": {
      "text/plain": [
       "BankGrade\n",
       "deficient        5132\n",
       "outstanding      1078\n",
       "satisfactory    12095\n",
       "dtype: int64"
      ]
     },
     "execution_count": 434,
     "metadata": {},
     "output_type": "execute_result"
    }
   ],
   "source": [
    "disputedResolutions.groupby(disputedResolutions.BankGrade).size()"
   ]
  },
  {
   "cell_type": "code",
   "execution_count": 435,
   "metadata": {},
   "outputs": [
    {
     "data": {
      "text/plain": [
       "<matplotlib.axes._subplots.AxesSubplot at 0x10f2c5be0>"
      ]
     },
     "execution_count": 435,
     "metadata": {},
     "output_type": "execute_result"
    },
    {
     "data": {
      "image/png": "[encoded data removed]",
      "text/plain": [
       "<Figure size 432x288 with 1 Axes>"
      ]
     },
     "metadata": {},
     "output_type": "display_data"
    }
   ],
   "source": [
    "disputedResolutions.groupby(disputedResolutions.BankGrade).size().plot(kind='bar')"
   ]
  },
  {
   "cell_type": "code",
   "execution_count": 436,
   "metadata": {},
   "outputs": [
    {
     "data": {
      "text/plain": [
       "<matplotlib.axes._subplots.AxesSubplot at 0x10f2b4eb8>"
      ]
     },
     "execution_count": 436,
     "metadata": {},
     "output_type": "execute_result"
    },
    {
     "data": {
      "image/png": "[encoded data removed]",
      "text/plain": [
       "<Figure size 432x288 with 1 Axes>"
      ]
     },
     "metadata": {},
     "output_type": "display_data"
    }
   ],
   "source": [
    "disputedResolutions.groupby(disputedResolutions.ResolutionComments).size().plot(kind='bar')"
   ]
  },
  {
   "cell_type": "code",
   "execution_count": 437,
   "metadata": {
    "collapsed": true
   },
   "outputs": [],
   "source": [
    "prunedData = disputedResolutions"
   ]
  },
  {
   "cell_type": "markdown",
   "metadata": {},
   "source": [
    "#### There are many other things TBD to prune the data.. Few rows at a time"
   ]
  },
  {
   "cell_type": "markdown",
   "metadata": {},
   "source": [
    "#### Summary: We can further prune the data with different  querries so that we are left with pure gold mine of useful Disreputable Grievences!! This was just an attempt to show the possibilities"
   ]
  },
  {
   "cell_type": "markdown",
   "metadata": {},
   "source": [
    "## Part D Text mining on disputed subset"
   ]
  },
  {
   "cell_type": "markdown",
   "metadata": {},
   "source": [
    "#### Lets Start text analytics on  GrievanceDescription "
   ]
  },
  {
   "cell_type": "code",
   "execution_count": 438,
   "metadata": {},
   "outputs": [
    {
     "data": {
      "text/plain": [
       "(18305, 14)"
      ]
     },
     "execution_count": 438,
     "metadata": {},
     "output_type": "execute_result"
    }
   ],
   "source": [
    "prunedData.shape"
   ]
  },
  {
   "cell_type": "code",
   "execution_count": 439,
   "metadata": {},
   "outputs": [
    {
     "data": {
      "text/plain": [
       "Index(['GrievanceID', 'BankID', 'State', 'DateOfGrievance',\n",
       "       'Grievance_Category', 'GrievanceDescription', 'LineOfBusiness',\n",
       "       'ResolutionComments', 'Disputed', 'DateOfResolution', 'ResolutionTime',\n",
       "       'weekday', 'BankGrade', 'year'],\n",
       "      dtype='object')"
      ]
     },
     "execution_count": 439,
     "metadata": {},
     "output_type": "execute_result"
    }
   ],
   "source": [
    "prunedData.columns"
   ]
  },
  {
   "cell_type": "markdown",
   "metadata": {},
   "source": [
    "###  D.1 preprocess the text\n",
    "- lowercae convert\n",
    "- remove puntuation, stopwords, digits "
   ]
  },
  {
   "cell_type": "code",
   "execution_count": 54,
   "metadata": {
    "ExecuteTime": {
     "end_time": "2018-11-30T18:24:43.564074Z",
     "start_time": "2018-11-30T18:24:40.637355Z"
    },
    "collapsed": true
   },
   "outputs": [],
   "source": [
    "import gensim\n",
    "from gensim.utils import simple_preprocess\n",
    "from gensim.parsing.preprocessing import STOPWORDS\n",
    "from nltk.stem import WordNetLemmatizer, SnowballStemmer\n",
    "from nltk.stem.porter import *\n",
    "import numpy as np"
   ]
  },
  {
   "cell_type": "code",
   "execution_count": 55,
   "metadata": {
    "ExecuteTime": {
     "end_time": "2018-11-30T18:24:43.574041Z",
     "start_time": "2018-11-30T18:24:43.566966Z"
    },
    "collapsed": true
   },
   "outputs": [],
   "source": [
    "np.random.seed(9991)\n",
    "stemmer = PorterStemmer()\n",
    "def lemmatize_stemming(text):\n",
    "    \n",
    "    return stemmer.stem(WordNetLemmatizer().lemmatize(text, pos='v'))\n",
    "def preprocess(text):\n",
    "    text = bytes(\"Error {0}\".format(str(text)), encoding='utf-8')\n",
    "    result = []\n",
    "    for token in gensim.utils.simple_preprocess(text):\n",
    "        if token not in gensim.parsing.preprocessing.STOPWORDS and len(token) > 3:\n",
    "            result.append(lemmatize_stemming(token))\n",
    "    return result"
   ]
  },
  {
   "cell_type": "code",
   "execution_count": 56,
   "metadata": {
    "ExecuteTime": {
     "end_time": "2018-11-30T18:24:46.956755Z",
     "start_time": "2018-11-30T18:24:46.839015Z"
    }
   },
   "outputs": [
    {
     "ename": "NameError",
     "evalue": "name 'prunedData' is not defined",
     "output_type": "error",
     "traceback": [
      "\u001b[0;31m---------------------------------------------------------------------------\u001b[0m",
      "\u001b[0;31mNameError\u001b[0m                                 Traceback (most recent call last)",
      "\u001b[0;32m<ipython-input-56-78132462d685>\u001b[0m in \u001b[0;36m<module>\u001b[0;34m()\u001b[0m\n\u001b[1;32m      7\u001b[0m \u001b[0;34m\u001b[0m\u001b[0m\n\u001b[1;32m      8\u001b[0m \u001b[0mt0\u001b[0m \u001b[0;34m=\u001b[0m \u001b[0mtime\u001b[0m\u001b[0;34m.\u001b[0m\u001b[0mtime\u001b[0m\u001b[0;34m(\u001b[0m\u001b[0;34m)\u001b[0m\u001b[0;34m\u001b[0m\u001b[0m\n\u001b[0;32m----> 9\u001b[0;31m \u001b[0mprunedData\u001b[0m\u001b[0;34m[\u001b[0m\u001b[0;34m'cleanDescription'\u001b[0m\u001b[0;34m]\u001b[0m \u001b[0;34m=\u001b[0m \u001b[0mprunedData\u001b[0m\u001b[0;34m.\u001b[0m\u001b[0mGrievanceDescription\u001b[0m\u001b[0;34m.\u001b[0m\u001b[0mstr\u001b[0m\u001b[0;34m.\u001b[0m\u001b[0mlower\u001b[0m\u001b[0;34m(\u001b[0m\u001b[0;34m)\u001b[0m\u001b[0;34m\u001b[0m\u001b[0m\n\u001b[0m\u001b[1;32m     10\u001b[0m \u001b[0mt1\u001b[0m \u001b[0;34m=\u001b[0m \u001b[0mtime\u001b[0m\u001b[0;34m.\u001b[0m\u001b[0mtime\u001b[0m\u001b[0;34m(\u001b[0m\u001b[0;34m)\u001b[0m\u001b[0;34m\u001b[0m\u001b[0m\n\u001b[1;32m     11\u001b[0m \u001b[0mprint\u001b[0m\u001b[0;34m(\u001b[0m\u001b[0mt1\u001b[0m\u001b[0;34m-\u001b[0m\u001b[0mt0\u001b[0m\u001b[0;34m,\u001b[0m \u001b[0;34m\" seconds\"\u001b[0m\u001b[0;34m)\u001b[0m\u001b[0;34m\u001b[0m\u001b[0m\n",
      "\u001b[0;31mNameError\u001b[0m: name 'prunedData' is not defined"
     ]
    }
   ],
   "source": [
    "from nltk.corpus import stopwords\n",
    "stop=set(stopwords.words('english'))\n",
    "#print(len(stop))\n",
    "\n",
    "\n",
    "import time\n",
    "\n",
    "t0 = time.time()\n",
    "prunedData['cleanDescription'] = prunedData.GrievanceDescription.str.lower()\n",
    "t1 = time.time()\n",
    "print(t1-t0, \" seconds\")\n",
    "\n",
    "t0 = time.time()\n",
    "prunedData['cleanDescription'] = prunedData.cleanDescription.str.replace(r'[0-9x;\\.:,W+]+', '')\n",
    "\n",
    "t1 = time.time()\n",
    "print(t1-t0, \" seconds\")\n",
    "\n",
    "t0 = time.time()\n",
    "prunedData['cleanDescription'] = prunedData['cleanDescription'].apply(lambda x: ' '.join([word for word in x.split() if word not in (stop)]))\n",
    "t1 = time.time()\n",
    "print(t1-t0, \" seconds\")\n",
    "\n",
    "prunedData.cleanDescription"
   ]
  },
  {
   "cell_type": "code",
   "execution_count": 443,
   "metadata": {
    "collapsed": true
   },
   "outputs": [],
   "source": [
    "regulatoryWords = ['law', 'attorney', 'court', 'jurisdiction', 'enforcement']\n",
    "nagativeWords = ['cheat', 'false', 'excessive', 'unfair', 'unlawful', 'wrong']\n",
    "\n"
   ]
  },
  {
   "cell_type": "code",
   "execution_count": 444,
   "metadata": {},
   "outputs": [
    {
     "data": {
      "text/html": [
       "<div>\n",
       "<style scoped>\n",
       "    .dataframe tbody tr th:only-of-type {\n",
       "        vertical-align: middle;\n",
       "    }\n",
       "\n",
       "    .dataframe tbody tr th {\n",
       "        vertical-align: top;\n",
       "    }\n",
       "\n",
       "    .dataframe thead th {\n",
       "        text-align: right;\n",
       "    }\n",
       "</style>\n",
       "<table border=\"1\" class=\"dataframe\">\n",
       "  <thead>\n",
       "    <tr style=\"text-align: right;\">\n",
       "      <th></th>\n",
       "      <th>GrievanceID</th>\n",
       "      <th>BankID</th>\n",
       "      <th>State</th>\n",
       "      <th>DateOfGrievance</th>\n",
       "      <th>Grievance_Category</th>\n",
       "      <th>GrievanceDescription</th>\n",
       "      <th>LineOfBusiness</th>\n",
       "      <th>ResolutionComments</th>\n",
       "      <th>Disputed</th>\n",
       "      <th>DateOfResolution</th>\n",
       "      <th>ResolutionTime</th>\n",
       "      <th>weekday</th>\n",
       "      <th>BankGrade</th>\n",
       "      <th>year</th>\n",
       "      <th>cleanDescription</th>\n",
       "    </tr>\n",
       "  </thead>\n",
       "  <tbody>\n",
       "    <tr>\n",
       "      <th>8</th>\n",
       "      <td>GID348126</td>\n",
       "      <td>Bank5279</td>\n",
       "      <td>State43</td>\n",
       "      <td>2012-04-06</td>\n",
       "      <td>Loan servicing, payments, escrow account</td>\n",
       "      <td>My wife and I have had a home mortgage throug...</td>\n",
       "      <td>Mortgage</td>\n",
       "      <td>Closed with explanation</td>\n",
       "      <td>No</td>\n",
       "      <td>2012-04-27</td>\n",
       "      <td>21</td>\n",
       "      <td>FRIDAY</td>\n",
       "      <td>outstanding</td>\n",
       "      <td>2012</td>\n",
       "      <td>wife home mortgage last years notified us mort...</td>\n",
       "    </tr>\n",
       "    <tr>\n",
       "      <th>11</th>\n",
       "      <td>GID349588</td>\n",
       "      <td>Bank5279</td>\n",
       "      <td>State9</td>\n",
       "      <td>2012-04-16</td>\n",
       "      <td>Loan servicing, payments, escrow account</td>\n",
       "      <td>The servicing of my home mortgage was transfe...</td>\n",
       "      <td>Mortgage</td>\n",
       "      <td>Closed with explanation</td>\n",
       "      <td>Yes</td>\n",
       "      <td>2012-05-09</td>\n",
       "      <td>23</td>\n",
       "      <td>WEDNESDAY</td>\n",
       "      <td>outstanding</td>\n",
       "      <td>2012</td>\n",
       "      <td>servicing home mortgage transferred bank llc (...</td>\n",
       "    </tr>\n",
       "    <tr>\n",
       "      <th>13</th>\n",
       "      <td>GID350068</td>\n",
       "      <td>Bank5279</td>\n",
       "      <td>State26</td>\n",
       "      <td>2012-04-20</td>\n",
       "      <td>Loan modification,collection,foreclosure</td>\n",
       "      <td>In XXXX 2015, I spoke to Bank5279 mortgage to...</td>\n",
       "      <td>Mortgage</td>\n",
       "      <td>Closed with explanation</td>\n",
       "      <td>Yes</td>\n",
       "      <td>2012-05-12</td>\n",
       "      <td>22</td>\n",
       "      <td>SATURDAY</td>\n",
       "      <td>outstanding</td>\n",
       "      <td>2012</td>\n",
       "      <td>spoke bank mortgage arrange get current mortga...</td>\n",
       "    </tr>\n",
       "    <tr>\n",
       "      <th>14</th>\n",
       "      <td>GID350082</td>\n",
       "      <td>Bank5279</td>\n",
       "      <td>State9</td>\n",
       "      <td>2012-04-20</td>\n",
       "      <td>Loan servicing, payments, escrow account</td>\n",
       "      <td>My loan account was transferred to another mo...</td>\n",
       "      <td>Mortgage</td>\n",
       "      <td>Closed with explanation</td>\n",
       "      <td>Yes</td>\n",
       "      <td>2012-05-12</td>\n",
       "      <td>22</td>\n",
       "      <td>SATURDAY</td>\n",
       "      <td>outstanding</td>\n",
       "      <td>2012</td>\n",
       "      <td>loan account transferred another mortgage comp...</td>\n",
       "    </tr>\n",
       "    <tr>\n",
       "      <th>23</th>\n",
       "      <td>GID353284</td>\n",
       "      <td>Bank5279</td>\n",
       "      <td>State27</td>\n",
       "      <td>2012-05-11</td>\n",
       "      <td>Loan servicing, payments, escrow account</td>\n",
       "      <td>During my mortgage transfer, the gaining loan...</td>\n",
       "      <td>Mortgage</td>\n",
       "      <td>Closed with explanation</td>\n",
       "      <td>Yes</td>\n",
       "      <td>2012-06-02</td>\n",
       "      <td>22</td>\n",
       "      <td>SATURDAY</td>\n",
       "      <td>outstanding</td>\n",
       "      <td>2012</td>\n",
       "      <td>mortgage transfer gaining loan servicer poor c...</td>\n",
       "    </tr>\n",
       "    <tr>\n",
       "      <th>26</th>\n",
       "      <td>GID353626</td>\n",
       "      <td>Bank5279</td>\n",
       "      <td>State36</td>\n",
       "      <td>2012-05-13</td>\n",
       "      <td>Loan servicing, payments, escrow account</td>\n",
       "      <td>My mortgage was sold from XXXX XXXX XXXX XXXX...</td>\n",
       "      <td>Mortgage</td>\n",
       "      <td>Closed with explanation</td>\n",
       "      <td>Yes</td>\n",
       "      <td>2012-06-04</td>\n",
       "      <td>22</td>\n",
       "      <td>MONDAY</td>\n",
       "      <td>outstanding</td>\n",
       "      <td>2012</td>\n",
       "      <td>mortgage sold bank llc informed control compan...</td>\n",
       "    </tr>\n",
       "    <tr>\n",
       "      <th>36</th>\n",
       "      <td>GID355048</td>\n",
       "      <td>Bank5279</td>\n",
       "      <td>State16</td>\n",
       "      <td>2012-05-21</td>\n",
       "      <td>Credit decision / Underwriting</td>\n",
       "      <td>I had been working with Bank5279 company sinc...</td>\n",
       "      <td>Mortgage</td>\n",
       "      <td>Closed with explanation</td>\n",
       "      <td>Yes</td>\n",
       "      <td>2012-06-12</td>\n",
       "      <td>22</td>\n",
       "      <td>TUESDAY</td>\n",
       "      <td>outstanding</td>\n",
       "      <td>2012</td>\n",
       "      <td>working bank company since mortgage loan pre-a...</td>\n",
       "    </tr>\n",
       "    <tr>\n",
       "      <th>40</th>\n",
       "      <td>GID356168</td>\n",
       "      <td>Bank5279</td>\n",
       "      <td>State22</td>\n",
       "      <td>2012-05-29</td>\n",
       "      <td>Application, originator, mortgage broker</td>\n",
       "      <td>I applied for a refinance with cash out in XX...</td>\n",
       "      <td>Mortgage</td>\n",
       "      <td>Closed with explanation</td>\n",
       "      <td>No</td>\n",
       "      <td>2012-06-29</td>\n",
       "      <td>31</td>\n",
       "      <td>FRIDAY</td>\n",
       "      <td>outstanding</td>\n",
       "      <td>2012</td>\n",
       "      <td>applied refinance cash // rate locked loan und...</td>\n",
       "    </tr>\n",
       "    <tr>\n",
       "      <th>42</th>\n",
       "      <td>GID356608</td>\n",
       "      <td>Bank5279</td>\n",
       "      <td>State45</td>\n",
       "      <td>2012-06-02</td>\n",
       "      <td>Loan servicing, payments, escrow account</td>\n",
       "      <td>XXXX, 2015, I submitted a mortgage payment in...</td>\n",
       "      <td>Mortgage</td>\n",
       "      <td>Closed with explanation</td>\n",
       "      <td>Yes</td>\n",
       "      <td>2012-06-24</td>\n",
       "      <td>22</td>\n",
       "      <td>SUNDAY</td>\n",
       "      <td>outstanding</td>\n",
       "      <td>2012</td>\n",
       "      <td>submitted mortgage payment full amount owed {$...</td>\n",
       "    </tr>\n",
       "    <tr>\n",
       "      <th>43</th>\n",
       "      <td>GID356772</td>\n",
       "      <td>Bank5279</td>\n",
       "      <td>State45</td>\n",
       "      <td>2012-06-02</td>\n",
       "      <td>Loan servicing, payments, escrow account</td>\n",
       "      <td>XXXX, 2015, I submitted a mortgage payment in...</td>\n",
       "      <td>Mortgage</td>\n",
       "      <td>Closed with explanation</td>\n",
       "      <td>Yes</td>\n",
       "      <td>2012-06-24</td>\n",
       "      <td>22</td>\n",
       "      <td>SUNDAY</td>\n",
       "      <td>outstanding</td>\n",
       "      <td>2012</td>\n",
       "      <td>submitted mortgage payment full amount owed {$...</td>\n",
       "    </tr>\n",
       "    <tr>\n",
       "      <th>52</th>\n",
       "      <td>GID357776</td>\n",
       "      <td>Bank5279</td>\n",
       "      <td>State45</td>\n",
       "      <td>2012-06-09</td>\n",
       "      <td>Application, originator, mortgage broker</td>\n",
       "      <td>VA assumable mortgage. Deceased veteran ; sur...</td>\n",
       "      <td>Mortgage</td>\n",
       "      <td>Closed with explanation</td>\n",
       "      <td>No</td>\n",
       "      <td>2012-07-10</td>\n",
       "      <td>31</td>\n",
       "      <td>TUESDAY</td>\n",
       "      <td>outstanding</td>\n",
       "      <td>2012</td>\n",
       "      <td>va assumable mortgage deceased veteran survivi...</td>\n",
       "    </tr>\n",
       "    <tr>\n",
       "      <th>55</th>\n",
       "      <td>GID358160</td>\n",
       "      <td>Bank5279</td>\n",
       "      <td>State43</td>\n",
       "      <td>2012-06-11</td>\n",
       "      <td>Application, originator, mortgage broker</td>\n",
       "      <td>My closing date for my mortgage with Bank5279...</td>\n",
       "      <td>Mortgage</td>\n",
       "      <td>Closed with explanation</td>\n",
       "      <td>No</td>\n",
       "      <td>2012-07-12</td>\n",
       "      <td>31</td>\n",
       "      <td>THURSDAY</td>\n",
       "      <td>outstanding</td>\n",
       "      <td>2012</td>\n",
       "      <td>closing date mortgage bank bank told clear clo...</td>\n",
       "    </tr>\n",
       "    <tr>\n",
       "      <th>56</th>\n",
       "      <td>GID358218</td>\n",
       "      <td>Bank5279</td>\n",
       "      <td>State44</td>\n",
       "      <td>2012-06-11</td>\n",
       "      <td>Loan servicing, payments, escrow account</td>\n",
       "      <td>A few months ago, I noticed that my current m...</td>\n",
       "      <td>Mortgage</td>\n",
       "      <td>Closed with explanation</td>\n",
       "      <td>Yes</td>\n",
       "      <td>2012-07-08</td>\n",
       "      <td>27</td>\n",
       "      <td>SUNDAY</td>\n",
       "      <td>outstanding</td>\n",
       "      <td>2012</td>\n",
       "      <td>months ago noticed current mortgage company ba...</td>\n",
       "    </tr>\n",
       "    <tr>\n",
       "      <th>62</th>\n",
       "      <td>GID359109</td>\n",
       "      <td>Bank5279</td>\n",
       "      <td>State44</td>\n",
       "      <td>2012-06-17</td>\n",
       "      <td>Loan servicing, payments, escrow account</td>\n",
       "      <td>In XXXX 2015, XXXX XXXX XXXX sold my mortgage...</td>\n",
       "      <td>Mortgage</td>\n",
       "      <td>Closed with explanation</td>\n",
       "      <td>Yes</td>\n",
       "      <td>2012-07-09</td>\n",
       "      <td>22</td>\n",
       "      <td>MONDAY</td>\n",
       "      <td>outstanding</td>\n",
       "      <td>2012</td>\n",
       "      <td>sold mortgage bank loan left everything perfec...</td>\n",
       "    </tr>\n",
       "    <tr>\n",
       "      <th>72</th>\n",
       "      <td>GID360928</td>\n",
       "      <td>Bank5279</td>\n",
       "      <td>State53</td>\n",
       "      <td>2012-06-29</td>\n",
       "      <td>Loan servicing, payments, escrow account</td>\n",
       "      <td>Loan sold from XXXX XXXX XXXX to \" Bank5279. ...</td>\n",
       "      <td>Mortgage</td>\n",
       "      <td>Closed with explanation</td>\n",
       "      <td>Yes</td>\n",
       "      <td>2012-07-21</td>\n",
       "      <td>22</td>\n",
       "      <td>SATURDAY</td>\n",
       "      <td>outstanding</td>\n",
       "      <td>2012</td>\n",
       "      <td>loan sold \" bank '' within months sale escrow ...</td>\n",
       "    </tr>\n",
       "    <tr>\n",
       "      <th>74</th>\n",
       "      <td>GID361014</td>\n",
       "      <td>Bank5279</td>\n",
       "      <td>State53</td>\n",
       "      <td>2012-06-30</td>\n",
       "      <td>Loan servicing, payments, escrow account</td>\n",
       "      <td>My loan was sold to Bank5279 by XXXX XXXX XXX...</td>\n",
       "      <td>Mortgage</td>\n",
       "      <td>Closed with explanation</td>\n",
       "      <td>Yes</td>\n",
       "      <td>2012-07-22</td>\n",
       "      <td>22</td>\n",
       "      <td>SUNDAY</td>\n",
       "      <td>outstanding</td>\n",
       "      <td>2012</td>\n",
       "      <td>loan sold bank effective prior sale loan provi...</td>\n",
       "    </tr>\n",
       "    <tr>\n",
       "      <th>81</th>\n",
       "      <td>GID362175</td>\n",
       "      <td>Bank5279</td>\n",
       "      <td>State47</td>\n",
       "      <td>2012-07-08</td>\n",
       "      <td>Loan modification,collection,foreclosure</td>\n",
       "      <td>Hello my name is XXXX XXXX and im trying to o...</td>\n",
       "      <td>Mortgage</td>\n",
       "      <td>Closed with explanation</td>\n",
       "      <td>Yes</td>\n",
       "      <td>2012-07-30</td>\n",
       "      <td>22</td>\n",
       "      <td>MONDAY</td>\n",
       "      <td>outstanding</td>\n",
       "      <td>2012</td>\n",
       "      <td>hello name im trying obtain loan modification ...</td>\n",
       "    </tr>\n",
       "    <tr>\n",
       "      <th>83</th>\n",
       "      <td>GID362344</td>\n",
       "      <td>Bank5279</td>\n",
       "      <td>State9</td>\n",
       "      <td>2012-07-09</td>\n",
       "      <td>Application, originator, mortgage broker</td>\n",
       "      <td>I purchased a my home in XXXX, Arizona in XXX...</td>\n",
       "      <td>Mortgage</td>\n",
       "      <td>Closed with explanation</td>\n",
       "      <td>No</td>\n",
       "      <td>2012-08-09</td>\n",
       "      <td>31</td>\n",
       "      <td>THURSDAY</td>\n",
       "      <td>outstanding</td>\n",
       "      <td>2012</td>\n",
       "      <td>purchased home arizona making weekly payments ...</td>\n",
       "    </tr>\n",
       "    <tr>\n",
       "      <th>84</th>\n",
       "      <td>GID362484</td>\n",
       "      <td>Bank5279</td>\n",
       "      <td>State9</td>\n",
       "      <td>2012-07-09</td>\n",
       "      <td>Application, originator, mortgage broker</td>\n",
       "      <td>I purchased a my home in XXXX, Arizona in XXX...</td>\n",
       "      <td>Mortgage</td>\n",
       "      <td>Closed with explanation</td>\n",
       "      <td>No</td>\n",
       "      <td>2012-08-09</td>\n",
       "      <td>31</td>\n",
       "      <td>THURSDAY</td>\n",
       "      <td>outstanding</td>\n",
       "      <td>2012</td>\n",
       "      <td>purchased home arizona making weekly payments ...</td>\n",
       "    </tr>\n",
       "    <tr>\n",
       "      <th>89</th>\n",
       "      <td>GID363488</td>\n",
       "      <td>Bank5279</td>\n",
       "      <td>State47</td>\n",
       "      <td>2012-07-15</td>\n",
       "      <td>Loan servicing, payments, escrow account</td>\n",
       "      <td>Effective XXXX XXXX, 2015 my mortgage was sol...</td>\n",
       "      <td>Mortgage</td>\n",
       "      <td>Closed with explanation</td>\n",
       "      <td>Yes</td>\n",
       "      <td>2012-08-06</td>\n",
       "      <td>22</td>\n",
       "      <td>MONDAY</td>\n",
       "      <td>outstanding</td>\n",
       "      <td>2012</td>\n",
       "      <td>effective mortgage sold bank company stated le...</td>\n",
       "    </tr>\n",
       "    <tr>\n",
       "      <th>93</th>\n",
       "      <td>GID363989</td>\n",
       "      <td>Bank5279</td>\n",
       "      <td>State40</td>\n",
       "      <td>2012-07-18</td>\n",
       "      <td>Loan modification,collection,foreclosure</td>\n",
       "      <td>XXXX XXXX XXXX sold my loan to Bank5279 On XX...</td>\n",
       "      <td>Mortgage</td>\n",
       "      <td>Closed with explanation</td>\n",
       "      <td>Yes</td>\n",
       "      <td>2012-08-09</td>\n",
       "      <td>22</td>\n",
       "      <td>THURSDAY</td>\n",
       "      <td>outstanding</td>\n",
       "      <td>2012</td>\n",
       "      <td>sold loan bank // // receive information send ...</td>\n",
       "    </tr>\n",
       "    <tr>\n",
       "      <th>97</th>\n",
       "      <td>GID364607</td>\n",
       "      <td>Bank5279</td>\n",
       "      <td>State14</td>\n",
       "      <td>2012-07-22</td>\n",
       "      <td>Application, originator, mortgage broker</td>\n",
       "      <td>Dear RegulatoryDept, I am XXXX of the unfortu...</td>\n",
       "      <td>Mortgage</td>\n",
       "      <td>Closed with explanation</td>\n",
       "      <td>No</td>\n",
       "      <td>2012-08-22</td>\n",
       "      <td>31</td>\n",
       "      <td>WEDNESDAY</td>\n",
       "      <td>outstanding</td>\n",
       "      <td>2012</td>\n",
       "      <td>dear regulatorydept unfortunate individuals re...</td>\n",
       "    </tr>\n",
       "    <tr>\n",
       "      <th>105</th>\n",
       "      <td>GID366224</td>\n",
       "      <td>Bank5279</td>\n",
       "      <td>State16</td>\n",
       "      <td>2012-08-01</td>\n",
       "      <td>Loan modification,collection,foreclosure</td>\n",
       "      <td>In XXXX 2015 my husband and I requested a loa...</td>\n",
       "      <td>Mortgage</td>\n",
       "      <td>Closed with explanation</td>\n",
       "      <td>Yes</td>\n",
       "      <td>2012-08-29</td>\n",
       "      <td>28</td>\n",
       "      <td>WEDNESDAY</td>\n",
       "      <td>outstanding</td>\n",
       "      <td>2012</td>\n",
       "      <td>husband requested loan mortgage modification c...</td>\n",
       "    </tr>\n",
       "    <tr>\n",
       "      <th>108</th>\n",
       "      <td>GID367881</td>\n",
       "      <td>Bank5279</td>\n",
       "      <td>State47</td>\n",
       "      <td>2012-08-12</td>\n",
       "      <td>Application, originator, mortgage broker</td>\n",
       "      <td>Bank5279 released my social security number t...</td>\n",
       "      <td>Mortgage</td>\n",
       "      <td>Closed with explanation</td>\n",
       "      <td>Yes</td>\n",
       "      <td>2012-09-10</td>\n",
       "      <td>29</td>\n",
       "      <td>MONDAY</td>\n",
       "      <td>outstanding</td>\n",
       "      <td>2012</td>\n",
       "      <td>bank released social security number another c...</td>\n",
       "    </tr>\n",
       "    <tr>\n",
       "      <th>109</th>\n",
       "      <td>GID367962</td>\n",
       "      <td>Bank5279</td>\n",
       "      <td>State14</td>\n",
       "      <td>2012-08-12</td>\n",
       "      <td>Loan servicing, payments, escrow account</td>\n",
       "      <td>Bank5279 has \" lost '' {$700.00} of payments ...</td>\n",
       "      <td>Mortgage</td>\n",
       "      <td>Closed with explanation</td>\n",
       "      <td>Yes</td>\n",
       "      <td>2012-09-03</td>\n",
       "      <td>22</td>\n",
       "      <td>MONDAY</td>\n",
       "      <td>outstanding</td>\n",
       "      <td>2012</td>\n",
       "      <td>bank \" lost '' {$} payments paid towards mortg...</td>\n",
       "    </tr>\n",
       "    <tr>\n",
       "      <th>111</th>\n",
       "      <td>GID368100</td>\n",
       "      <td>Bank5279</td>\n",
       "      <td>State16</td>\n",
       "      <td>2012-08-13</td>\n",
       "      <td>Loan modification,collection,foreclosure</td>\n",
       "      <td>My husband was laid off of his job in XX/XX/X...</td>\n",
       "      <td>Mortgage</td>\n",
       "      <td>Closed with explanation</td>\n",
       "      <td>Yes</td>\n",
       "      <td>2012-09-04</td>\n",
       "      <td>22</td>\n",
       "      <td>TUESDAY</td>\n",
       "      <td>outstanding</td>\n",
       "      <td>2012</td>\n",
       "      <td>husband laid job // able maintain mortgage pay...</td>\n",
       "    </tr>\n",
       "    <tr>\n",
       "      <th>118</th>\n",
       "      <td>GID369426</td>\n",
       "      <td>Bank5279</td>\n",
       "      <td>State14</td>\n",
       "      <td>2012-08-21</td>\n",
       "      <td>Loan modification,collection,foreclosure</td>\n",
       "      <td>Like many Americans, I have been laid-off 4 t...</td>\n",
       "      <td>Mortgage</td>\n",
       "      <td>Closed with explanation</td>\n",
       "      <td>Yes</td>\n",
       "      <td>2012-09-21</td>\n",
       "      <td>31</td>\n",
       "      <td>FRIDAY</td>\n",
       "      <td>outstanding</td>\n",
       "      <td>2012</td>\n",
       "      <td>like many americans laid-off times last / year...</td>\n",
       "    </tr>\n",
       "    <tr>\n",
       "      <th>119</th>\n",
       "      <td>GID369543</td>\n",
       "      <td>Bank5279</td>\n",
       "      <td>State22</td>\n",
       "      <td>2012-08-22</td>\n",
       "      <td>Application, originator, mortgage broker</td>\n",
       "      <td>In XXXX 2015 I applied for a mortgage with Ba...</td>\n",
       "      <td>Mortgage</td>\n",
       "      <td>Closed with explanation</td>\n",
       "      <td>Yes</td>\n",
       "      <td>2012-09-13</td>\n",
       "      <td>22</td>\n",
       "      <td>THURSDAY</td>\n",
       "      <td>outstanding</td>\n",
       "      <td>2012</td>\n",
       "      <td>applied mortgage bank accepted offer house dea...</td>\n",
       "    </tr>\n",
       "    <tr>\n",
       "      <th>120</th>\n",
       "      <td>GID370123</td>\n",
       "      <td>Bank5279</td>\n",
       "      <td>State27</td>\n",
       "      <td>2012-08-26</td>\n",
       "      <td>Loan modification,collection,foreclosure</td>\n",
       "      <td>I lost my job in XXXX 2015, and I was unable ...</td>\n",
       "      <td>Mortgage</td>\n",
       "      <td>Closed with explanation</td>\n",
       "      <td>Yes</td>\n",
       "      <td>2012-09-17</td>\n",
       "      <td>22</td>\n",
       "      <td>MONDAY</td>\n",
       "      <td>outstanding</td>\n",
       "      <td>2012</td>\n",
       "      <td>lost job unable make mortgage payments ( month...</td>\n",
       "    </tr>\n",
       "    <tr>\n",
       "      <th>130</th>\n",
       "      <td>GID371677</td>\n",
       "      <td>Bank5279</td>\n",
       "      <td>State9</td>\n",
       "      <td>2012-09-05</td>\n",
       "      <td>Loan servicing, payments, escrow account</td>\n",
       "      <td>I did a refi/streamline on my home loan in XX...</td>\n",
       "      <td>Mortgage</td>\n",
       "      <td>Closed with explanation</td>\n",
       "      <td>Yes</td>\n",
       "      <td>2012-09-27</td>\n",
       "      <td>22</td>\n",
       "      <td>THURSDAY</td>\n",
       "      <td>outstanding</td>\n",
       "      <td>2012</td>\n",
       "      <td>refi/streamline home loan received payment cou...</td>\n",
       "    </tr>\n",
       "    <tr>\n",
       "      <th>...</th>\n",
       "      <td>...</td>\n",
       "      <td>...</td>\n",
       "      <td>...</td>\n",
       "      <td>...</td>\n",
       "      <td>...</td>\n",
       "      <td>...</td>\n",
       "      <td>...</td>\n",
       "      <td>...</td>\n",
       "      <td>...</td>\n",
       "      <td>...</td>\n",
       "      <td>...</td>\n",
       "      <td>...</td>\n",
       "      <td>...</td>\n",
       "      <td>...</td>\n",
       "      <td>...</td>\n",
       "    </tr>\n",
       "    <tr>\n",
       "      <th>53532</th>\n",
       "      <td>GID459836</td>\n",
       "      <td>Bank5239</td>\n",
       "      <td>State53</td>\n",
       "      <td>2014-02-03</td>\n",
       "      <td>Closing/Cancelling account</td>\n",
       "      <td>Comenity Bank approved a XXXX card for me on ...</td>\n",
       "      <td>Credit card</td>\n",
       "      <td>Closed with explanation</td>\n",
       "      <td>Yes</td>\n",
       "      <td>2014-02-25</td>\n",
       "      <td>22</td>\n",
       "      <td>TUESDAY</td>\n",
       "      <td>satisfactory</td>\n",
       "      <td>2014</td>\n",
       "      <td>comenity bank approved card // received credit...</td>\n",
       "    </tr>\n",
       "    <tr>\n",
       "      <th>53536</th>\n",
       "      <td>GID459880</td>\n",
       "      <td>Bank5239</td>\n",
       "      <td>State21</td>\n",
       "      <td>2014-02-04</td>\n",
       "      <td>Privacy</td>\n",
       "      <td>I recieved calls and messages from my XXXX br...</td>\n",
       "      <td>Credit card</td>\n",
       "      <td>Closed with explanation</td>\n",
       "      <td>No</td>\n",
       "      <td>2014-03-26</td>\n",
       "      <td>50</td>\n",
       "      <td>WEDNESDAY</td>\n",
       "      <td>satisfactory</td>\n",
       "      <td>2014</td>\n",
       "      <td>recieved calls messages brothers wives father ...</td>\n",
       "    </tr>\n",
       "    <tr>\n",
       "      <th>53537</th>\n",
       "      <td>GID459889</td>\n",
       "      <td>Bank5239</td>\n",
       "      <td>State42</td>\n",
       "      <td>2014-02-04</td>\n",
       "      <td>Late fee</td>\n",
       "      <td>Community bank holds my XXXX credit card. The...</td>\n",
       "      <td>Credit card</td>\n",
       "      <td>Closed with explanation</td>\n",
       "      <td>No</td>\n",
       "      <td>2014-02-25</td>\n",
       "      <td>21</td>\n",
       "      <td>TUESDAY</td>\n",
       "      <td>satisfactory</td>\n",
       "      <td>2014</td>\n",
       "      <td>community bank holds credit card repeatedly ma...</td>\n",
       "    </tr>\n",
       "    <tr>\n",
       "      <th>53539</th>\n",
       "      <td>GID459980</td>\n",
       "      <td>Bank5239</td>\n",
       "      <td>State21</td>\n",
       "      <td>2014-02-04</td>\n",
       "      <td>Privacy</td>\n",
       "      <td>I recieved calls and messages from my XXXX br...</td>\n",
       "      <td>Credit card</td>\n",
       "      <td>Closed with explanation</td>\n",
       "      <td>No</td>\n",
       "      <td>2014-03-26</td>\n",
       "      <td>50</td>\n",
       "      <td>WEDNESDAY</td>\n",
       "      <td>satisfactory</td>\n",
       "      <td>2014</td>\n",
       "      <td>recieved calls messages brothers wives father ...</td>\n",
       "    </tr>\n",
       "    <tr>\n",
       "      <th>53541</th>\n",
       "      <td>GID460066</td>\n",
       "      <td>Bank5239</td>\n",
       "      <td>State14</td>\n",
       "      <td>2014-02-05</td>\n",
       "      <td>Delinquent account</td>\n",
       "      <td>I make monthly payments to PayPal Credit. The...</td>\n",
       "      <td>Credit card</td>\n",
       "      <td>Closed with monetary relief</td>\n",
       "      <td>Yes</td>\n",
       "      <td>2014-02-27</td>\n",
       "      <td>22</td>\n",
       "      <td>THURSDAY</td>\n",
       "      <td>satisfactory</td>\n",
       "      <td>2014</td>\n",
       "      <td>make monthly payments paypal credit claim past...</td>\n",
       "    </tr>\n",
       "    <tr>\n",
       "      <th>53542</th>\n",
       "      <td>GID460132</td>\n",
       "      <td>Bank5239</td>\n",
       "      <td>State14</td>\n",
       "      <td>2014-02-05</td>\n",
       "      <td>Delinquent account</td>\n",
       "      <td>I make monthly payments to PayPal Credit. The...</td>\n",
       "      <td>Credit card</td>\n",
       "      <td>Closed with monetary relief</td>\n",
       "      <td>Yes</td>\n",
       "      <td>2014-02-27</td>\n",
       "      <td>22</td>\n",
       "      <td>THURSDAY</td>\n",
       "      <td>satisfactory</td>\n",
       "      <td>2014</td>\n",
       "      <td>make monthly payments paypal credit claim past...</td>\n",
       "    </tr>\n",
       "    <tr>\n",
       "      <th>53556</th>\n",
       "      <td>GID461112</td>\n",
       "      <td>Bank5239</td>\n",
       "      <td>State9</td>\n",
       "      <td>2014-02-09</td>\n",
       "      <td>APR or interest rate</td>\n",
       "      <td>We have a dentistry loan ; my husband needs m...</td>\n",
       "      <td>Credit card</td>\n",
       "      <td>Closed with explanation</td>\n",
       "      <td>No</td>\n",
       "      <td>2014-03-24</td>\n",
       "      <td>43</td>\n",
       "      <td>MONDAY</td>\n",
       "      <td>satisfactory</td>\n",
       "      <td>2014</td>\n",
       "      <td>dentistry loan husband needs massive dental wo...</td>\n",
       "    </tr>\n",
       "    <tr>\n",
       "      <th>53559</th>\n",
       "      <td>GID461320</td>\n",
       "      <td>Bank5239</td>\n",
       "      <td>State56</td>\n",
       "      <td>2014-02-10</td>\n",
       "      <td>Delinquent account</td>\n",
       "      <td>I failed to make my monthly payment with PayP...</td>\n",
       "      <td>Credit card</td>\n",
       "      <td>Closed with explanation</td>\n",
       "      <td>Yes</td>\n",
       "      <td>2014-03-04</td>\n",
       "      <td>22</td>\n",
       "      <td>TUESDAY</td>\n",
       "      <td>satisfactory</td>\n",
       "      <td>2014</td>\n",
       "      <td>failed make monthly payment paypal credit resu...</td>\n",
       "    </tr>\n",
       "    <tr>\n",
       "      <th>53563</th>\n",
       "      <td>GID461519</td>\n",
       "      <td>Bank5239</td>\n",
       "      <td>State53</td>\n",
       "      <td>2014-02-11</td>\n",
       "      <td>Managing the loan or lease</td>\n",
       "      <td>On XX/XX/XXXX I purchase some furnitures from...</td>\n",
       "      <td>Consumer Loan</td>\n",
       "      <td>Closed with monetary relief</td>\n",
       "      <td>Yes</td>\n",
       "      <td>2014-03-09</td>\n",
       "      <td>26</td>\n",
       "      <td>SUNDAY</td>\n",
       "      <td>satisfactory</td>\n",
       "      <td>2014</td>\n",
       "      <td>// purchase furnitures offering months cash fi...</td>\n",
       "    </tr>\n",
       "    <tr>\n",
       "      <th>53570</th>\n",
       "      <td>GID462313</td>\n",
       "      <td>Bank5239</td>\n",
       "      <td>State53</td>\n",
       "      <td>2014-02-15</td>\n",
       "      <td>Credit card protection / Debt protection</td>\n",
       "      <td>On XXXX XXXX, 2016, I lost my job for filing ...</td>\n",
       "      <td>Credit card</td>\n",
       "      <td>Closed with explanation</td>\n",
       "      <td>Yes</td>\n",
       "      <td>2014-03-09</td>\n",
       "      <td>22</td>\n",
       "      <td>SUNDAY</td>\n",
       "      <td>satisfactory</td>\n",
       "      <td>2014</td>\n",
       "      <td>lost job filing complaint discrimination notif...</td>\n",
       "    </tr>\n",
       "    <tr>\n",
       "      <th>53571</th>\n",
       "      <td>GID462366</td>\n",
       "      <td>Bank5239</td>\n",
       "      <td>State46</td>\n",
       "      <td>2014-02-15</td>\n",
       "      <td>Other</td>\n",
       "      <td>I obtained a credit card from XXXX, which is ...</td>\n",
       "      <td>Credit card</td>\n",
       "      <td>Closed with explanation</td>\n",
       "      <td>Yes</td>\n",
       "      <td>2014-03-09</td>\n",
       "      <td>22</td>\n",
       "      <td>SUNDAY</td>\n",
       "      <td>satisfactory</td>\n",
       "      <td>2014</td>\n",
       "      <td>obtained credit card provided comenity bank go...</td>\n",
       "    </tr>\n",
       "    <tr>\n",
       "      <th>53575</th>\n",
       "      <td>GID462939</td>\n",
       "      <td>Bank5239</td>\n",
       "      <td>State50</td>\n",
       "      <td>2014-02-17</td>\n",
       "      <td>Advertising and marketing</td>\n",
       "      <td>In XXXX I received a notice included in by bi...</td>\n",
       "      <td>Credit card</td>\n",
       "      <td>Closed with explanation</td>\n",
       "      <td>Yes</td>\n",
       "      <td>2014-03-11</td>\n",
       "      <td>22</td>\n",
       "      <td>TUESDAY</td>\n",
       "      <td>satisfactory</td>\n",
       "      <td>2014</td>\n",
       "      <td>received notice included bill purchase ecess {...</td>\n",
       "    </tr>\n",
       "    <tr>\n",
       "      <th>53578</th>\n",
       "      <td>GID463272</td>\n",
       "      <td>Bank5239</td>\n",
       "      <td>State53</td>\n",
       "      <td>2014-02-20</td>\n",
       "      <td>Late fee</td>\n",
       "      <td>I Paid my balance prior to receiving a statem...</td>\n",
       "      <td>Credit card</td>\n",
       "      <td>Closed with explanation</td>\n",
       "      <td>Yes</td>\n",
       "      <td>2014-03-14</td>\n",
       "      <td>22</td>\n",
       "      <td>FRIDAY</td>\n",
       "      <td>satisfactory</td>\n",
       "      <td>2014</td>\n",
       "      <td>paid balance prior receiving statement charged...</td>\n",
       "    </tr>\n",
       "    <tr>\n",
       "      <th>53579</th>\n",
       "      <td>GID463429</td>\n",
       "      <td>Bank5239</td>\n",
       "      <td>State43</td>\n",
       "      <td>2014-02-21</td>\n",
       "      <td>Balance transfer</td>\n",
       "      <td>I applied for a Commenity Bank/XXXXVISA balan...</td>\n",
       "      <td>Credit card</td>\n",
       "      <td>Closed with explanation</td>\n",
       "      <td>Yes</td>\n",
       "      <td>2014-03-21</td>\n",
       "      <td>28</td>\n",
       "      <td>FRIDAY</td>\n",
       "      <td>satisfactory</td>\n",
       "      <td>2014</td>\n",
       "      <td>applied commenity bank/visa balance transfer /...</td>\n",
       "    </tr>\n",
       "    <tr>\n",
       "      <th>53584</th>\n",
       "      <td>GID464250</td>\n",
       "      <td>Bank5239</td>\n",
       "      <td>State53</td>\n",
       "      <td>2014-02-24</td>\n",
       "      <td>Other</td>\n",
       "      <td>I received a copy of my XXXX consumer credit ...</td>\n",
       "      <td>Credit card</td>\n",
       "      <td>Closed with non-monetary relief</td>\n",
       "      <td>No</td>\n",
       "      <td>2014-04-15</td>\n",
       "      <td>50</td>\n",
       "      <td>TUESDAY</td>\n",
       "      <td>satisfactory</td>\n",
       "      <td>2014</td>\n",
       "      <td>received copy consumer credit file ( comenity ...</td>\n",
       "    </tr>\n",
       "    <tr>\n",
       "      <th>53587</th>\n",
       "      <td>GID465332</td>\n",
       "      <td>Bank5239</td>\n",
       "      <td>State32</td>\n",
       "      <td>2014-03-02</td>\n",
       "      <td>Credit line increase/decrease</td>\n",
       "      <td>I have requested a credit limit increase last...</td>\n",
       "      <td>Credit card</td>\n",
       "      <td>Closed with explanation</td>\n",
       "      <td>Yes</td>\n",
       "      <td>2014-03-24</td>\n",
       "      <td>22</td>\n",
       "      <td>MONDAY</td>\n",
       "      <td>satisfactory</td>\n",
       "      <td>2014</td>\n",
       "      <td>requested credit limit increase last month nev...</td>\n",
       "    </tr>\n",
       "    <tr>\n",
       "      <th>53588</th>\n",
       "      <td>GID465352</td>\n",
       "      <td>Bank5239</td>\n",
       "      <td>State39</td>\n",
       "      <td>2014-03-02</td>\n",
       "      <td>Identity theft / Fraud / Embezzlement</td>\n",
       "      <td>I applied for and was approved for a credit c...</td>\n",
       "      <td>Credit card</td>\n",
       "      <td>Closed with monetary relief</td>\n",
       "      <td>Yes</td>\n",
       "      <td>2014-03-24</td>\n",
       "      <td>22</td>\n",
       "      <td>MONDAY</td>\n",
       "      <td>satisfactory</td>\n",
       "      <td>2014</td>\n",
       "      <td>applied approved credit card ( commenity bank ...</td>\n",
       "    </tr>\n",
       "    <tr>\n",
       "      <th>53590</th>\n",
       "      <td>GID465530</td>\n",
       "      <td>Bank5239</td>\n",
       "      <td>State53</td>\n",
       "      <td>2014-03-03</td>\n",
       "      <td>Delinquent account</td>\n",
       "      <td>This company is using I guess a dialing syste...</td>\n",
       "      <td>Credit card</td>\n",
       "      <td>Closed with non-monetary relief</td>\n",
       "      <td>Yes</td>\n",
       "      <td>2014-03-30</td>\n",
       "      <td>27</td>\n",
       "      <td>SUNDAY</td>\n",
       "      <td>satisfactory</td>\n",
       "      <td>2014</td>\n",
       "      <td>company using guess dialing system calling dif...</td>\n",
       "    </tr>\n",
       "    <tr>\n",
       "      <th>53592</th>\n",
       "      <td>GID465649</td>\n",
       "      <td>Bank5239</td>\n",
       "      <td>State9</td>\n",
       "      <td>2014-03-04</td>\n",
       "      <td>Balance transfer</td>\n",
       "      <td>On XXXX last year, I had requested for balanc...</td>\n",
       "      <td>Credit card</td>\n",
       "      <td>Closed with monetary relief</td>\n",
       "      <td>Yes</td>\n",
       "      <td>2014-03-30</td>\n",
       "      <td>26</td>\n",
       "      <td>SUNDAY</td>\n",
       "      <td>satisfactory</td>\n",
       "      <td>2014</td>\n",
       "      <td>last year requested balance transfer {$} cards...</td>\n",
       "    </tr>\n",
       "    <tr>\n",
       "      <th>53607</th>\n",
       "      <td>GID467318</td>\n",
       "      <td>Bank5239</td>\n",
       "      <td>State23</td>\n",
       "      <td>2014-03-13</td>\n",
       "      <td>Other</td>\n",
       "      <td>I have been attempting to use the hardship pr...</td>\n",
       "      <td>Credit card</td>\n",
       "      <td>Closed with monetary relief</td>\n",
       "      <td>Yes</td>\n",
       "      <td>2014-04-04</td>\n",
       "      <td>22</td>\n",
       "      <td>FRIDAY</td>\n",
       "      <td>satisfactory</td>\n",
       "      <td>2014</td>\n",
       "      <td>attempting use hardship program community bank...</td>\n",
       "    </tr>\n",
       "    <tr>\n",
       "      <th>53608</th>\n",
       "      <td>GID467338</td>\n",
       "      <td>Bank5239</td>\n",
       "      <td>State31</td>\n",
       "      <td>2014-03-13</td>\n",
       "      <td>Taking out the loan or lease</td>\n",
       "      <td>This is a complaint against EBAY and PAYPAL (...</td>\n",
       "      <td>Consumer Loan</td>\n",
       "      <td>Closed with explanation</td>\n",
       "      <td>Yes</td>\n",
       "      <td>2014-04-16</td>\n",
       "      <td>34</td>\n",
       "      <td>WEDNESDAY</td>\n",
       "      <td>satisfactory</td>\n",
       "      <td>2014</td>\n",
       "      <td>complaint ebay paypal ( addressed paypal anoth...</td>\n",
       "    </tr>\n",
       "    <tr>\n",
       "      <th>53611</th>\n",
       "      <td>GID467568</td>\n",
       "      <td>Bank5239</td>\n",
       "      <td>State27</td>\n",
       "      <td>2014-03-14</td>\n",
       "      <td>Identity theft / Fraud / Embezzlement</td>\n",
       "      <td>In XXXX 2017, my identity was stolen, and use...</td>\n",
       "      <td>Credit card</td>\n",
       "      <td>Closed with non-monetary relief</td>\n",
       "      <td>No</td>\n",
       "      <td>2014-04-30</td>\n",
       "      <td>47</td>\n",
       "      <td>WEDNESDAY</td>\n",
       "      <td>satisfactory</td>\n",
       "      <td>2014</td>\n",
       "      <td>identity stolen used open series fraudulent cr...</td>\n",
       "    </tr>\n",
       "    <tr>\n",
       "      <th>53626</th>\n",
       "      <td>GID469279</td>\n",
       "      <td>Bank5239</td>\n",
       "      <td>State22</td>\n",
       "      <td>2014-03-22</td>\n",
       "      <td>Balance transfer</td>\n",
       "      <td>Adding documentation regarding the Bad Faith ...</td>\n",
       "      <td>Credit card</td>\n",
       "      <td>Closed with explanation</td>\n",
       "      <td>Yes</td>\n",
       "      <td>2014-04-13</td>\n",
       "      <td>22</td>\n",
       "      <td>SUNDAY</td>\n",
       "      <td>satisfactory</td>\n",
       "      <td>2014</td>\n",
       "      <td>adding documentation regarding bad faith claim...</td>\n",
       "    </tr>\n",
       "    <tr>\n",
       "      <th>53630</th>\n",
       "      <td>GID469769</td>\n",
       "      <td>Bank5239</td>\n",
       "      <td>State14</td>\n",
       "      <td>2014-03-24</td>\n",
       "      <td>Billing disputes</td>\n",
       "      <td>Comenity Capital Bank in XXXX Ohio had closed...</td>\n",
       "      <td>Credit card</td>\n",
       "      <td>Closed with monetary relief</td>\n",
       "      <td>Yes</td>\n",
       "      <td>2014-04-15</td>\n",
       "      <td>22</td>\n",
       "      <td>TUESDAY</td>\n",
       "      <td>satisfactory</td>\n",
       "      <td>2014</td>\n",
       "      <td>comenity capital bank ohio closed account long...</td>\n",
       "    </tr>\n",
       "    <tr>\n",
       "      <th>53632</th>\n",
       "      <td>GID469940</td>\n",
       "      <td>Bank5239</td>\n",
       "      <td>State22</td>\n",
       "      <td>2014-03-25</td>\n",
       "      <td>Billing disputes</td>\n",
       "      <td>Got a bill for a credit card I never received...</td>\n",
       "      <td>Credit card</td>\n",
       "      <td>Closed with explanation</td>\n",
       "      <td>Yes</td>\n",
       "      <td>2014-04-16</td>\n",
       "      <td>22</td>\n",
       "      <td>WEDNESDAY</td>\n",
       "      <td>satisfactory</td>\n",
       "      <td>2014</td>\n",
       "      <td>got bill credit card never received bill years...</td>\n",
       "    </tr>\n",
       "    <tr>\n",
       "      <th>53637</th>\n",
       "      <td>GID470845</td>\n",
       "      <td>Bank5239</td>\n",
       "      <td>State26</td>\n",
       "      <td>2014-03-30</td>\n",
       "      <td>Transaction issue</td>\n",
       "      <td>This is in regard to Comenity Capital Bank of...</td>\n",
       "      <td>Credit card</td>\n",
       "      <td>Closed with explanation</td>\n",
       "      <td>Yes</td>\n",
       "      <td>2014-04-21</td>\n",
       "      <td>22</td>\n",
       "      <td>MONDAY</td>\n",
       "      <td>satisfactory</td>\n",
       "      <td>2014</td>\n",
       "      <td>regard comenity capital bank md dba paypal cre...</td>\n",
       "    </tr>\n",
       "    <tr>\n",
       "      <th>53640</th>\n",
       "      <td>GID471017</td>\n",
       "      <td>Bank5239</td>\n",
       "      <td>State40</td>\n",
       "      <td>2014-03-31</td>\n",
       "      <td>Identity theft / Fraud / Embezzlement</td>\n",
       "      <td>I just checked my Victoria 's Secret credit c...</td>\n",
       "      <td>Credit card</td>\n",
       "      <td>Closed with monetary relief</td>\n",
       "      <td>No</td>\n",
       "      <td>2014-05-20</td>\n",
       "      <td>50</td>\n",
       "      <td>TUESDAY</td>\n",
       "      <td>satisfactory</td>\n",
       "      <td>2014</td>\n",
       "      <td>checked victoria 's secret credit card stateme...</td>\n",
       "    </tr>\n",
       "    <tr>\n",
       "      <th>53643</th>\n",
       "      <td>GID471188</td>\n",
       "      <td>Bank5239</td>\n",
       "      <td>State40</td>\n",
       "      <td>2014-03-31</td>\n",
       "      <td>Identity theft / Fraud / Embezzlement</td>\n",
       "      <td>I just checked my Victoria 's Secret credit c...</td>\n",
       "      <td>Credit card</td>\n",
       "      <td>Closed with monetary relief</td>\n",
       "      <td>No</td>\n",
       "      <td>2014-05-20</td>\n",
       "      <td>50</td>\n",
       "      <td>TUESDAY</td>\n",
       "      <td>satisfactory</td>\n",
       "      <td>2014</td>\n",
       "      <td>checked victoria 's secret credit card stateme...</td>\n",
       "    </tr>\n",
       "    <tr>\n",
       "      <th>53651</th>\n",
       "      <td>GID472161</td>\n",
       "      <td>Bank5239</td>\n",
       "      <td>State36</td>\n",
       "      <td>2014-04-06</td>\n",
       "      <td>APR or interest rate</td>\n",
       "      <td>XXXX has triple charged me with interest with...</td>\n",
       "      <td>Credit card</td>\n",
       "      <td>Closed with explanation</td>\n",
       "      <td>Yes</td>\n",
       "      <td>2014-04-28</td>\n",
       "      <td>22</td>\n",
       "      <td>MONDAY</td>\n",
       "      <td>satisfactory</td>\n",
       "      <td>2014</td>\n",
       "      <td>triple charged interest within days eplanation...</td>\n",
       "    </tr>\n",
       "    <tr>\n",
       "      <th>53661</th>\n",
       "      <td>GID473165</td>\n",
       "      <td>Bank5239</td>\n",
       "      <td>State9</td>\n",
       "      <td>2014-04-12</td>\n",
       "      <td>Identity theft / Fraud / Embezzlement</td>\n",
       "      <td>XX/XX/XXXX someone tried to open a XXXX accou...</td>\n",
       "      <td>Credit card</td>\n",
       "      <td>Closed with explanation</td>\n",
       "      <td>No</td>\n",
       "      <td>2014-05-29</td>\n",
       "      <td>47</td>\n",
       "      <td>THURSDAY</td>\n",
       "      <td>satisfactory</td>\n",
       "      <td>2014</td>\n",
       "      <td>// someone tried open account using name fact ...</td>\n",
       "    </tr>\n",
       "  </tbody>\n",
       "</table>\n",
       "<p>18305 rows × 15 columns</p>\n",
       "</div>"
      ],
      "text/plain": [
       "      GrievanceID    BankID    State DateOfGrievance  \\\n",
       "8       GID348126  Bank5279  State43      2012-04-06   \n",
       "11      GID349588  Bank5279   State9      2012-04-16   \n",
       "13      GID350068  Bank5279  State26      2012-04-20   \n",
       "14      GID350082  Bank5279   State9      2012-04-20   \n",
       "23      GID353284  Bank5279  State27      2012-05-11   \n",
       "26      GID353626  Bank5279  State36      2012-05-13   \n",
       "36      GID355048  Bank5279  State16      2012-05-21   \n",
       "40      GID356168  Bank5279  State22      2012-05-29   \n",
       "42      GID356608  Bank5279  State45      2012-06-02   \n",
       "43      GID356772  Bank5279  State45      2012-06-02   \n",
       "52      GID357776  Bank5279  State45      2012-06-09   \n",
       "55      GID358160  Bank5279  State43      2012-06-11   \n",
       "56      GID358218  Bank5279  State44      2012-06-11   \n",
       "62      GID359109  Bank5279  State44      2012-06-17   \n",
       "72      GID360928  Bank5279  State53      2012-06-29   \n",
       "74      GID361014  Bank5279  State53      2012-06-30   \n",
       "81      GID362175  Bank5279  State47      2012-07-08   \n",
       "83      GID362344  Bank5279   State9      2012-07-09   \n",
       "84      GID362484  Bank5279   State9      2012-07-09   \n",
       "89      GID363488  Bank5279  State47      2012-07-15   \n",
       "93      GID363989  Bank5279  State40      2012-07-18   \n",
       "97      GID364607  Bank5279  State14      2012-07-22   \n",
       "105     GID366224  Bank5279  State16      2012-08-01   \n",
       "108     GID367881  Bank5279  State47      2012-08-12   \n",
       "109     GID367962  Bank5279  State14      2012-08-12   \n",
       "111     GID368100  Bank5279  State16      2012-08-13   \n",
       "118     GID369426  Bank5279  State14      2012-08-21   \n",
       "119     GID369543  Bank5279  State22      2012-08-22   \n",
       "120     GID370123  Bank5279  State27      2012-08-26   \n",
       "130     GID371677  Bank5279   State9      2012-09-05   \n",
       "...           ...       ...      ...             ...   \n",
       "53532   GID459836  Bank5239  State53      2014-02-03   \n",
       "53536   GID459880  Bank5239  State21      2014-02-04   \n",
       "53537   GID459889  Bank5239  State42      2014-02-04   \n",
       "53539   GID459980  Bank5239  State21      2014-02-04   \n",
       "53541   GID460066  Bank5239  State14      2014-02-05   \n",
       "53542   GID460132  Bank5239  State14      2014-02-05   \n",
       "53556   GID461112  Bank5239   State9      2014-02-09   \n",
       "53559   GID461320  Bank5239  State56      2014-02-10   \n",
       "53563   GID461519  Bank5239  State53      2014-02-11   \n",
       "53570   GID462313  Bank5239  State53      2014-02-15   \n",
       "53571   GID462366  Bank5239  State46      2014-02-15   \n",
       "53575   GID462939  Bank5239  State50      2014-02-17   \n",
       "53578   GID463272  Bank5239  State53      2014-02-20   \n",
       "53579   GID463429  Bank5239  State43      2014-02-21   \n",
       "53584   GID464250  Bank5239  State53      2014-02-24   \n",
       "53587   GID465332  Bank5239  State32      2014-03-02   \n",
       "53588   GID465352  Bank5239  State39      2014-03-02   \n",
       "53590   GID465530  Bank5239  State53      2014-03-03   \n",
       "53592   GID465649  Bank5239   State9      2014-03-04   \n",
       "53607   GID467318  Bank5239  State23      2014-03-13   \n",
       "53608   GID467338  Bank5239  State31      2014-03-13   \n",
       "53611   GID467568  Bank5239  State27      2014-03-14   \n",
       "53626   GID469279  Bank5239  State22      2014-03-22   \n",
       "53630   GID469769  Bank5239  State14      2014-03-24   \n",
       "53632   GID469940  Bank5239  State22      2014-03-25   \n",
       "53637   GID470845  Bank5239  State26      2014-03-30   \n",
       "53640   GID471017  Bank5239  State40      2014-03-31   \n",
       "53643   GID471188  Bank5239  State40      2014-03-31   \n",
       "53651   GID472161  Bank5239  State36      2014-04-06   \n",
       "53661   GID473165  Bank5239   State9      2014-04-12   \n",
       "\n",
       "                             Grievance_Category  \\\n",
       "8      Loan servicing, payments, escrow account   \n",
       "11     Loan servicing, payments, escrow account   \n",
       "13     Loan modification,collection,foreclosure   \n",
       "14     Loan servicing, payments, escrow account   \n",
       "23     Loan servicing, payments, escrow account   \n",
       "26     Loan servicing, payments, escrow account   \n",
       "36               Credit decision / Underwriting   \n",
       "40     Application, originator, mortgage broker   \n",
       "42     Loan servicing, payments, escrow account   \n",
       "43     Loan servicing, payments, escrow account   \n",
       "52     Application, originator, mortgage broker   \n",
       "55     Application, originator, mortgage broker   \n",
       "56     Loan servicing, payments, escrow account   \n",
       "62     Loan servicing, payments, escrow account   \n",
       "72     Loan servicing, payments, escrow account   \n",
       "74     Loan servicing, payments, escrow account   \n",
       "81     Loan modification,collection,foreclosure   \n",
       "83     Application, originator, mortgage broker   \n",
       "84     Application, originator, mortgage broker   \n",
       "89     Loan servicing, payments, escrow account   \n",
       "93     Loan modification,collection,foreclosure   \n",
       "97     Application, originator, mortgage broker   \n",
       "105    Loan modification,collection,foreclosure   \n",
       "108    Application, originator, mortgage broker   \n",
       "109    Loan servicing, payments, escrow account   \n",
       "111    Loan modification,collection,foreclosure   \n",
       "118    Loan modification,collection,foreclosure   \n",
       "119    Application, originator, mortgage broker   \n",
       "120    Loan modification,collection,foreclosure   \n",
       "130    Loan servicing, payments, escrow account   \n",
       "...                                         ...   \n",
       "53532                Closing/Cancelling account   \n",
       "53536                                   Privacy   \n",
       "53537                                  Late fee   \n",
       "53539                                   Privacy   \n",
       "53541                        Delinquent account   \n",
       "53542                        Delinquent account   \n",
       "53556                      APR or interest rate   \n",
       "53559                        Delinquent account   \n",
       "53563                Managing the loan or lease   \n",
       "53570  Credit card protection / Debt protection   \n",
       "53571                                     Other   \n",
       "53575                 Advertising and marketing   \n",
       "53578                                  Late fee   \n",
       "53579                          Balance transfer   \n",
       "53584                                     Other   \n",
       "53587             Credit line increase/decrease   \n",
       "53588     Identity theft / Fraud / Embezzlement   \n",
       "53590                        Delinquent account   \n",
       "53592                          Balance transfer   \n",
       "53607                                     Other   \n",
       "53608              Taking out the loan or lease   \n",
       "53611     Identity theft / Fraud / Embezzlement   \n",
       "53626                          Balance transfer   \n",
       "53630                          Billing disputes   \n",
       "53632                          Billing disputes   \n",
       "53637                         Transaction issue   \n",
       "53640     Identity theft / Fraud / Embezzlement   \n",
       "53643     Identity theft / Fraud / Embezzlement   \n",
       "53651                      APR or interest rate   \n",
       "53661     Identity theft / Fraud / Embezzlement   \n",
       "\n",
       "                                    GrievanceDescription LineOfBusiness  \\\n",
       "8       My wife and I have had a home mortgage throug...       Mortgage   \n",
       "11      The servicing of my home mortgage was transfe...       Mortgage   \n",
       "13      In XXXX 2015, I spoke to Bank5279 mortgage to...       Mortgage   \n",
       "14      My loan account was transferred to another mo...       Mortgage   \n",
       "23      During my mortgage transfer, the gaining loan...       Mortgage   \n",
       "26      My mortgage was sold from XXXX XXXX XXXX XXXX...       Mortgage   \n",
       "36      I had been working with Bank5279 company sinc...       Mortgage   \n",
       "40      I applied for a refinance with cash out in XX...       Mortgage   \n",
       "42      XXXX, 2015, I submitted a mortgage payment in...       Mortgage   \n",
       "43      XXXX, 2015, I submitted a mortgage payment in...       Mortgage   \n",
       "52      VA assumable mortgage. Deceased veteran ; sur...       Mortgage   \n",
       "55      My closing date for my mortgage with Bank5279...       Mortgage   \n",
       "56      A few months ago, I noticed that my current m...       Mortgage   \n",
       "62      In XXXX 2015, XXXX XXXX XXXX sold my mortgage...       Mortgage   \n",
       "72      Loan sold from XXXX XXXX XXXX to \" Bank5279. ...       Mortgage   \n",
       "74      My loan was sold to Bank5279 by XXXX XXXX XXX...       Mortgage   \n",
       "81      Hello my name is XXXX XXXX and im trying to o...       Mortgage   \n",
       "83      I purchased a my home in XXXX, Arizona in XXX...       Mortgage   \n",
       "84      I purchased a my home in XXXX, Arizona in XXX...       Mortgage   \n",
       "89      Effective XXXX XXXX, 2015 my mortgage was sol...       Mortgage   \n",
       "93      XXXX XXXX XXXX sold my loan to Bank5279 On XX...       Mortgage   \n",
       "97      Dear RegulatoryDept, I am XXXX of the unfortu...       Mortgage   \n",
       "105     In XXXX 2015 my husband and I requested a loa...       Mortgage   \n",
       "108     Bank5279 released my social security number t...       Mortgage   \n",
       "109     Bank5279 has \" lost '' {$700.00} of payments ...       Mortgage   \n",
       "111     My husband was laid off of his job in XX/XX/X...       Mortgage   \n",
       "118     Like many Americans, I have been laid-off 4 t...       Mortgage   \n",
       "119     In XXXX 2015 I applied for a mortgage with Ba...       Mortgage   \n",
       "120     I lost my job in XXXX 2015, and I was unable ...       Mortgage   \n",
       "130     I did a refi/streamline on my home loan in XX...       Mortgage   \n",
       "...                                                  ...            ...   \n",
       "53532   Comenity Bank approved a XXXX card for me on ...    Credit card   \n",
       "53536   I recieved calls and messages from my XXXX br...    Credit card   \n",
       "53537   Community bank holds my XXXX credit card. The...    Credit card   \n",
       "53539   I recieved calls and messages from my XXXX br...    Credit card   \n",
       "53541   I make monthly payments to PayPal Credit. The...    Credit card   \n",
       "53542   I make monthly payments to PayPal Credit. The...    Credit card   \n",
       "53556   We have a dentistry loan ; my husband needs m...    Credit card   \n",
       "53559   I failed to make my monthly payment with PayP...    Credit card   \n",
       "53563   On XX/XX/XXXX I purchase some furnitures from...  Consumer Loan   \n",
       "53570   On XXXX XXXX, 2016, I lost my job for filing ...    Credit card   \n",
       "53571   I obtained a credit card from XXXX, which is ...    Credit card   \n",
       "53575   In XXXX I received a notice included in by bi...    Credit card   \n",
       "53578   I Paid my balance prior to receiving a statem...    Credit card   \n",
       "53579   I applied for a Commenity Bank/XXXXVISA balan...    Credit card   \n",
       "53584   I received a copy of my XXXX consumer credit ...    Credit card   \n",
       "53587   I have requested a credit limit increase last...    Credit card   \n",
       "53588   I applied for and was approved for a credit c...    Credit card   \n",
       "53590   This company is using I guess a dialing syste...    Credit card   \n",
       "53592   On XXXX last year, I had requested for balanc...    Credit card   \n",
       "53607   I have been attempting to use the hardship pr...    Credit card   \n",
       "53608   This is a complaint against EBAY and PAYPAL (...  Consumer Loan   \n",
       "53611   In XXXX 2017, my identity was stolen, and use...    Credit card   \n",
       "53626   Adding documentation regarding the Bad Faith ...    Credit card   \n",
       "53630   Comenity Capital Bank in XXXX Ohio had closed...    Credit card   \n",
       "53632   Got a bill for a credit card I never received...    Credit card   \n",
       "53637   This is in regard to Comenity Capital Bank of...    Credit card   \n",
       "53640   I just checked my Victoria 's Secret credit c...    Credit card   \n",
       "53643   I just checked my Victoria 's Secret credit c...    Credit card   \n",
       "53651   XXXX has triple charged me with interest with...    Credit card   \n",
       "53661   XX/XX/XXXX someone tried to open a XXXX accou...    Credit card   \n",
       "\n",
       "                    ResolutionComments Disputed DateOfResolution  \\\n",
       "8              Closed with explanation       No       2012-04-27   \n",
       "11             Closed with explanation      Yes       2012-05-09   \n",
       "13             Closed with explanation      Yes       2012-05-12   \n",
       "14             Closed with explanation      Yes       2012-05-12   \n",
       "23             Closed with explanation      Yes       2012-06-02   \n",
       "26             Closed with explanation      Yes       2012-06-04   \n",
       "36             Closed with explanation      Yes       2012-06-12   \n",
       "40             Closed with explanation       No       2012-06-29   \n",
       "42             Closed with explanation      Yes       2012-06-24   \n",
       "43             Closed with explanation      Yes       2012-06-24   \n",
       "52             Closed with explanation       No       2012-07-10   \n",
       "55             Closed with explanation       No       2012-07-12   \n",
       "56             Closed with explanation      Yes       2012-07-08   \n",
       "62             Closed with explanation      Yes       2012-07-09   \n",
       "72             Closed with explanation      Yes       2012-07-21   \n",
       "74             Closed with explanation      Yes       2012-07-22   \n",
       "81             Closed with explanation      Yes       2012-07-30   \n",
       "83             Closed with explanation       No       2012-08-09   \n",
       "84             Closed with explanation       No       2012-08-09   \n",
       "89             Closed with explanation      Yes       2012-08-06   \n",
       "93             Closed with explanation      Yes       2012-08-09   \n",
       "97             Closed with explanation       No       2012-08-22   \n",
       "105            Closed with explanation      Yes       2012-08-29   \n",
       "108            Closed with explanation      Yes       2012-09-10   \n",
       "109            Closed with explanation      Yes       2012-09-03   \n",
       "111            Closed with explanation      Yes       2012-09-04   \n",
       "118            Closed with explanation      Yes       2012-09-21   \n",
       "119            Closed with explanation      Yes       2012-09-13   \n",
       "120            Closed with explanation      Yes       2012-09-17   \n",
       "130            Closed with explanation      Yes       2012-09-27   \n",
       "...                                ...      ...              ...   \n",
       "53532          Closed with explanation      Yes       2014-02-25   \n",
       "53536          Closed with explanation       No       2014-03-26   \n",
       "53537          Closed with explanation       No       2014-02-25   \n",
       "53539          Closed with explanation       No       2014-03-26   \n",
       "53541      Closed with monetary relief      Yes       2014-02-27   \n",
       "53542      Closed with monetary relief      Yes       2014-02-27   \n",
       "53556          Closed with explanation       No       2014-03-24   \n",
       "53559          Closed with explanation      Yes       2014-03-04   \n",
       "53563      Closed with monetary relief      Yes       2014-03-09   \n",
       "53570          Closed with explanation      Yes       2014-03-09   \n",
       "53571          Closed with explanation      Yes       2014-03-09   \n",
       "53575          Closed with explanation      Yes       2014-03-11   \n",
       "53578          Closed with explanation      Yes       2014-03-14   \n",
       "53579          Closed with explanation      Yes       2014-03-21   \n",
       "53584  Closed with non-monetary relief       No       2014-04-15   \n",
       "53587          Closed with explanation      Yes       2014-03-24   \n",
       "53588      Closed with monetary relief      Yes       2014-03-24   \n",
       "53590  Closed with non-monetary relief      Yes       2014-03-30   \n",
       "53592      Closed with monetary relief      Yes       2014-03-30   \n",
       "53607      Closed with monetary relief      Yes       2014-04-04   \n",
       "53608          Closed with explanation      Yes       2014-04-16   \n",
       "53611  Closed with non-monetary relief       No       2014-04-30   \n",
       "53626          Closed with explanation      Yes       2014-04-13   \n",
       "53630      Closed with monetary relief      Yes       2014-04-15   \n",
       "53632          Closed with explanation      Yes       2014-04-16   \n",
       "53637          Closed with explanation      Yes       2014-04-21   \n",
       "53640      Closed with monetary relief       No       2014-05-20   \n",
       "53643      Closed with monetary relief       No       2014-05-20   \n",
       "53651          Closed with explanation      Yes       2014-04-28   \n",
       "53661          Closed with explanation       No       2014-05-29   \n",
       "\n",
       "       ResolutionTime    weekday     BankGrade  year  \\\n",
       "8                  21     FRIDAY   outstanding  2012   \n",
       "11                 23  WEDNESDAY   outstanding  2012   \n",
       "13                 22   SATURDAY   outstanding  2012   \n",
       "14                 22   SATURDAY   outstanding  2012   \n",
       "23                 22   SATURDAY   outstanding  2012   \n",
       "26                 22     MONDAY   outstanding  2012   \n",
       "36                 22    TUESDAY   outstanding  2012   \n",
       "40                 31     FRIDAY   outstanding  2012   \n",
       "42                 22     SUNDAY   outstanding  2012   \n",
       "43                 22     SUNDAY   outstanding  2012   \n",
       "52                 31    TUESDAY   outstanding  2012   \n",
       "55                 31   THURSDAY   outstanding  2012   \n",
       "56                 27     SUNDAY   outstanding  2012   \n",
       "62                 22     MONDAY   outstanding  2012   \n",
       "72                 22   SATURDAY   outstanding  2012   \n",
       "74                 22     SUNDAY   outstanding  2012   \n",
       "81                 22     MONDAY   outstanding  2012   \n",
       "83                 31   THURSDAY   outstanding  2012   \n",
       "84                 31   THURSDAY   outstanding  2012   \n",
       "89                 22     MONDAY   outstanding  2012   \n",
       "93                 22   THURSDAY   outstanding  2012   \n",
       "97                 31  WEDNESDAY   outstanding  2012   \n",
       "105                28  WEDNESDAY   outstanding  2012   \n",
       "108                29     MONDAY   outstanding  2012   \n",
       "109                22     MONDAY   outstanding  2012   \n",
       "111                22    TUESDAY   outstanding  2012   \n",
       "118                31     FRIDAY   outstanding  2012   \n",
       "119                22   THURSDAY   outstanding  2012   \n",
       "120                22     MONDAY   outstanding  2012   \n",
       "130                22   THURSDAY   outstanding  2012   \n",
       "...               ...        ...           ...   ...   \n",
       "53532              22    TUESDAY  satisfactory  2014   \n",
       "53536              50  WEDNESDAY  satisfactory  2014   \n",
       "53537              21    TUESDAY  satisfactory  2014   \n",
       "53539              50  WEDNESDAY  satisfactory  2014   \n",
       "53541              22   THURSDAY  satisfactory  2014   \n",
       "53542              22   THURSDAY  satisfactory  2014   \n",
       "53556              43     MONDAY  satisfactory  2014   \n",
       "53559              22    TUESDAY  satisfactory  2014   \n",
       "53563              26     SUNDAY  satisfactory  2014   \n",
       "53570              22     SUNDAY  satisfactory  2014   \n",
       "53571              22     SUNDAY  satisfactory  2014   \n",
       "53575              22    TUESDAY  satisfactory  2014   \n",
       "53578              22     FRIDAY  satisfactory  2014   \n",
       "53579              28     FRIDAY  satisfactory  2014   \n",
       "53584              50    TUESDAY  satisfactory  2014   \n",
       "53587              22     MONDAY  satisfactory  2014   \n",
       "53588              22     MONDAY  satisfactory  2014   \n",
       "53590              27     SUNDAY  satisfactory  2014   \n",
       "53592              26     SUNDAY  satisfactory  2014   \n",
       "53607              22     FRIDAY  satisfactory  2014   \n",
       "53608              34  WEDNESDAY  satisfactory  2014   \n",
       "53611              47  WEDNESDAY  satisfactory  2014   \n",
       "53626              22     SUNDAY  satisfactory  2014   \n",
       "53630              22    TUESDAY  satisfactory  2014   \n",
       "53632              22  WEDNESDAY  satisfactory  2014   \n",
       "53637              22     MONDAY  satisfactory  2014   \n",
       "53640              50    TUESDAY  satisfactory  2014   \n",
       "53643              50    TUESDAY  satisfactory  2014   \n",
       "53651              22     MONDAY  satisfactory  2014   \n",
       "53661              47   THURSDAY  satisfactory  2014   \n",
       "\n",
       "                                        cleanDescription  \n",
       "8      wife home mortgage last years notified us mort...  \n",
       "11     servicing home mortgage transferred bank llc (...  \n",
       "13     spoke bank mortgage arrange get current mortga...  \n",
       "14     loan account transferred another mortgage comp...  \n",
       "23     mortgage transfer gaining loan servicer poor c...  \n",
       "26     mortgage sold bank llc informed control compan...  \n",
       "36     working bank company since mortgage loan pre-a...  \n",
       "40     applied refinance cash // rate locked loan und...  \n",
       "42     submitted mortgage payment full amount owed {$...  \n",
       "43     submitted mortgage payment full amount owed {$...  \n",
       "52     va assumable mortgage deceased veteran survivi...  \n",
       "55     closing date mortgage bank bank told clear clo...  \n",
       "56     months ago noticed current mortgage company ba...  \n",
       "62     sold mortgage bank loan left everything perfec...  \n",
       "72     loan sold \" bank '' within months sale escrow ...  \n",
       "74     loan sold bank effective prior sale loan provi...  \n",
       "81     hello name im trying obtain loan modification ...  \n",
       "83     purchased home arizona making weekly payments ...  \n",
       "84     purchased home arizona making weekly payments ...  \n",
       "89     effective mortgage sold bank company stated le...  \n",
       "93     sold loan bank // // receive information send ...  \n",
       "97     dear regulatorydept unfortunate individuals re...  \n",
       "105    husband requested loan mortgage modification c...  \n",
       "108    bank released social security number another c...  \n",
       "109    bank \" lost '' {$} payments paid towards mortg...  \n",
       "111    husband laid job // able maintain mortgage pay...  \n",
       "118    like many americans laid-off times last / year...  \n",
       "119    applied mortgage bank accepted offer house dea...  \n",
       "120    lost job unable make mortgage payments ( month...  \n",
       "130    refi/streamline home loan received payment cou...  \n",
       "...                                                  ...  \n",
       "53532  comenity bank approved card // received credit...  \n",
       "53536  recieved calls messages brothers wives father ...  \n",
       "53537  community bank holds credit card repeatedly ma...  \n",
       "53539  recieved calls messages brothers wives father ...  \n",
       "53541  make monthly payments paypal credit claim past...  \n",
       "53542  make monthly payments paypal credit claim past...  \n",
       "53556  dentistry loan husband needs massive dental wo...  \n",
       "53559  failed make monthly payment paypal credit resu...  \n",
       "53563  // purchase furnitures offering months cash fi...  \n",
       "53570  lost job filing complaint discrimination notif...  \n",
       "53571  obtained credit card provided comenity bank go...  \n",
       "53575  received notice included bill purchase ecess {...  \n",
       "53578  paid balance prior receiving statement charged...  \n",
       "53579  applied commenity bank/visa balance transfer /...  \n",
       "53584  received copy consumer credit file ( comenity ...  \n",
       "53587  requested credit limit increase last month nev...  \n",
       "53588  applied approved credit card ( commenity bank ...  \n",
       "53590  company using guess dialing system calling dif...  \n",
       "53592  last year requested balance transfer {$} cards...  \n",
       "53607  attempting use hardship program community bank...  \n",
       "53608  complaint ebay paypal ( addressed paypal anoth...  \n",
       "53611  identity stolen used open series fraudulent cr...  \n",
       "53626  adding documentation regarding bad faith claim...  \n",
       "53630  comenity capital bank ohio closed account long...  \n",
       "53632  got bill credit card never received bill years...  \n",
       "53637  regard comenity capital bank md dba paypal cre...  \n",
       "53640  checked victoria 's secret credit card stateme...  \n",
       "53643  checked victoria 's secret credit card stateme...  \n",
       "53651  triple charged interest within days eplanation...  \n",
       "53661  // someone tried open account using name fact ...  \n",
       "\n",
       "[18305 rows x 15 columns]"
      ]
     },
     "execution_count": 444,
     "metadata": {},
     "output_type": "execute_result"
    }
   ],
   "source": [
    "prunedData"
   ]
  },
  {
   "cell_type": "markdown",
   "metadata": {},
   "source": [
    "## A dictionary  approach\n",
    "Looking at the diverse set of words and a few words which occur frequently in disupted issues,  We can come up with our dictionary and see if any of the words in our dictionary is seen in the grievence Description.\n",
    "### Advantages:\n",
    "Totally explainable model. It can be fine-tuned as well.\n",
    "\n",
    "### Drawbacks:\n",
    "Overfitting, due to lookup approach.\n",
    "Does not scale well on unseen data. Periodic review is needed\n",
    "\n",
    "### A middle ground:\n",
    "- Weight column : Use this as another feature. Assign a weight (higher the weight for higher count of occurrances of dictionary words)\n",
    "- Use other ML algorithms with weight added\n",
    "\n",
    "### Following is an illustration"
   ]
  },
  {
   "cell_type": "code",
   "execution_count": 446,
   "metadata": {},
   "outputs": [
    {
     "data": {
      "text/plain": [
       "['law',\n",
       " 'attorney',\n",
       " 'court',\n",
       " 'jurisdiction',\n",
       " 'enforcement',\n",
       " 'cheat',\n",
       " 'false',\n",
       " 'excessive',\n",
       " 'unfair',\n",
       " 'unlawful',\n",
       " 'wrong']"
      ]
     },
     "execution_count": 446,
     "metadata": {},
     "output_type": "execute_result"
    }
   ],
   "source": [
    "myDictionary = regulatoryWords + nagativeWords\n",
    "myDictionary"
   ]
  },
  {
   "cell_type": "code",
   "execution_count": 445,
   "metadata": {},
   "outputs": [
    {
     "name": "stdout",
     "output_type": "stream",
     "text": [
      "matches  unfair\n",
      "no match found in  wife home mortgage last years notified us mortgage transferred bank believe less notice required ( n't days? ) bank contacted us transfer want know\n",
      "matches  wrong\n",
      "no match found in  spoke bank mortgage arrange get current mortgage bank representative agreed would make payments approimately {$} bank representative took first installment approimately {$} day made agreement phone two weeks later suffered unable work hospital limited physically time bank sent agreement writing able check much later discharged hospital able walk start leaving house driven family members errands checked mail got letter correspondence incorrectly documented agreement stating agreed make payments {$} simply occur agreement made representative phone believe note payment made approimately {$} {$} upset bank misrepresented agreement would like company review phone records call confirm agree pay payments {$} know could make payments beyond first {$} recovering would like bank eplore options getting current mortgage keeping home\n",
      "matches  false\n",
      "no match found in  mortgage transfer gaining loan servicer poor customer service misapplied payment\n",
      "matches  unfair\n",
      "no match found in  working bank company since mortgage loan pre-approved {$} working closely wiht mortgage loan officer finally got closing date mortgage loan officer called said needed additional days loan processors hospital realtor sign etension contract etending closing days days etension signed got call mortgage loan officer telling would getting loan\n",
      "no match found in  applied refinance cash // rate locked loan underwritten bank paid {$} appraisal performed ( believe ) // told near closing least different occasions asked gather final payoff documents time bank would come strange documentation request closing would postponed time asked provide additional documentation provided right away would told near closing/gather documents/then asked obscure documentation went months told mid-// ready close gathered updates payoffs time told last minute appraisal epired would get updated appraisal time bank agreed pay appraisal since fault yet closed loan appraiser came home basically updated appraisal done previously net thing know bank telling \" clear debris bathroom '' \" cover fill pool '' items personally discussed appraiser time property appraisal also marked \" '' value home contingent upon upgrades repairs time representative originated loan moved another company decided since nearly year passed bank still closed loan would start new application originator changed companies loan moved along lightning speed nearing closing current loan company asked bank send appraisal performed // giving us run around holding loan today personally emailed bank told since pay appraisal would release new company bottom line bank given run around year believe knew along could get fha loan credit score time want release appraisal loan company working nowl\n",
      "no match found in  submitted mortgage payment full amount owed {$} bank located ca previous months current payment satisfy 's required principal interest escrow payment full although late fees remained unpaid time amount {$} non-sufficient ach returns full amount {$} received tracked debited account credit union applied balance bank action caused account become days past due bank submitted payment history credit bureau upon verification credit union payment question confirmed {$} fact paid bank good faith effort made fewer calls month bank 's customer service department immediate supervisors resolve matter constant response deny 's payment ever received best resolution would work credit union following instructions bank submitted written statement unauthorized debit receive {$} form credit back account could withdraw official cashier funds re-apply 's payment account ironically 's payment {$} due still within grace period late fees assessed good faith withdrew {$} total cover fees outstanding account bank acknowledged receipt certified funds chose apply manner reflected outstanding balance several calls credit union bank 've concluded final option recobanke insure funds paid applied correctly negative credit reporting reversed records\n",
      "no match found in  submitted mortgage payment full amount owed {$} bank located ca previous months current payment satisfy 's required principal interest escrow payment full although late fees remained unpaid time amount {$} non-sufficient ach returns full amount {$} received tracked debited account credit union applied balance bank action caused account become days past due bank submitted payment history credit bureau upon verification credit union payment question confirmed {$} fact paid bank good faith effort made fewer calls month bank 's customer service department immediate supervisors resolve matter constant response deny 's payment ever received best resolution would work credit union following instructions bank submitted written statement unauthorized debit receive {$} form credit back account could withdraw official cashier funds re-apply 's payment account ironically 's payment {$} due still within grace period late fees assessed good faith withdrew {$} total cover fees outstanding account bank acknowledged receipt certified funds chose apply manner reflected outstanding balance several calls credit union bank 've concluded final option recobanke insure funds paid applied correctly negative credit reporting reversed records\n"
     ]
    },
    {
     "name": "stderr",
     "output_type": "stream",
     "text": [
      "/Users/bsriram/anaconda3/lib/python3.6/site-packages/ipykernel_launcher.py:12: SettingWithCopyWarning: \n",
      "A value is trying to be set on a copy of a slice from a DataFrame.\n",
      "Try using .loc[row_indexer,col_indexer] = value instead\n",
      "\n",
      "See the caveats in the documentation: http://pandas.pydata.org/pandas-docs/stable/indexing.html#indexing-view-versus-copy\n",
      "  if sys.path[0] == '':\n"
     ]
    }
   ],
   "source": [
    "def findMatch(desc):\n",
    "    mc=0\n",
    "    for kw in myDictionary:\n",
    "     if kw in desc:\n",
    "            print(\"matches \", kw)\n",
    "            return True\n",
    "    print('no match found in ', desc)\n",
    "    return False\n",
    "findMatch('affdsfffw unfair')\n",
    "\n",
    "sample = prunedData.head(10)\n",
    "sample['Flagged'] = sample.cleanDescription.map(findMatch)"
   ]
  },
  {
   "cell_type": "code",
   "execution_count": 447,
   "metadata": {},
   "outputs": [
    {
     "name": "stdout",
     "output_type": "stream",
     "text": [
      "[['spoke', 'bank', 'mortgage', 'arrange', 'get', 'current', 'mortgage', 'bank', 'representative', 'agreed', 'would', 'make', 'payments', 'approimately', '{$}', 'bank', 'representative', 'took', 'first', 'installment', 'approimately', '{$}', 'day', 'made', 'agreement', 'phone', 'two', 'weeks', 'later', 'suffered', 'unable', 'work', 'hospital', 'limited', 'physically', 'time', 'bank', 'sent', 'agreement', 'writing', 'able', 'check', 'much', 'later', 'discharged', 'hospital', 'able', 'walk', 'start', 'leaving', 'house', 'driven', 'family', 'members', 'errands', 'checked', 'mail', 'got', 'letter', 'correspondence', 'incorrectly', 'documented', 'agreement', 'stating', 'agreed', 'make', 'payments', '{$}', 'simply', 'occur', 'agreement', 'made', 'representative', 'phone', 'believe', 'note', 'payment', 'made', 'approimately', '{$}', '{$}', 'upset', 'bank', 'misrepresented', 'agreement', 'would', 'like', 'company', 'review', 'phone', 'records', 'call', 'confirm', 'agree', 'pay', 'payments', '{$}', 'know', 'could', 'make', 'payments', 'beyond', 'first', '{$}', 'recovering', 'would', 'like', 'bank', 'eplore', 'options', 'getting', 'current', 'mortgage', 'keeping', 'home']]\n",
      "\n",
      "\n",
      " tokenized and lemmatized document: \n",
      "['error', 'panda', 'core', 'string', 'stringmethod', 'object']\n"
     ]
    }
   ],
   "source": [
    "sample = prunedData.iloc[[2]]\n",
    "txt = sample.cleanDescription.str\n",
    "words = []\n",
    "for word in txt.split(' '):\n",
    "    words.append(word)\n",
    "print(words)\n",
    "print('\\n\\n tokenized and lemmatized document: ')\n",
    "print(preprocess(txt))"
   ]
  },
  {
   "cell_type": "code",
   "execution_count": null,
   "metadata": {
    "collapsed": true
   },
   "outputs": [],
   "source": []
  },
  {
   "cell_type": "code",
   "execution_count": 448,
   "metadata": {},
   "outputs": [
    {
     "name": "stdout",
     "output_type": "stream",
     "text": [
      "0.7920618057250977  seconds for preprocessing\n"
     ]
    },
    {
     "name": "stderr",
     "output_type": "stream",
     "text": [
      "/Users/bsriram/anaconda3/lib/python3.6/site-packages/ipykernel_launcher.py:4: UserWarning: Pandas doesn't allow columns to be created via a new attribute name - see https://pandas.pydata.org/pandas-docs/stable/indexing.html#attribute-access\n",
      "  after removing the cwd from sys.path.\n"
     ]
    }
   ],
   "source": [
    "n=200\n",
    "t0 = time.time()\n",
    "preprocessed = prunedData[0:n]\n",
    "preprocessed.clean = preprocessed.cleanDescription.map(preprocess)\n",
    "t1 = time.time()\n",
    "print(t1-t0, \" seconds for preprocessing\")"
   ]
  },
  {
   "cell_type": "code",
   "execution_count": 449,
   "metadata": {},
   "outputs": [
    {
     "data": {
      "text/html": [
       "<div>\n",
       "<style scoped>\n",
       "    .dataframe tbody tr th:only-of-type {\n",
       "        vertical-align: middle;\n",
       "    }\n",
       "\n",
       "    .dataframe tbody tr th {\n",
       "        vertical-align: top;\n",
       "    }\n",
       "\n",
       "    .dataframe thead th {\n",
       "        text-align: right;\n",
       "    }\n",
       "</style>\n",
       "<table border=\"1\" class=\"dataframe\">\n",
       "  <thead>\n",
       "    <tr style=\"text-align: right;\">\n",
       "      <th></th>\n",
       "      <th>GrievanceID</th>\n",
       "      <th>BankID</th>\n",
       "      <th>State</th>\n",
       "      <th>DateOfGrievance</th>\n",
       "      <th>Grievance_Category</th>\n",
       "      <th>GrievanceDescription</th>\n",
       "      <th>LineOfBusiness</th>\n",
       "      <th>ResolutionComments</th>\n",
       "      <th>Disputed</th>\n",
       "      <th>DateOfResolution</th>\n",
       "      <th>ResolutionTime</th>\n",
       "      <th>weekday</th>\n",
       "      <th>BankGrade</th>\n",
       "      <th>year</th>\n",
       "      <th>cleanDescription</th>\n",
       "    </tr>\n",
       "  </thead>\n",
       "  <tbody>\n",
       "    <tr>\n",
       "      <th>8</th>\n",
       "      <td>GID348126</td>\n",
       "      <td>Bank5279</td>\n",
       "      <td>State43</td>\n",
       "      <td>2012-04-06</td>\n",
       "      <td>Loan servicing, payments, escrow account</td>\n",
       "      <td>My wife and I have had a home mortgage throug...</td>\n",
       "      <td>Mortgage</td>\n",
       "      <td>Closed with explanation</td>\n",
       "      <td>No</td>\n",
       "      <td>2012-04-27</td>\n",
       "      <td>21</td>\n",
       "      <td>FRIDAY</td>\n",
       "      <td>outstanding</td>\n",
       "      <td>2012</td>\n",
       "      <td>wife home mortgage last years notified us mort...</td>\n",
       "    </tr>\n",
       "    <tr>\n",
       "      <th>11</th>\n",
       "      <td>GID349588</td>\n",
       "      <td>Bank5279</td>\n",
       "      <td>State9</td>\n",
       "      <td>2012-04-16</td>\n",
       "      <td>Loan servicing, payments, escrow account</td>\n",
       "      <td>The servicing of my home mortgage was transfe...</td>\n",
       "      <td>Mortgage</td>\n",
       "      <td>Closed with explanation</td>\n",
       "      <td>Yes</td>\n",
       "      <td>2012-05-09</td>\n",
       "      <td>23</td>\n",
       "      <td>WEDNESDAY</td>\n",
       "      <td>outstanding</td>\n",
       "      <td>2012</td>\n",
       "      <td>servicing home mortgage transferred bank llc (...</td>\n",
       "    </tr>\n",
       "    <tr>\n",
       "      <th>13</th>\n",
       "      <td>GID350068</td>\n",
       "      <td>Bank5279</td>\n",
       "      <td>State26</td>\n",
       "      <td>2012-04-20</td>\n",
       "      <td>Loan modification,collection,foreclosure</td>\n",
       "      <td>In XXXX 2015, I spoke to Bank5279 mortgage to...</td>\n",
       "      <td>Mortgage</td>\n",
       "      <td>Closed with explanation</td>\n",
       "      <td>Yes</td>\n",
       "      <td>2012-05-12</td>\n",
       "      <td>22</td>\n",
       "      <td>SATURDAY</td>\n",
       "      <td>outstanding</td>\n",
       "      <td>2012</td>\n",
       "      <td>spoke bank mortgage arrange get current mortga...</td>\n",
       "    </tr>\n",
       "  </tbody>\n",
       "</table>\n",
       "</div>"
      ],
      "text/plain": [
       "   GrievanceID    BankID    State DateOfGrievance  \\\n",
       "8    GID348126  Bank5279  State43      2012-04-06   \n",
       "11   GID349588  Bank5279   State9      2012-04-16   \n",
       "13   GID350068  Bank5279  State26      2012-04-20   \n",
       "\n",
       "                          Grievance_Category  \\\n",
       "8   Loan servicing, payments, escrow account   \n",
       "11  Loan servicing, payments, escrow account   \n",
       "13  Loan modification,collection,foreclosure   \n",
       "\n",
       "                                 GrievanceDescription LineOfBusiness  \\\n",
       "8    My wife and I have had a home mortgage throug...       Mortgage   \n",
       "11   The servicing of my home mortgage was transfe...       Mortgage   \n",
       "13   In XXXX 2015, I spoke to Bank5279 mortgage to...       Mortgage   \n",
       "\n",
       "         ResolutionComments Disputed DateOfResolution  ResolutionTime  \\\n",
       "8   Closed with explanation       No       2012-04-27              21   \n",
       "11  Closed with explanation      Yes       2012-05-09              23   \n",
       "13  Closed with explanation      Yes       2012-05-12              22   \n",
       "\n",
       "      weekday    BankGrade  year  \\\n",
       "8      FRIDAY  outstanding  2012   \n",
       "11  WEDNESDAY  outstanding  2012   \n",
       "13   SATURDAY  outstanding  2012   \n",
       "\n",
       "                                     cleanDescription  \n",
       "8   wife home mortgage last years notified us mort...  \n",
       "11  servicing home mortgage transferred bank llc (...  \n",
       "13  spoke bank mortgage arrange get current mortga...  "
      ]
     },
     "execution_count": 449,
     "metadata": {},
     "output_type": "execute_result"
    }
   ],
   "source": [
    "preprocessed.head(3)"
   ]
  },
  {
   "cell_type": "markdown",
   "metadata": {},
   "source": [
    "## Summary of Exploration/Findings\n",
    "\n",
    "\n",
    "### Results:\n",
    "#### Feature Engineering was very useful : A few Features (Disputed, ResolutionTime, ResolutionComments) have a lot of predictive power and ability to cut down the chase\n",
    "\n",
    "#### Preprocessed the GrievanceDescription Column\n",
    "\n",
    "#### A Dictionary based approach In Text mining, a dictionary based approach was prototyped. The outcome of this approach will be to compute A new feature keyWordWt and build several ML models\n",
    "\n",
    "#### Todos: \n",
    "- more visuals/plots needed\n",
    "- Cleanup/comment the code\n",
    "- Optimiza for time/space\n",
    "- ML model\n",
    "\n",
    "### Lessons:\n",
    "- Direct application of ML is futile and not explainable.\n",
    "- More Reasonable dives into Data to remove the noise\n"
   ]
  },
  {
   "cell_type": "markdown",
   "metadata": {},
   "source": [
    "### A few details on EDA\n",
    "### A Bank Grade depends on Compliances as specified in FTCA document\n",
    "#### Grievance Description needs to be analysed using Text analytics\n",
    "#### Before we jump into the GrievanceDescription, we also need to look at other features which directly or indirectly impact Grievances and resulting grading\n",
    "\n",
    "### The idea was to reduce/prune the data-set to achieve condensed set of GrievenceRecords before proceeding to text mining\n",
    "#### In Text mining, A dictionary based model was prototyped (not tested)\n",
    "\n",
    "### Most of the work was on looking at other features which can potentially impact GrievenceDescription and BankGrade\n",
    "\n",
    "Why work on other features?\n",
    "It is an easier approach to Cut down the noise and then focus on real stuff (text mining) . Have a limited (corroborated ) set of data to get the rest 20% of predictability\n",
    "We can see there are good indicators present in the other columns\n",
    "\n",
    "Based on Data Analysis \n",
    "We can classify the features into 2 Classes:\n",
    "1. Features having Direct impact on Grievences and Grade\n",
    "  a. Disputed\n",
    "  b. ResolutionComments\n",
    "  c. Grievance_Category (a  \n",
    "2. Features indirectly impacting the Grievences/Grade\n",
    " a. LineOfBusiness\n",
    "\n",
    "Some inferences drawn:\n",
    "\n",
    "Dependency hierarchy of BankGrade/GrievenceDescription (Y) on Features (X's)\n",
    "\n",
    " LineOfBusiness -->\n",
    "     Disputed           -->\n",
    "     ResolutionComments -->|\n",
    "     Grievence_Category --> GrievanceDescription  -> BankGrade \n"
   ]
  }
 ],
 "metadata": {
  "hide_code_all_hidden": false,
  "hide_input": false,
  "kernelspec": {
   "display_name": "Python 2",
   "language": "python",
   "name": "python2"
  },
  "language_info": {
   "codemirror_mode": {
    "name": "ipython",
    "version": 2
   },
   "file_extension": ".py",
   "mimetype": "text/x-python",
   "name": "python",
   "nbconvert_exporter": "python",
   "pygments_lexer": "ipython2",
   "version": "2.7.15"
  }
 },
 "nbformat": 4,
 "nbformat_minor": 2
}
